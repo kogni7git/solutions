{
 "cells": [
  {
   "cell_type": "markdown",
   "metadata": {},
   "source": [
    "# MentalAI\n",
    "\n",
    "Author: Andreas Schmitt\n",
    "\n",
    "Date: June/July 2020\n",
    "\n",
    "## Overview\n",
    "\n",
    "1. Preparation\n",
    "2. Data cleaning\n",
    "3. Preparation for training\n",
    "4. The Model\n",
    "5. Training\n",
    "6. Prediction"
   ]
  },
  {
   "cell_type": "code",
   "execution_count": 1,
   "metadata": {},
   "outputs": [],
   "source": [
    "VERSION = 17"
   ]
  },
  {
   "cell_type": "markdown",
   "metadata": {},
   "source": [
    "## 1. Preparation"
   ]
  },
  {
   "cell_type": "markdown",
   "metadata": {},
   "source": [
    "### Working directory"
   ]
  },
  {
   "cell_type": "code",
   "execution_count": 2,
   "metadata": {},
   "outputs": [],
   "source": [
    "from os import getcwd\n",
    "WD = getcwd()"
   ]
  },
  {
   "cell_type": "markdown",
   "metadata": {},
   "source": [
    "### Libraries"
   ]
  },
  {
   "cell_type": "code",
   "execution_count": 3,
   "metadata": {},
   "outputs": [],
   "source": [
    "# Working with CSV\n",
    "import pandas as pd\n",
    "\n",
    "# Math\n",
    "import numpy as np\n",
    "\n",
    "# Plotting\n",
    "import matplotlib.pyplot as plt\n",
    "\n",
    "# Machine learning\n",
    "from sklearn.model_selection import GridSearchCV\n",
    "\n",
    "# Deep learning\n",
    "from keras.preprocessing.text import Tokenizer\n",
    "from keras.preprocessing.sequence import pad_sequences\n",
    "from keras.models import Sequential\n",
    "from keras.layers import Dense, Dropout, Embedding, Flatten, LSTM\n",
    "   \n",
    "from keras.wrappers.scikit_learn import KerasClassifier\n",
    "from keras.optimizers import Adam\n",
    "from keras.callbacks import ModelCheckpoint"
   ]
  },
  {
   "cell_type": "markdown",
   "metadata": {},
   "source": [
    "### Seed"
   ]
  },
  {
   "cell_type": "code",
   "execution_count": 4,
   "metadata": {},
   "outputs": [],
   "source": [
    "np.random.seed(42)"
   ]
  },
  {
   "cell_type": "markdown",
   "metadata": {},
   "source": [
    "### Data"
   ]
  },
  {
   "cell_type": "code",
   "execution_count": 5,
   "metadata": {},
   "outputs": [],
   "source": [
    "train_data = pd.read_csv(WD + \"/Data/Train.csv\")\n",
    "test_data = pd.read_csv(WD + \"/Data/Test.csv\")\n",
    "sample_submission = pd.read_csv(WD + \"/Data/SampleSubmission.csv\")"
   ]
  },
  {
   "cell_type": "code",
   "execution_count": 6,
   "metadata": {},
   "outputs": [
    {
     "data": {
      "text/html": [
       "<div>\n",
       "<style scoped>\n",
       "    .dataframe tbody tr th:only-of-type {\n",
       "        vertical-align: middle;\n",
       "    }\n",
       "\n",
       "    .dataframe tbody tr th {\n",
       "        vertical-align: top;\n",
       "    }\n",
       "\n",
       "    .dataframe thead th {\n",
       "        text-align: right;\n",
       "    }\n",
       "</style>\n",
       "<table border=\"1\" class=\"dataframe\">\n",
       "  <thead>\n",
       "    <tr style=\"text-align: right;\">\n",
       "      <th></th>\n",
       "      <th>ID</th>\n",
       "      <th>text</th>\n",
       "      <th>label</th>\n",
       "    </tr>\n",
       "  </thead>\n",
       "  <tbody>\n",
       "    <tr>\n",
       "      <th>0</th>\n",
       "      <td>SUAVK39Z</td>\n",
       "      <td>I feel that it was better I dieAm happy</td>\n",
       "      <td>Depression</td>\n",
       "    </tr>\n",
       "    <tr>\n",
       "      <th>1</th>\n",
       "      <td>9JDAGUV3</td>\n",
       "      <td>Why do I get hallucinations?</td>\n",
       "      <td>Drugs</td>\n",
       "    </tr>\n",
       "    <tr>\n",
       "      <th>2</th>\n",
       "      <td>419WR1LQ</td>\n",
       "      <td>I am stresseed due to lack of financial suppor...</td>\n",
       "      <td>Depression</td>\n",
       "    </tr>\n",
       "    <tr>\n",
       "      <th>3</th>\n",
       "      <td>6UY7DX6Q</td>\n",
       "      <td>Why is life important?</td>\n",
       "      <td>Suicide</td>\n",
       "    </tr>\n",
       "    <tr>\n",
       "      <th>4</th>\n",
       "      <td>FYC0FTFB</td>\n",
       "      <td>How could I be helped to go through the depres...</td>\n",
       "      <td>Depression</td>\n",
       "    </tr>\n",
       "  </tbody>\n",
       "</table>\n",
       "</div>"
      ],
      "text/plain": [
       "         ID                                               text       label\n",
       "0  SUAVK39Z            I feel that it was better I dieAm happy  Depression\n",
       "1  9JDAGUV3                       Why do I get hallucinations?       Drugs\n",
       "2  419WR1LQ  I am stresseed due to lack of financial suppor...  Depression\n",
       "3  6UY7DX6Q                             Why is life important?     Suicide\n",
       "4  FYC0FTFB  How could I be helped to go through the depres...  Depression"
      ]
     },
     "execution_count": 6,
     "metadata": {},
     "output_type": "execute_result"
    }
   ],
   "source": [
    "train_data.head()"
   ]
  },
  {
   "cell_type": "code",
   "execution_count": 7,
   "metadata": {},
   "outputs": [
    {
     "data": {
      "text/html": [
       "<div>\n",
       "<style scoped>\n",
       "    .dataframe tbody tr th:only-of-type {\n",
       "        vertical-align: middle;\n",
       "    }\n",
       "\n",
       "    .dataframe tbody tr th {\n",
       "        vertical-align: top;\n",
       "    }\n",
       "\n",
       "    .dataframe thead th {\n",
       "        text-align: right;\n",
       "    }\n",
       "</style>\n",
       "<table border=\"1\" class=\"dataframe\">\n",
       "  <thead>\n",
       "    <tr style=\"text-align: right;\">\n",
       "      <th></th>\n",
       "      <th>ID</th>\n",
       "      <th>text</th>\n",
       "    </tr>\n",
       "  </thead>\n",
       "  <tbody>\n",
       "    <tr>\n",
       "      <th>0</th>\n",
       "      <td>02V56KMO</td>\n",
       "      <td>How to overcome bad feelings and emotions</td>\n",
       "    </tr>\n",
       "    <tr>\n",
       "      <th>1</th>\n",
       "      <td>03BMGTOK</td>\n",
       "      <td>I feel like giving up in life</td>\n",
       "    </tr>\n",
       "    <tr>\n",
       "      <th>2</th>\n",
       "      <td>03LZVFM6</td>\n",
       "      <td>I was so depressed feel like got no strength t...</td>\n",
       "    </tr>\n",
       "    <tr>\n",
       "      <th>3</th>\n",
       "      <td>0EPULUM5</td>\n",
       "      <td>I feel so low especially since I had no one to...</td>\n",
       "    </tr>\n",
       "    <tr>\n",
       "      <th>4</th>\n",
       "      <td>0GM4C5GD</td>\n",
       "      <td>can i be successful when I am a drug addict?</td>\n",
       "    </tr>\n",
       "  </tbody>\n",
       "</table>\n",
       "</div>"
      ],
      "text/plain": [
       "         ID                                               text\n",
       "0  02V56KMO          How to overcome bad feelings and emotions\n",
       "1  03BMGTOK                     I feel like giving up in life \n",
       "2  03LZVFM6  I was so depressed feel like got no strength t...\n",
       "3  0EPULUM5  I feel so low especially since I had no one to...\n",
       "4  0GM4C5GD       can i be successful when I am a drug addict?"
      ]
     },
     "execution_count": 7,
     "metadata": {},
     "output_type": "execute_result"
    }
   ],
   "source": [
    "test_data.head()"
   ]
  },
  {
   "cell_type": "code",
   "execution_count": 8,
   "metadata": {},
   "outputs": [
    {
     "data": {
      "text/html": [
       "<div>\n",
       "<style scoped>\n",
       "    .dataframe tbody tr th:only-of-type {\n",
       "        vertical-align: middle;\n",
       "    }\n",
       "\n",
       "    .dataframe tbody tr th {\n",
       "        vertical-align: top;\n",
       "    }\n",
       "\n",
       "    .dataframe thead th {\n",
       "        text-align: right;\n",
       "    }\n",
       "</style>\n",
       "<table border=\"1\" class=\"dataframe\">\n",
       "  <thead>\n",
       "    <tr style=\"text-align: right;\">\n",
       "      <th></th>\n",
       "      <th>ID</th>\n",
       "      <th>Depression</th>\n",
       "      <th>Alcohol</th>\n",
       "      <th>Suicide</th>\n",
       "      <th>Drugs</th>\n",
       "    </tr>\n",
       "  </thead>\n",
       "  <tbody>\n",
       "    <tr>\n",
       "      <th>0</th>\n",
       "      <td>02V56KMO</td>\n",
       "      <td>0</td>\n",
       "      <td>0</td>\n",
       "      <td>0</td>\n",
       "      <td>0</td>\n",
       "    </tr>\n",
       "    <tr>\n",
       "      <th>1</th>\n",
       "      <td>03BMGTOK</td>\n",
       "      <td>0</td>\n",
       "      <td>0</td>\n",
       "      <td>0</td>\n",
       "      <td>0</td>\n",
       "    </tr>\n",
       "    <tr>\n",
       "      <th>2</th>\n",
       "      <td>03LZVFM6</td>\n",
       "      <td>0</td>\n",
       "      <td>0</td>\n",
       "      <td>0</td>\n",
       "      <td>0</td>\n",
       "    </tr>\n",
       "    <tr>\n",
       "      <th>3</th>\n",
       "      <td>0EPULUM5</td>\n",
       "      <td>0</td>\n",
       "      <td>0</td>\n",
       "      <td>0</td>\n",
       "      <td>0</td>\n",
       "    </tr>\n",
       "    <tr>\n",
       "      <th>4</th>\n",
       "      <td>0GM4C5GD</td>\n",
       "      <td>0</td>\n",
       "      <td>0</td>\n",
       "      <td>0</td>\n",
       "      <td>0</td>\n",
       "    </tr>\n",
       "  </tbody>\n",
       "</table>\n",
       "</div>"
      ],
      "text/plain": [
       "         ID  Depression  Alcohol  Suicide  Drugs\n",
       "0  02V56KMO           0        0        0      0\n",
       "1  03BMGTOK           0        0        0      0\n",
       "2  03LZVFM6           0        0        0      0\n",
       "3  0EPULUM5           0        0        0      0\n",
       "4  0GM4C5GD           0        0        0      0"
      ]
     },
     "execution_count": 8,
     "metadata": {},
     "output_type": "execute_result"
    }
   ],
   "source": [
    "sample_submission.head()"
   ]
  },
  {
   "cell_type": "markdown",
   "metadata": {},
   "source": [
    "## 2. Data cleaning"
   ]
  },
  {
   "cell_type": "code",
   "execution_count": 9,
   "metadata": {},
   "outputs": [
    {
     "data": {
      "text/html": [
       "<div>\n",
       "<style scoped>\n",
       "    .dataframe tbody tr th:only-of-type {\n",
       "        vertical-align: middle;\n",
       "    }\n",
       "\n",
       "    .dataframe tbody tr th {\n",
       "        vertical-align: top;\n",
       "    }\n",
       "\n",
       "    .dataframe thead th {\n",
       "        text-align: right;\n",
       "    }\n",
       "</style>\n",
       "<table border=\"1\" class=\"dataframe\">\n",
       "  <thead>\n",
       "    <tr style=\"text-align: right;\">\n",
       "      <th></th>\n",
       "      <th>ID</th>\n",
       "      <th>text</th>\n",
       "      <th>label</th>\n",
       "    </tr>\n",
       "  </thead>\n",
       "  <tbody>\n",
       "    <tr>\n",
       "      <th>0</th>\n",
       "      <td>SUAVK39Z</td>\n",
       "      <td>feel that it was better die am happy</td>\n",
       "      <td>Depression</td>\n",
       "    </tr>\n",
       "    <tr>\n",
       "      <th>1</th>\n",
       "      <td>9JDAGUV3</td>\n",
       "      <td>why do get hallucinations</td>\n",
       "      <td>Drugs</td>\n",
       "    </tr>\n",
       "    <tr>\n",
       "      <th>2</th>\n",
       "      <td>419WR1LQ</td>\n",
       "      <td>am stresseed due to lack of financial support ...</td>\n",
       "      <td>Depression</td>\n",
       "    </tr>\n",
       "    <tr>\n",
       "      <th>3</th>\n",
       "      <td>6UY7DX6Q</td>\n",
       "      <td>why is life important</td>\n",
       "      <td>Suicide</td>\n",
       "    </tr>\n",
       "    <tr>\n",
       "      <th>4</th>\n",
       "      <td>FYC0FTFB</td>\n",
       "      <td>how could be helped to go through the depression</td>\n",
       "      <td>Depression</td>\n",
       "    </tr>\n",
       "  </tbody>\n",
       "</table>\n",
       "</div>"
      ],
      "text/plain": [
       "         ID                                               text       label\n",
       "0  SUAVK39Z               feel that it was better die am happy  Depression\n",
       "1  9JDAGUV3                          why do get hallucinations       Drugs\n",
       "2  419WR1LQ  am stresseed due to lack of financial support ...  Depression\n",
       "3  6UY7DX6Q                              why is life important     Suicide\n",
       "4  FYC0FTFB   how could be helped to go through the depression  Depression"
      ]
     },
     "execution_count": 9,
     "metadata": {},
     "output_type": "execute_result"
    }
   ],
   "source": [
    "def clean_texts(data):\n",
    "    # introduce whitespace before uppercase\n",
    "    data.text = data.text.str.replace(r'(\\w)([A-Z])', r'\\1 \\2', regex=True)\n",
    "    \n",
    "    # replace 've\n",
    "    data.text = data.text.str.replace(r\"(\\w)\\'ve\", r'\\1 have', regex=True)\n",
    "    \n",
    "    # replace 's\n",
    "    data.text = data.text.str.replace(r\"(\\w)\\'s\", r'\\1 is', regex=True)\n",
    "    \n",
    "    # replace 'm\n",
    "    data.text = data.text.str.replace(r\"(\\w)\\'m\", r'\\1 am', regex=True)\n",
    "    \n",
    "    # replace can't\n",
    "    data.text = data.text.str.replace(r\"can't\", r\"cannot\", regex=True)\n",
    "    \n",
    "    # replace n't\n",
    "    data.text = data.text.str.replace(r\"(\\w)n\\'t\", r'\\1 not', regex=True)\n",
    "                                      \n",
    "    # remove signs\n",
    "    data.text = data.text.str.replace(r'\\W', ' ', regex=True)\n",
    "        \n",
    "    # lowercase\n",
    "    data.text = data.text.str.lower() \n",
    "    \n",
    "    # remove single characters\n",
    "    data.text = data.text.str.replace(r\"\\s+[a-z]\\s+\", ' ', regex=True)\n",
    "    data.text = data.text.str.replace(r\"^[a-z]\\s+\", ' ', regex=True)\n",
    "    \n",
    "    # remove unnecessary whitespace\n",
    "    data.text = data.text.str.replace('\\s+', ' ', regex=True)\n",
    "\n",
    "    # remove left and right whitespace\n",
    "    data.text = data.text.str.strip('\\n \\t')    \n",
    "    \n",
    "    return data\n",
    "\n",
    "train_data = clean_texts(train_data)\n",
    "test_data = clean_texts(test_data)\n",
    "\n",
    "train_data.head()"
   ]
  },
  {
   "cell_type": "markdown",
   "metadata": {},
   "source": [
    "## 3. Preparation for training"
   ]
  },
  {
   "cell_type": "markdown",
   "metadata": {},
   "source": [
    "### One-hot encoding of label"
   ]
  },
  {
   "cell_type": "code",
   "execution_count": 10,
   "metadata": {},
   "outputs": [
    {
     "data": {
      "text/html": [
       "<div>\n",
       "<style scoped>\n",
       "    .dataframe tbody tr th:only-of-type {\n",
       "        vertical-align: middle;\n",
       "    }\n",
       "\n",
       "    .dataframe tbody tr th {\n",
       "        vertical-align: top;\n",
       "    }\n",
       "\n",
       "    .dataframe thead th {\n",
       "        text-align: right;\n",
       "    }\n",
       "</style>\n",
       "<table border=\"1\" class=\"dataframe\">\n",
       "  <thead>\n",
       "    <tr style=\"text-align: right;\">\n",
       "      <th></th>\n",
       "      <th>text</th>\n",
       "      <th>Depression</th>\n",
       "      <th>Alcohol</th>\n",
       "      <th>Suicide</th>\n",
       "      <th>Drugs</th>\n",
       "    </tr>\n",
       "  </thead>\n",
       "  <tbody>\n",
       "    <tr>\n",
       "      <th>0</th>\n",
       "      <td>feel that it was better die am happy</td>\n",
       "      <td>1</td>\n",
       "      <td>0</td>\n",
       "      <td>0</td>\n",
       "      <td>0</td>\n",
       "    </tr>\n",
       "    <tr>\n",
       "      <th>1</th>\n",
       "      <td>why do get hallucinations</td>\n",
       "      <td>0</td>\n",
       "      <td>0</td>\n",
       "      <td>0</td>\n",
       "      <td>1</td>\n",
       "    </tr>\n",
       "    <tr>\n",
       "      <th>2</th>\n",
       "      <td>am stresseed due to lack of financial support ...</td>\n",
       "      <td>1</td>\n",
       "      <td>0</td>\n",
       "      <td>0</td>\n",
       "      <td>0</td>\n",
       "    </tr>\n",
       "    <tr>\n",
       "      <th>3</th>\n",
       "      <td>why is life important</td>\n",
       "      <td>0</td>\n",
       "      <td>0</td>\n",
       "      <td>1</td>\n",
       "      <td>0</td>\n",
       "    </tr>\n",
       "    <tr>\n",
       "      <th>4</th>\n",
       "      <td>how could be helped to go through the depression</td>\n",
       "      <td>1</td>\n",
       "      <td>0</td>\n",
       "      <td>0</td>\n",
       "      <td>0</td>\n",
       "    </tr>\n",
       "  </tbody>\n",
       "</table>\n",
       "</div>"
      ],
      "text/plain": [
       "                                                text  ...  Drugs\n",
       "0               feel that it was better die am happy  ...      0\n",
       "1                          why do get hallucinations  ...      1\n",
       "2  am stresseed due to lack of financial support ...  ...      0\n",
       "3                              why is life important  ...      0\n",
       "4   how could be helped to go through the depression  ...      0\n",
       "\n",
       "[5 rows x 5 columns]"
      ]
     },
     "execution_count": 10,
     "metadata": {},
     "output_type": "execute_result"
    }
   ],
   "source": [
    "one_hot_encodings = pd.get_dummies(train_data.label)\n",
    "train_data = train_data.drop(['ID', 'label'], axis=1)\n",
    "train_data = train_data.join(one_hot_encodings)\n",
    "train_data = train_data[['text', 'Depression', 'Alcohol', 'Suicide', 'Drugs']]\n",
    "train_data.head()"
   ]
  },
  {
   "cell_type": "markdown",
   "metadata": {},
   "source": [
    "### Frequencies"
   ]
  },
  {
   "cell_type": "code",
   "execution_count": 11,
   "metadata": {},
   "outputs": [
    {
     "data": {
      "image/png": "[encoded data removed]",
      "text/plain": [
       "<Figure size 432x288 with 1 Axes>"
      ]
     },
     "metadata": {},
     "output_type": "display_data"
    }
   ],
   "source": [
    "frequencies = [sum(train_data.Depression), sum(train_data.Alcohol), sum(train_data.Suicide), sum(train_data.Drugs)]\n",
    "\n",
    "x_axis = ['Depression', 'Alcohol', 'Suicide', 'Drugs']\n",
    "\n",
    "plt.bar(x_axis, frequencies, color=['blue', 'red', 'black', 'green'])\n",
    "plt.title('Frequencies')\n",
    "plt.show()"
   ]
  },
  {
   "cell_type": "markdown",
   "metadata": {},
   "source": [
    "### Tokenization and vectorization"
   ]
  },
  {
   "cell_type": "code",
   "execution_count": 12,
   "metadata": {},
   "outputs": [
    {
     "name": "stdout",
     "output_type": "stream",
     "text": [
      "num_words: 6566\n"
     ]
    }
   ],
   "source": [
    "num_words = 0\n",
    "\n",
    "for t in train_data.text:\n",
    "    num_words += len(t.split())\n",
    "\n",
    "for t in test_data.text:\n",
    "    num_words += len(t.split())\n",
    "\n",
    "print(\"num_words: %i\" % num_words)\n",
    "\n",
    "tokenizer = Tokenizer(num_words=num_words)\n",
    "\n",
    "tokenizer.fit_on_texts(train_data.text)\n",
    "\n",
    "train_vectors = tokenizer.texts_to_sequences(train_data.text)\n",
    "test_vectors = tokenizer.texts_to_sequences(test_data.text)"
   ]
  },
  {
   "cell_type": "markdown",
   "metadata": {},
   "source": [
    "### Training data X and targets y"
   ]
  },
  {
   "cell_type": "code",
   "execution_count": 13,
   "metadata": {},
   "outputs": [
    {
     "name": "stdout",
     "output_type": "stream",
     "text": [
      "vocabular_size: 826\n",
      "maxlen: 33\n",
      "Shape of X:  (616, 33) \n",
      "Shape of y:  (616, 4)\n"
     ]
    }
   ],
   "source": [
    "X = train_vectors\n",
    "\n",
    "vocabular_size = len(tokenizer.word_index) + 1\n",
    "print(\"vocabular_size: %i\" % vocabular_size)\n",
    "\n",
    "maxlen = np.max([np.max([len(i) for i in train_vectors]), np.max([len(i) for i in test_vectors])])\n",
    "print(\"maxlen: %i\" % maxlen)\n",
    "\n",
    "X = pad_sequences(X, padding='post', maxlen=maxlen)\n",
    "test_vectors = pad_sequences(test_vectors, padding='post', maxlen=maxlen)\n",
    "\n",
    "y = np.array(train_data[['Depression', 'Alcohol', 'Suicide', 'Drugs']])\n",
    "print(\"Shape of X: \", X.shape, \"\\nShape of y: \", y.shape)"
   ]
  },
  {
   "cell_type": "markdown",
   "metadata": {},
   "source": [
    "### Embedding matrix"
   ]
  },
  {
   "cell_type": "code",
   "execution_count": 14,
   "metadata": {},
   "outputs": [
    {
     "name": "stdout",
     "output_type": "stream",
     "text": [
      "Coverage: 95%\n"
     ]
    }
   ],
   "source": [
    "embedding_dimension = 100\n",
    "embedding_matrix = np.zeros((vocabular_size, embedding_dimension))\n",
    "with open(WD + '/glove.6B/glove.6B.100d.txt') as file:\n",
    "    for line in file:\n",
    "        word, *vector = line.split()\n",
    "        if word in tokenizer.word_index:\n",
    "            embedding_matrix[tokenizer.word_index[word]] = np.array(vector)[:embedding_dimension]\n",
    "\n",
    "coverage = round(np.count_nonzero(np.count_nonzero(embedding_matrix, axis=1)) / vocabular_size, 2)\n",
    "\n",
    "print(\"Coverage: {0:.0%}\".format(coverage))"
   ]
  },
  {
   "cell_type": "markdown",
   "metadata": {},
   "source": [
    "## 4. The Model"
   ]
  },
  {
   "cell_type": "code",
   "execution_count": 15,
   "metadata": {
    "scrolled": false
   },
   "outputs": [],
   "source": [
    "def get_model(lstm, dense1, dense2, dropout_lstm, dropout_dense):\n",
    "\n",
    "    model = Sequential()\n",
    "    \n",
    "    # Embedding layer\n",
    "    model.add(Embedding(vocabular_size, embedding_dimension, weights=[embedding_matrix], trainable=False,\n",
    "                        input_length=maxlen))            \n",
    "\n",
    "    # Recurrent layer with LSTM cells\n",
    "    model.add(LSTM(lstm, dropout=dropout_lstm, recurrent_dropout=dropout_lstm, return_sequences=True))\n",
    "        \n",
    "    model.add(Flatten())\n",
    "            \n",
    "    # Dense layers\n",
    "    model.add(Dense(dense1, activation='tanh')) \n",
    "    model.add(Dropout(dropout_dense))\n",
    "    model.add(Dense(dense2, activation='tanh'))\n",
    "       \n",
    "    # Output\n",
    "    model.add(Dense(4, activation='softmax'))\n",
    "    \n",
    "    # Model run\n",
    "    model.compile(loss='categorical_crossentropy', optimizer=Adam(lr=0.001))\n",
    "\n",
    "    return model"
   ]
  },
  {
   "cell_type": "markdown",
   "metadata": {},
   "source": [
    "## 5. Training"
   ]
  },
  {
   "cell_type": "markdown",
   "metadata": {},
   "source": [
    "### Model"
   ]
  },
  {
   "cell_type": "code",
   "execution_count": 16,
   "metadata": {},
   "outputs": [
    {
     "name": "stderr",
     "output_type": "stream",
     "text": [
      "2020-07-05 14:33:43.095154: W tensorflow/stream_executor/platform/default/dso_loader.cc:55] Could not load dynamic library 'libcuda.so.1'; dlerror: libcuda.so.1: cannot open shared object file: No such file or directory\n",
      "2020-07-05 14:33:43.095223: E tensorflow/stream_executor/cuda/cuda_driver.cc:313] failed call to cuInit: UNKNOWN ERROR (303)\n",
      "2020-07-05 14:33:43.095271: I tensorflow/stream_executor/cuda/cuda_diagnostics.cc:156] kernel driver does not appear to be running on this host (Librem13): /proc/driver/nvidia/version does not exist\n",
      "2020-07-05 14:33:43.095903: I tensorflow/core/platform/cpu_feature_guard.cc:143] Your CPU supports instructions that this TensorFlow binary was not compiled to use: AVX2 FMA\n",
      "2020-07-05 14:33:43.142445: I tensorflow/core/platform/profile_utils/cpu_utils.cc:102] CPU Frequency: 2899885000 Hz\n",
      "2020-07-05 14:33:43.143305: I tensorflow/compiler/xla/service/service.cc:168] XLA service 0x7f2ff0000b60 initialized for platform Host (this does not guarantee that XLA will be used). Devices:\n",
      "2020-07-05 14:33:43.143365: I tensorflow/compiler/xla/service/service.cc:176]   StreamExecutor device (0): Host, Default Version\n"
     ]
    },
    {
     "name": "stdout",
     "output_type": "stream",
     "text": [
      "Model: \"sequential\"\n",
      "_________________________________________________________________\n",
      "Layer (type)                 Output Shape              Param #   \n",
      "=================================================================\n",
      "embedding (Embedding)        (None, 33, 100)           82600     \n",
      "_________________________________________________________________\n",
      "lstm (LSTM)                  (None, 33, 100)           80400     \n",
      "_________________________________________________________________\n",
      "flatten (Flatten)            (None, 3300)              0         \n",
      "_________________________________________________________________\n",
      "dense (Dense)                (None, 10)                33010     \n",
      "_________________________________________________________________\n",
      "dropout (Dropout)            (None, 10)                0         \n",
      "_________________________________________________________________\n",
      "dense_1 (Dense)              (None, 10)                110       \n",
      "_________________________________________________________________\n",
      "dense_2 (Dense)              (None, 4)                 44        \n",
      "=================================================================\n",
      "Total params: 196,164\n",
      "Trainable params: 113,564\n",
      "Non-trainable params: 82,600\n",
      "_________________________________________________________________\n"
     ]
    }
   ],
   "source": [
    "model = get_model(100, 10, 10, 0.0, 0.0)\n",
    "model.summary()"
   ]
  },
  {
   "cell_type": "markdown",
   "metadata": {},
   "source": [
    "### Grid search"
   ]
  },
  {
   "cell_type": "code",
   "execution_count": 17,
   "metadata": {},
   "outputs": [],
   "source": [
    "def grid_search(model, grid):\n",
    "\n",
    "    gs = GridSearchCV(estimator=model, param_grid=grid, n_jobs=-1, cv=3, scoring='neg_log_loss')\n",
    "    gs_fit = gs.fit(X, y)\n",
    "\n",
    "    print(\"Best: {}\".format(round(-1 * gs_fit.best_score_, 2)))\n",
    "    print(\"Best parameters: %s\\n\" % gs_fit.best_params_)\n",
    "\n",
    "    means = gs_fit.cv_results_['mean_test_score']\n",
    "    stds = gs_fit.cv_results_['std_test_score']\n",
    "    parameter = gs_fit.cv_results_['params']\n",
    "    \n",
    "    i = 1\n",
    "    for mean, stdev, param in zip(means, stds, parameter):\n",
    "        print(str(i) + \". {}\".format(round(-1 * mean, 2)) + \" +-{}\".format(round(stdev, 2)))\n",
    "        print(\"parameters: %s\\n\" % param)      \n",
    "        i += 1\n",
    "     \n",
    "    return gs_fit"
   ]
  },
  {
   "cell_type": "markdown",
   "metadata": {},
   "source": [
    "#### Experiment"
   ]
  },
  {
   "cell_type": "code",
   "execution_count": 18,
   "metadata": {},
   "outputs": [
    {
     "name": "stderr",
     "output_type": "stream",
     "text": [
      "2020-07-05 14:33:47.515054: W tensorflow/stream_executor/platform/default/dso_loader.cc:55] Could not load dynamic library 'libcuda.so.1'; dlerror: libcuda.so.1: cannot open shared object file: No such file or directory\n",
      "2020-07-05 14:33:47.515090: E tensorflow/stream_executor/cuda/cuda_driver.cc:313] failed call to cuInit: UNKNOWN ERROR (303)\n",
      "2020-07-05 14:33:47.515117: I tensorflow/stream_executor/cuda/cuda_diagnostics.cc:156] kernel driver does not appear to be running on this host (Librem13): /proc/driver/nvidia/version does not exist\n",
      "2020-07-05 14:33:47.515351: I tensorflow/core/platform/cpu_feature_guard.cc:143] Your CPU supports instructions that this TensorFlow binary was not compiled to use: AVX2 FMA\n",
      "2020-07-05 14:33:47.542144: I tensorflow/core/platform/profile_utils/cpu_utils.cc:102] CPU Frequency: 2899885000 Hz\n",
      "2020-07-05 14:33:47.542687: I tensorflow/compiler/xla/service/service.cc:168] XLA service 0x7f6714000b60 initialized for platform Host (this does not guarantee that XLA will be used). Devices:\n",
      "2020-07-05 14:33:47.542733: I tensorflow/compiler/xla/service/service.cc:176]   StreamExecutor device (0): Host, Default Version\n",
      "2020-07-05 14:33:47.677717: W tensorflow/stream_executor/platform/default/dso_loader.cc:55] Could not load dynamic library 'libcuda.so.1'; dlerror: libcuda.so.1: cannot open shared object file: No such file or directory\n",
      "2020-07-05 14:33:47.678118: E tensorflow/stream_executor/cuda/cuda_driver.cc:313] failed call to cuInit: UNKNOWN ERROR (303)\n",
      "2020-07-05 14:33:47.678374: I tensorflow/stream_executor/cuda/cuda_diagnostics.cc:156] kernel driver does not appear to be running on this host (Librem13): /proc/driver/nvidia/version does not exist\n",
      "2020-07-05 14:33:47.678884: I tensorflow/core/platform/cpu_feature_guard.cc:143] Your CPU supports instructions that this TensorFlow binary was not compiled to use: AVX2 FMA\n",
      "2020-07-05 14:33:47.681455: W tensorflow/stream_executor/platform/default/dso_loader.cc:55] Could not load dynamic library 'libcuda.so.1'; dlerror: libcuda.so.1: cannot open shared object file: No such file or directory\n",
      "2020-07-05 14:33:47.681731: E tensorflow/stream_executor/cuda/cuda_driver.cc:313] failed call to cuInit: UNKNOWN ERROR (303)\n",
      "2020-07-05 14:33:47.681775: I tensorflow/stream_executor/cuda/cuda_diagnostics.cc:156] kernel driver does not appear to be running on this host (Librem13): /proc/driver/nvidia/version does not exist\n",
      "2020-07-05 14:33:47.682335: I tensorflow/core/platform/cpu_feature_guard.cc:143] Your CPU supports instructions that this TensorFlow binary was not compiled to use: AVX2 FMA\n",
      "2020-07-05 14:33:47.694627: I tensorflow/core/platform/profile_utils/cpu_utils.cc:102] CPU Frequency: 2899885000 Hz\n",
      "2020-07-05 14:33:47.695358: I tensorflow/compiler/xla/service/service.cc:168] XLA service 0x7f83e4000b60 initialized for platform Host (this does not guarantee that XLA will be used). Devices:\n",
      "2020-07-05 14:33:47.695391: I tensorflow/compiler/xla/service/service.cc:176]   StreamExecutor device (0): Host, Default Version\n",
      "2020-07-05 14:33:47.698298: I tensorflow/core/platform/profile_utils/cpu_utils.cc:102] CPU Frequency: 2899885000 Hz\n",
      "2020-07-05 14:33:47.698883: I tensorflow/compiler/xla/service/service.cc:168] XLA service 0x7f25e4000b60 initialized for platform Host (this does not guarantee that XLA will be used). Devices:\n",
      "2020-07-05 14:33:47.698914: I tensorflow/compiler/xla/service/service.cc:176]   StreamExecutor device (0): Host, Default Version\n",
      "2020-07-05 14:33:47.699905: W tensorflow/stream_executor/platform/default/dso_loader.cc:55] Could not load dynamic library 'libcuda.so.1'; dlerror: libcuda.so.1: cannot open shared object file: No such file or directory\n",
      "2020-07-05 14:33:47.699924: E tensorflow/stream_executor/cuda/cuda_driver.cc:313] failed call to cuInit: UNKNOWN ERROR (303)\n",
      "2020-07-05 14:33:47.699944: I tensorflow/stream_executor/cuda/cuda_diagnostics.cc:156] kernel driver does not appear to be running on this host (Librem13): /proc/driver/nvidia/version does not exist\n",
      "2020-07-05 14:33:47.700181: I tensorflow/core/platform/cpu_feature_guard.cc:143] Your CPU supports instructions that this TensorFlow binary was not compiled to use: AVX2 FMA\n",
      "2020-07-05 14:33:47.711941: I tensorflow/core/platform/profile_utils/cpu_utils.cc:102] CPU Frequency: 2899885000 Hz\n",
      "2020-07-05 14:33:47.712598: I tensorflow/compiler/xla/service/service.cc:168] XLA service 0x7f48a8000b60 initialized for platform Host (this does not guarantee that XLA will be used). Devices:\n",
      "2020-07-05 14:33:47.712782: I tensorflow/compiler/xla/service/service.cc:176]   StreamExecutor device (0): Host, Default Version\n",
      "WARNING:tensorflow:From /home/andreas/.local/lib/python3.8/site-packages/tensorflow/python/keras/wrappers/scikit_learn.py:264: Sequential.predict_proba (from tensorflow.python.keras.engine.sequential) is deprecated and will be removed after 2021-01-01.\n",
      "Instructions for updating:\n",
      "Please use `model.predict()` instead.\n",
      "WARNING:tensorflow:From /home/andreas/.local/lib/python3.8/site-packages/tensorflow/python/keras/wrappers/scikit_learn.py:264: Sequential.predict_proba (from tensorflow.python.keras.engine.sequential) is deprecated and will be removed after 2021-01-01.\n",
      "Instructions for updating:\n",
      "Please use `model.predict()` instead.\n",
      "WARNING:tensorflow:From /home/andreas/.local/lib/python3.8/site-packages/tensorflow/python/keras/wrappers/scikit_learn.py:264: Sequential.predict_proba (from tensorflow.python.keras.engine.sequential) is deprecated and will be removed after 2021-01-01.\n",
      "Instructions for updating:\n",
      "Please use `model.predict()` instead.\n",
      "WARNING:tensorflow:From /home/andreas/.local/lib/python3.8/site-packages/tensorflow/python/keras/wrappers/scikit_learn.py:264: Sequential.predict_proba (from tensorflow.python.keras.engine.sequential) is deprecated and will be removed after 2021-01-01.\n",
      "Instructions for updating:\n",
      "Please use `model.predict()` instead.\n"
     ]
    },
    {
     "name": "stdout",
     "output_type": "stream",
     "text": [
      "Best: 0.51\n",
      "Best parameters: {'dense1': 10, 'dense2': 5, 'dropout_dense': 0.4, 'dropout_lstm': 0.4, 'epochs': 15, 'lstm': 100}\n",
      "\n",
      "1. 0.55 +-0.02\n",
      "parameters: {'dense1': 10, 'dense2': 5, 'dropout_dense': 0.3, 'dropout_lstm': 0.3, 'epochs': 15, 'lstm': 100}\n",
      "\n",
      "2. 0.74 +-0.32\n",
      "parameters: {'dense1': 10, 'dense2': 5, 'dropout_dense': 0.3, 'dropout_lstm': 0.3, 'epochs': 15, 'lstm': 250}\n",
      "\n",
      "3. 0.54 +-0.03\n",
      "parameters: {'dense1': 10, 'dense2': 5, 'dropout_dense': 0.3, 'dropout_lstm': 0.4, 'epochs': 15, 'lstm': 100}\n",
      "\n",
      "4. 0.53 +-0.05\n",
      "parameters: {'dense1': 10, 'dense2': 5, 'dropout_dense': 0.3, 'dropout_lstm': 0.4, 'epochs': 15, 'lstm': 250}\n",
      "\n",
      "5. 0.57 +-0.07\n",
      "parameters: {'dense1': 10, 'dense2': 5, 'dropout_dense': 0.4, 'dropout_lstm': 0.3, 'epochs': 15, 'lstm': 100}\n",
      "\n",
      "6. 0.53 +-0.07\n",
      "parameters: {'dense1': 10, 'dense2': 5, 'dropout_dense': 0.4, 'dropout_lstm': 0.3, 'epochs': 15, 'lstm': 250}\n",
      "\n",
      "7. 0.51 +-0.02\n",
      "parameters: {'dense1': 10, 'dense2': 5, 'dropout_dense': 0.4, 'dropout_lstm': 0.4, 'epochs': 15, 'lstm': 100}\n",
      "\n",
      "8. 0.57 +-0.05\n",
      "parameters: {'dense1': 10, 'dense2': 5, 'dropout_dense': 0.4, 'dropout_lstm': 0.4, 'epochs': 15, 'lstm': 250}\n",
      "\n",
      "9. 0.52 +-0.09\n",
      "parameters: {'dense1': 20, 'dense2': 5, 'dropout_dense': 0.3, 'dropout_lstm': 0.3, 'epochs': 15, 'lstm': 100}\n",
      "\n",
      "10. 0.56 +-0.05\n",
      "parameters: {'dense1': 20, 'dense2': 5, 'dropout_dense': 0.3, 'dropout_lstm': 0.3, 'epochs': 15, 'lstm': 250}\n",
      "\n",
      "11. 0.51 +-0.03\n",
      "parameters: {'dense1': 20, 'dense2': 5, 'dropout_dense': 0.3, 'dropout_lstm': 0.4, 'epochs': 15, 'lstm': 100}\n",
      "\n",
      "12. 0.52 +-0.05\n",
      "parameters: {'dense1': 20, 'dense2': 5, 'dropout_dense': 0.3, 'dropout_lstm': 0.4, 'epochs': 15, 'lstm': 250}\n",
      "\n",
      "13. 0.53 +-0.03\n",
      "parameters: {'dense1': 20, 'dense2': 5, 'dropout_dense': 0.4, 'dropout_lstm': 0.3, 'epochs': 15, 'lstm': 100}\n",
      "\n",
      "14. 0.54 +-0.11\n",
      "parameters: {'dense1': 20, 'dense2': 5, 'dropout_dense': 0.4, 'dropout_lstm': 0.3, 'epochs': 15, 'lstm': 250}\n",
      "\n",
      "15. 0.52 +-0.05\n",
      "parameters: {'dense1': 20, 'dense2': 5, 'dropout_dense': 0.4, 'dropout_lstm': 0.4, 'epochs': 15, 'lstm': 100}\n",
      "\n",
      "16. 0.68 +-0.29\n",
      "parameters: {'dense1': 20, 'dense2': 5, 'dropout_dense': 0.4, 'dropout_lstm': 0.4, 'epochs': 15, 'lstm': 250}\n",
      "\n"
     ]
    }
   ],
   "source": [
    "model = KerasClassifier(build_fn=get_model, batch_size=5, verbose=0)\n",
    "\n",
    "parameter_grid = dict(epochs=[15],\n",
    "                      lstm=[100, 250],\n",
    "                      dense1=[10, 20],\n",
    "                      dense2=[5],\n",
    "                      dropout_lstm=[0.3, 0.4],\n",
    "                      dropout_dense=[0.3, 0.4])                   \n",
    "                    \n",
    "grid_search_result = grid_search(model, parameter_grid)"
   ]
  },
  {
   "cell_type": "markdown",
   "metadata": {},
   "source": [
    "### Best model"
   ]
  },
  {
   "cell_type": "code",
   "execution_count": 22,
   "metadata": {},
   "outputs": [
    {
     "name": "stdout",
     "output_type": "stream",
     "text": [
      "Epoch 1/15\n",
      "99/99 [==============================] - 4s 36ms/step - loss: 1.0604 - val_loss: 0.8894\n",
      "Epoch 2/15\n",
      "99/99 [==============================] - 7s 74ms/step - loss: 0.9035 - val_loss: 0.7476\n",
      "Epoch 3/15\n",
      "99/99 [==============================] - 4s 41ms/step - loss: 0.7258 - val_loss: 0.6821\n",
      "Epoch 4/15\n",
      "99/99 [==============================] - 4s 41ms/step - loss: 0.6062 - val_loss: 0.5580\n",
      "Epoch 5/15\n",
      "99/99 [==============================] - 4s 40ms/step - loss: 0.5935 - val_loss: 0.5911\n",
      "Epoch 6/15\n",
      "99/99 [==============================] - 4s 41ms/step - loss: 0.5200 - val_loss: 0.5685\n",
      "Epoch 7/15\n",
      "99/99 [==============================] - 4s 42ms/step - loss: 0.4973 - val_loss: 0.5324\n",
      "Epoch 8/15\n",
      "99/99 [==============================] - 4s 41ms/step - loss: 0.4387 - val_loss: 0.5431\n",
      "Epoch 9/15\n",
      "99/99 [==============================] - 4s 43ms/step - loss: 0.4284 - val_loss: 0.5679\n",
      "Epoch 10/15\n",
      "99/99 [==============================] - 4s 37ms/step - loss: 0.3863 - val_loss: 0.5173\n",
      "Epoch 11/15\n",
      "99/99 [==============================] - 4s 37ms/step - loss: 0.4114 - val_loss: 0.5242\n",
      "Epoch 12/15\n",
      "99/99 [==============================] - 4s 38ms/step - loss: 0.3639 - val_loss: 0.4443\n",
      "Epoch 13/15\n",
      "99/99 [==============================] - 4s 37ms/step - loss: 0.3166 - val_loss: 0.4642\n",
      "Epoch 14/15\n",
      "99/99 [==============================] - 4s 38ms/step - loss: 0.2861 - val_loss: 0.5490\n",
      "Epoch 15/15\n",
      "99/99 [==============================] - 4s 41ms/step - loss: 0.2906 - val_loss: 0.5301\n"
     ]
    },
    {
     "data": {
      "image/png": "[encoded data removed]",
      "text/plain": [
       "<Figure size 432x288 with 1 Axes>"
      ]
     },
     "metadata": {},
     "output_type": "display_data"
    }
   ],
   "source": [
    "model = get_model(100, 10, 5, 0.4, 0.4)\n",
    "\n",
    "modelcheckpoint = ModelCheckpoint(\n",
    "    filepath=WD + '/Submission/' + str(VERSION) + '/checkpoint_model.h5',\n",
    "    save_weights_only=True,\n",
    "    monitor='val_loss',\n",
    "    mode='min',\n",
    "    save_best_only=True)\n",
    "\n",
    "model_fit = model.fit(X, y, batch_size=5, epochs=15, verbose=True, validation_split=0.2,\n",
    "                      callbacks=[modelcheckpoint])\n",
    "\n",
    "model.load_weights(WD + '/Submission/' + str(VERSION) + '/checkpoint_model.h5')\n",
    "\n",
    "plt.plot(model_fit.history['loss'])\n",
    "plt.plot(model_fit.history['val_loss'])\n",
    "plt.title('Learning')\n",
    "plt.legend(['loss', 'val_loss'])\n",
    "plt.ylabel('loss')\n",
    "plt.xlabel('epoch')\n",
    "plt.legend(['loss','val_loss'], loc='upper left')\n",
    "plt.show()"
   ]
  },
  {
   "cell_type": "markdown",
   "metadata": {},
   "source": [
    "## 6. Prediction"
   ]
  },
  {
   "cell_type": "code",
   "execution_count": 23,
   "metadata": {},
   "outputs": [],
   "source": [
    "prediction = model.predict(test_vectors)"
   ]
  },
  {
   "cell_type": "markdown",
   "metadata": {},
   "source": [
    "### Output frequencies"
   ]
  },
  {
   "cell_type": "code",
   "execution_count": 24,
   "metadata": {},
   "outputs": [
    {
     "data": {
      "image/png": "[encoded data removed]",
      "text/plain": [
       "<Figure size 432x288 with 1 Axes>"
      ]
     },
     "metadata": {},
     "output_type": "display_data"
    }
   ],
   "source": [
    "frequencies = [sum(prediction[:, 0]), sum(prediction[:, 1]), sum(prediction[:, 2]), sum(prediction[:, 3])]\n",
    "\n",
    "x_axis = ['Depression', 'Alcohol', 'Suicide', 'Drugs']\n",
    "\n",
    "plt.bar(x_axis, frequencies, color=['blue', 'red', 'black', 'green'])\n",
    "plt.title('Frequencies')\n",
    "plt.show()"
   ]
  },
  {
   "cell_type": "markdown",
   "metadata": {},
   "source": [
    "### Saving"
   ]
  },
  {
   "cell_type": "code",
   "execution_count": 25,
   "metadata": {},
   "outputs": [
    {
     "name": "stdout",
     "output_type": "stream",
     "text": [
      "Done.\n"
     ]
    }
   ],
   "source": [
    "model.save(WD + '/Submission/' + str(VERSION) + '/model.h5')\n",
    "\n",
    "output = pd.DataFrame({'ID': sample_submission.ID, \n",
    "                       'Depression': prediction[:, 0],\n",
    "                       'Alcohol': prediction[:, 1],\n",
    "                       'Suicide': prediction[:, 2],\n",
    "                       'Drugs': prediction[:, 3]})\n",
    "\n",
    "output.to_csv(WD + '/Submission/' + str(VERSION) + '/submission.csv', index=False)\n",
    "print(\"Done.\")"
   ]
  }
 ],
 "metadata": {
  "kernelspec": {
   "display_name": "Python 3",
   "language": "python",
   "name": "python3"
  },
  "language_info": {
   "codemirror_mode": {
    "name": "ipython",
    "version": 3
   },
   "file_extension": ".py",
   "mimetype": "text/x-python",
   "name": "python",
   "nbconvert_exporter": "python",
   "pygments_lexer": "ipython3",
   "version": "3.9.2"
  }
 },
 "nbformat": 4,
 "nbformat_minor": 4
}
