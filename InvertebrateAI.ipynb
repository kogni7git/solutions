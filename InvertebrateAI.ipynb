{
 "cells": [
  {
   "cell_type": "markdown",
   "metadata": {
    "id": "Aqdg9uymY-lw"
   },
   "source": [
    "# Marine Invertebrates Classification Challenge by #ZindiWeekendz\n",
    "\n",
    "File name: InvertebrateAI.ipynb\n",
    "\n",
    "Author: kogni7\n",
    "\n",
    "Date: August 2021\n",
    "\n",
    "## Contents\n",
    "\n",
    "* 1 Preparation\n",
    "* 2 Data\n",
    "* 3 Training\n",
    "* 4 Prediction and Submission\n",
    "\n",
    "This notebook uses only the data sets provided by ZINDI. These data sets contain images of deep sea invertebrates. These are the only used features in this notebook. The task is to classify the images.\n",
    "\n",
    "The file system for this project is:\n",
    "\n",
    "* InvertebrateAI (root)\n",
    "    * InvertebrateAI.ipynb (this notebook)\n",
    "    * Data\n",
    "        * train_small\n",
    "        * test_small\n",
    "        * SampleSubmission_.csv\n",
    "    * Submission\n",
    "        * 1 - x: Submission directories named by the version number\n",
    "            * submission.csv\n",
    "\n",
    "This jupyter notebook runs in Google Colab without special configuration. GPU is enabled.\n",
    "\n",
    "This notebook uses a Transfer learning based approach.\n",
    "\n",
    "Reference: https://github.com/kogni7git/solutions/blob/main/PAYGoAI.ipynb\n"
   ]
  },
  {
   "cell_type": "markdown",
   "metadata": {
    "id": "mBW7wZr-aS1V"
   },
   "source": [
    "## 1 Preparation"
   ]
  },
  {
   "cell_type": "code",
   "execution_count": 1,
   "metadata": {
    "executionInfo": {
     "elapsed": 23,
     "status": "ok",
     "timestamp": 1633295000970,
     "user": {
      "displayName": "Andreas Schmitt",
      "photoUrl": "https://lh3.googleusercontent.com/a/default-user=s64",
      "userId": "08919543814682882005"
     },
     "user_tz": -120
    },
    "id": "uA35UaZo-FiH"
   },
   "outputs": [],
   "source": [
    "import time\n",
    "start_time = time.time()"
   ]
  },
  {
   "cell_type": "markdown",
   "metadata": {
    "id": "KgJRsnepaYMK"
   },
   "source": [
    "### Installation, Libraries and Seed"
   ]
  },
  {
   "cell_type": "code",
   "execution_count": 2,
   "metadata": {
    "colab": {
     "base_uri": "https://localhost:8080/"
    },
    "executionInfo": {
     "elapsed": 14326,
     "status": "ok",
     "timestamp": 1633295015280,
     "user": {
      "displayName": "Andreas Schmitt",
      "photoUrl": "https://lh3.googleusercontent.com/a/default-user=s64",
      "userId": "08919543814682882005"
     },
     "user_tz": -120
    },
    "id": "mDEblSaCXQRP",
    "outputId": "00ad3f12-becb-4216-c280-4c767d67add6"
   },
   "outputs": [
    {
     "name": "stdout",
     "output_type": "stream",
     "text": [
      "Collecting efficientnet_pytorch\n",
      "  Downloading efficientnet_pytorch-0.7.1.tar.gz (21 kB)\n",
      "Requirement already satisfied: torch in /usr/local/lib/python3.7/dist-packages (from efficientnet_pytorch) (1.9.0+cu102)\n",
      "Requirement already satisfied: typing-extensions in /usr/local/lib/python3.7/dist-packages (from torch->efficientnet_pytorch) (3.7.4.3)\n",
      "Building wheels for collected packages: efficientnet-pytorch\n",
      "  Building wheel for efficientnet-pytorch (setup.py) ... \u001b[?25l\u001b[?25hdone\n",
      "  Created wheel for efficientnet-pytorch: filename=efficientnet_pytorch-0.7.1-py3-none-any.whl size=16446 sha256=08037c470feef930e163d0fc7139091d36964c2fe9ef07e5226f89191927cd03\n",
      "  Stored in directory: /root/.cache/pip/wheels/0e/cc/b2/49e74588263573ff778da58cc99b9c6349b496636a7e165be6\n",
      "Successfully built efficientnet-pytorch\n",
      "Installing collected packages: efficientnet-pytorch\n",
      "Successfully installed efficientnet-pytorch-0.7.1\n",
      "Collecting torchtoolbox\n",
      "  Downloading torchtoolbox-0.1.5-py3-none-any.whl (58 kB)\n",
      "\u001b[K     |████████████████████████████████| 58 kB 2.7 MB/s \n",
      "\u001b[?25hRequirement already satisfied: scikit-learn in /usr/local/lib/python3.7/dist-packages (from torchtoolbox) (0.22.2.post1)\n",
      "Requirement already satisfied: scipy in /usr/local/lib/python3.7/dist-packages (from torchtoolbox) (1.4.1)\n",
      "Requirement already satisfied: tqdm in /usr/local/lib/python3.7/dist-packages (from torchtoolbox) (4.62.3)\n",
      "Requirement already satisfied: numpy in /usr/local/lib/python3.7/dist-packages (from torchtoolbox) (1.19.5)\n",
      "Requirement already satisfied: lmdb in /usr/local/lib/python3.7/dist-packages (from torchtoolbox) (0.99)\n",
      "Requirement already satisfied: six in /usr/local/lib/python3.7/dist-packages (from torchtoolbox) (1.15.0)\n",
      "Requirement already satisfied: opencv-python in /usr/local/lib/python3.7/dist-packages (from torchtoolbox) (4.1.2.30)\n",
      "Requirement already satisfied: pyarrow in /usr/local/lib/python3.7/dist-packages (from torchtoolbox) (3.0.0)\n",
      "Requirement already satisfied: joblib>=0.11 in /usr/local/lib/python3.7/dist-packages (from scikit-learn->torchtoolbox) (1.0.1)\n",
      "Installing collected packages: torchtoolbox\n",
      "Successfully installed torchtoolbox-0.1.5\n",
      "Numpy Version: 1.19.5\n",
      "PyTorch Version: 1.9.0+cu102\n",
      "PyTorch torchvision Version: 0.10.0+cu102\n",
      "efficientnet_pytorch Version: 0.7.1\n",
      "Pandas Version: 1.1.5\n",
      "SciKit-Learn Version: 0.22.2.post1\n",
      "PIL Version: 7.1.2\n"
     ]
    }
   ],
   "source": [
    "# Installation\n",
    "!pip install efficientnet_pytorch\n",
    "!pip install torchtoolbox\n",
    "\n",
    "# Seed, Libraries\n",
    "SEED = 42\n",
    "\n",
    "# Math\n",
    "import numpy as np\n",
    "print(\"Numpy Version: \" + str(np.__version__))\n",
    "\n",
    "import random\n",
    "import os\n",
    "os.environ['PYTHONHASHSEED'] = str(SEED)\n",
    "\n",
    "np.random.seed(SEED)\n",
    "\n",
    "random.seed(SEED)\n",
    "\n",
    "# PyTorch\n",
    "import torch\n",
    "import torch.nn as nn\n",
    "import torch.nn.functional as F\n",
    "from torch import optim\n",
    "from torch.utils.data import DataLoader\n",
    "print(\"PyTorch Version: \" + str(torch.__version__))\n",
    "torch.manual_seed(SEED)\n",
    "torch.random.manual_seed(SEED)\n",
    "torch.cuda.manual_seed_all(SEED)\n",
    "torch.backends.cudnn.benchmark = False\n",
    "torch.backends.cudnn.deterministic = False\n",
    "\n",
    "import torchvision\n",
    "from torchvision import datasets, transforms\n",
    "print(\"PyTorch torchvision Version: \" + str(torchvision.__version__))\n",
    "\n",
    "# Mix-Up\n",
    "from torchtoolbox.tools import mixup_data, mixup_criterion\n",
    "\n",
    "# EfficientNet\n",
    "import efficientnet_pytorch\n",
    "from efficientnet_pytorch import EfficientNet\n",
    "print(\"efficientnet_pytorch Version: \" + str(efficientnet_pytorch.__version__))\n",
    "\n",
    "# CSV\n",
    "import pandas as pd\n",
    "print(\"Pandas Version: \" + str(pd.__version__))\n",
    "\n",
    "# Machine Learning\n",
    "import sklearn\n",
    "from sklearn.model_selection import KFold\n",
    "print(\"SciKit-Learn Version: \" + str(sklearn.__version__))\n",
    "\n",
    "# Images\n",
    "import PIL\n",
    "from PIL import Image\n",
    "print(\"PIL Version: \" + str(PIL.__version__))\n",
    "\n",
    "from tqdm import tqdm\n",
    "import gc"
   ]
  },
  {
   "cell_type": "code",
   "execution_count": 3,
   "metadata": {
    "colab": {
     "base_uri": "https://localhost:8080/"
    },
    "executionInfo": {
     "elapsed": 26,
     "status": "ok",
     "timestamp": 1633295015282,
     "user": {
      "displayName": "Andreas Schmitt",
      "photoUrl": "https://lh3.googleusercontent.com/a/default-user=s64",
      "userId": "08919543814682882005"
     },
     "user_tz": -120
    },
    "id": "W7K71op2eGRv",
    "outputId": "9e7664b1-1311-423a-9ad4-1c028ecae318"
   },
   "outputs": [
    {
     "name": "stdout",
     "output_type": "stream",
     "text": [
      "Sun Oct  3 21:03:34 2021       \n",
      "+-----------------------------------------------------------------------------+\n",
      "| NVIDIA-SMI 470.74       Driver Version: 460.32.03    CUDA Version: 11.2     |\n",
      "|-------------------------------+----------------------+----------------------+\n",
      "| GPU  Name        Persistence-M| Bus-Id        Disp.A | Volatile Uncorr. ECC |\n",
      "| Fan  Temp  Perf  Pwr:Usage/Cap|         Memory-Usage | GPU-Util  Compute M. |\n",
      "|                               |                      |               MIG M. |\n",
      "|===============================+======================+======================|\n",
      "|   0  Tesla K80           Off  | 00000000:00:04.0 Off |                    0 |\n",
      "| N/A   73C    P8    33W / 149W |      0MiB / 11441MiB |      0%      Default |\n",
      "|                               |                      |                  N/A |\n",
      "+-------------------------------+----------------------+----------------------+\n",
      "                                                                               \n",
      "+-----------------------------------------------------------------------------+\n",
      "| Processes:                                                                  |\n",
      "|  GPU   GI   CI        PID   Type   Process name                  GPU Memory |\n",
      "|        ID   ID                                                   Usage      |\n",
      "|=============================================================================|\n",
      "|  No running processes found                                                 |\n",
      "+-----------------------------------------------------------------------------+\n"
     ]
    }
   ],
   "source": [
    "!nvidia-smi"
   ]
  },
  {
   "cell_type": "markdown",
   "metadata": {
    "id": "4tFjtUINeIYR"
   },
   "source": [
    "### Parameters"
   ]
  },
  {
   "cell_type": "code",
   "execution_count": 4,
   "metadata": {
    "colab": {
     "base_uri": "https://localhost:8080/"
    },
    "executionInfo": {
     "elapsed": 27149,
     "status": "ok",
     "timestamp": 1633295042420,
     "user": {
      "displayName": "Andreas Schmitt",
      "photoUrl": "https://lh3.googleusercontent.com/a/default-user=s64",
      "userId": "08919543814682882005"
     },
     "user_tz": -120
    },
    "id": "3RC9Q-nkeKxy",
    "outputId": "86891dad-f9a6-4164-a4e1-9208f4d3a4d8"
   },
   "outputs": [
    {
     "name": "stdout",
     "output_type": "stream",
     "text": [
      "Mounted at /content/drive\n"
     ]
    }
   ],
   "source": [
    "CLASSES = 137\n",
    "\n",
    "EPOCHS = 10\n",
    "\n",
    "BATCH_SIZE = 32\n",
    "\n",
    "TEST_BATCH_SIZE = 128\n",
    "\n",
    "\"\"\"\n",
    "b0: 224\n",
    "b1: 240\n",
    "\"\"\"\n",
    "NET = 'efficientnet-b1'\n",
    "\n",
    "IMAGE_SIZE = 240\n",
    "\n",
    "CV = 5\n",
    "\n",
    "VERBOSE = True\n",
    "\n",
    "LEARNING_RATE = 0.5e-4\n",
    "SCHEDULER = False\n",
    "\n",
    "alpha = 0.5\n",
    "MIX_UP = False\n",
    "\n",
    "# The Version\n",
    "VERSION = \"1\"\n",
    "\n",
    "# for use in Google Colab\n",
    "from google.colab import drive\n",
    "drive.mount('/content/drive')"
   ]
  },
  {
   "cell_type": "code",
   "execution_count": 5,
   "metadata": {
    "colab": {
     "base_uri": "https://localhost:8080/"
    },
    "executionInfo": {
     "elapsed": 25,
     "status": "ok",
     "timestamp": 1633295042422,
     "user": {
      "displayName": "Andreas Schmitt",
      "photoUrl": "https://lh3.googleusercontent.com/a/default-user=s64",
      "userId": "08919543814682882005"
     },
     "user_tz": -120
    },
    "id": "Vy_BSJH1eNXJ",
    "outputId": "40507403-dc9d-4e5d-e620-0fb9120ea0f3"
   },
   "outputs": [
    {
     "name": "stdout",
     "output_type": "stream",
     "text": [
      "/content/drive/My Drive/InvertebrateAI\n"
     ]
    }
   ],
   "source": [
    "WD = os.getcwd() + \"/drive/My Drive/InvertebrateAI\"\n",
    "print(WD)"
   ]
  },
  {
   "cell_type": "markdown",
   "metadata": {
    "id": "4K27Iex9eSwb"
   },
   "source": [
    "## 2 Data"
   ]
  },
  {
   "cell_type": "code",
   "execution_count": 6,
   "metadata": {
    "executionInfo": {
     "elapsed": 16608,
     "status": "ok",
     "timestamp": 1633295059016,
     "user": {
      "displayName": "Andreas Schmitt",
      "photoUrl": "https://lh3.googleusercontent.com/a/default-user=s64",
      "userId": "08919543814682882005"
     },
     "user_tz": -120
    },
    "id": "0LrDOXnHuixV"
   },
   "outputs": [],
   "source": [
    "# images for training\n",
    "transformations = transforms.Compose([transforms.RandomResizedCrop(IMAGE_SIZE), transforms.ToTensor()])\n",
    "images_train = datasets.ImageFolder(WD + \"/Data/train_small\", transform=transformations)"
   ]
  },
  {
   "cell_type": "code",
   "execution_count": 7,
   "metadata": {
    "colab": {
     "base_uri": "https://localhost:8080/",
     "height": 273
    },
    "executionInfo": {
     "elapsed": 1122,
     "status": "ok",
     "timestamp": 1633295060120,
     "user": {
      "displayName": "Andreas Schmitt",
      "photoUrl": "https://lh3.googleusercontent.com/a/default-user=s64",
      "userId": "08919543814682882005"
     },
     "user_tz": -120
    },
    "id": "oeY7mpaOeWi5",
    "outputId": "c2a79d96-abeb-425f-d4cc-19c48ee7d136"
   },
   "outputs": [
    {
     "data": {
      "text/html": [
       "<div>\n",
       "<style scoped>\n",
       "    .dataframe tbody tr th:only-of-type {\n",
       "        vertical-align: middle;\n",
       "    }\n",
       "\n",
       "    .dataframe tbody tr th {\n",
       "        vertical-align: top;\n",
       "    }\n",
       "\n",
       "    .dataframe thead th {\n",
       "        text-align: right;\n",
       "    }\n",
       "</style>\n",
       "<table border=\"1\" class=\"dataframe\">\n",
       "  <thead>\n",
       "    <tr style=\"text-align: right;\">\n",
       "      <th></th>\n",
       "      <th>FILE</th>\n",
       "      <th>Pteraster_capensis</th>\n",
       "      <th>Porifera</th>\n",
       "      <th>Astropecten_irregularis_pontoporeus</th>\n",
       "      <th>Terebratulina_sp_</th>\n",
       "      <th>Neolithodes_asperrimus</th>\n",
       "      <th>Munida_benguela</th>\n",
       "      <th>Cypraeovula_iutsui</th>\n",
       "      <th>Kaloplocamus_ramosus</th>\n",
       "      <th>Actinoscyphia_plebeia</th>\n",
       "      <th>Echinus_gilchristi</th>\n",
       "      <th>Synallactes_viridilimus</th>\n",
       "      <th>Eleutherobia_variable</th>\n",
       "      <th>Neopilumnoplax_heterochir</th>\n",
       "      <th>Pleurobranchaea_bubala</th>\n",
       "      <th>Pagurus_cuanensis</th>\n",
       "      <th>Parapagurus_bouvieri</th>\n",
       "      <th>Inachidae</th>\n",
       "      <th>Pseudarchaster_tessellatus</th>\n",
       "      <th>Pasiphaea_sp._1</th>\n",
       "      <th>Suberites_dandelenae</th>\n",
       "      <th>Comitas_saldanhae</th>\n",
       "      <th>Poraniopsis_echinaster</th>\n",
       "      <th>Pterygosquilla_capensis</th>\n",
       "      <th>Holothuroidea</th>\n",
       "      <th>Exodromidia_spinosa</th>\n",
       "      <th>Aristeus_varidens</th>\n",
       "      <th>Philinopsis_capensis</th>\n",
       "      <th>Vitjazmaia_latidactyla</th>\n",
       "      <th>Perissasterias_polyacantha</th>\n",
       "      <th>Ascidiacea</th>\n",
       "      <th>Toraster_tuberculatus</th>\n",
       "      <th>Nudibranchia</th>\n",
       "      <th>Mediaster_bairdi_capensis</th>\n",
       "      <th>Limopsis_chuni</th>\n",
       "      <th>Comitas_stolida</th>\n",
       "      <th>Psilaster_acuminatus</th>\n",
       "      <th>Lithodes_ferox</th>\n",
       "      <th>Hermit_crab</th>\n",
       "      <th>Solenocera_africana</th>\n",
       "      <th>...</th>\n",
       "      <th>Ophiura_costata_costata</th>\n",
       "      <th>Pelagia_noctiluca</th>\n",
       "      <th>Sclerasterias_spp</th>\n",
       "      <th>Stylasteridae</th>\n",
       "      <th>Fusivoluta_pyrrhostoma</th>\n",
       "      <th>Actinoptilum_molle</th>\n",
       "      <th>Pseudarchaster_brachyactis</th>\n",
       "      <th>Nassarius speciosus</th>\n",
       "      <th>Chondraster_elattosis</th>\n",
       "      <th>Ophiothrix_aristulata</th>\n",
       "      <th>Aphelodoris_sp_</th>\n",
       "      <th>Fusinus_africanae</th>\n",
       "      <th>Scaphander_punctostriatus</th>\n",
       "      <th>Polychaete_tubes_(only)</th>\n",
       "      <th>Polychaete_worms</th>\n",
       "      <th>Polyechinus_agulhensis</th>\n",
       "      <th>Chrysaora_spp</th>\n",
       "      <th>Projasus_parkeri</th>\n",
       "      <th>Lamellaria_Coriocella_spp</th>\n",
       "      <th>Hippasteria_phrygiana</th>\n",
       "      <th>Mursia_cristiata</th>\n",
       "      <th>Prawns</th>\n",
       "      <th>Nassarius_vinctus</th>\n",
       "      <th>Marthasterias_africana</th>\n",
       "      <th>Goneplax_clevai</th>\n",
       "      <th>Alcyonacea</th>\n",
       "      <th>Athleta_lutosa</th>\n",
       "      <th>Pseudodromia_spp_</th>\n",
       "      <th>Rochinia_hertwigi</th>\n",
       "      <th>Africolaria_rutila</th>\n",
       "      <th>Neptuneopsis_gilchristi</th>\n",
       "      <th>Pseudodromia_rotunda</th>\n",
       "      <th>Pecten_sulcicostatus</th>\n",
       "      <th>Plesionika_martia</th>\n",
       "      <th>Rossella_antarctica</th>\n",
       "      <th>Philine_aperta</th>\n",
       "      <th>Mycale_anisochela</th>\n",
       "      <th>Henricia_abyssalis</th>\n",
       "      <th>Triviella_spp_</th>\n",
       "      <th>Cheilostomatida</th>\n",
       "    </tr>\n",
       "  </thead>\n",
       "  <tbody>\n",
       "    <tr>\n",
       "      <th>0</th>\n",
       "      <td>FNDG3L9.jpeg</td>\n",
       "      <td>0</td>\n",
       "      <td>0</td>\n",
       "      <td>0</td>\n",
       "      <td>0</td>\n",
       "      <td>0</td>\n",
       "      <td>0</td>\n",
       "      <td>0</td>\n",
       "      <td>0</td>\n",
       "      <td>0</td>\n",
       "      <td>0</td>\n",
       "      <td>0</td>\n",
       "      <td>0</td>\n",
       "      <td>0</td>\n",
       "      <td>0</td>\n",
       "      <td>0</td>\n",
       "      <td>0</td>\n",
       "      <td>0</td>\n",
       "      <td>0</td>\n",
       "      <td>0</td>\n",
       "      <td>0</td>\n",
       "      <td>0</td>\n",
       "      <td>0</td>\n",
       "      <td>0</td>\n",
       "      <td>0</td>\n",
       "      <td>0</td>\n",
       "      <td>0</td>\n",
       "      <td>0</td>\n",
       "      <td>0</td>\n",
       "      <td>0</td>\n",
       "      <td>0</td>\n",
       "      <td>0</td>\n",
       "      <td>0</td>\n",
       "      <td>0</td>\n",
       "      <td>0</td>\n",
       "      <td>0</td>\n",
       "      <td>0</td>\n",
       "      <td>0</td>\n",
       "      <td>0</td>\n",
       "      <td>0</td>\n",
       "      <td>...</td>\n",
       "      <td>0</td>\n",
       "      <td>0</td>\n",
       "      <td>0</td>\n",
       "      <td>0</td>\n",
       "      <td>0</td>\n",
       "      <td>0</td>\n",
       "      <td>0</td>\n",
       "      <td>0</td>\n",
       "      <td>0</td>\n",
       "      <td>0</td>\n",
       "      <td>0</td>\n",
       "      <td>0</td>\n",
       "      <td>0</td>\n",
       "      <td>0</td>\n",
       "      <td>0</td>\n",
       "      <td>0</td>\n",
       "      <td>0</td>\n",
       "      <td>0</td>\n",
       "      <td>0</td>\n",
       "      <td>0</td>\n",
       "      <td>0</td>\n",
       "      <td>0</td>\n",
       "      <td>0</td>\n",
       "      <td>0</td>\n",
       "      <td>0</td>\n",
       "      <td>0</td>\n",
       "      <td>0</td>\n",
       "      <td>0</td>\n",
       "      <td>0</td>\n",
       "      <td>0</td>\n",
       "      <td>0</td>\n",
       "      <td>0</td>\n",
       "      <td>0</td>\n",
       "      <td>0</td>\n",
       "      <td>0</td>\n",
       "      <td>0</td>\n",
       "      <td>0</td>\n",
       "      <td>0</td>\n",
       "      <td>0</td>\n",
       "      <td>0</td>\n",
       "    </tr>\n",
       "    <tr>\n",
       "      <th>1</th>\n",
       "      <td>0RASRVM.jpeg</td>\n",
       "      <td>0</td>\n",
       "      <td>0</td>\n",
       "      <td>0</td>\n",
       "      <td>0</td>\n",
       "      <td>0</td>\n",
       "      <td>0</td>\n",
       "      <td>0</td>\n",
       "      <td>0</td>\n",
       "      <td>0</td>\n",
       "      <td>0</td>\n",
       "      <td>0</td>\n",
       "      <td>0</td>\n",
       "      <td>0</td>\n",
       "      <td>0</td>\n",
       "      <td>0</td>\n",
       "      <td>0</td>\n",
       "      <td>0</td>\n",
       "      <td>0</td>\n",
       "      <td>0</td>\n",
       "      <td>0</td>\n",
       "      <td>0</td>\n",
       "      <td>0</td>\n",
       "      <td>0</td>\n",
       "      <td>0</td>\n",
       "      <td>0</td>\n",
       "      <td>0</td>\n",
       "      <td>0</td>\n",
       "      <td>0</td>\n",
       "      <td>0</td>\n",
       "      <td>0</td>\n",
       "      <td>0</td>\n",
       "      <td>0</td>\n",
       "      <td>0</td>\n",
       "      <td>0</td>\n",
       "      <td>0</td>\n",
       "      <td>0</td>\n",
       "      <td>0</td>\n",
       "      <td>0</td>\n",
       "      <td>0</td>\n",
       "      <td>...</td>\n",
       "      <td>0</td>\n",
       "      <td>0</td>\n",
       "      <td>0</td>\n",
       "      <td>0</td>\n",
       "      <td>0</td>\n",
       "      <td>0</td>\n",
       "      <td>0</td>\n",
       "      <td>0</td>\n",
       "      <td>0</td>\n",
       "      <td>0</td>\n",
       "      <td>0</td>\n",
       "      <td>0</td>\n",
       "      <td>0</td>\n",
       "      <td>0</td>\n",
       "      <td>0</td>\n",
       "      <td>0</td>\n",
       "      <td>0</td>\n",
       "      <td>0</td>\n",
       "      <td>0</td>\n",
       "      <td>0</td>\n",
       "      <td>0</td>\n",
       "      <td>0</td>\n",
       "      <td>0</td>\n",
       "      <td>0</td>\n",
       "      <td>0</td>\n",
       "      <td>0</td>\n",
       "      <td>0</td>\n",
       "      <td>0</td>\n",
       "      <td>0</td>\n",
       "      <td>0</td>\n",
       "      <td>0</td>\n",
       "      <td>0</td>\n",
       "      <td>0</td>\n",
       "      <td>0</td>\n",
       "      <td>0</td>\n",
       "      <td>0</td>\n",
       "      <td>0</td>\n",
       "      <td>0</td>\n",
       "      <td>0</td>\n",
       "      <td>0</td>\n",
       "    </tr>\n",
       "    <tr>\n",
       "      <th>2</th>\n",
       "      <td>JMXLWAX.jpeg</td>\n",
       "      <td>0</td>\n",
       "      <td>0</td>\n",
       "      <td>0</td>\n",
       "      <td>0</td>\n",
       "      <td>0</td>\n",
       "      <td>0</td>\n",
       "      <td>0</td>\n",
       "      <td>0</td>\n",
       "      <td>0</td>\n",
       "      <td>0</td>\n",
       "      <td>0</td>\n",
       "      <td>0</td>\n",
       "      <td>0</td>\n",
       "      <td>0</td>\n",
       "      <td>0</td>\n",
       "      <td>0</td>\n",
       "      <td>0</td>\n",
       "      <td>0</td>\n",
       "      <td>0</td>\n",
       "      <td>0</td>\n",
       "      <td>0</td>\n",
       "      <td>0</td>\n",
       "      <td>0</td>\n",
       "      <td>0</td>\n",
       "      <td>0</td>\n",
       "      <td>0</td>\n",
       "      <td>0</td>\n",
       "      <td>0</td>\n",
       "      <td>0</td>\n",
       "      <td>0</td>\n",
       "      <td>0</td>\n",
       "      <td>0</td>\n",
       "      <td>0</td>\n",
       "      <td>0</td>\n",
       "      <td>0</td>\n",
       "      <td>0</td>\n",
       "      <td>0</td>\n",
       "      <td>0</td>\n",
       "      <td>0</td>\n",
       "      <td>...</td>\n",
       "      <td>0</td>\n",
       "      <td>0</td>\n",
       "      <td>0</td>\n",
       "      <td>0</td>\n",
       "      <td>0</td>\n",
       "      <td>0</td>\n",
       "      <td>0</td>\n",
       "      <td>0</td>\n",
       "      <td>0</td>\n",
       "      <td>0</td>\n",
       "      <td>0</td>\n",
       "      <td>0</td>\n",
       "      <td>0</td>\n",
       "      <td>0</td>\n",
       "      <td>0</td>\n",
       "      <td>0</td>\n",
       "      <td>0</td>\n",
       "      <td>0</td>\n",
       "      <td>0</td>\n",
       "      <td>0</td>\n",
       "      <td>0</td>\n",
       "      <td>0</td>\n",
       "      <td>0</td>\n",
       "      <td>0</td>\n",
       "      <td>0</td>\n",
       "      <td>0</td>\n",
       "      <td>0</td>\n",
       "      <td>0</td>\n",
       "      <td>0</td>\n",
       "      <td>0</td>\n",
       "      <td>0</td>\n",
       "      <td>0</td>\n",
       "      <td>0</td>\n",
       "      <td>0</td>\n",
       "      <td>0</td>\n",
       "      <td>0</td>\n",
       "      <td>0</td>\n",
       "      <td>0</td>\n",
       "      <td>0</td>\n",
       "      <td>0</td>\n",
       "    </tr>\n",
       "    <tr>\n",
       "      <th>3</th>\n",
       "      <td>CV8FWT2.jpeg</td>\n",
       "      <td>0</td>\n",
       "      <td>0</td>\n",
       "      <td>0</td>\n",
       "      <td>0</td>\n",
       "      <td>0</td>\n",
       "      <td>0</td>\n",
       "      <td>0</td>\n",
       "      <td>0</td>\n",
       "      <td>0</td>\n",
       "      <td>0</td>\n",
       "      <td>0</td>\n",
       "      <td>0</td>\n",
       "      <td>0</td>\n",
       "      <td>0</td>\n",
       "      <td>0</td>\n",
       "      <td>0</td>\n",
       "      <td>0</td>\n",
       "      <td>0</td>\n",
       "      <td>0</td>\n",
       "      <td>0</td>\n",
       "      <td>0</td>\n",
       "      <td>0</td>\n",
       "      <td>0</td>\n",
       "      <td>0</td>\n",
       "      <td>0</td>\n",
       "      <td>0</td>\n",
       "      <td>0</td>\n",
       "      <td>0</td>\n",
       "      <td>0</td>\n",
       "      <td>0</td>\n",
       "      <td>0</td>\n",
       "      <td>0</td>\n",
       "      <td>0</td>\n",
       "      <td>0</td>\n",
       "      <td>0</td>\n",
       "      <td>0</td>\n",
       "      <td>0</td>\n",
       "      <td>0</td>\n",
       "      <td>0</td>\n",
       "      <td>...</td>\n",
       "      <td>0</td>\n",
       "      <td>0</td>\n",
       "      <td>0</td>\n",
       "      <td>0</td>\n",
       "      <td>0</td>\n",
       "      <td>0</td>\n",
       "      <td>0</td>\n",
       "      <td>0</td>\n",
       "      <td>0</td>\n",
       "      <td>0</td>\n",
       "      <td>0</td>\n",
       "      <td>0</td>\n",
       "      <td>0</td>\n",
       "      <td>0</td>\n",
       "      <td>0</td>\n",
       "      <td>0</td>\n",
       "      <td>0</td>\n",
       "      <td>0</td>\n",
       "      <td>0</td>\n",
       "      <td>0</td>\n",
       "      <td>0</td>\n",
       "      <td>0</td>\n",
       "      <td>0</td>\n",
       "      <td>0</td>\n",
       "      <td>0</td>\n",
       "      <td>0</td>\n",
       "      <td>0</td>\n",
       "      <td>0</td>\n",
       "      <td>0</td>\n",
       "      <td>0</td>\n",
       "      <td>0</td>\n",
       "      <td>0</td>\n",
       "      <td>0</td>\n",
       "      <td>0</td>\n",
       "      <td>0</td>\n",
       "      <td>0</td>\n",
       "      <td>0</td>\n",
       "      <td>0</td>\n",
       "      <td>0</td>\n",
       "      <td>0</td>\n",
       "    </tr>\n",
       "    <tr>\n",
       "      <th>4</th>\n",
       "      <td>V34APYI.jpeg</td>\n",
       "      <td>0</td>\n",
       "      <td>0</td>\n",
       "      <td>0</td>\n",
       "      <td>0</td>\n",
       "      <td>0</td>\n",
       "      <td>0</td>\n",
       "      <td>0</td>\n",
       "      <td>0</td>\n",
       "      <td>0</td>\n",
       "      <td>0</td>\n",
       "      <td>0</td>\n",
       "      <td>0</td>\n",
       "      <td>0</td>\n",
       "      <td>0</td>\n",
       "      <td>0</td>\n",
       "      <td>0</td>\n",
       "      <td>0</td>\n",
       "      <td>0</td>\n",
       "      <td>0</td>\n",
       "      <td>0</td>\n",
       "      <td>0</td>\n",
       "      <td>0</td>\n",
       "      <td>0</td>\n",
       "      <td>0</td>\n",
       "      <td>0</td>\n",
       "      <td>0</td>\n",
       "      <td>0</td>\n",
       "      <td>0</td>\n",
       "      <td>0</td>\n",
       "      <td>0</td>\n",
       "      <td>0</td>\n",
       "      <td>0</td>\n",
       "      <td>0</td>\n",
       "      <td>0</td>\n",
       "      <td>0</td>\n",
       "      <td>0</td>\n",
       "      <td>0</td>\n",
       "      <td>0</td>\n",
       "      <td>0</td>\n",
       "      <td>...</td>\n",
       "      <td>0</td>\n",
       "      <td>0</td>\n",
       "      <td>0</td>\n",
       "      <td>0</td>\n",
       "      <td>0</td>\n",
       "      <td>0</td>\n",
       "      <td>0</td>\n",
       "      <td>0</td>\n",
       "      <td>0</td>\n",
       "      <td>0</td>\n",
       "      <td>0</td>\n",
       "      <td>0</td>\n",
       "      <td>0</td>\n",
       "      <td>0</td>\n",
       "      <td>0</td>\n",
       "      <td>0</td>\n",
       "      <td>0</td>\n",
       "      <td>0</td>\n",
       "      <td>0</td>\n",
       "      <td>0</td>\n",
       "      <td>0</td>\n",
       "      <td>0</td>\n",
       "      <td>0</td>\n",
       "      <td>0</td>\n",
       "      <td>0</td>\n",
       "      <td>0</td>\n",
       "      <td>0</td>\n",
       "      <td>0</td>\n",
       "      <td>0</td>\n",
       "      <td>0</td>\n",
       "      <td>0</td>\n",
       "      <td>0</td>\n",
       "      <td>0</td>\n",
       "      <td>0</td>\n",
       "      <td>0</td>\n",
       "      <td>0</td>\n",
       "      <td>0</td>\n",
       "      <td>0</td>\n",
       "      <td>0</td>\n",
       "      <td>0</td>\n",
       "    </tr>\n",
       "  </tbody>\n",
       "</table>\n",
       "<p>5 rows × 138 columns</p>\n",
       "</div>"
      ],
      "text/plain": [
       "           FILE  Pteraster_capensis  ...  Triviella_spp_  Cheilostomatida\n",
       "0  FNDG3L9.jpeg                   0  ...               0                0\n",
       "1  0RASRVM.jpeg                   0  ...               0                0\n",
       "2  JMXLWAX.jpeg                   0  ...               0                0\n",
       "3  CV8FWT2.jpeg                   0  ...               0                0\n",
       "4  V34APYI.jpeg                   0  ...               0                0\n",
       "\n",
       "[5 rows x 138 columns]"
      ]
     },
     "execution_count": 7,
     "metadata": {},
     "output_type": "execute_result"
    }
   ],
   "source": [
    "sample_submission_csv = pd.read_csv(WD + \"/Data/SampleSubmission_.csv\")\n",
    "sample_submission_csv.head()"
   ]
  },
  {
   "cell_type": "code",
   "execution_count": 8,
   "metadata": {
    "executionInfo": {
     "elapsed": 42,
     "status": "ok",
     "timestamp": 1633295060123,
     "user": {
      "displayName": "Andreas Schmitt",
      "photoUrl": "https://lh3.googleusercontent.com/a/default-user=s64",
      "userId": "08919543814682882005"
     },
     "user_tz": -120
    },
    "id": "21xqUxpJuPKU"
   },
   "outputs": [],
   "source": [
    "# images for prediction\n",
    "path = WD + \"/Data/test_small/\"\n",
    "images = sample_submission_csv.FILE\n",
    "\n",
    "class TestDataset(torch.utils.data.Dataset):\n",
    "    def __init__(self, images):\n",
    "        self.images = images\n",
    "\n",
    "    def __getitem__(self, idx):\n",
    "        return transformations(Image.open(path + self.images[idx]))\n",
    "\n",
    "    def __len__(self):\n",
    "        return len(self.images)"
   ]
  },
  {
   "cell_type": "markdown",
   "metadata": {
    "id": "-2LN_it6ejt-"
   },
   "source": [
    "This is an efficient net with a linear layer and sigmoidal activation."
   ]
  },
  {
   "cell_type": "code",
   "execution_count": 9,
   "metadata": {
    "executionInfo": {
     "elapsed": 28,
     "status": "ok",
     "timestamp": 1633295060125,
     "user": {
      "displayName": "Andreas Schmitt",
      "photoUrl": "https://lh3.googleusercontent.com/a/default-user=s64",
      "userId": "08919543814682882005"
     },
     "user_tz": -120
    },
    "id": "uxqNej6BekGV"
   },
   "outputs": [],
   "source": [
    "class EfficientNeuralNet(nn.Module):\n",
    "    def __init__(self, net):\n",
    "        super(EfficientNeuralNet, self).__init__()\n",
    "        self.net = EfficientNet.from_pretrained(net)\n",
    "        self.ffn1 = nn.Linear(self.net._fc.out_features, 128)\n",
    "        self.ffn2 = nn.Linear(128, CLASSES)\n",
    "        self.relu = nn.ReLU()\n",
    "        self.sig = nn.Sigmoid()\n",
    "\n",
    "    def forward(self, x):\n",
    "        x = self.net(x)\n",
    "        x = self.ffn1(x)\n",
    "        x = self.relu(x)\n",
    "        return self.sig(self.ffn2(x))"
   ]
  },
  {
   "cell_type": "markdown",
   "metadata": {
    "id": "Wc2iiMjmeopn"
   },
   "source": [
    "## 3 Training"
   ]
  },
  {
   "cell_type": "code",
   "execution_count": 10,
   "metadata": {
    "executionInfo": {
     "elapsed": 24,
     "status": "ok",
     "timestamp": 1633295060127,
     "user": {
      "displayName": "Andreas Schmitt",
      "photoUrl": "https://lh3.googleusercontent.com/a/default-user=s64",
      "userId": "08919543814682882005"
     },
     "user_tz": -120
    },
    "id": "yvSYNQtYesYA"
   },
   "outputs": [],
   "source": [
    "def training(data_loader, model, optimizer):\n",
    "\n",
    "    model.train()\n",
    "\n",
    "    losses = []\n",
    "\n",
    "    for data in tqdm(data_loader):\n",
    "        image = data[0].cuda() / 255\n",
    "        target = data[1].cuda()\n",
    "\n",
    "        optimizer.zero_grad()\n",
    "\n",
    "        if MIX_UP:\n",
    "            image, target_a, target_b, lam = mixup_data(image, target, alpha)\n",
    "\n",
    "        output = model(image.float())\n",
    "\n",
    "        if MIX_UP:\n",
    "            loss = mixup_criterion(nn.CrossEntropyLoss(), output.squeeze().float(), target_a, target_b, lam)\n",
    "        else:\n",
    "            loss = nn.CrossEntropyLoss()(output.squeeze().float(), target)\n",
    "\n",
    "        loss.backward()\n",
    "        optimizer.step()\n",
    "\n",
    "        losses.append(loss.data.cpu())\n",
    "\n",
    "        if MIX_UP:\n",
    "            del target_a, target_b, lam\n",
    "\n",
    "        del output, loss, image, target\n",
    "        gc.collect()\n",
    "\n",
    "    return np.mean(losses)\n",
    "\n",
    "\n",
    "def evaluation(data_loader, model):\n",
    "    \n",
    "    model.eval()\n",
    "    \n",
    "    losses = []\n",
    "\n",
    "    with torch.no_grad():\n",
    "        for data in tqdm(data_loader):\n",
    "            image = data[0].cuda() / 255\n",
    "            target = data[1].cuda()\n",
    "\n",
    "            output = model(image.float())\n",
    "            loss = nn.CrossEntropyLoss()(output.squeeze().float(), target)\n",
    "\n",
    "            losses.append(loss.data.cpu())\n",
    "\n",
    "            del output, loss, image, target\n",
    "            gc.collect()\n",
    "\n",
    "    return np.mean(losses)\n",
    "\n",
    "\n",
    "def prediction(data_loader, model):\n",
    "    model.eval()\n",
    "    \n",
    "    outputs = []\n",
    "\n",
    "    with torch.no_grad():\n",
    "        for data in tqdm(data_loader):\n",
    "            image = data.cuda() / 255\n",
    "\n",
    "            output = model(image.float())\n",
    "            outputs.append(output.squeeze().data.cpu())\n",
    "\n",
    "            del output, image\n",
    "            gc.collect()\n",
    "\n",
    "        return torch.cat(outputs)"
   ]
  },
  {
   "cell_type": "code",
   "execution_count": 11,
   "metadata": {
    "colab": {
     "base_uri": "https://localhost:8080/",
     "height": 1000,
     "referenced_widgets": [
      "d35b41fbeb024f54af7103da811b1bc3",
      "d96400bbb29544c39d7e93dcc7aa5e37",
      "09387a6dc5164da094db7292e7e81830",
      "e486635b8c4d4a7fa4b8df56b1d52212",
      "ec943f40275e4624a7b7cb5d973154dd",
      "0f6f4fcb70a948198de8ec131d59b1ed",
      "e5dee698bf164f4daaebe6c83c8953af",
      "5f47af6f31704c53bc63ca4add3707bd",
      "fd0772e9fbf84331980abbe11c23b42a",
      "0b45866acdd44f6cb44f6df477f9579b",
      "0154975d769f455091a6a04e3c6c30b4"
     ]
    },
    "executionInfo": {
     "elapsed": 4841175,
     "status": "ok",
     "timestamp": 1633299901282,
     "user": {
      "displayName": "Andreas Schmitt",
      "photoUrl": "https://lh3.googleusercontent.com/a/default-user=s64",
      "userId": "08919543814682882005"
     },
     "user_tz": -120
    },
    "id": "ETd7Pgtcev_x",
    "outputId": "3c85c3e7-ddaa-4c12-c624-04cd3dc519c4"
   },
   "outputs": [
    {
     "name": "stdout",
     "output_type": "stream",
     "text": [
      "Run 1 of 5.\n"
     ]
    },
    {
     "name": "stderr",
     "output_type": "stream",
     "text": [
      "Downloading: \"https://github.com/lukemelas/EfficientNet-PyTorch/releases/download/1.0/efficientnet-b1-f1951068.pth\" to /root/.cache/torch/hub/checkpoints/efficientnet-b1-f1951068.pth\n"
     ]
    },
    {
     "data": {
      "application/vnd.jupyter.widget-view+json": {
       "model_id": "d35b41fbeb024f54af7103da811b1bc3",
       "version_major": 2,
       "version_minor": 0
      },
      "text/plain": [
       "  0%|          | 0.00/30.1M [00:00<?, ?B/s]"
      ]
     },
     "metadata": {},
     "output_type": "display_data"
    },
    {
     "name": "stdout",
     "output_type": "stream",
     "text": [
      "Loaded pretrained weights for efficientnet-b1\n"
     ]
    },
    {
     "name": "stderr",
     "output_type": "stream",
     "text": [
      "100%|██████████| 78/78 [14:58<00:00, 11.51s/it]\n",
      "100%|██████████| 5/5 [04:27<00:00, 53.49s/it]\n"
     ]
    },
    {
     "name": "stdout",
     "output_type": "stream",
     "text": [
      "Epoch: 0; TRAINING: 4.896; VALIDATION: 4.920\n"
     ]
    },
    {
     "name": "stderr",
     "output_type": "stream",
     "text": [
      "100%|██████████| 78/78 [01:07<00:00,  1.15it/s]\n",
      "100%|██████████| 5/5 [00:06<00:00,  1.26s/it]\n"
     ]
    },
    {
     "name": "stdout",
     "output_type": "stream",
     "text": [
      "Epoch: 1; TRAINING: 4.799; VALIDATION: 4.919\n"
     ]
    },
    {
     "name": "stderr",
     "output_type": "stream",
     "text": [
      "100%|██████████| 78/78 [01:08<00:00,  1.15it/s]\n",
      "100%|██████████| 5/5 [00:06<00:00,  1.26s/it]\n"
     ]
    },
    {
     "name": "stdout",
     "output_type": "stream",
     "text": [
      "Epoch: 2; TRAINING: 4.672; VALIDATION: 4.919\n"
     ]
    },
    {
     "name": "stderr",
     "output_type": "stream",
     "text": [
      "100%|██████████| 78/78 [01:07<00:00,  1.15it/s]\n",
      "100%|██████████| 5/5 [00:06<00:00,  1.28s/it]\n"
     ]
    },
    {
     "name": "stdout",
     "output_type": "stream",
     "text": [
      "Epoch: 3; TRAINING: 4.536; VALIDATION: 4.918\n"
     ]
    },
    {
     "name": "stderr",
     "output_type": "stream",
     "text": [
      "100%|██████████| 78/78 [01:08<00:00,  1.15it/s]\n",
      "100%|██████████| 5/5 [00:06<00:00,  1.28s/it]\n"
     ]
    },
    {
     "name": "stdout",
     "output_type": "stream",
     "text": [
      "Epoch: 4; TRAINING: 4.415; VALIDATION: 4.892\n"
     ]
    },
    {
     "name": "stderr",
     "output_type": "stream",
     "text": [
      "100%|██████████| 78/78 [01:07<00:00,  1.15it/s]\n",
      "100%|██████████| 5/5 [00:06<00:00,  1.27s/it]\n"
     ]
    },
    {
     "name": "stdout",
     "output_type": "stream",
     "text": [
      "Epoch: 5; TRAINING: 4.319; VALIDATION: 4.786\n"
     ]
    },
    {
     "name": "stderr",
     "output_type": "stream",
     "text": [
      "100%|██████████| 78/78 [01:08<00:00,  1.15it/s]\n",
      "100%|██████████| 5/5 [00:06<00:00,  1.30s/it]\n"
     ]
    },
    {
     "name": "stdout",
     "output_type": "stream",
     "text": [
      "Epoch: 6; TRAINING: 4.253; VALIDATION: 4.609\n"
     ]
    },
    {
     "name": "stderr",
     "output_type": "stream",
     "text": [
      "100%|██████████| 78/78 [01:07<00:00,  1.15it/s]\n",
      "100%|██████████| 5/5 [00:06<00:00,  1.28s/it]\n"
     ]
    },
    {
     "name": "stdout",
     "output_type": "stream",
     "text": [
      "Epoch: 7; TRAINING: 4.206; VALIDATION: 4.406\n"
     ]
    },
    {
     "name": "stderr",
     "output_type": "stream",
     "text": [
      "100%|██████████| 78/78 [01:08<00:00,  1.15it/s]\n",
      "100%|██████████| 5/5 [00:06<00:00,  1.28s/it]\n"
     ]
    },
    {
     "name": "stdout",
     "output_type": "stream",
     "text": [
      "Epoch: 8; TRAINING: 4.170; VALIDATION: 4.296\n"
     ]
    },
    {
     "name": "stderr",
     "output_type": "stream",
     "text": [
      "100%|██████████| 78/78 [01:07<00:00,  1.15it/s]\n",
      "100%|██████████| 5/5 [00:06<00:00,  1.28s/it]\n"
     ]
    },
    {
     "name": "stdout",
     "output_type": "stream",
     "text": [
      "Epoch: 9; TRAINING: 4.137; VALIDATION: 4.209\n",
      "\n",
      "\n",
      "Run 2 of 5.\n",
      "Loaded pretrained weights for efficientnet-b1\n"
     ]
    },
    {
     "name": "stderr",
     "output_type": "stream",
     "text": [
      "100%|██████████| 78/78 [01:08<00:00,  1.15it/s]\n",
      "100%|██████████| 5/5 [00:06<00:00,  1.28s/it]\n"
     ]
    },
    {
     "name": "stdout",
     "output_type": "stream",
     "text": [
      "Epoch: 0; TRAINING: 4.896; VALIDATION: 4.922\n"
     ]
    },
    {
     "name": "stderr",
     "output_type": "stream",
     "text": [
      "100%|██████████| 78/78 [01:07<00:00,  1.15it/s]\n",
      "100%|██████████| 5/5 [00:06<00:00,  1.27s/it]\n"
     ]
    },
    {
     "name": "stdout",
     "output_type": "stream",
     "text": [
      "Epoch: 1; TRAINING: 4.804; VALIDATION: 4.921\n"
     ]
    },
    {
     "name": "stderr",
     "output_type": "stream",
     "text": [
      "100%|██████████| 78/78 [01:07<00:00,  1.15it/s]\n",
      "100%|██████████| 5/5 [00:06<00:00,  1.28s/it]\n"
     ]
    },
    {
     "name": "stdout",
     "output_type": "stream",
     "text": [
      "Epoch: 2; TRAINING: 4.672; VALIDATION: 4.921\n"
     ]
    },
    {
     "name": "stderr",
     "output_type": "stream",
     "text": [
      "100%|██████████| 78/78 [01:07<00:00,  1.15it/s]\n",
      "100%|██████████| 5/5 [00:06<00:00,  1.28s/it]\n"
     ]
    },
    {
     "name": "stdout",
     "output_type": "stream",
     "text": [
      "Epoch: 3; TRAINING: 4.538; VALIDATION: 4.922\n"
     ]
    },
    {
     "name": "stderr",
     "output_type": "stream",
     "text": [
      "100%|██████████| 78/78 [01:07<00:00,  1.15it/s]\n",
      "100%|██████████| 5/5 [00:06<00:00,  1.33s/it]\n"
     ]
    },
    {
     "name": "stdout",
     "output_type": "stream",
     "text": [
      "Epoch: 4; TRAINING: 4.417; VALIDATION: 4.902\n"
     ]
    },
    {
     "name": "stderr",
     "output_type": "stream",
     "text": [
      "100%|██████████| 78/78 [01:08<00:00,  1.15it/s]\n",
      "100%|██████████| 5/5 [00:06<00:00,  1.29s/it]\n"
     ]
    },
    {
     "name": "stdout",
     "output_type": "stream",
     "text": [
      "Epoch: 5; TRAINING: 4.326; VALIDATION: 4.820\n"
     ]
    },
    {
     "name": "stderr",
     "output_type": "stream",
     "text": [
      "100%|██████████| 78/78 [01:08<00:00,  1.15it/s]\n",
      "100%|██████████| 5/5 [00:06<00:00,  1.28s/it]\n"
     ]
    },
    {
     "name": "stdout",
     "output_type": "stream",
     "text": [
      "Epoch: 6; TRAINING: 4.256; VALIDATION: 4.630\n"
     ]
    },
    {
     "name": "stderr",
     "output_type": "stream",
     "text": [
      "100%|██████████| 78/78 [01:07<00:00,  1.15it/s]\n",
      "100%|██████████| 5/5 [00:06<00:00,  1.27s/it]\n"
     ]
    },
    {
     "name": "stdout",
     "output_type": "stream",
     "text": [
      "Epoch: 7; TRAINING: 4.206; VALIDATION: 4.440\n"
     ]
    },
    {
     "name": "stderr",
     "output_type": "stream",
     "text": [
      "100%|██████████| 78/78 [01:08<00:00,  1.15it/s]\n",
      "100%|██████████| 5/5 [00:06<00:00,  1.27s/it]\n"
     ]
    },
    {
     "name": "stdout",
     "output_type": "stream",
     "text": [
      "Epoch: 8; TRAINING: 4.174; VALIDATION: 4.346\n"
     ]
    },
    {
     "name": "stderr",
     "output_type": "stream",
     "text": [
      "100%|██████████| 78/78 [01:07<00:00,  1.15it/s]\n",
      "100%|██████████| 5/5 [00:06<00:00,  1.28s/it]\n"
     ]
    },
    {
     "name": "stdout",
     "output_type": "stream",
     "text": [
      "Epoch: 9; TRAINING: 4.148; VALIDATION: 4.247\n",
      "\n",
      "\n",
      "Run 3 of 5.\n",
      "Loaded pretrained weights for efficientnet-b1\n"
     ]
    },
    {
     "name": "stderr",
     "output_type": "stream",
     "text": [
      "100%|██████████| 78/78 [01:07<00:00,  1.15it/s]\n",
      "100%|██████████| 5/5 [00:06<00:00,  1.29s/it]\n"
     ]
    },
    {
     "name": "stdout",
     "output_type": "stream",
     "text": [
      "Epoch: 0; TRAINING: 4.893; VALIDATION: 4.919\n"
     ]
    },
    {
     "name": "stderr",
     "output_type": "stream",
     "text": [
      "100%|██████████| 78/78 [01:07<00:00,  1.15it/s]\n",
      "100%|██████████| 5/5 [00:06<00:00,  1.30s/it]\n"
     ]
    },
    {
     "name": "stdout",
     "output_type": "stream",
     "text": [
      "Epoch: 1; TRAINING: 4.796; VALIDATION: 4.918\n"
     ]
    },
    {
     "name": "stderr",
     "output_type": "stream",
     "text": [
      "100%|██████████| 78/78 [01:08<00:00,  1.15it/s]\n",
      "100%|██████████| 5/5 [00:06<00:00,  1.30s/it]\n"
     ]
    },
    {
     "name": "stdout",
     "output_type": "stream",
     "text": [
      "Epoch: 2; TRAINING: 4.675; VALIDATION: 4.919\n"
     ]
    },
    {
     "name": "stderr",
     "output_type": "stream",
     "text": [
      "100%|██████████| 78/78 [01:08<00:00,  1.15it/s]\n",
      "100%|██████████| 5/5 [00:06<00:00,  1.27s/it]\n"
     ]
    },
    {
     "name": "stdout",
     "output_type": "stream",
     "text": [
      "Epoch: 3; TRAINING: 4.549; VALIDATION: 4.916\n"
     ]
    },
    {
     "name": "stderr",
     "output_type": "stream",
     "text": [
      "100%|██████████| 78/78 [01:08<00:00,  1.15it/s]\n",
      "100%|██████████| 5/5 [00:06<00:00,  1.29s/it]\n"
     ]
    },
    {
     "name": "stdout",
     "output_type": "stream",
     "text": [
      "Epoch: 4; TRAINING: 4.428; VALIDATION: 4.874\n"
     ]
    },
    {
     "name": "stderr",
     "output_type": "stream",
     "text": [
      "100%|██████████| 78/78 [01:08<00:00,  1.15it/s]\n",
      "100%|██████████| 5/5 [00:06<00:00,  1.29s/it]\n"
     ]
    },
    {
     "name": "stdout",
     "output_type": "stream",
     "text": [
      "Epoch: 5; TRAINING: 4.331; VALIDATION: 4.752\n"
     ]
    },
    {
     "name": "stderr",
     "output_type": "stream",
     "text": [
      "100%|██████████| 78/78 [01:08<00:00,  1.14it/s]\n",
      "100%|██████████| 5/5 [00:06<00:00,  1.27s/it]\n"
     ]
    },
    {
     "name": "stdout",
     "output_type": "stream",
     "text": [
      "Epoch: 6; TRAINING: 4.263; VALIDATION: 4.575\n"
     ]
    },
    {
     "name": "stderr",
     "output_type": "stream",
     "text": [
      "100%|██████████| 78/78 [01:08<00:00,  1.14it/s]\n",
      "100%|██████████| 5/5 [00:06<00:00,  1.30s/it]\n"
     ]
    },
    {
     "name": "stdout",
     "output_type": "stream",
     "text": [
      "Epoch: 7; TRAINING: 4.215; VALIDATION: 4.424\n"
     ]
    },
    {
     "name": "stderr",
     "output_type": "stream",
     "text": [
      "100%|██████████| 78/78 [01:08<00:00,  1.14it/s]\n",
      "100%|██████████| 5/5 [00:06<00:00,  1.26s/it]\n"
     ]
    },
    {
     "name": "stdout",
     "output_type": "stream",
     "text": [
      "Epoch: 8; TRAINING: 4.174; VALIDATION: 4.313\n"
     ]
    },
    {
     "name": "stderr",
     "output_type": "stream",
     "text": [
      "100%|██████████| 78/78 [01:08<00:00,  1.15it/s]\n",
      "100%|██████████| 5/5 [00:06<00:00,  1.29s/it]\n"
     ]
    },
    {
     "name": "stdout",
     "output_type": "stream",
     "text": [
      "Epoch: 9; TRAINING: 4.146; VALIDATION: 4.229\n",
      "\n",
      "\n",
      "Run 4 of 5.\n",
      "Loaded pretrained weights for efficientnet-b1\n"
     ]
    },
    {
     "name": "stderr",
     "output_type": "stream",
     "text": [
      "100%|██████████| 78/78 [01:08<00:00,  1.14it/s]\n",
      "100%|██████████| 5/5 [00:06<00:00,  1.26s/it]\n"
     ]
    },
    {
     "name": "stdout",
     "output_type": "stream",
     "text": [
      "Epoch: 0; TRAINING: 4.897; VALIDATION: 4.921\n"
     ]
    },
    {
     "name": "stderr",
     "output_type": "stream",
     "text": [
      "100%|██████████| 78/78 [01:08<00:00,  1.14it/s]\n",
      "100%|██████████| 5/5 [00:06<00:00,  1.28s/it]\n"
     ]
    },
    {
     "name": "stdout",
     "output_type": "stream",
     "text": [
      "Epoch: 1; TRAINING: 4.809; VALIDATION: 4.920\n"
     ]
    },
    {
     "name": "stderr",
     "output_type": "stream",
     "text": [
      "100%|██████████| 78/78 [01:08<00:00,  1.14it/s]\n",
      "100%|██████████| 5/5 [00:06<00:00,  1.30s/it]\n"
     ]
    },
    {
     "name": "stdout",
     "output_type": "stream",
     "text": [
      "Epoch: 2; TRAINING: 4.673; VALIDATION: 4.921\n"
     ]
    },
    {
     "name": "stderr",
     "output_type": "stream",
     "text": [
      "100%|██████████| 78/78 [01:08<00:00,  1.14it/s]\n",
      "100%|██████████| 5/5 [00:06<00:00,  1.29s/it]\n"
     ]
    },
    {
     "name": "stdout",
     "output_type": "stream",
     "text": [
      "Epoch: 3; TRAINING: 4.535; VALIDATION: 4.919\n"
     ]
    },
    {
     "name": "stderr",
     "output_type": "stream",
     "text": [
      "100%|██████████| 78/78 [01:08<00:00,  1.14it/s]\n",
      "100%|██████████| 5/5 [00:06<00:00,  1.30s/it]\n"
     ]
    },
    {
     "name": "stdout",
     "output_type": "stream",
     "text": [
      "Epoch: 4; TRAINING: 4.405; VALIDATION: 4.889\n"
     ]
    },
    {
     "name": "stderr",
     "output_type": "stream",
     "text": [
      "100%|██████████| 78/78 [01:08<00:00,  1.14it/s]\n",
      "100%|██████████| 5/5 [00:06<00:00,  1.31s/it]\n"
     ]
    },
    {
     "name": "stdout",
     "output_type": "stream",
     "text": [
      "Epoch: 5; TRAINING: 4.316; VALIDATION: 4.764\n"
     ]
    },
    {
     "name": "stderr",
     "output_type": "stream",
     "text": [
      "100%|██████████| 78/78 [01:08<00:00,  1.14it/s]\n",
      "100%|██████████| 5/5 [00:06<00:00,  1.28s/it]\n"
     ]
    },
    {
     "name": "stdout",
     "output_type": "stream",
     "text": [
      "Epoch: 6; TRAINING: 4.249; VALIDATION: 4.647\n"
     ]
    },
    {
     "name": "stderr",
     "output_type": "stream",
     "text": [
      "100%|██████████| 78/78 [01:08<00:00,  1.14it/s]\n",
      "100%|██████████| 5/5 [00:06<00:00,  1.27s/it]\n"
     ]
    },
    {
     "name": "stdout",
     "output_type": "stream",
     "text": [
      "Epoch: 7; TRAINING: 4.204; VALIDATION: 4.472\n"
     ]
    },
    {
     "name": "stderr",
     "output_type": "stream",
     "text": [
      "100%|██████████| 78/78 [01:08<00:00,  1.14it/s]\n",
      "100%|██████████| 5/5 [00:06<00:00,  1.29s/it]\n"
     ]
    },
    {
     "name": "stdout",
     "output_type": "stream",
     "text": [
      "Epoch: 8; TRAINING: 4.173; VALIDATION: 4.349\n"
     ]
    },
    {
     "name": "stderr",
     "output_type": "stream",
     "text": [
      "100%|██████████| 78/78 [01:08<00:00,  1.14it/s]\n",
      "100%|██████████| 5/5 [00:06<00:00,  1.27s/it]\n"
     ]
    },
    {
     "name": "stdout",
     "output_type": "stream",
     "text": [
      "Epoch: 9; TRAINING: 4.142; VALIDATION: 4.244\n",
      "\n",
      "\n",
      "Run 5 of 5.\n",
      "Loaded pretrained weights for efficientnet-b1\n"
     ]
    },
    {
     "name": "stderr",
     "output_type": "stream",
     "text": [
      "100%|██████████| 78/78 [01:08<00:00,  1.14it/s]\n",
      "100%|██████████| 5/5 [00:06<00:00,  1.28s/it]\n"
     ]
    },
    {
     "name": "stdout",
     "output_type": "stream",
     "text": [
      "Epoch: 0; TRAINING: 4.899; VALIDATION: 4.920\n"
     ]
    },
    {
     "name": "stderr",
     "output_type": "stream",
     "text": [
      "100%|██████████| 78/78 [01:08<00:00,  1.15it/s]\n",
      "100%|██████████| 5/5 [00:06<00:00,  1.27s/it]\n"
     ]
    },
    {
     "name": "stdout",
     "output_type": "stream",
     "text": [
      "Epoch: 1; TRAINING: 4.808; VALIDATION: 4.920\n"
     ]
    },
    {
     "name": "stderr",
     "output_type": "stream",
     "text": [
      "100%|██████████| 78/78 [01:08<00:00,  1.14it/s]\n",
      "100%|██████████| 5/5 [00:06<00:00,  1.29s/it]\n"
     ]
    },
    {
     "name": "stdout",
     "output_type": "stream",
     "text": [
      "Epoch: 2; TRAINING: 4.677; VALIDATION: 4.920\n"
     ]
    },
    {
     "name": "stderr",
     "output_type": "stream",
     "text": [
      "100%|██████████| 78/78 [01:07<00:00,  1.15it/s]\n",
      "100%|██████████| 5/5 [00:06<00:00,  1.27s/it]\n"
     ]
    },
    {
     "name": "stdout",
     "output_type": "stream",
     "text": [
      "Epoch: 3; TRAINING: 4.545; VALIDATION: 4.920\n"
     ]
    },
    {
     "name": "stderr",
     "output_type": "stream",
     "text": [
      "100%|██████████| 78/78 [01:08<00:00,  1.14it/s]\n",
      "100%|██████████| 5/5 [00:06<00:00,  1.30s/it]\n"
     ]
    },
    {
     "name": "stdout",
     "output_type": "stream",
     "text": [
      "Epoch: 4; TRAINING: 4.421; VALIDATION: 4.886\n"
     ]
    },
    {
     "name": "stderr",
     "output_type": "stream",
     "text": [
      "100%|██████████| 78/78 [01:08<00:00,  1.14it/s]\n",
      "100%|██████████| 5/5 [00:06<00:00,  1.29s/it]\n"
     ]
    },
    {
     "name": "stdout",
     "output_type": "stream",
     "text": [
      "Epoch: 5; TRAINING: 4.328; VALIDATION: 4.794\n"
     ]
    },
    {
     "name": "stderr",
     "output_type": "stream",
     "text": [
      "100%|██████████| 78/78 [01:08<00:00,  1.15it/s]\n",
      "100%|██████████| 5/5 [00:06<00:00,  1.30s/it]\n"
     ]
    },
    {
     "name": "stdout",
     "output_type": "stream",
     "text": [
      "Epoch: 6; TRAINING: 4.261; VALIDATION: 4.598\n"
     ]
    },
    {
     "name": "stderr",
     "output_type": "stream",
     "text": [
      "100%|██████████| 78/78 [01:08<00:00,  1.14it/s]\n",
      "100%|██████████| 5/5 [00:06<00:00,  1.30s/it]\n"
     ]
    },
    {
     "name": "stdout",
     "output_type": "stream",
     "text": [
      "Epoch: 7; TRAINING: 4.213; VALIDATION: 4.442\n"
     ]
    },
    {
     "name": "stderr",
     "output_type": "stream",
     "text": [
      "100%|██████████| 78/78 [01:08<00:00,  1.14it/s]\n",
      "100%|██████████| 5/5 [00:06<00:00,  1.30s/it]\n"
     ]
    },
    {
     "name": "stdout",
     "output_type": "stream",
     "text": [
      "Epoch: 8; TRAINING: 4.177; VALIDATION: 4.302\n"
     ]
    },
    {
     "name": "stderr",
     "output_type": "stream",
     "text": [
      "100%|██████████| 78/78 [01:08<00:00,  1.15it/s]\n",
      "100%|██████████| 5/5 [00:06<00:00,  1.29s/it]\n"
     ]
    },
    {
     "name": "stdout",
     "output_type": "stream",
     "text": [
      "Epoch: 9; TRAINING: 4.147; VALIDATION: 4.205\n",
      "\n",
      "\n",
      "Result:\n",
      "Epoch: 0; TRAINING: 4.896; VALIDATION: 4.920\n",
      "Epoch: 1; TRAINING: 4.803; VALIDATION: 4.920\n",
      "Epoch: 2; TRAINING: 4.673; VALIDATION: 4.920\n",
      "Epoch: 3; TRAINING: 4.541; VALIDATION: 4.919\n",
      "Epoch: 4; TRAINING: 4.417; VALIDATION: 4.889\n",
      "Epoch: 5; TRAINING: 4.324; VALIDATION: 4.783\n",
      "Epoch: 6; TRAINING: 4.256; VALIDATION: 4.612\n",
      "Epoch: 7; TRAINING: 4.209; VALIDATION: 4.437\n",
      "Epoch: 8; TRAINING: 4.173; VALIDATION: 4.321\n",
      "Epoch: 9; TRAINING: 4.144; VALIDATION: 4.227\n"
     ]
    }
   ],
   "source": [
    "def seed_worker(worker_id):\n",
    "    \"\"\"\n",
    "    https://pytorch.org/docs/stable/notes/randomness.html\n",
    "    \"\"\"\n",
    "    worker_seed = torch.initial_seed() % 2**32\n",
    "    np.random.seed(worker_seed)\n",
    "    random.seed(worker_seed)\n",
    "\n",
    "\n",
    "cv = 1\n",
    "\n",
    "STATISTICS = {}\n",
    "STATISTICS['TRAIN'] = np.zeros((EPOCHS, CV))\n",
    "STATISTICS['VALIDATION'] = np.zeros((EPOCHS, CV))\n",
    "\n",
    "# Reference for Cross-Validation: https://www.machinecurve.com/index.php/2021/02/03/how-to-use-k-fold-cross-validation-with-pytorch/\n",
    "for train, val in KFold(n_splits=CV, shuffle=True, random_state=SEED).split(images_train):\n",
    "    print(\"Run {} of {}.\".format(cv, CV))\n",
    "\n",
    "    g = torch.Generator()\n",
    "    g.manual_seed(SEED)\n",
    "    train_subsampler = torch.utils.data.SubsetRandomSampler(train, generator=g)\n",
    "\n",
    "    g = torch.Generator()\n",
    "    g.manual_seed(SEED)\n",
    "    val_subsampler = torch.utils.data.SubsetRandomSampler(val, generator=g)\n",
    "\n",
    "    # Data\n",
    "    g = torch.Generator()\n",
    "    g.manual_seed(SEED)\n",
    "    train_data_loader = torch.utils.data.DataLoader(images_train, batch_size=BATCH_SIZE, sampler=train_subsampler, worker_init_fn=seed_worker, generator=g, num_workers=2)\n",
    "\n",
    "    g = torch.Generator()\n",
    "    g.manual_seed(SEED)\n",
    "    val_data_loader = torch.utils.data.DataLoader(images_train, batch_size=TEST_BATCH_SIZE, sampler=val_subsampler, worker_init_fn=seed_worker, generator=g, num_workers=2)\n",
    "\n",
    "    # Model\n",
    "    model = EfficientNeuralNet(NET)\n",
    "    model = model.cuda()\n",
    "\n",
    "    optimizer = torch.optim.Adam(model.parameters(), lr=LEARNING_RATE)\n",
    "\n",
    "    if SCHEDULER:\n",
    "        scheduler = torch.optim.lr_scheduler.StepLR(optimizer, step_size=2, gamma=0.1)\n",
    "\n",
    "    BEST_LogLoss = np.inf\n",
    "\n",
    "    for epoch in range(EPOCHS):\n",
    "        train_loss = training(train_data_loader, model, optimizer)\n",
    "        val_loss = evaluation(val_data_loader, model)\n",
    "\n",
    "        if SCHEDULER:\n",
    "            scheduler.step()\n",
    "\n",
    "        if BEST_LogLoss > val_loss:\n",
    "            torch.save(model.state_dict(), '/content/model_' + str(cv) + '.pt')\n",
    "            BEST_LogLoss = val_loss\n",
    "\n",
    "        if VERBOSE:\n",
    "            print(\"Epoch: {}; TRAINING: {:.3f}; VALIDATION: {:.3f}\".format(epoch, train_loss, val_loss))\n",
    "\n",
    "        STATISTICS['TRAIN'][epoch, cv-1] = train_loss\n",
    "        STATISTICS['VALIDATION'][epoch, cv-1] = val_loss\n",
    "\n",
    "    del BEST_LogLoss, train_loss, val_loss, model, train_subsampler, train_data_loader, val_subsampler, val_data_loader\n",
    "    gc.collect()\n",
    "    torch.cuda.synchronize()\n",
    "    torch.cuda.empty_cache()\n",
    "\n",
    "    print(\"\\n\")\n",
    "    cv += 1\n",
    "\n",
    "print(\"Result:\")\n",
    "for epoch in range(EPOCHS):\n",
    "    print(\"Epoch: {}; TRAINING: {:.3f}; VALIDATION: {:.3f}\".format(epoch, np.mean(STATISTICS['TRAIN'][epoch, :]), np.mean(STATISTICS['VALIDATION'][epoch, :])))"
   ]
  },
  {
   "cell_type": "markdown",
   "metadata": {
    "id": "-xDEcyQ_exzc"
   },
   "source": [
    "## 4 Prediction and Submission"
   ]
  },
  {
   "cell_type": "code",
   "execution_count": 12,
   "metadata": {
    "executionInfo": {
     "elapsed": 27,
     "status": "ok",
     "timestamp": 1633299901285,
     "user": {
      "displayName": "Andreas Schmitt",
      "photoUrl": "https://lh3.googleusercontent.com/a/default-user=s64",
      "userId": "08919543814682882005"
     },
     "user_tz": -120
    },
    "id": "UaY0hlDsKcQB"
   },
   "outputs": [],
   "source": [
    "# We must use the order of sample_submission_csv instead of an alphabetical order.\n",
    "classes = images_train.class_to_idx\n",
    "columns = list(sample_submission_csv.columns)[1:]\n",
    "\n",
    "# Reference for next 2 lines: https://stackoverflow.com/questions/21773866/how-to-sort-a-dictionary-based-on-a-list-in-python\n",
    "sample_submission_csv_dict = {key: i for i, key in enumerate(columns)}\n",
    "order = sorted(classes.items(), key=lambda pair:sample_submission_csv_dict[pair[0]])\n",
    "indices = [order[i][1] for i in range(len(order))]"
   ]
  },
  {
   "cell_type": "code",
   "execution_count": 13,
   "metadata": {
    "colab": {
     "base_uri": "https://localhost:8080/"
    },
    "executionInfo": {
     "elapsed": 614438,
     "status": "ok",
     "timestamp": 1633300515708,
     "user": {
      "displayName": "Andreas Schmitt",
      "photoUrl": "https://lh3.googleusercontent.com/a/default-user=s64",
      "userId": "08919543814682882005"
     },
     "user_tz": -120
    },
    "id": "KjcZB8O3e1H4",
    "outputId": "d6492fc4-2dfc-4c5c-e5db-8a22b80b162a"
   },
   "outputs": [
    {
     "name": "stdout",
     "output_type": "stream",
     "text": [
      "Loaded pretrained weights for efficientnet-b1\n"
     ]
    },
    {
     "name": "stderr",
     "output_type": "stream",
     "text": [
      "100%|██████████| 12/12 [09:17<00:00, 46.44s/it]\n"
     ]
    },
    {
     "name": "stdout",
     "output_type": "stream",
     "text": [
      "Loaded pretrained weights for efficientnet-b1\n"
     ]
    },
    {
     "name": "stderr",
     "output_type": "stream",
     "text": [
      "100%|██████████| 12/12 [00:12<00:00,  1.07s/it]\n"
     ]
    },
    {
     "name": "stdout",
     "output_type": "stream",
     "text": [
      "Loaded pretrained weights for efficientnet-b1\n"
     ]
    },
    {
     "name": "stderr",
     "output_type": "stream",
     "text": [
      "100%|██████████| 12/12 [00:12<00:00,  1.07s/it]\n"
     ]
    },
    {
     "name": "stdout",
     "output_type": "stream",
     "text": [
      "Loaded pretrained weights for efficientnet-b1\n"
     ]
    },
    {
     "name": "stderr",
     "output_type": "stream",
     "text": [
      "100%|██████████| 12/12 [00:12<00:00,  1.08s/it]\n"
     ]
    },
    {
     "name": "stdout",
     "output_type": "stream",
     "text": [
      "Loaded pretrained weights for efficientnet-b1\n"
     ]
    },
    {
     "name": "stderr",
     "output_type": "stream",
     "text": [
      "100%|██████████| 12/12 [00:12<00:00,  1.08s/it]\n"
     ]
    }
   ],
   "source": [
    "predictions = torch.zeros(len(sample_submission_csv), CLASSES)\n",
    "\n",
    "for cv in range(CV):\n",
    "    # Data\n",
    "    g = torch.Generator()\n",
    "    g.manual_seed(SEED)\n",
    "    TEST_SET = TestDataset(images)\n",
    "    test_data_loader = torch.utils.data.DataLoader(TEST_SET, batch_size = TEST_BATCH_SIZE, worker_init_fn=seed_worker, generator=g, num_workers=2)\n",
    "\n",
    "    # Model\n",
    "    model = EfficientNeuralNet(NET)\n",
    "    model.load_state_dict(torch.load('/content/model_' + str(cv + 1) + '.pt'))\n",
    "    model = model.cuda()\n",
    "\n",
    "    # Prediction\n",
    "    outputs = prediction(test_data_loader, model)\n",
    "    predictions += outputs\n",
    "\n",
    "    del model, TEST_SET, test_data_loader, outputs\n",
    "\n",
    "    gc.collect()\n",
    "    torch.cuda.synchronize()\n",
    "    torch.cuda.empty_cache()\n",
    "\n",
    "    predictions /= CV\n",
    "    sample_submission_csv.iloc[:, 1:] = torch.index_select(predictions, 1, torch.tensor(indices))\n",
    "\n",
    "os.mkdir(WD + '/Submission/' + str(VERSION)) \n",
    "sample_submission_csv.to_csv(WD + '/Submission/' + str(VERSION) + '/submission.csv', index=False)"
   ]
  },
  {
   "cell_type": "code",
   "execution_count": 14,
   "metadata": {
    "colab": {
     "base_uri": "https://localhost:8080/",
     "height": 461
    },
    "executionInfo": {
     "elapsed": 39,
     "status": "ok",
     "timestamp": 1633300515712,
     "user": {
      "displayName": "Andreas Schmitt",
      "photoUrl": "https://lh3.googleusercontent.com/a/default-user=s64",
      "userId": "08919543814682882005"
     },
     "user_tz": -120
    },
    "id": "92GfkWKV2KOI",
    "outputId": "69a8e8c9-541c-4fbc-880b-9b9417a1ce87"
   },
   "outputs": [
    {
     "data": {
      "text/html": [
       "<div>\n",
       "<style scoped>\n",
       "    .dataframe tbody tr th:only-of-type {\n",
       "        vertical-align: middle;\n",
       "    }\n",
       "\n",
       "    .dataframe tbody tr th {\n",
       "        vertical-align: top;\n",
       "    }\n",
       "\n",
       "    .dataframe thead th {\n",
       "        text-align: right;\n",
       "    }\n",
       "</style>\n",
       "<table border=\"1\" class=\"dataframe\">\n",
       "  <thead>\n",
       "    <tr style=\"text-align: right;\">\n",
       "      <th></th>\n",
       "      <th>FILE</th>\n",
       "      <th>Pteraster_capensis</th>\n",
       "      <th>Porifera</th>\n",
       "      <th>Astropecten_irregularis_pontoporeus</th>\n",
       "      <th>Terebratulina_sp_</th>\n",
       "      <th>Neolithodes_asperrimus</th>\n",
       "      <th>Munida_benguela</th>\n",
       "      <th>Cypraeovula_iutsui</th>\n",
       "      <th>Kaloplocamus_ramosus</th>\n",
       "      <th>Actinoscyphia_plebeia</th>\n",
       "      <th>Echinus_gilchristi</th>\n",
       "      <th>Synallactes_viridilimus</th>\n",
       "      <th>Eleutherobia_variable</th>\n",
       "      <th>Neopilumnoplax_heterochir</th>\n",
       "      <th>Pleurobranchaea_bubala</th>\n",
       "      <th>Pagurus_cuanensis</th>\n",
       "      <th>Parapagurus_bouvieri</th>\n",
       "      <th>Inachidae</th>\n",
       "      <th>Pseudarchaster_tessellatus</th>\n",
       "      <th>Pasiphaea_sp._1</th>\n",
       "      <th>Suberites_dandelenae</th>\n",
       "      <th>Comitas_saldanhae</th>\n",
       "      <th>Poraniopsis_echinaster</th>\n",
       "      <th>Pterygosquilla_capensis</th>\n",
       "      <th>Holothuroidea</th>\n",
       "      <th>Exodromidia_spinosa</th>\n",
       "      <th>Aristeus_varidens</th>\n",
       "      <th>Philinopsis_capensis</th>\n",
       "      <th>Vitjazmaia_latidactyla</th>\n",
       "      <th>Perissasterias_polyacantha</th>\n",
       "      <th>Ascidiacea</th>\n",
       "      <th>Toraster_tuberculatus</th>\n",
       "      <th>Nudibranchia</th>\n",
       "      <th>Mediaster_bairdi_capensis</th>\n",
       "      <th>Limopsis_chuni</th>\n",
       "      <th>Comitas_stolida</th>\n",
       "      <th>Psilaster_acuminatus</th>\n",
       "      <th>Lithodes_ferox</th>\n",
       "      <th>Hermit_crab</th>\n",
       "      <th>Solenocera_africana</th>\n",
       "      <th>...</th>\n",
       "      <th>Ophiura_costata_costata</th>\n",
       "      <th>Pelagia_noctiluca</th>\n",
       "      <th>Sclerasterias_spp</th>\n",
       "      <th>Stylasteridae</th>\n",
       "      <th>Fusivoluta_pyrrhostoma</th>\n",
       "      <th>Actinoptilum_molle</th>\n",
       "      <th>Pseudarchaster_brachyactis</th>\n",
       "      <th>Nassarius speciosus</th>\n",
       "      <th>Chondraster_elattosis</th>\n",
       "      <th>Ophiothrix_aristulata</th>\n",
       "      <th>Aphelodoris_sp_</th>\n",
       "      <th>Fusinus_africanae</th>\n",
       "      <th>Scaphander_punctostriatus</th>\n",
       "      <th>Polychaete_tubes_(only)</th>\n",
       "      <th>Polychaete_worms</th>\n",
       "      <th>Polyechinus_agulhensis</th>\n",
       "      <th>Chrysaora_spp</th>\n",
       "      <th>Projasus_parkeri</th>\n",
       "      <th>Lamellaria_Coriocella_spp</th>\n",
       "      <th>Hippasteria_phrygiana</th>\n",
       "      <th>Mursia_cristiata</th>\n",
       "      <th>Prawns</th>\n",
       "      <th>Nassarius_vinctus</th>\n",
       "      <th>Marthasterias_africana</th>\n",
       "      <th>Goneplax_clevai</th>\n",
       "      <th>Alcyonacea</th>\n",
       "      <th>Athleta_lutosa</th>\n",
       "      <th>Pseudodromia_spp_</th>\n",
       "      <th>Rochinia_hertwigi</th>\n",
       "      <th>Africolaria_rutila</th>\n",
       "      <th>Neptuneopsis_gilchristi</th>\n",
       "      <th>Pseudodromia_rotunda</th>\n",
       "      <th>Pecten_sulcicostatus</th>\n",
       "      <th>Plesionika_martia</th>\n",
       "      <th>Rossella_antarctica</th>\n",
       "      <th>Philine_aperta</th>\n",
       "      <th>Mycale_anisochela</th>\n",
       "      <th>Henricia_abyssalis</th>\n",
       "      <th>Triviella_spp_</th>\n",
       "      <th>Cheilostomatida</th>\n",
       "    </tr>\n",
       "  </thead>\n",
       "  <tbody>\n",
       "    <tr>\n",
       "      <th>0</th>\n",
       "      <td>FNDG3L9.jpeg</td>\n",
       "      <td>0.249517</td>\n",
       "      <td>0.213903</td>\n",
       "      <td>0.030718</td>\n",
       "      <td>0.001101</td>\n",
       "      <td>0.004696</td>\n",
       "      <td>0.007740</td>\n",
       "      <td>0.003627</td>\n",
       "      <td>0.015765</td>\n",
       "      <td>0.011668</td>\n",
       "      <td>0.080681</td>\n",
       "      <td>0.000754</td>\n",
       "      <td>0.003635</td>\n",
       "      <td>0.000432</td>\n",
       "      <td>0.168747</td>\n",
       "      <td>0.005099</td>\n",
       "      <td>0.001255</td>\n",
       "      <td>0.000107</td>\n",
       "      <td>0.031553</td>\n",
       "      <td>0.000170</td>\n",
       "      <td>0.007085</td>\n",
       "      <td>0.001268</td>\n",
       "      <td>0.014753</td>\n",
       "      <td>0.000889</td>\n",
       "      <td>0.000390</td>\n",
       "      <td>0.000151</td>\n",
       "      <td>0.017144</td>\n",
       "      <td>0.118255</td>\n",
       "      <td>0.003542</td>\n",
       "      <td>0.004703</td>\n",
       "      <td>0.106318</td>\n",
       "      <td>0.246295</td>\n",
       "      <td>0.000689</td>\n",
       "      <td>0.075934</td>\n",
       "      <td>0.005836</td>\n",
       "      <td>0.002066</td>\n",
       "      <td>0.004801</td>\n",
       "      <td>0.000867</td>\n",
       "      <td>0.004722</td>\n",
       "      <td>0.008419</td>\n",
       "      <td>...</td>\n",
       "      <td>0.067296</td>\n",
       "      <td>0.005597</td>\n",
       "      <td>0.005343</td>\n",
       "      <td>0.002250</td>\n",
       "      <td>0.007737</td>\n",
       "      <td>0.008930</td>\n",
       "      <td>0.057677</td>\n",
       "      <td>0.015629</td>\n",
       "      <td>0.174614</td>\n",
       "      <td>0.001553</td>\n",
       "      <td>0.001018</td>\n",
       "      <td>0.007043</td>\n",
       "      <td>0.001354</td>\n",
       "      <td>0.000176</td>\n",
       "      <td>0.005431</td>\n",
       "      <td>0.024917</td>\n",
       "      <td>0.003638</td>\n",
       "      <td>0.000537</td>\n",
       "      <td>0.008886</td>\n",
       "      <td>0.016164</td>\n",
       "      <td>0.003990</td>\n",
       "      <td>0.003806</td>\n",
       "      <td>0.001220</td>\n",
       "      <td>0.000085</td>\n",
       "      <td>0.011041</td>\n",
       "      <td>0.045214</td>\n",
       "      <td>0.003020</td>\n",
       "      <td>0.010357</td>\n",
       "      <td>0.000324</td>\n",
       "      <td>0.000664</td>\n",
       "      <td>0.000304</td>\n",
       "      <td>0.001276</td>\n",
       "      <td>0.010278</td>\n",
       "      <td>0.000233</td>\n",
       "      <td>0.003981</td>\n",
       "      <td>0.001831</td>\n",
       "      <td>0.005870</td>\n",
       "      <td>0.039728</td>\n",
       "      <td>0.000951</td>\n",
       "      <td>0.000237</td>\n",
       "    </tr>\n",
       "    <tr>\n",
       "      <th>1</th>\n",
       "      <td>0RASRVM.jpeg</td>\n",
       "      <td>0.248185</td>\n",
       "      <td>0.220635</td>\n",
       "      <td>0.012700</td>\n",
       "      <td>0.003110</td>\n",
       "      <td>0.000696</td>\n",
       "      <td>0.009705</td>\n",
       "      <td>0.003798</td>\n",
       "      <td>0.004873</td>\n",
       "      <td>0.008523</td>\n",
       "      <td>0.150040</td>\n",
       "      <td>0.001165</td>\n",
       "      <td>0.012905</td>\n",
       "      <td>0.000470</td>\n",
       "      <td>0.162974</td>\n",
       "      <td>0.003733</td>\n",
       "      <td>0.000282</td>\n",
       "      <td>0.000254</td>\n",
       "      <td>0.018976</td>\n",
       "      <td>0.000272</td>\n",
       "      <td>0.002401</td>\n",
       "      <td>0.002490</td>\n",
       "      <td>0.030871</td>\n",
       "      <td>0.000394</td>\n",
       "      <td>0.001194</td>\n",
       "      <td>0.000774</td>\n",
       "      <td>0.004808</td>\n",
       "      <td>0.073316</td>\n",
       "      <td>0.003926</td>\n",
       "      <td>0.002912</td>\n",
       "      <td>0.052293</td>\n",
       "      <td>0.207338</td>\n",
       "      <td>0.001303</td>\n",
       "      <td>0.092887</td>\n",
       "      <td>0.018312</td>\n",
       "      <td>0.001527</td>\n",
       "      <td>0.001244</td>\n",
       "      <td>0.000193</td>\n",
       "      <td>0.003151</td>\n",
       "      <td>0.000508</td>\n",
       "      <td>...</td>\n",
       "      <td>0.042068</td>\n",
       "      <td>0.010247</td>\n",
       "      <td>0.002398</td>\n",
       "      <td>0.002293</td>\n",
       "      <td>0.003522</td>\n",
       "      <td>0.009217</td>\n",
       "      <td>0.045123</td>\n",
       "      <td>0.010360</td>\n",
       "      <td>0.120103</td>\n",
       "      <td>0.002097</td>\n",
       "      <td>0.001669</td>\n",
       "      <td>0.007404</td>\n",
       "      <td>0.000276</td>\n",
       "      <td>0.000193</td>\n",
       "      <td>0.003274</td>\n",
       "      <td>0.097616</td>\n",
       "      <td>0.012205</td>\n",
       "      <td>0.001238</td>\n",
       "      <td>0.004142</td>\n",
       "      <td>0.009446</td>\n",
       "      <td>0.003323</td>\n",
       "      <td>0.008590</td>\n",
       "      <td>0.001854</td>\n",
       "      <td>0.000136</td>\n",
       "      <td>0.003733</td>\n",
       "      <td>0.041899</td>\n",
       "      <td>0.005470</td>\n",
       "      <td>0.003095</td>\n",
       "      <td>0.000691</td>\n",
       "      <td>0.000395</td>\n",
       "      <td>0.000602</td>\n",
       "      <td>0.002619</td>\n",
       "      <td>0.019650</td>\n",
       "      <td>0.000852</td>\n",
       "      <td>0.011896</td>\n",
       "      <td>0.001305</td>\n",
       "      <td>0.037324</td>\n",
       "      <td>0.011939</td>\n",
       "      <td>0.000890</td>\n",
       "      <td>0.000709</td>\n",
       "    </tr>\n",
       "    <tr>\n",
       "      <th>2</th>\n",
       "      <td>JMXLWAX.jpeg</td>\n",
       "      <td>0.246907</td>\n",
       "      <td>0.241164</td>\n",
       "      <td>0.011288</td>\n",
       "      <td>0.000936</td>\n",
       "      <td>0.000805</td>\n",
       "      <td>0.001521</td>\n",
       "      <td>0.000471</td>\n",
       "      <td>0.000890</td>\n",
       "      <td>0.008200</td>\n",
       "      <td>0.074137</td>\n",
       "      <td>0.000334</td>\n",
       "      <td>0.003800</td>\n",
       "      <td>0.000069</td>\n",
       "      <td>0.124202</td>\n",
       "      <td>0.000765</td>\n",
       "      <td>0.000111</td>\n",
       "      <td>0.000181</td>\n",
       "      <td>0.019144</td>\n",
       "      <td>0.000086</td>\n",
       "      <td>0.004785</td>\n",
       "      <td>0.004406</td>\n",
       "      <td>0.026109</td>\n",
       "      <td>0.000100</td>\n",
       "      <td>0.000177</td>\n",
       "      <td>0.000310</td>\n",
       "      <td>0.000224</td>\n",
       "      <td>0.006192</td>\n",
       "      <td>0.001931</td>\n",
       "      <td>0.000775</td>\n",
       "      <td>0.041116</td>\n",
       "      <td>0.226712</td>\n",
       "      <td>0.000242</td>\n",
       "      <td>0.085600</td>\n",
       "      <td>0.002732</td>\n",
       "      <td>0.000908</td>\n",
       "      <td>0.001009</td>\n",
       "      <td>0.000072</td>\n",
       "      <td>0.000699</td>\n",
       "      <td>0.000196</td>\n",
       "      <td>...</td>\n",
       "      <td>0.096381</td>\n",
       "      <td>0.002329</td>\n",
       "      <td>0.001025</td>\n",
       "      <td>0.002637</td>\n",
       "      <td>0.000659</td>\n",
       "      <td>0.000578</td>\n",
       "      <td>0.076276</td>\n",
       "      <td>0.006614</td>\n",
       "      <td>0.094081</td>\n",
       "      <td>0.000202</td>\n",
       "      <td>0.000129</td>\n",
       "      <td>0.001732</td>\n",
       "      <td>0.000090</td>\n",
       "      <td>0.000169</td>\n",
       "      <td>0.002150</td>\n",
       "      <td>0.070869</td>\n",
       "      <td>0.001852</td>\n",
       "      <td>0.000044</td>\n",
       "      <td>0.007819</td>\n",
       "      <td>0.010276</td>\n",
       "      <td>0.000516</td>\n",
       "      <td>0.000569</td>\n",
       "      <td>0.000159</td>\n",
       "      <td>0.000038</td>\n",
       "      <td>0.000765</td>\n",
       "      <td>0.033129</td>\n",
       "      <td>0.000859</td>\n",
       "      <td>0.001578</td>\n",
       "      <td>0.001429</td>\n",
       "      <td>0.000279</td>\n",
       "      <td>0.000494</td>\n",
       "      <td>0.000829</td>\n",
       "      <td>0.007589</td>\n",
       "      <td>0.000070</td>\n",
       "      <td>0.011055</td>\n",
       "      <td>0.000621</td>\n",
       "      <td>0.073624</td>\n",
       "      <td>0.007117</td>\n",
       "      <td>0.000839</td>\n",
       "      <td>0.000235</td>\n",
       "    </tr>\n",
       "    <tr>\n",
       "      <th>3</th>\n",
       "      <td>CV8FWT2.jpeg</td>\n",
       "      <td>0.243212</td>\n",
       "      <td>0.202613</td>\n",
       "      <td>0.036235</td>\n",
       "      <td>0.005761</td>\n",
       "      <td>0.003844</td>\n",
       "      <td>0.010522</td>\n",
       "      <td>0.001825</td>\n",
       "      <td>0.002721</td>\n",
       "      <td>0.037575</td>\n",
       "      <td>0.022500</td>\n",
       "      <td>0.004207</td>\n",
       "      <td>0.001274</td>\n",
       "      <td>0.000214</td>\n",
       "      <td>0.033990</td>\n",
       "      <td>0.001943</td>\n",
       "      <td>0.000428</td>\n",
       "      <td>0.000469</td>\n",
       "      <td>0.086723</td>\n",
       "      <td>0.001613</td>\n",
       "      <td>0.017218</td>\n",
       "      <td>0.002034</td>\n",
       "      <td>0.031783</td>\n",
       "      <td>0.000704</td>\n",
       "      <td>0.000254</td>\n",
       "      <td>0.000231</td>\n",
       "      <td>0.006729</td>\n",
       "      <td>0.017762</td>\n",
       "      <td>0.005041</td>\n",
       "      <td>0.011974</td>\n",
       "      <td>0.061096</td>\n",
       "      <td>0.236148</td>\n",
       "      <td>0.000357</td>\n",
       "      <td>0.147429</td>\n",
       "      <td>0.004925</td>\n",
       "      <td>0.003223</td>\n",
       "      <td>0.013972</td>\n",
       "      <td>0.000229</td>\n",
       "      <td>0.000681</td>\n",
       "      <td>0.000785</td>\n",
       "      <td>...</td>\n",
       "      <td>0.178260</td>\n",
       "      <td>0.015292</td>\n",
       "      <td>0.012209</td>\n",
       "      <td>0.003332</td>\n",
       "      <td>0.000873</td>\n",
       "      <td>0.003679</td>\n",
       "      <td>0.156110</td>\n",
       "      <td>0.018759</td>\n",
       "      <td>0.180956</td>\n",
       "      <td>0.000947</td>\n",
       "      <td>0.000290</td>\n",
       "      <td>0.002234</td>\n",
       "      <td>0.000466</td>\n",
       "      <td>0.000556</td>\n",
       "      <td>0.008684</td>\n",
       "      <td>0.026354</td>\n",
       "      <td>0.004120</td>\n",
       "      <td>0.000866</td>\n",
       "      <td>0.022304</td>\n",
       "      <td>0.027800</td>\n",
       "      <td>0.001362</td>\n",
       "      <td>0.005028</td>\n",
       "      <td>0.000347</td>\n",
       "      <td>0.000262</td>\n",
       "      <td>0.011091</td>\n",
       "      <td>0.008041</td>\n",
       "      <td>0.003934</td>\n",
       "      <td>0.008077</td>\n",
       "      <td>0.000763</td>\n",
       "      <td>0.000483</td>\n",
       "      <td>0.000745</td>\n",
       "      <td>0.001424</td>\n",
       "      <td>0.007477</td>\n",
       "      <td>0.001054</td>\n",
       "      <td>0.018518</td>\n",
       "      <td>0.002823</td>\n",
       "      <td>0.058277</td>\n",
       "      <td>0.059979</td>\n",
       "      <td>0.000800</td>\n",
       "      <td>0.000693</td>\n",
       "    </tr>\n",
       "    <tr>\n",
       "      <th>4</th>\n",
       "      <td>V34APYI.jpeg</td>\n",
       "      <td>0.242660</td>\n",
       "      <td>0.124400</td>\n",
       "      <td>0.023815</td>\n",
       "      <td>0.007800</td>\n",
       "      <td>0.007322</td>\n",
       "      <td>0.009010</td>\n",
       "      <td>0.012017</td>\n",
       "      <td>0.033323</td>\n",
       "      <td>0.036708</td>\n",
       "      <td>0.037164</td>\n",
       "      <td>0.005823</td>\n",
       "      <td>0.005717</td>\n",
       "      <td>0.001427</td>\n",
       "      <td>0.082924</td>\n",
       "      <td>0.005317</td>\n",
       "      <td>0.001901</td>\n",
       "      <td>0.001305</td>\n",
       "      <td>0.058132</td>\n",
       "      <td>0.000921</td>\n",
       "      <td>0.007761</td>\n",
       "      <td>0.007398</td>\n",
       "      <td>0.058731</td>\n",
       "      <td>0.001065</td>\n",
       "      <td>0.000599</td>\n",
       "      <td>0.001452</td>\n",
       "      <td>0.008949</td>\n",
       "      <td>0.048252</td>\n",
       "      <td>0.005979</td>\n",
       "      <td>0.005869</td>\n",
       "      <td>0.070172</td>\n",
       "      <td>0.218981</td>\n",
       "      <td>0.001437</td>\n",
       "      <td>0.085687</td>\n",
       "      <td>0.007342</td>\n",
       "      <td>0.006017</td>\n",
       "      <td>0.018440</td>\n",
       "      <td>0.001378</td>\n",
       "      <td>0.002655</td>\n",
       "      <td>0.007206</td>\n",
       "      <td>...</td>\n",
       "      <td>0.184597</td>\n",
       "      <td>0.015921</td>\n",
       "      <td>0.012556</td>\n",
       "      <td>0.005745</td>\n",
       "      <td>0.004423</td>\n",
       "      <td>0.006534</td>\n",
       "      <td>0.154550</td>\n",
       "      <td>0.044971</td>\n",
       "      <td>0.134846</td>\n",
       "      <td>0.001899</td>\n",
       "      <td>0.003394</td>\n",
       "      <td>0.006067</td>\n",
       "      <td>0.004169</td>\n",
       "      <td>0.000523</td>\n",
       "      <td>0.012591</td>\n",
       "      <td>0.012789</td>\n",
       "      <td>0.005070</td>\n",
       "      <td>0.001047</td>\n",
       "      <td>0.067742</td>\n",
       "      <td>0.049104</td>\n",
       "      <td>0.002910</td>\n",
       "      <td>0.005671</td>\n",
       "      <td>0.003724</td>\n",
       "      <td>0.000477</td>\n",
       "      <td>0.005548</td>\n",
       "      <td>0.019156</td>\n",
       "      <td>0.005177</td>\n",
       "      <td>0.050466</td>\n",
       "      <td>0.002529</td>\n",
       "      <td>0.001298</td>\n",
       "      <td>0.002856</td>\n",
       "      <td>0.021539</td>\n",
       "      <td>0.026018</td>\n",
       "      <td>0.001667</td>\n",
       "      <td>0.030164</td>\n",
       "      <td>0.006480</td>\n",
       "      <td>0.036121</td>\n",
       "      <td>0.057865</td>\n",
       "      <td>0.002985</td>\n",
       "      <td>0.001117</td>\n",
       "    </tr>\n",
       "    <tr>\n",
       "      <th>...</th>\n",
       "      <td>...</td>\n",
       "      <td>...</td>\n",
       "      <td>...</td>\n",
       "      <td>...</td>\n",
       "      <td>...</td>\n",
       "      <td>...</td>\n",
       "      <td>...</td>\n",
       "      <td>...</td>\n",
       "      <td>...</td>\n",
       "      <td>...</td>\n",
       "      <td>...</td>\n",
       "      <td>...</td>\n",
       "      <td>...</td>\n",
       "      <td>...</td>\n",
       "      <td>...</td>\n",
       "      <td>...</td>\n",
       "      <td>...</td>\n",
       "      <td>...</td>\n",
       "      <td>...</td>\n",
       "      <td>...</td>\n",
       "      <td>...</td>\n",
       "      <td>...</td>\n",
       "      <td>...</td>\n",
       "      <td>...</td>\n",
       "      <td>...</td>\n",
       "      <td>...</td>\n",
       "      <td>...</td>\n",
       "      <td>...</td>\n",
       "      <td>...</td>\n",
       "      <td>...</td>\n",
       "      <td>...</td>\n",
       "      <td>...</td>\n",
       "      <td>...</td>\n",
       "      <td>...</td>\n",
       "      <td>...</td>\n",
       "      <td>...</td>\n",
       "      <td>...</td>\n",
       "      <td>...</td>\n",
       "      <td>...</td>\n",
       "      <td>...</td>\n",
       "      <td>...</td>\n",
       "      <td>...</td>\n",
       "      <td>...</td>\n",
       "      <td>...</td>\n",
       "      <td>...</td>\n",
       "      <td>...</td>\n",
       "      <td>...</td>\n",
       "      <td>...</td>\n",
       "      <td>...</td>\n",
       "      <td>...</td>\n",
       "      <td>...</td>\n",
       "      <td>...</td>\n",
       "      <td>...</td>\n",
       "      <td>...</td>\n",
       "      <td>...</td>\n",
       "      <td>...</td>\n",
       "      <td>...</td>\n",
       "      <td>...</td>\n",
       "      <td>...</td>\n",
       "      <td>...</td>\n",
       "      <td>...</td>\n",
       "      <td>...</td>\n",
       "      <td>...</td>\n",
       "      <td>...</td>\n",
       "      <td>...</td>\n",
       "      <td>...</td>\n",
       "      <td>...</td>\n",
       "      <td>...</td>\n",
       "      <td>...</td>\n",
       "      <td>...</td>\n",
       "      <td>...</td>\n",
       "      <td>...</td>\n",
       "      <td>...</td>\n",
       "      <td>...</td>\n",
       "      <td>...</td>\n",
       "      <td>...</td>\n",
       "      <td>...</td>\n",
       "      <td>...</td>\n",
       "      <td>...</td>\n",
       "      <td>...</td>\n",
       "      <td>...</td>\n",
       "    </tr>\n",
       "    <tr>\n",
       "      <th>1418</th>\n",
       "      <td>78Z21N4.jpeg</td>\n",
       "      <td>0.003214</td>\n",
       "      <td>0.236549</td>\n",
       "      <td>0.000832</td>\n",
       "      <td>0.003752</td>\n",
       "      <td>0.000055</td>\n",
       "      <td>0.000301</td>\n",
       "      <td>0.000923</td>\n",
       "      <td>0.000191</td>\n",
       "      <td>0.002704</td>\n",
       "      <td>0.020680</td>\n",
       "      <td>0.000699</td>\n",
       "      <td>0.012510</td>\n",
       "      <td>0.000056</td>\n",
       "      <td>0.012338</td>\n",
       "      <td>0.001770</td>\n",
       "      <td>0.000424</td>\n",
       "      <td>0.009587</td>\n",
       "      <td>0.032251</td>\n",
       "      <td>0.002825</td>\n",
       "      <td>0.001251</td>\n",
       "      <td>0.006921</td>\n",
       "      <td>0.008611</td>\n",
       "      <td>0.000245</td>\n",
       "      <td>0.010587</td>\n",
       "      <td>0.001724</td>\n",
       "      <td>0.000133</td>\n",
       "      <td>0.000050</td>\n",
       "      <td>0.000542</td>\n",
       "      <td>0.000787</td>\n",
       "      <td>0.034260</td>\n",
       "      <td>0.001460</td>\n",
       "      <td>0.001572</td>\n",
       "      <td>0.009710</td>\n",
       "      <td>0.001173</td>\n",
       "      <td>0.001742</td>\n",
       "      <td>0.004070</td>\n",
       "      <td>0.000922</td>\n",
       "      <td>0.001454</td>\n",
       "      <td>0.000147</td>\n",
       "      <td>...</td>\n",
       "      <td>0.012581</td>\n",
       "      <td>0.004540</td>\n",
       "      <td>0.000652</td>\n",
       "      <td>0.204044</td>\n",
       "      <td>0.000156</td>\n",
       "      <td>0.000791</td>\n",
       "      <td>0.001157</td>\n",
       "      <td>0.001364</td>\n",
       "      <td>0.007524</td>\n",
       "      <td>0.000123</td>\n",
       "      <td>0.001082</td>\n",
       "      <td>0.003140</td>\n",
       "      <td>0.000224</td>\n",
       "      <td>0.010023</td>\n",
       "      <td>0.119762</td>\n",
       "      <td>0.028430</td>\n",
       "      <td>0.003193</td>\n",
       "      <td>0.000052</td>\n",
       "      <td>0.004139</td>\n",
       "      <td>0.001083</td>\n",
       "      <td>0.000179</td>\n",
       "      <td>0.000110</td>\n",
       "      <td>0.000413</td>\n",
       "      <td>0.022722</td>\n",
       "      <td>0.000236</td>\n",
       "      <td>0.020839</td>\n",
       "      <td>0.000801</td>\n",
       "      <td>0.000153</td>\n",
       "      <td>0.006296</td>\n",
       "      <td>0.000749</td>\n",
       "      <td>0.000289</td>\n",
       "      <td>0.009312</td>\n",
       "      <td>0.000619</td>\n",
       "      <td>0.000058</td>\n",
       "      <td>0.017555</td>\n",
       "      <td>0.000211</td>\n",
       "      <td>0.006373</td>\n",
       "      <td>0.003948</td>\n",
       "      <td>0.003788</td>\n",
       "      <td>0.136534</td>\n",
       "    </tr>\n",
       "    <tr>\n",
       "      <th>1419</th>\n",
       "      <td>TKMSA7B.jpeg</td>\n",
       "      <td>0.017978</td>\n",
       "      <td>0.095289</td>\n",
       "      <td>0.039893</td>\n",
       "      <td>0.088006</td>\n",
       "      <td>0.025713</td>\n",
       "      <td>0.032279</td>\n",
       "      <td>0.053175</td>\n",
       "      <td>0.010853</td>\n",
       "      <td>0.040694</td>\n",
       "      <td>0.053834</td>\n",
       "      <td>0.080016</td>\n",
       "      <td>0.027638</td>\n",
       "      <td>0.045723</td>\n",
       "      <td>0.054017</td>\n",
       "      <td>0.024011</td>\n",
       "      <td>0.027575</td>\n",
       "      <td>0.104315</td>\n",
       "      <td>0.095111</td>\n",
       "      <td>0.062799</td>\n",
       "      <td>0.050981</td>\n",
       "      <td>0.092990</td>\n",
       "      <td>0.038444</td>\n",
       "      <td>0.078303</td>\n",
       "      <td>0.136841</td>\n",
       "      <td>0.046858</td>\n",
       "      <td>0.023608</td>\n",
       "      <td>0.013327</td>\n",
       "      <td>0.049901</td>\n",
       "      <td>0.067697</td>\n",
       "      <td>0.131416</td>\n",
       "      <td>0.030826</td>\n",
       "      <td>0.051550</td>\n",
       "      <td>0.059489</td>\n",
       "      <td>0.048983</td>\n",
       "      <td>0.041067</td>\n",
       "      <td>0.072671</td>\n",
       "      <td>0.043000</td>\n",
       "      <td>0.059647</td>\n",
       "      <td>0.018538</td>\n",
       "      <td>...</td>\n",
       "      <td>0.082756</td>\n",
       "      <td>0.054126</td>\n",
       "      <td>0.027401</td>\n",
       "      <td>0.178566</td>\n",
       "      <td>0.047983</td>\n",
       "      <td>0.061918</td>\n",
       "      <td>0.049956</td>\n",
       "      <td>0.052116</td>\n",
       "      <td>0.054627</td>\n",
       "      <td>0.040110</td>\n",
       "      <td>0.064351</td>\n",
       "      <td>0.032811</td>\n",
       "      <td>0.086008</td>\n",
       "      <td>0.037420</td>\n",
       "      <td>0.141220</td>\n",
       "      <td>0.026657</td>\n",
       "      <td>0.076717</td>\n",
       "      <td>0.012434</td>\n",
       "      <td>0.059231</td>\n",
       "      <td>0.050949</td>\n",
       "      <td>0.011811</td>\n",
       "      <td>0.030355</td>\n",
       "      <td>0.073161</td>\n",
       "      <td>0.141019</td>\n",
       "      <td>0.012137</td>\n",
       "      <td>0.072828</td>\n",
       "      <td>0.077010</td>\n",
       "      <td>0.018662</td>\n",
       "      <td>0.035987</td>\n",
       "      <td>0.088822</td>\n",
       "      <td>0.108872</td>\n",
       "      <td>0.042009</td>\n",
       "      <td>0.029111</td>\n",
       "      <td>0.032475</td>\n",
       "      <td>0.057297</td>\n",
       "      <td>0.041726</td>\n",
       "      <td>0.032477</td>\n",
       "      <td>0.133136</td>\n",
       "      <td>0.084474</td>\n",
       "      <td>0.149388</td>\n",
       "    </tr>\n",
       "    <tr>\n",
       "      <th>1420</th>\n",
       "      <td>MQWTDRF.jpeg</td>\n",
       "      <td>0.000985</td>\n",
       "      <td>0.234037</td>\n",
       "      <td>0.002080</td>\n",
       "      <td>0.004889</td>\n",
       "      <td>0.000483</td>\n",
       "      <td>0.001861</td>\n",
       "      <td>0.005591</td>\n",
       "      <td>0.001240</td>\n",
       "      <td>0.015071</td>\n",
       "      <td>0.005674</td>\n",
       "      <td>0.004056</td>\n",
       "      <td>0.010118</td>\n",
       "      <td>0.003445</td>\n",
       "      <td>0.016570</td>\n",
       "      <td>0.006577</td>\n",
       "      <td>0.011170</td>\n",
       "      <td>0.093675</td>\n",
       "      <td>0.038537</td>\n",
       "      <td>0.047979</td>\n",
       "      <td>0.010880</td>\n",
       "      <td>0.009178</td>\n",
       "      <td>0.002308</td>\n",
       "      <td>0.002366</td>\n",
       "      <td>0.015489</td>\n",
       "      <td>0.008672</td>\n",
       "      <td>0.003402</td>\n",
       "      <td>0.000430</td>\n",
       "      <td>0.013198</td>\n",
       "      <td>0.001854</td>\n",
       "      <td>0.012416</td>\n",
       "      <td>0.002874</td>\n",
       "      <td>0.001018</td>\n",
       "      <td>0.010604</td>\n",
       "      <td>0.001936</td>\n",
       "      <td>0.006991</td>\n",
       "      <td>0.018287</td>\n",
       "      <td>0.003706</td>\n",
       "      <td>0.015820</td>\n",
       "      <td>0.002234</td>\n",
       "      <td>...</td>\n",
       "      <td>0.020915</td>\n",
       "      <td>0.012903</td>\n",
       "      <td>0.002597</td>\n",
       "      <td>0.224248</td>\n",
       "      <td>0.000368</td>\n",
       "      <td>0.001034</td>\n",
       "      <td>0.002725</td>\n",
       "      <td>0.002443</td>\n",
       "      <td>0.022154</td>\n",
       "      <td>0.000688</td>\n",
       "      <td>0.006988</td>\n",
       "      <td>0.001653</td>\n",
       "      <td>0.000957</td>\n",
       "      <td>0.058013</td>\n",
       "      <td>0.123728</td>\n",
       "      <td>0.007624</td>\n",
       "      <td>0.014767</td>\n",
       "      <td>0.000398</td>\n",
       "      <td>0.021041</td>\n",
       "      <td>0.002845</td>\n",
       "      <td>0.004969</td>\n",
       "      <td>0.004226</td>\n",
       "      <td>0.000766</td>\n",
       "      <td>0.019925</td>\n",
       "      <td>0.002283</td>\n",
       "      <td>0.010350</td>\n",
       "      <td>0.001544</td>\n",
       "      <td>0.005800</td>\n",
       "      <td>0.129771</td>\n",
       "      <td>0.002825</td>\n",
       "      <td>0.000933</td>\n",
       "      <td>0.047118</td>\n",
       "      <td>0.001170</td>\n",
       "      <td>0.002591</td>\n",
       "      <td>0.037498</td>\n",
       "      <td>0.001013</td>\n",
       "      <td>0.005562</td>\n",
       "      <td>0.004590</td>\n",
       "      <td>0.015325</td>\n",
       "      <td>0.203476</td>\n",
       "    </tr>\n",
       "    <tr>\n",
       "      <th>1421</th>\n",
       "      <td>D55ZXE7.jpeg</td>\n",
       "      <td>0.002430</td>\n",
       "      <td>0.138274</td>\n",
       "      <td>0.003759</td>\n",
       "      <td>0.002202</td>\n",
       "      <td>0.001422</td>\n",
       "      <td>0.010132</td>\n",
       "      <td>0.001536</td>\n",
       "      <td>0.000155</td>\n",
       "      <td>0.012647</td>\n",
       "      <td>0.032819</td>\n",
       "      <td>0.006561</td>\n",
       "      <td>0.002900</td>\n",
       "      <td>0.000295</td>\n",
       "      <td>0.001518</td>\n",
       "      <td>0.008414</td>\n",
       "      <td>0.003526</td>\n",
       "      <td>0.038318</td>\n",
       "      <td>0.028032</td>\n",
       "      <td>0.083896</td>\n",
       "      <td>0.001119</td>\n",
       "      <td>0.022912</td>\n",
       "      <td>0.072594</td>\n",
       "      <td>0.005795</td>\n",
       "      <td>0.052396</td>\n",
       "      <td>0.002041</td>\n",
       "      <td>0.010780</td>\n",
       "      <td>0.000143</td>\n",
       "      <td>0.002970</td>\n",
       "      <td>0.026519</td>\n",
       "      <td>0.005422</td>\n",
       "      <td>0.008136</td>\n",
       "      <td>0.007092</td>\n",
       "      <td>0.006568</td>\n",
       "      <td>0.005416</td>\n",
       "      <td>0.015209</td>\n",
       "      <td>0.006590</td>\n",
       "      <td>0.008789</td>\n",
       "      <td>0.006684</td>\n",
       "      <td>0.002703</td>\n",
       "      <td>...</td>\n",
       "      <td>0.006249</td>\n",
       "      <td>0.019761</td>\n",
       "      <td>0.015742</td>\n",
       "      <td>0.221881</td>\n",
       "      <td>0.002518</td>\n",
       "      <td>0.013322</td>\n",
       "      <td>0.001802</td>\n",
       "      <td>0.006228</td>\n",
       "      <td>0.002164</td>\n",
       "      <td>0.006559</td>\n",
       "      <td>0.005434</td>\n",
       "      <td>0.002927</td>\n",
       "      <td>0.002214</td>\n",
       "      <td>0.072573</td>\n",
       "      <td>0.236811</td>\n",
       "      <td>0.019442</td>\n",
       "      <td>0.002068</td>\n",
       "      <td>0.001455</td>\n",
       "      <td>0.003707</td>\n",
       "      <td>0.012610</td>\n",
       "      <td>0.002214</td>\n",
       "      <td>0.003415</td>\n",
       "      <td>0.002059</td>\n",
       "      <td>0.114875</td>\n",
       "      <td>0.008519</td>\n",
       "      <td>0.006965</td>\n",
       "      <td>0.003101</td>\n",
       "      <td>0.001328</td>\n",
       "      <td>0.008040</td>\n",
       "      <td>0.002203</td>\n",
       "      <td>0.001173</td>\n",
       "      <td>0.006571</td>\n",
       "      <td>0.001619</td>\n",
       "      <td>0.005562</td>\n",
       "      <td>0.049857</td>\n",
       "      <td>0.000623</td>\n",
       "      <td>0.015196</td>\n",
       "      <td>0.016279</td>\n",
       "      <td>0.008901</td>\n",
       "      <td>0.146349</td>\n",
       "    </tr>\n",
       "    <tr>\n",
       "      <th>1422</th>\n",
       "      <td>7NH4NU8.jpeg</td>\n",
       "      <td>0.000835</td>\n",
       "      <td>0.245783</td>\n",
       "      <td>0.003288</td>\n",
       "      <td>0.004294</td>\n",
       "      <td>0.000616</td>\n",
       "      <td>0.000727</td>\n",
       "      <td>0.000571</td>\n",
       "      <td>0.000148</td>\n",
       "      <td>0.007972</td>\n",
       "      <td>0.017805</td>\n",
       "      <td>0.003164</td>\n",
       "      <td>0.017383</td>\n",
       "      <td>0.007840</td>\n",
       "      <td>0.008611</td>\n",
       "      <td>0.007319</td>\n",
       "      <td>0.002105</td>\n",
       "      <td>0.180638</td>\n",
       "      <td>0.034675</td>\n",
       "      <td>0.013154</td>\n",
       "      <td>0.003458</td>\n",
       "      <td>0.025641</td>\n",
       "      <td>0.003481</td>\n",
       "      <td>0.000666</td>\n",
       "      <td>0.009964</td>\n",
       "      <td>0.023868</td>\n",
       "      <td>0.000165</td>\n",
       "      <td>0.000080</td>\n",
       "      <td>0.097469</td>\n",
       "      <td>0.004007</td>\n",
       "      <td>0.017885</td>\n",
       "      <td>0.000712</td>\n",
       "      <td>0.001258</td>\n",
       "      <td>0.007053</td>\n",
       "      <td>0.000979</td>\n",
       "      <td>0.008750</td>\n",
       "      <td>0.007681</td>\n",
       "      <td>0.009693</td>\n",
       "      <td>0.017133</td>\n",
       "      <td>0.000520</td>\n",
       "      <td>...</td>\n",
       "      <td>0.009117</td>\n",
       "      <td>0.002042</td>\n",
       "      <td>0.002630</td>\n",
       "      <td>0.243098</td>\n",
       "      <td>0.000192</td>\n",
       "      <td>0.003438</td>\n",
       "      <td>0.000653</td>\n",
       "      <td>0.002073</td>\n",
       "      <td>0.028846</td>\n",
       "      <td>0.000959</td>\n",
       "      <td>0.002090</td>\n",
       "      <td>0.001804</td>\n",
       "      <td>0.000192</td>\n",
       "      <td>0.146545</td>\n",
       "      <td>0.106170</td>\n",
       "      <td>0.025734</td>\n",
       "      <td>0.004578</td>\n",
       "      <td>0.000528</td>\n",
       "      <td>0.013596</td>\n",
       "      <td>0.001393</td>\n",
       "      <td>0.021209</td>\n",
       "      <td>0.000761</td>\n",
       "      <td>0.000221</td>\n",
       "      <td>0.021694</td>\n",
       "      <td>0.001972</td>\n",
       "      <td>0.070819</td>\n",
       "      <td>0.000991</td>\n",
       "      <td>0.001925</td>\n",
       "      <td>0.196481</td>\n",
       "      <td>0.006703</td>\n",
       "      <td>0.000915</td>\n",
       "      <td>0.026176</td>\n",
       "      <td>0.000450</td>\n",
       "      <td>0.000326</td>\n",
       "      <td>0.040596</td>\n",
       "      <td>0.000194</td>\n",
       "      <td>0.006260</td>\n",
       "      <td>0.002348</td>\n",
       "      <td>0.014591</td>\n",
       "      <td>0.239469</td>\n",
       "    </tr>\n",
       "  </tbody>\n",
       "</table>\n",
       "<p>1423 rows × 138 columns</p>\n",
       "</div>"
      ],
      "text/plain": [
       "              FILE  Pteraster_capensis  ...  Triviella_spp_  Cheilostomatida\n",
       "0     FNDG3L9.jpeg            0.249517  ...        0.000951         0.000237\n",
       "1     0RASRVM.jpeg            0.248185  ...        0.000890         0.000709\n",
       "2     JMXLWAX.jpeg            0.246907  ...        0.000839         0.000235\n",
       "3     CV8FWT2.jpeg            0.243212  ...        0.000800         0.000693\n",
       "4     V34APYI.jpeg            0.242660  ...        0.002985         0.001117\n",
       "...            ...                 ...  ...             ...              ...\n",
       "1418  78Z21N4.jpeg            0.003214  ...        0.003788         0.136534\n",
       "1419  TKMSA7B.jpeg            0.017978  ...        0.084474         0.149388\n",
       "1420  MQWTDRF.jpeg            0.000985  ...        0.015325         0.203476\n",
       "1421  D55ZXE7.jpeg            0.002430  ...        0.008901         0.146349\n",
       "1422  7NH4NU8.jpeg            0.000835  ...        0.014591         0.239469\n",
       "\n",
       "[1423 rows x 138 columns]"
      ]
     },
     "execution_count": 14,
     "metadata": {},
     "output_type": "execute_result"
    }
   ],
   "source": [
    "sample_submission_csv"
   ]
  },
  {
   "cell_type": "code",
   "execution_count": 15,
   "metadata": {
    "executionInfo": {
     "elapsed": 7967,
     "status": "ok",
     "timestamp": 1633300523654,
     "user": {
      "displayName": "Andreas Schmitt",
      "photoUrl": "https://lh3.googleusercontent.com/a/default-user=s64",
      "userId": "08919543814682882005"
     },
     "user_tz": -120
    },
    "id": "xfJd-V7Be5gb"
   },
   "outputs": [],
   "source": [
    "drive.flush_and_unmount()"
   ]
  },
  {
   "cell_type": "code",
   "execution_count": 16,
   "metadata": {
    "colab": {
     "base_uri": "https://localhost:8080/"
    },
    "executionInfo": {
     "elapsed": 35,
     "status": "ok",
     "timestamp": 1633300523657,
     "user": {
      "displayName": "Andreas Schmitt",
      "photoUrl": "https://lh3.googleusercontent.com/a/default-user=s64",
      "userId": "08919543814682882005"
     },
     "user_tz": -120
    },
    "id": "Yjc7hVDJe58w",
    "outputId": "b1c5f589-e58f-4e73-cae0-a71a09d170c2"
   },
   "outputs": [
    {
     "name": "stdout",
     "output_type": "stream",
     "text": [
      "Runtime of the Notebook: 92.04 min\n"
     ]
    }
   ],
   "source": [
    "end_time = time.time()\n",
    "print(\"Runtime of the Notebook: {} min\".format(np.round((end_time - start_time) / 60, 2)))"
   ]
  }
 ],
 "metadata": {
  "accelerator": "GPU",
  "colab": {
   "authorship_tag": "ABX9TyM/QOygah/9wYkePKYESD78",
   "collapsed_sections": [],
   "name": "InvertebrateAI.ipynb",
   "provenance": []
  },
  "kernelspec": {
   "display_name": "Python 3",
   "language": "python",
   "name": "python3"
  },
  "language_info": {
   "codemirror_mode": {
    "name": "ipython",
    "version": 3
   },
   "file_extension": ".py",
   "mimetype": "text/x-python",
   "name": "python",
   "nbconvert_exporter": "python",
   "pygments_lexer": "ipython3",
   "version": "3.9.9"
  },
  "widgets": {
   "application/vnd.jupyter.widget-state+json": {
    "0154975d769f455091a6a04e3c6c30b4": {
     "model_module": "@jupyter-widgets/base",
     "model_module_version": "1.2.0",
     "model_name": "LayoutModel",
     "state": {
      "_model_module": "@jupyter-widgets/base",
      "_model_module_version": "1.2.0",
      "_model_name": "LayoutModel",
      "_view_count": null,
      "_view_module": "@jupyter-widgets/base",
      "_view_module_version": "1.2.0",
      "_view_name": "LayoutView",
      "align_content": null,
      "align_items": null,
      "align_self": null,
      "border": null,
      "bottom": null,
      "display": null,
      "flex": null,
      "flex_flow": null,
      "grid_area": null,
      "grid_auto_columns": null,
      "grid_auto_flow": null,
      "grid_auto_rows": null,
      "grid_column": null,
      "grid_gap": null,
      "grid_row": null,
      "grid_template_areas": null,
      "grid_template_columns": null,
      "grid_template_rows": null,
      "height": null,
      "justify_content": null,
      "justify_items": null,
      "left": null,
      "margin": null,
      "max_height": null,
      "max_width": null,
      "min_height": null,
      "min_width": null,
      "object_fit": null,
      "object_position": null,
      "order": null,
      "overflow": null,
      "overflow_x": null,
      "overflow_y": null,
      "padding": null,
      "right": null,
      "top": null,
      "visibility": null,
      "width": null
     }
    },
    "09387a6dc5164da094db7292e7e81830": {
     "model_module": "@jupyter-widgets/controls",
     "model_module_version": "1.5.0",
     "model_name": "HTMLModel",
     "state": {
      "_dom_classes": [],
      "_model_module": "@jupyter-widgets/controls",
      "_model_module_version": "1.5.0",
      "_model_name": "HTMLModel",
      "_view_count": null,
      "_view_module": "@jupyter-widgets/controls",
      "_view_module_version": "1.5.0",
      "_view_name": "HTMLView",
      "description": "",
      "description_tooltip": null,
      "layout": "IPY_MODEL_e5dee698bf164f4daaebe6c83c8953af",
      "placeholder": "​",
      "style": "IPY_MODEL_0f6f4fcb70a948198de8ec131d59b1ed",
      "value": "100%"
     }
    },
    "0b45866acdd44f6cb44f6df477f9579b": {
     "model_module": "@jupyter-widgets/controls",
     "model_module_version": "1.5.0",
     "model_name": "DescriptionStyleModel",
     "state": {
      "_model_module": "@jupyter-widgets/controls",
      "_model_module_version": "1.5.0",
      "_model_name": "DescriptionStyleModel",
      "_view_count": null,
      "_view_module": "@jupyter-widgets/base",
      "_view_module_version": "1.2.0",
      "_view_name": "StyleView",
      "description_width": ""
     }
    },
    "0f6f4fcb70a948198de8ec131d59b1ed": {
     "model_module": "@jupyter-widgets/controls",
     "model_module_version": "1.5.0",
     "model_name": "DescriptionStyleModel",
     "state": {
      "_model_module": "@jupyter-widgets/controls",
      "_model_module_version": "1.5.0",
      "_model_name": "DescriptionStyleModel",
      "_view_count": null,
      "_view_module": "@jupyter-widgets/base",
      "_view_module_version": "1.2.0",
      "_view_name": "StyleView",
      "description_width": ""
     }
    },
    "5f47af6f31704c53bc63ca4add3707bd": {
     "model_module": "@jupyter-widgets/controls",
     "model_module_version": "1.5.0",
     "model_name": "ProgressStyleModel",
     "state": {
      "_model_module": "@jupyter-widgets/controls",
      "_model_module_version": "1.5.0",
      "_model_name": "ProgressStyleModel",
      "_view_count": null,
      "_view_module": "@jupyter-widgets/base",
      "_view_module_version": "1.2.0",
      "_view_name": "StyleView",
      "bar_color": null,
      "description_width": ""
     }
    },
    "d35b41fbeb024f54af7103da811b1bc3": {
     "model_module": "@jupyter-widgets/controls",
     "model_module_version": "1.5.0",
     "model_name": "HBoxModel",
     "state": {
      "_dom_classes": [],
      "_model_module": "@jupyter-widgets/controls",
      "_model_module_version": "1.5.0",
      "_model_name": "HBoxModel",
      "_view_count": null,
      "_view_module": "@jupyter-widgets/controls",
      "_view_module_version": "1.5.0",
      "_view_name": "HBoxView",
      "box_style": "",
      "children": [
       "IPY_MODEL_09387a6dc5164da094db7292e7e81830",
       "IPY_MODEL_e486635b8c4d4a7fa4b8df56b1d52212",
       "IPY_MODEL_ec943f40275e4624a7b7cb5d973154dd"
      ],
      "layout": "IPY_MODEL_d96400bbb29544c39d7e93dcc7aa5e37"
     }
    },
    "d96400bbb29544c39d7e93dcc7aa5e37": {
     "model_module": "@jupyter-widgets/base",
     "model_module_version": "1.2.0",
     "model_name": "LayoutModel",
     "state": {
      "_model_module": "@jupyter-widgets/base",
      "_model_module_version": "1.2.0",
      "_model_name": "LayoutModel",
      "_view_count": null,
      "_view_module": "@jupyter-widgets/base",
      "_view_module_version": "1.2.0",
      "_view_name": "LayoutView",
      "align_content": null,
      "align_items": null,
      "align_self": null,
      "border": null,
      "bottom": null,
      "display": null,
      "flex": null,
      "flex_flow": null,
      "grid_area": null,
      "grid_auto_columns": null,
      "grid_auto_flow": null,
      "grid_auto_rows": null,
      "grid_column": null,
      "grid_gap": null,
      "grid_row": null,
      "grid_template_areas": null,
      "grid_template_columns": null,
      "grid_template_rows": null,
      "height": null,
      "justify_content": null,
      "justify_items": null,
      "left": null,
      "margin": null,
      "max_height": null,
      "max_width": null,
      "min_height": null,
      "min_width": null,
      "object_fit": null,
      "object_position": null,
      "order": null,
      "overflow": null,
      "overflow_x": null,
      "overflow_y": null,
      "padding": null,
      "right": null,
      "top": null,
      "visibility": null,
      "width": null
     }
    },
    "e486635b8c4d4a7fa4b8df56b1d52212": {
     "model_module": "@jupyter-widgets/controls",
     "model_module_version": "1.5.0",
     "model_name": "FloatProgressModel",
     "state": {
      "_dom_classes": [],
      "_model_module": "@jupyter-widgets/controls",
      "_model_module_version": "1.5.0",
      "_model_name": "FloatProgressModel",
      "_view_count": null,
      "_view_module": "@jupyter-widgets/controls",
      "_view_module_version": "1.5.0",
      "_view_name": "ProgressView",
      "bar_style": "success",
      "description": "",
      "description_tooltip": null,
      "layout": "IPY_MODEL_fd0772e9fbf84331980abbe11c23b42a",
      "max": 31519111,
      "min": 0,
      "orientation": "horizontal",
      "style": "IPY_MODEL_5f47af6f31704c53bc63ca4add3707bd",
      "value": 31519111
     }
    },
    "e5dee698bf164f4daaebe6c83c8953af": {
     "model_module": "@jupyter-widgets/base",
     "model_module_version": "1.2.0",
     "model_name": "LayoutModel",
     "state": {
      "_model_module": "@jupyter-widgets/base",
      "_model_module_version": "1.2.0",
      "_model_name": "LayoutModel",
      "_view_count": null,
      "_view_module": "@jupyter-widgets/base",
      "_view_module_version": "1.2.0",
      "_view_name": "LayoutView",
      "align_content": null,
      "align_items": null,
      "align_self": null,
      "border": null,
      "bottom": null,
      "display": null,
      "flex": null,
      "flex_flow": null,
      "grid_area": null,
      "grid_auto_columns": null,
      "grid_auto_flow": null,
      "grid_auto_rows": null,
      "grid_column": null,
      "grid_gap": null,
      "grid_row": null,
      "grid_template_areas": null,
      "grid_template_columns": null,
      "grid_template_rows": null,
      "height": null,
      "justify_content": null,
      "justify_items": null,
      "left": null,
      "margin": null,
      "max_height": null,
      "max_width": null,
      "min_height": null,
      "min_width": null,
      "object_fit": null,
      "object_position": null,
      "order": null,
      "overflow": null,
      "overflow_x": null,
      "overflow_y": null,
      "padding": null,
      "right": null,
      "top": null,
      "visibility": null,
      "width": null
     }
    },
    "ec943f40275e4624a7b7cb5d973154dd": {
     "model_module": "@jupyter-widgets/controls",
     "model_module_version": "1.5.0",
     "model_name": "HTMLModel",
     "state": {
      "_dom_classes": [],
      "_model_module": "@jupyter-widgets/controls",
      "_model_module_version": "1.5.0",
      "_model_name": "HTMLModel",
      "_view_count": null,
      "_view_module": "@jupyter-widgets/controls",
      "_view_module_version": "1.5.0",
      "_view_name": "HTMLView",
      "description": "",
      "description_tooltip": null,
      "layout": "IPY_MODEL_0154975d769f455091a6a04e3c6c30b4",
      "placeholder": "​",
      "style": "IPY_MODEL_0b45866acdd44f6cb44f6df477f9579b",
      "value": " 30.1M/30.1M [00:01&lt;00:00, 20.8MB/s]"
     }
    },
    "fd0772e9fbf84331980abbe11c23b42a": {
     "model_module": "@jupyter-widgets/base",
     "model_module_version": "1.2.0",
     "model_name": "LayoutModel",
     "state": {
      "_model_module": "@jupyter-widgets/base",
      "_model_module_version": "1.2.0",
      "_model_name": "LayoutModel",
      "_view_count": null,
      "_view_module": "@jupyter-widgets/base",
      "_view_module_version": "1.2.0",
      "_view_name": "LayoutView",
      "align_content": null,
      "align_items": null,
      "align_self": null,
      "border": null,
      "bottom": null,
      "display": null,
      "flex": null,
      "flex_flow": null,
      "grid_area": null,
      "grid_auto_columns": null,
      "grid_auto_flow": null,
      "grid_auto_rows": null,
      "grid_column": null,
      "grid_gap": null,
      "grid_row": null,
      "grid_template_areas": null,
      "grid_template_columns": null,
      "grid_template_rows": null,
      "height": null,
      "justify_content": null,
      "justify_items": null,
      "left": null,
      "margin": null,
      "max_height": null,
      "max_width": null,
      "min_height": null,
      "min_width": null,
      "object_fit": null,
      "object_position": null,
      "order": null,
      "overflow": null,
      "overflow_x": null,
      "overflow_y": null,
      "padding": null,
      "right": null,
      "top": null,
      "visibility": null,
      "width": null
     }
    }
   }
  }
 },
 "nbformat": 4,
 "nbformat_minor": 1
}
