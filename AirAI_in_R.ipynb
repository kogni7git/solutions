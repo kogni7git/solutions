{
 "cells": [
  {
   "cell_type": "markdown",
   "id": "c3a1103d",
   "metadata": {},
   "source": [
    "# ZindiWeekendz Learning: Urban Air Pollution Challenge by #ZindiWeekendz\n",
    "\n",
    "File name: AirAI_in_R.ipynb\n",
    "\n",
    "Author: kogni7\n",
    "\n",
    "Date: April 2022 / March 2023\n",
    "\n",
    "## Contents\n",
    "* 1 Preparation\n",
    "* 2 Data\n",
    "* 3 Training\n",
    "* 4 Prediction and Submission\n",
    "\n",
    "This notebook uses only the data sets provided by ZINDI. These data sets contain information about the air quality. These are the only used features in this notebook. The task is to predict the air pollution.\n",
    "\n",
    "The file system for this project is:\n",
    "* AirAI_in_R (root)\n",
    "  * AirAI_in_R.ipynb (this notebook)\n",
    "  * Data  \n",
    "  * Submission\n",
    "    * 1 - x: Submission directories named by the version number\n",
    "      * submission.csv\n",
    "\n",
    "This notebook uses a deep learning approach."
   ]
  },
  {
   "cell_type": "markdown",
   "id": "e8f24703",
   "metadata": {},
   "source": [
    "## 1 Preparation"
   ]
  },
  {
   "cell_type": "code",
   "execution_count": 1,
   "id": "4e164348",
   "metadata": {},
   "outputs": [
    {
     "name": "stdout",
     "output_type": "stream",
     "text": [
      "[1] \"R version 4.2.2 Patched (2022-11-10 r83330)\"\n"
     ]
    },
    {
     "name": "stderr",
     "output_type": "stream",
     "text": [
      "Lade nötiges Paket: ggplot2\n",
      "\n",
      "Lade nötiges Paket: lattice\n",
      "\n"
     ]
    }
   ],
   "source": [
    "start_time <- Sys.time()\n",
    "\n",
    "# R Version\n",
    "print(R.version.string)\n",
    "\n",
    "# Libraries\n",
    "library(caret)\n",
    "library(RANN)\n",
    "library(keras)\n",
    "library(reticulate)\n",
    "\n",
    "# Seed\n",
    "SEED = 42\n",
    "set.seed(SEED);\n",
    "\n",
    "use_virtualenv(\"~/.virtualenvs/r-reticulate\")"
   ]
  },
  {
   "cell_type": "markdown",
   "id": "e5df34d9",
   "metadata": {},
   "source": [
    "### Parameters"
   ]
  },
  {
   "cell_type": "code",
   "execution_count": 2,
   "id": "cef3b4cc",
   "metadata": {},
   "outputs": [],
   "source": [
    "VERSION = \"VERSION_R_1\"\n",
    "CV = 5\n",
    "HIDDEN = 100\n",
    "DROPOUT = 0.0\n",
    "BATCH = 32\n",
    "EPOCHS = 15\n",
    "LEARNING_RATE = 0.001"
   ]
  },
  {
   "cell_type": "markdown",
   "id": "16a0c7f6",
   "metadata": {},
   "source": [
    "## 2 Data"
   ]
  },
  {
   "cell_type": "code",
   "execution_count": 3,
   "id": "25fcaa82",
   "metadata": {},
   "outputs": [
    {
     "data": {
      "text/html": [
       "<table class=\"dataframe\">\n",
       "<caption>A data.frame: 6 × 82</caption>\n",
       "<thead>\n",
       "\t<tr><th></th><th scope=col>Place_ID.X.Date</th><th scope=col>Date</th><th scope=col>Place_ID</th><th scope=col>target</th><th scope=col>target_min</th><th scope=col>target_max</th><th scope=col>target_variance</th><th scope=col>target_count</th><th scope=col>precipitable_water_entire_atmosphere</th><th scope=col>relative_humidity_2m_above_ground</th><th scope=col>⋯</th><th scope=col>L3_SO2_sensor_zenith_angle</th><th scope=col>L3_SO2_solar_azimuth_angle</th><th scope=col>L3_SO2_solar_zenith_angle</th><th scope=col>L3_CH4_CH4_column_volume_mixing_ratio_dry_air</th><th scope=col>L3_CH4_aerosol_height</th><th scope=col>L3_CH4_aerosol_optical_depth</th><th scope=col>L3_CH4_sensor_azimuth_angle</th><th scope=col>L3_CH4_sensor_zenith_angle</th><th scope=col>L3_CH4_solar_azimuth_angle</th><th scope=col>L3_CH4_solar_zenith_angle</th></tr>\n",
       "\t<tr><th></th><th scope=col>&lt;chr&gt;</th><th scope=col>&lt;chr&gt;</th><th scope=col>&lt;chr&gt;</th><th scope=col>&lt;dbl&gt;</th><th scope=col>&lt;dbl&gt;</th><th scope=col>&lt;dbl&gt;</th><th scope=col>&lt;dbl&gt;</th><th scope=col>&lt;int&gt;</th><th scope=col>&lt;dbl&gt;</th><th scope=col>&lt;dbl&gt;</th><th scope=col>⋯</th><th scope=col>&lt;dbl&gt;</th><th scope=col>&lt;dbl&gt;</th><th scope=col>&lt;dbl&gt;</th><th scope=col>&lt;dbl&gt;</th><th scope=col>&lt;dbl&gt;</th><th scope=col>&lt;dbl&gt;</th><th scope=col>&lt;dbl&gt;</th><th scope=col>&lt;dbl&gt;</th><th scope=col>&lt;dbl&gt;</th><th scope=col>&lt;dbl&gt;</th></tr>\n",
       "</thead>\n",
       "<tbody>\n",
       "\t<tr><th scope=row>1</th><td>010Q650 X 2020-01-02</td><td>2020-01-02</td><td>010Q650</td><td>38</td><td>23</td><td>53</td><td> 769.50</td><td>92</td><td>11.000000</td><td>60.2</td><td>⋯</td><td>38.5930174</td><td>-61.75259</td><td>22.36366</td><td>1793.794</td><td>3227.855</td><td>0.01057904</td><td>74.48105</td><td>37.50150</td><td>-62.14264</td><td>22.54512</td></tr>\n",
       "\t<tr><th scope=row>2</th><td>010Q650 X 2020-01-03</td><td>2020-01-03</td><td>010Q650</td><td>39</td><td>25</td><td>63</td><td>1319.85</td><td>91</td><td>14.600000</td><td>48.8</td><td>⋯</td><td>59.6249116</td><td>-67.69351</td><td>28.61480</td><td>1789.960</td><td>3384.227</td><td>0.01510438</td><td>75.63004</td><td>55.65749</td><td>-53.86813</td><td>19.29365</td></tr>\n",
       "\t<tr><th scope=row>3</th><td>010Q650 X 2020-01-04</td><td>2020-01-04</td><td>010Q650</td><td>24</td><td> 8</td><td>56</td><td>1181.96</td><td>96</td><td>16.400000</td><td>33.4</td><td>⋯</td><td>49.8397137</td><td>-78.34270</td><td>34.29698</td><td>      NA</td><td>      NA</td><td>        NA</td><td>      NA</td><td>      NA</td><td>       NA</td><td>      NA</td></tr>\n",
       "\t<tr><th scope=row>4</th><td>010Q650 X 2020-01-05</td><td>2020-01-05</td><td>010Q650</td><td>49</td><td>10</td><td>55</td><td>1113.67</td><td>96</td><td> 6.911948</td><td>21.3</td><td>⋯</td><td>29.1812580</td><td>-73.89659</td><td>30.54545</td><td>      NA</td><td>      NA</td><td>        NA</td><td>      NA</td><td>      NA</td><td>       NA</td><td>      NA</td></tr>\n",
       "\t<tr><th scope=row>5</th><td>010Q650 X 2020-01-06</td><td>2020-01-06</td><td>010Q650</td><td>21</td><td> 9</td><td>52</td><td>1164.82</td><td>95</td><td>13.900001</td><td>44.7</td><td>⋯</td><td> 0.7972941</td><td>-68.61248</td><td>26.89969</td><td>      NA</td><td>      NA</td><td>        NA</td><td>      NA</td><td>      NA</td><td>       NA</td><td>      NA</td></tr>\n",
       "\t<tr><th scope=row>6</th><td>010Q650 X 2020-01-07</td><td>2020-01-07</td><td>010Q650</td><td>28</td><td>10</td><td>52</td><td>1053.22</td><td>94</td><td>14.600000</td><td>42.2</td><td>⋯</td><td>30.6051757</td><td>-62.13426</td><td>23.41999</td><td>      NA</td><td>      NA</td><td>        NA</td><td>      NA</td><td>      NA</td><td>       NA</td><td>      NA</td></tr>\n",
       "</tbody>\n",
       "</table>\n"
      ],
      "text/latex": [
       "A data.frame: 6 × 82\n",
       "\\begin{tabular}{r|lllllllllllllllllllll}\n",
       "  & Place\\_ID.X.Date & Date & Place\\_ID & target & target\\_min & target\\_max & target\\_variance & target\\_count & precipitable\\_water\\_entire\\_atmosphere & relative\\_humidity\\_2m\\_above\\_ground & ⋯ & L3\\_SO2\\_sensor\\_zenith\\_angle & L3\\_SO2\\_solar\\_azimuth\\_angle & L3\\_SO2\\_solar\\_zenith\\_angle & L3\\_CH4\\_CH4\\_column\\_volume\\_mixing\\_ratio\\_dry\\_air & L3\\_CH4\\_aerosol\\_height & L3\\_CH4\\_aerosol\\_optical\\_depth & L3\\_CH4\\_sensor\\_azimuth\\_angle & L3\\_CH4\\_sensor\\_zenith\\_angle & L3\\_CH4\\_solar\\_azimuth\\_angle & L3\\_CH4\\_solar\\_zenith\\_angle\\\\\n",
       "  & <chr> & <chr> & <chr> & <dbl> & <dbl> & <dbl> & <dbl> & <int> & <dbl> & <dbl> & ⋯ & <dbl> & <dbl> & <dbl> & <dbl> & <dbl> & <dbl> & <dbl> & <dbl> & <dbl> & <dbl>\\\\\n",
       "\\hline\n",
       "\t1 & 010Q650 X 2020-01-02 & 2020-01-02 & 010Q650 & 38 & 23 & 53 &  769.50 & 92 & 11.000000 & 60.2 & ⋯ & 38.5930174 & -61.75259 & 22.36366 & 1793.794 & 3227.855 & 0.01057904 & 74.48105 & 37.50150 & -62.14264 & 22.54512\\\\\n",
       "\t2 & 010Q650 X 2020-01-03 & 2020-01-03 & 010Q650 & 39 & 25 & 63 & 1319.85 & 91 & 14.600000 & 48.8 & ⋯ & 59.6249116 & -67.69351 & 28.61480 & 1789.960 & 3384.227 & 0.01510438 & 75.63004 & 55.65749 & -53.86813 & 19.29365\\\\\n",
       "\t3 & 010Q650 X 2020-01-04 & 2020-01-04 & 010Q650 & 24 &  8 & 56 & 1181.96 & 96 & 16.400000 & 33.4 & ⋯ & 49.8397137 & -78.34270 & 34.29698 &       NA &       NA &         NA &       NA &       NA &        NA &       NA\\\\\n",
       "\t4 & 010Q650 X 2020-01-05 & 2020-01-05 & 010Q650 & 49 & 10 & 55 & 1113.67 & 96 &  6.911948 & 21.3 & ⋯ & 29.1812580 & -73.89659 & 30.54545 &       NA &       NA &         NA &       NA &       NA &        NA &       NA\\\\\n",
       "\t5 & 010Q650 X 2020-01-06 & 2020-01-06 & 010Q650 & 21 &  9 & 52 & 1164.82 & 95 & 13.900001 & 44.7 & ⋯ &  0.7972941 & -68.61248 & 26.89969 &       NA &       NA &         NA &       NA &       NA &        NA &       NA\\\\\n",
       "\t6 & 010Q650 X 2020-01-07 & 2020-01-07 & 010Q650 & 28 & 10 & 52 & 1053.22 & 94 & 14.600000 & 42.2 & ⋯ & 30.6051757 & -62.13426 & 23.41999 &       NA &       NA &         NA &       NA &       NA &        NA &       NA\\\\\n",
       "\\end{tabular}\n"
      ],
      "text/markdown": [
       "\n",
       "A data.frame: 6 × 82\n",
       "\n",
       "| <!--/--> | Place_ID.X.Date &lt;chr&gt; | Date &lt;chr&gt; | Place_ID &lt;chr&gt; | target &lt;dbl&gt; | target_min &lt;dbl&gt; | target_max &lt;dbl&gt; | target_variance &lt;dbl&gt; | target_count &lt;int&gt; | precipitable_water_entire_atmosphere &lt;dbl&gt; | relative_humidity_2m_above_ground &lt;dbl&gt; | ⋯ ⋯ | L3_SO2_sensor_zenith_angle &lt;dbl&gt; | L3_SO2_solar_azimuth_angle &lt;dbl&gt; | L3_SO2_solar_zenith_angle &lt;dbl&gt; | L3_CH4_CH4_column_volume_mixing_ratio_dry_air &lt;dbl&gt; | L3_CH4_aerosol_height &lt;dbl&gt; | L3_CH4_aerosol_optical_depth &lt;dbl&gt; | L3_CH4_sensor_azimuth_angle &lt;dbl&gt; | L3_CH4_sensor_zenith_angle &lt;dbl&gt; | L3_CH4_solar_azimuth_angle &lt;dbl&gt; | L3_CH4_solar_zenith_angle &lt;dbl&gt; |\n",
       "|---|---|---|---|---|---|---|---|---|---|---|---|---|---|---|---|---|---|---|---|---|---|\n",
       "| 1 | 010Q650 X 2020-01-02 | 2020-01-02 | 010Q650 | 38 | 23 | 53 |  769.50 | 92 | 11.000000 | 60.2 | ⋯ | 38.5930174 | -61.75259 | 22.36366 | 1793.794 | 3227.855 | 0.01057904 | 74.48105 | 37.50150 | -62.14264 | 22.54512 |\n",
       "| 2 | 010Q650 X 2020-01-03 | 2020-01-03 | 010Q650 | 39 | 25 | 63 | 1319.85 | 91 | 14.600000 | 48.8 | ⋯ | 59.6249116 | -67.69351 | 28.61480 | 1789.960 | 3384.227 | 0.01510438 | 75.63004 | 55.65749 | -53.86813 | 19.29365 |\n",
       "| 3 | 010Q650 X 2020-01-04 | 2020-01-04 | 010Q650 | 24 |  8 | 56 | 1181.96 | 96 | 16.400000 | 33.4 | ⋯ | 49.8397137 | -78.34270 | 34.29698 |       NA |       NA |         NA |       NA |       NA |        NA |       NA |\n",
       "| 4 | 010Q650 X 2020-01-05 | 2020-01-05 | 010Q650 | 49 | 10 | 55 | 1113.67 | 96 |  6.911948 | 21.3 | ⋯ | 29.1812580 | -73.89659 | 30.54545 |       NA |       NA |         NA |       NA |       NA |        NA |       NA |\n",
       "| 5 | 010Q650 X 2020-01-06 | 2020-01-06 | 010Q650 | 21 |  9 | 52 | 1164.82 | 95 | 13.900001 | 44.7 | ⋯ |  0.7972941 | -68.61248 | 26.89969 |       NA |       NA |         NA |       NA |       NA |        NA |       NA |\n",
       "| 6 | 010Q650 X 2020-01-07 | 2020-01-07 | 010Q650 | 28 | 10 | 52 | 1053.22 | 94 | 14.600000 | 42.2 | ⋯ | 30.6051757 | -62.13426 | 23.41999 |       NA |       NA |         NA |       NA |       NA |        NA |       NA |\n",
       "\n"
      ],
      "text/plain": [
       "  Place_ID.X.Date      Date       Place_ID target target_min target_max\n",
       "1 010Q650 X 2020-01-02 2020-01-02 010Q650  38     23         53        \n",
       "2 010Q650 X 2020-01-03 2020-01-03 010Q650  39     25         63        \n",
       "3 010Q650 X 2020-01-04 2020-01-04 010Q650  24      8         56        \n",
       "4 010Q650 X 2020-01-05 2020-01-05 010Q650  49     10         55        \n",
       "5 010Q650 X 2020-01-06 2020-01-06 010Q650  21      9         52        \n",
       "6 010Q650 X 2020-01-07 2020-01-07 010Q650  28     10         52        \n",
       "  target_variance target_count precipitable_water_entire_atmosphere\n",
       "1  769.50         92           11.000000                           \n",
       "2 1319.85         91           14.600000                           \n",
       "3 1181.96         96           16.400000                           \n",
       "4 1113.67         96            6.911948                           \n",
       "5 1164.82         95           13.900001                           \n",
       "6 1053.22         94           14.600000                           \n",
       "  relative_humidity_2m_above_ground ⋯ L3_SO2_sensor_zenith_angle\n",
       "1 60.2                              ⋯ 38.5930174                \n",
       "2 48.8                              ⋯ 59.6249116                \n",
       "3 33.4                              ⋯ 49.8397137                \n",
       "4 21.3                              ⋯ 29.1812580                \n",
       "5 44.7                              ⋯  0.7972941                \n",
       "6 42.2                              ⋯ 30.6051757                \n",
       "  L3_SO2_solar_azimuth_angle L3_SO2_solar_zenith_angle\n",
       "1 -61.75259                  22.36366                 \n",
       "2 -67.69351                  28.61480                 \n",
       "3 -78.34270                  34.29698                 \n",
       "4 -73.89659                  30.54545                 \n",
       "5 -68.61248                  26.89969                 \n",
       "6 -62.13426                  23.41999                 \n",
       "  L3_CH4_CH4_column_volume_mixing_ratio_dry_air L3_CH4_aerosol_height\n",
       "1 1793.794                                      3227.855             \n",
       "2 1789.960                                      3384.227             \n",
       "3       NA                                            NA             \n",
       "4       NA                                            NA             \n",
       "5       NA                                            NA             \n",
       "6       NA                                            NA             \n",
       "  L3_CH4_aerosol_optical_depth L3_CH4_sensor_azimuth_angle\n",
       "1 0.01057904                   74.48105                   \n",
       "2 0.01510438                   75.63004                   \n",
       "3         NA                         NA                   \n",
       "4         NA                         NA                   \n",
       "5         NA                         NA                   \n",
       "6         NA                         NA                   \n",
       "  L3_CH4_sensor_zenith_angle L3_CH4_solar_azimuth_angle\n",
       "1 37.50150                   -62.14264                 \n",
       "2 55.65749                   -53.86813                 \n",
       "3       NA                          NA                 \n",
       "4       NA                          NA                 \n",
       "5       NA                          NA                 \n",
       "6       NA                          NA                 \n",
       "  L3_CH4_solar_zenith_angle\n",
       "1 22.54512                 \n",
       "2 19.29365                 \n",
       "3       NA                 \n",
       "4       NA                 \n",
       "5       NA                 \n",
       "6       NA                 "
      ]
     },
     "metadata": {},
     "output_type": "display_data"
    }
   ],
   "source": [
    "train = read.csv2(\"Data/Train.csv\", header = TRUE, sep = \",\", dec = \".\", fill = TRUE)\n",
    "head(train)"
   ]
  },
  {
   "cell_type": "code",
   "execution_count": 4,
   "id": "e3ad3c0b",
   "metadata": {},
   "outputs": [
    {
     "data": {
      "text/html": [
       "<table class=\"dataframe\">\n",
       "<caption>A data.frame: 6 × 77</caption>\n",
       "<thead>\n",
       "\t<tr><th></th><th scope=col>Place_ID.X.Date</th><th scope=col>Date</th><th scope=col>Place_ID</th><th scope=col>precipitable_water_entire_atmosphere</th><th scope=col>relative_humidity_2m_above_ground</th><th scope=col>specific_humidity_2m_above_ground</th><th scope=col>temperature_2m_above_ground</th><th scope=col>u_component_of_wind_10m_above_ground</th><th scope=col>v_component_of_wind_10m_above_ground</th><th scope=col>L3_NO2_NO2_column_number_density</th><th scope=col>⋯</th><th scope=col>L3_SO2_sensor_zenith_angle</th><th scope=col>L3_SO2_solar_azimuth_angle</th><th scope=col>L3_SO2_solar_zenith_angle</th><th scope=col>L3_CH4_CH4_column_volume_mixing_ratio_dry_air</th><th scope=col>L3_CH4_aerosol_height</th><th scope=col>L3_CH4_aerosol_optical_depth</th><th scope=col>L3_CH4_sensor_azimuth_angle</th><th scope=col>L3_CH4_sensor_zenith_angle</th><th scope=col>L3_CH4_solar_azimuth_angle</th><th scope=col>L3_CH4_solar_zenith_angle</th></tr>\n",
       "\t<tr><th></th><th scope=col>&lt;chr&gt;</th><th scope=col>&lt;chr&gt;</th><th scope=col>&lt;chr&gt;</th><th scope=col>&lt;dbl&gt;</th><th scope=col>&lt;dbl&gt;</th><th scope=col>&lt;dbl&gt;</th><th scope=col>&lt;dbl&gt;</th><th scope=col>&lt;dbl&gt;</th><th scope=col>&lt;dbl&gt;</th><th scope=col>&lt;dbl&gt;</th><th scope=col>⋯</th><th scope=col>&lt;dbl&gt;</th><th scope=col>&lt;dbl&gt;</th><th scope=col>&lt;dbl&gt;</th><th scope=col>&lt;dbl&gt;</th><th scope=col>&lt;dbl&gt;</th><th scope=col>&lt;dbl&gt;</th><th scope=col>&lt;dbl&gt;</th><th scope=col>&lt;dbl&gt;</th><th scope=col>&lt;dbl&gt;</th><th scope=col>&lt;dbl&gt;</th></tr>\n",
       "</thead>\n",
       "<tbody>\n",
       "\t<tr><th scope=row>1</th><td>0OS9LVX X 2020-01-02</td><td>2020-01-02</td><td>0OS9LVX</td><td>11.60000</td><td>30.2</td><td>0.00409000</td><td>14.65682</td><td>3.956377</td><td> 0.7126049</td><td>5.338188e-05</td><td>⋯</td><td> 1.445658</td><td>-95.98498</td><td>22.94202</td><td>      NA</td><td>      NA</td><td>        NA</td><td>        NA</td><td>      NA</td><td>       NA</td><td>      NA</td></tr>\n",
       "\t<tr><th scope=row>2</th><td>0OS9LVX X 2020-01-03</td><td>2020-01-03</td><td>0OS9LVX</td><td>18.30000</td><td>42.9</td><td>0.00595000</td><td>15.02654</td><td>4.230430</td><td> 0.6618921</td><td>5.044761e-05</td><td>⋯</td><td>34.641758</td><td>-95.01491</td><td>18.53912</td><td>      NA</td><td>      NA</td><td>        NA</td><td>        NA</td><td>      NA</td><td>       NA</td><td>      NA</td></tr>\n",
       "\t<tr><th scope=row>3</th><td>0OS9LVX X 2020-01-04</td><td>2020-01-04</td><td>0OS9LVX</td><td>17.60000</td><td>41.3</td><td>0.00590000</td><td>15.51104</td><td>5.245728</td><td> 1.6405591</td><td>5.035383e-05</td><td>⋯</td><td>55.872276</td><td>-94.01542</td><td>14.14082</td><td>      NA</td><td>      NA</td><td>        NA</td><td>        NA</td><td>      NA</td><td>       NA</td><td>      NA</td></tr>\n",
       "\t<tr><th scope=row>4</th><td>0OS9LVX X 2020-01-05</td><td>2020-01-05</td><td>0OS9LVX</td><td>15.01195</td><td>53.1</td><td>0.00709000</td><td>14.44186</td><td>5.454001</td><td>-0.1905322</td><td>5.499153e-05</td><td>⋯</td><td>59.174188</td><td>-97.24760</td><td>32.73055</td><td>      NA</td><td>      NA</td><td>        NA</td><td>        NA</td><td>      NA</td><td>       NA</td><td>      NA</td></tr>\n",
       "\t<tr><th scope=row>5</th><td>0OS9LVX X 2020-01-06</td><td>2020-01-06</td><td>0OS9LVX</td><td> 9.70000</td><td>71.6</td><td>0.00808000</td><td>11.89630</td><td>3.511787</td><td>-0.2794409</td><td>5.508028e-05</td><td>⋯</td><td>40.925873</td><td>-96.05727</td><td>28.32053</td><td>1831.262</td><td>3229.119</td><td>0.03106805</td><td>-100.27834</td><td>41.84708</td><td>-95.91074</td><td>28.49879</td></tr>\n",
       "\t<tr><th scope=row>6</th><td>0OS9LVX X 2020-01-07</td><td>2020-01-07</td><td>0OS9LVX</td><td>13.40000</td><td>69.3</td><td>0.00828156</td><td>12.74487</td><td>3.945603</td><td>-0.2409253</td><td>5.809714e-05</td><td>⋯</td><td>10.836973</td><td>-94.79964</td><td>23.90786</td><td>1837.775</td><td>2994.671</td><td>0.02152895</td><td> -97.42958</td><td>11.77791</td><td>-94.48296</td><td>24.03635</td></tr>\n",
       "</tbody>\n",
       "</table>\n"
      ],
      "text/latex": [
       "A data.frame: 6 × 77\n",
       "\\begin{tabular}{r|lllllllllllllllllllll}\n",
       "  & Place\\_ID.X.Date & Date & Place\\_ID & precipitable\\_water\\_entire\\_atmosphere & relative\\_humidity\\_2m\\_above\\_ground & specific\\_humidity\\_2m\\_above\\_ground & temperature\\_2m\\_above\\_ground & u\\_component\\_of\\_wind\\_10m\\_above\\_ground & v\\_component\\_of\\_wind\\_10m\\_above\\_ground & L3\\_NO2\\_NO2\\_column\\_number\\_density & ⋯ & L3\\_SO2\\_sensor\\_zenith\\_angle & L3\\_SO2\\_solar\\_azimuth\\_angle & L3\\_SO2\\_solar\\_zenith\\_angle & L3\\_CH4\\_CH4\\_column\\_volume\\_mixing\\_ratio\\_dry\\_air & L3\\_CH4\\_aerosol\\_height & L3\\_CH4\\_aerosol\\_optical\\_depth & L3\\_CH4\\_sensor\\_azimuth\\_angle & L3\\_CH4\\_sensor\\_zenith\\_angle & L3\\_CH4\\_solar\\_azimuth\\_angle & L3\\_CH4\\_solar\\_zenith\\_angle\\\\\n",
       "  & <chr> & <chr> & <chr> & <dbl> & <dbl> & <dbl> & <dbl> & <dbl> & <dbl> & <dbl> & ⋯ & <dbl> & <dbl> & <dbl> & <dbl> & <dbl> & <dbl> & <dbl> & <dbl> & <dbl> & <dbl>\\\\\n",
       "\\hline\n",
       "\t1 & 0OS9LVX X 2020-01-02 & 2020-01-02 & 0OS9LVX & 11.60000 & 30.2 & 0.00409000 & 14.65682 & 3.956377 &  0.7126049 & 5.338188e-05 & ⋯ &  1.445658 & -95.98498 & 22.94202 &       NA &       NA &         NA &         NA &       NA &        NA &       NA\\\\\n",
       "\t2 & 0OS9LVX X 2020-01-03 & 2020-01-03 & 0OS9LVX & 18.30000 & 42.9 & 0.00595000 & 15.02654 & 4.230430 &  0.6618921 & 5.044761e-05 & ⋯ & 34.641758 & -95.01491 & 18.53912 &       NA &       NA &         NA &         NA &       NA &        NA &       NA\\\\\n",
       "\t3 & 0OS9LVX X 2020-01-04 & 2020-01-04 & 0OS9LVX & 17.60000 & 41.3 & 0.00590000 & 15.51104 & 5.245728 &  1.6405591 & 5.035383e-05 & ⋯ & 55.872276 & -94.01542 & 14.14082 &       NA &       NA &         NA &         NA &       NA &        NA &       NA\\\\\n",
       "\t4 & 0OS9LVX X 2020-01-05 & 2020-01-05 & 0OS9LVX & 15.01195 & 53.1 & 0.00709000 & 14.44186 & 5.454001 & -0.1905322 & 5.499153e-05 & ⋯ & 59.174188 & -97.24760 & 32.73055 &       NA &       NA &         NA &         NA &       NA &        NA &       NA\\\\\n",
       "\t5 & 0OS9LVX X 2020-01-06 & 2020-01-06 & 0OS9LVX &  9.70000 & 71.6 & 0.00808000 & 11.89630 & 3.511787 & -0.2794409 & 5.508028e-05 & ⋯ & 40.925873 & -96.05727 & 28.32053 & 1831.262 & 3229.119 & 0.03106805 & -100.27834 & 41.84708 & -95.91074 & 28.49879\\\\\n",
       "\t6 & 0OS9LVX X 2020-01-07 & 2020-01-07 & 0OS9LVX & 13.40000 & 69.3 & 0.00828156 & 12.74487 & 3.945603 & -0.2409253 & 5.809714e-05 & ⋯ & 10.836973 & -94.79964 & 23.90786 & 1837.775 & 2994.671 & 0.02152895 &  -97.42958 & 11.77791 & -94.48296 & 24.03635\\\\\n",
       "\\end{tabular}\n"
      ],
      "text/markdown": [
       "\n",
       "A data.frame: 6 × 77\n",
       "\n",
       "| <!--/--> | Place_ID.X.Date &lt;chr&gt; | Date &lt;chr&gt; | Place_ID &lt;chr&gt; | precipitable_water_entire_atmosphere &lt;dbl&gt; | relative_humidity_2m_above_ground &lt;dbl&gt; | specific_humidity_2m_above_ground &lt;dbl&gt; | temperature_2m_above_ground &lt;dbl&gt; | u_component_of_wind_10m_above_ground &lt;dbl&gt; | v_component_of_wind_10m_above_ground &lt;dbl&gt; | L3_NO2_NO2_column_number_density &lt;dbl&gt; | ⋯ ⋯ | L3_SO2_sensor_zenith_angle &lt;dbl&gt; | L3_SO2_solar_azimuth_angle &lt;dbl&gt; | L3_SO2_solar_zenith_angle &lt;dbl&gt; | L3_CH4_CH4_column_volume_mixing_ratio_dry_air &lt;dbl&gt; | L3_CH4_aerosol_height &lt;dbl&gt; | L3_CH4_aerosol_optical_depth &lt;dbl&gt; | L3_CH4_sensor_azimuth_angle &lt;dbl&gt; | L3_CH4_sensor_zenith_angle &lt;dbl&gt; | L3_CH4_solar_azimuth_angle &lt;dbl&gt; | L3_CH4_solar_zenith_angle &lt;dbl&gt; |\n",
       "|---|---|---|---|---|---|---|---|---|---|---|---|---|---|---|---|---|---|---|---|---|---|\n",
       "| 1 | 0OS9LVX X 2020-01-02 | 2020-01-02 | 0OS9LVX | 11.60000 | 30.2 | 0.00409000 | 14.65682 | 3.956377 |  0.7126049 | 5.338188e-05 | ⋯ |  1.445658 | -95.98498 | 22.94202 |       NA |       NA |         NA |         NA |       NA |        NA |       NA |\n",
       "| 2 | 0OS9LVX X 2020-01-03 | 2020-01-03 | 0OS9LVX | 18.30000 | 42.9 | 0.00595000 | 15.02654 | 4.230430 |  0.6618921 | 5.044761e-05 | ⋯ | 34.641758 | -95.01491 | 18.53912 |       NA |       NA |         NA |         NA |       NA |        NA |       NA |\n",
       "| 3 | 0OS9LVX X 2020-01-04 | 2020-01-04 | 0OS9LVX | 17.60000 | 41.3 | 0.00590000 | 15.51104 | 5.245728 |  1.6405591 | 5.035383e-05 | ⋯ | 55.872276 | -94.01542 | 14.14082 |       NA |       NA |         NA |         NA |       NA |        NA |       NA |\n",
       "| 4 | 0OS9LVX X 2020-01-05 | 2020-01-05 | 0OS9LVX | 15.01195 | 53.1 | 0.00709000 | 14.44186 | 5.454001 | -0.1905322 | 5.499153e-05 | ⋯ | 59.174188 | -97.24760 | 32.73055 |       NA |       NA |         NA |         NA |       NA |        NA |       NA |\n",
       "| 5 | 0OS9LVX X 2020-01-06 | 2020-01-06 | 0OS9LVX |  9.70000 | 71.6 | 0.00808000 | 11.89630 | 3.511787 | -0.2794409 | 5.508028e-05 | ⋯ | 40.925873 | -96.05727 | 28.32053 | 1831.262 | 3229.119 | 0.03106805 | -100.27834 | 41.84708 | -95.91074 | 28.49879 |\n",
       "| 6 | 0OS9LVX X 2020-01-07 | 2020-01-07 | 0OS9LVX | 13.40000 | 69.3 | 0.00828156 | 12.74487 | 3.945603 | -0.2409253 | 5.809714e-05 | ⋯ | 10.836973 | -94.79964 | 23.90786 | 1837.775 | 2994.671 | 0.02152895 |  -97.42958 | 11.77791 | -94.48296 | 24.03635 |\n",
       "\n"
      ],
      "text/plain": [
       "  Place_ID.X.Date      Date       Place_ID precipitable_water_entire_atmosphere\n",
       "1 0OS9LVX X 2020-01-02 2020-01-02 0OS9LVX  11.60000                            \n",
       "2 0OS9LVX X 2020-01-03 2020-01-03 0OS9LVX  18.30000                            \n",
       "3 0OS9LVX X 2020-01-04 2020-01-04 0OS9LVX  17.60000                            \n",
       "4 0OS9LVX X 2020-01-05 2020-01-05 0OS9LVX  15.01195                            \n",
       "5 0OS9LVX X 2020-01-06 2020-01-06 0OS9LVX   9.70000                            \n",
       "6 0OS9LVX X 2020-01-07 2020-01-07 0OS9LVX  13.40000                            \n",
       "  relative_humidity_2m_above_ground specific_humidity_2m_above_ground\n",
       "1 30.2                              0.00409000                       \n",
       "2 42.9                              0.00595000                       \n",
       "3 41.3                              0.00590000                       \n",
       "4 53.1                              0.00709000                       \n",
       "5 71.6                              0.00808000                       \n",
       "6 69.3                              0.00828156                       \n",
       "  temperature_2m_above_ground u_component_of_wind_10m_above_ground\n",
       "1 14.65682                    3.956377                            \n",
       "2 15.02654                    4.230430                            \n",
       "3 15.51104                    5.245728                            \n",
       "4 14.44186                    5.454001                            \n",
       "5 11.89630                    3.511787                            \n",
       "6 12.74487                    3.945603                            \n",
       "  v_component_of_wind_10m_above_ground L3_NO2_NO2_column_number_density ⋯\n",
       "1  0.7126049                           5.338188e-05                     ⋯\n",
       "2  0.6618921                           5.044761e-05                     ⋯\n",
       "3  1.6405591                           5.035383e-05                     ⋯\n",
       "4 -0.1905322                           5.499153e-05                     ⋯\n",
       "5 -0.2794409                           5.508028e-05                     ⋯\n",
       "6 -0.2409253                           5.809714e-05                     ⋯\n",
       "  L3_SO2_sensor_zenith_angle L3_SO2_solar_azimuth_angle\n",
       "1  1.445658                  -95.98498                 \n",
       "2 34.641758                  -95.01491                 \n",
       "3 55.872276                  -94.01542                 \n",
       "4 59.174188                  -97.24760                 \n",
       "5 40.925873                  -96.05727                 \n",
       "6 10.836973                  -94.79964                 \n",
       "  L3_SO2_solar_zenith_angle L3_CH4_CH4_column_volume_mixing_ratio_dry_air\n",
       "1 22.94202                        NA                                     \n",
       "2 18.53912                        NA                                     \n",
       "3 14.14082                        NA                                     \n",
       "4 32.73055                        NA                                     \n",
       "5 28.32053                  1831.262                                     \n",
       "6 23.90786                  1837.775                                     \n",
       "  L3_CH4_aerosol_height L3_CH4_aerosol_optical_depth\n",
       "1       NA                      NA                  \n",
       "2       NA                      NA                  \n",
       "3       NA                      NA                  \n",
       "4       NA                      NA                  \n",
       "5 3229.119              0.03106805                  \n",
       "6 2994.671              0.02152895                  \n",
       "  L3_CH4_sensor_azimuth_angle L3_CH4_sensor_zenith_angle\n",
       "1         NA                        NA                  \n",
       "2         NA                        NA                  \n",
       "3         NA                        NA                  \n",
       "4         NA                        NA                  \n",
       "5 -100.27834                  41.84708                  \n",
       "6  -97.42958                  11.77791                  \n",
       "  L3_CH4_solar_azimuth_angle L3_CH4_solar_zenith_angle\n",
       "1        NA                        NA                 \n",
       "2        NA                        NA                 \n",
       "3        NA                        NA                 \n",
       "4        NA                        NA                 \n",
       "5 -95.91074                  28.49879                 \n",
       "6 -94.48296                  24.03635                 "
      ]
     },
     "metadata": {},
     "output_type": "display_data"
    }
   ],
   "source": [
    "test = read.csv2(\"Data/Test.csv\", header = TRUE, sep = \",\", dec = \".\", fill = TRUE)\n",
    "head(test)"
   ]
  },
  {
   "cell_type": "code",
   "execution_count": 5,
   "id": "2ab05cf7",
   "metadata": {},
   "outputs": [
    {
     "data": {
      "text/html": [
       "<table class=\"dataframe\">\n",
       "<caption>A data.frame: 6 × 2</caption>\n",
       "<thead>\n",
       "\t<tr><th></th><th scope=col>Place_ID.X.Date</th><th scope=col>target</th></tr>\n",
       "\t<tr><th></th><th scope=col>&lt;chr&gt;</th><th scope=col>&lt;int&gt;</th></tr>\n",
       "</thead>\n",
       "<tbody>\n",
       "\t<tr><th scope=row>1</th><td>0OS9LVX X 2020-01-02</td><td>0</td></tr>\n",
       "\t<tr><th scope=row>2</th><td>0OS9LVX X 2020-01-03</td><td>0</td></tr>\n",
       "\t<tr><th scope=row>3</th><td>0OS9LVX X 2020-01-04</td><td>0</td></tr>\n",
       "\t<tr><th scope=row>4</th><td>0OS9LVX X 2020-01-05</td><td>0</td></tr>\n",
       "\t<tr><th scope=row>5</th><td>0OS9LVX X 2020-01-06</td><td>0</td></tr>\n",
       "\t<tr><th scope=row>6</th><td>0OS9LVX X 2020-01-07</td><td>0</td></tr>\n",
       "</tbody>\n",
       "</table>\n"
      ],
      "text/latex": [
       "A data.frame: 6 × 2\n",
       "\\begin{tabular}{r|ll}\n",
       "  & Place\\_ID.X.Date & target\\\\\n",
       "  & <chr> & <int>\\\\\n",
       "\\hline\n",
       "\t1 & 0OS9LVX X 2020-01-02 & 0\\\\\n",
       "\t2 & 0OS9LVX X 2020-01-03 & 0\\\\\n",
       "\t3 & 0OS9LVX X 2020-01-04 & 0\\\\\n",
       "\t4 & 0OS9LVX X 2020-01-05 & 0\\\\\n",
       "\t5 & 0OS9LVX X 2020-01-06 & 0\\\\\n",
       "\t6 & 0OS9LVX X 2020-01-07 & 0\\\\\n",
       "\\end{tabular}\n"
      ],
      "text/markdown": [
       "\n",
       "A data.frame: 6 × 2\n",
       "\n",
       "| <!--/--> | Place_ID.X.Date &lt;chr&gt; | target &lt;int&gt; |\n",
       "|---|---|---|\n",
       "| 1 | 0OS9LVX X 2020-01-02 | 0 |\n",
       "| 2 | 0OS9LVX X 2020-01-03 | 0 |\n",
       "| 3 | 0OS9LVX X 2020-01-04 | 0 |\n",
       "| 4 | 0OS9LVX X 2020-01-05 | 0 |\n",
       "| 5 | 0OS9LVX X 2020-01-06 | 0 |\n",
       "| 6 | 0OS9LVX X 2020-01-07 | 0 |\n",
       "\n"
      ],
      "text/plain": [
       "  Place_ID.X.Date      target\n",
       "1 0OS9LVX X 2020-01-02 0     \n",
       "2 0OS9LVX X 2020-01-03 0     \n",
       "3 0OS9LVX X 2020-01-04 0     \n",
       "4 0OS9LVX X 2020-01-05 0     \n",
       "5 0OS9LVX X 2020-01-06 0     \n",
       "6 0OS9LVX X 2020-01-07 0     "
      ]
     },
     "metadata": {},
     "output_type": "display_data"
    }
   ],
   "source": [
    "samplesubmission = read.csv2(\"Data/SampleSubmission.csv\", header = TRUE, sep = \",\", dec = \".\", fill = TRUE)\n",
    "head(samplesubmission)"
   ]
  },
  {
   "cell_type": "markdown",
   "id": "f5be7d39",
   "metadata": {},
   "source": [
    "### Label encoding"
   ]
  },
  {
   "cell_type": "code",
   "execution_count": 6,
   "id": "1bd8a5f8",
   "metadata": {},
   "outputs": [],
   "source": [
    "train$Date = as.numeric(factor(train$Date))\n",
    "train$Place_ID = as.numeric(factor(train$Place_ID))\n",
    "\n",
    "test$Date = as.numeric(factor(test$Date))\n",
    "test$Place_ID = as.numeric(factor(test$Place_ID))"
   ]
  },
  {
   "cell_type": "code",
   "execution_count": 7,
   "id": "7962ebf5",
   "metadata": {},
   "outputs": [
    {
     "data": {
      "text/html": [
       "<table class=\"dataframe\">\n",
       "<caption>A data.frame: 6 × 76</caption>\n",
       "<thead>\n",
       "\t<tr><th></th><th scope=col>Date</th><th scope=col>Place_ID</th><th scope=col>precipitable_water_entire_atmosphere</th><th scope=col>relative_humidity_2m_above_ground</th><th scope=col>specific_humidity_2m_above_ground</th><th scope=col>temperature_2m_above_ground</th><th scope=col>u_component_of_wind_10m_above_ground</th><th scope=col>v_component_of_wind_10m_above_ground</th><th scope=col>L3_NO2_NO2_column_number_density</th><th scope=col>L3_NO2_NO2_slant_column_number_density</th><th scope=col>⋯</th><th scope=col>L3_SO2_sensor_zenith_angle</th><th scope=col>L3_SO2_solar_azimuth_angle</th><th scope=col>L3_SO2_solar_zenith_angle</th><th scope=col>L3_CH4_CH4_column_volume_mixing_ratio_dry_air</th><th scope=col>L3_CH4_aerosol_height</th><th scope=col>L3_CH4_aerosol_optical_depth</th><th scope=col>L3_CH4_sensor_azimuth_angle</th><th scope=col>L3_CH4_sensor_zenith_angle</th><th scope=col>L3_CH4_solar_azimuth_angle</th><th scope=col>L3_CH4_solar_zenith_angle</th></tr>\n",
       "\t<tr><th></th><th scope=col>&lt;dbl&gt;</th><th scope=col>&lt;dbl&gt;</th><th scope=col>&lt;dbl&gt;</th><th scope=col>&lt;dbl&gt;</th><th scope=col>&lt;dbl&gt;</th><th scope=col>&lt;dbl&gt;</th><th scope=col>&lt;dbl&gt;</th><th scope=col>&lt;dbl&gt;</th><th scope=col>&lt;dbl&gt;</th><th scope=col>&lt;dbl&gt;</th><th scope=col>⋯</th><th scope=col>&lt;dbl&gt;</th><th scope=col>&lt;dbl&gt;</th><th scope=col>&lt;dbl&gt;</th><th scope=col>&lt;dbl&gt;</th><th scope=col>&lt;dbl&gt;</th><th scope=col>&lt;dbl&gt;</th><th scope=col>&lt;dbl&gt;</th><th scope=col>&lt;dbl&gt;</th><th scope=col>&lt;dbl&gt;</th><th scope=col>&lt;dbl&gt;</th></tr>\n",
       "</thead>\n",
       "<tbody>\n",
       "\t<tr><th scope=row>1</th><td>1</td><td>1</td><td>11.000000</td><td>60.2</td><td>0.00804000</td><td>18.51684</td><td>1.996377</td><td>-1.2273949</td><td>7.383038e-05</td><td>0.0001558203</td><td>⋯</td><td>38.5930174</td><td>-61.75259</td><td>22.36366</td><td>1793.794</td><td>3227.855</td><td>0.01057904</td><td>74.48105</td><td>37.50150</td><td>-62.14264</td><td>22.54512</td></tr>\n",
       "\t<tr><th scope=row>2</th><td>2</td><td>1</td><td>14.600000</td><td>48.8</td><td>0.00839000</td><td>22.54653</td><td>3.330430</td><td>-1.1881078</td><td>7.603261e-05</td><td>0.0001968663</td><td>⋯</td><td>59.6249116</td><td>-67.69351</td><td>28.61480</td><td>1789.960</td><td>3384.227</td><td>0.01510438</td><td>75.63004</td><td>55.65749</td><td>-53.86813</td><td>19.29365</td></tr>\n",
       "\t<tr><th scope=row>3</th><td>3</td><td>1</td><td>16.400000</td><td>33.4</td><td>0.00750000</td><td>27.03103</td><td>5.065727</td><td> 3.5005591</td><td>6.660776e-05</td><td>0.0001704180</td><td>⋯</td><td>49.8397137</td><td>-78.34270</td><td>34.29698</td><td>      NA</td><td>      NA</td><td>        NA</td><td>      NA</td><td>      NA</td><td>       NA</td><td>      NA</td></tr>\n",
       "\t<tr><th scope=row>4</th><td>4</td><td>1</td><td> 6.911948</td><td>21.3</td><td>0.00391000</td><td>23.97186</td><td>3.004001</td><td> 1.0994678</td><td>8.258178e-05</td><td>0.0001748593</td><td>⋯</td><td>29.1812580</td><td>-73.89659</td><td>30.54545</td><td>      NA</td><td>      NA</td><td>        NA</td><td>      NA</td><td>      NA</td><td>       NA</td><td>      NA</td></tr>\n",
       "\t<tr><th scope=row>5</th><td>5</td><td>1</td><td>13.900001</td><td>44.7</td><td>0.00535000</td><td>16.81631</td><td>2.621787</td><td> 2.6705589</td><td>7.038484e-05</td><td>0.0001415511</td><td>⋯</td><td> 0.7972941</td><td>-68.61248</td><td>26.89969</td><td>      NA</td><td>      NA</td><td>        NA</td><td>      NA</td><td>      NA</td><td>       NA</td><td>      NA</td></tr>\n",
       "\t<tr><th scope=row>6</th><td>6</td><td>1</td><td>14.600000</td><td>42.2</td><td>0.00586156</td><td>19.17489</td><td>2.955603</td><td> 0.9690747</td><td>6.866629e-05</td><td>0.0001455166</td><td>⋯</td><td>30.6051757</td><td>-62.13426</td><td>23.41999</td><td>      NA</td><td>      NA</td><td>        NA</td><td>      NA</td><td>      NA</td><td>       NA</td><td>      NA</td></tr>\n",
       "</tbody>\n",
       "</table>\n"
      ],
      "text/latex": [
       "A data.frame: 6 × 76\n",
       "\\begin{tabular}{r|lllllllllllllllllllll}\n",
       "  & Date & Place\\_ID & precipitable\\_water\\_entire\\_atmosphere & relative\\_humidity\\_2m\\_above\\_ground & specific\\_humidity\\_2m\\_above\\_ground & temperature\\_2m\\_above\\_ground & u\\_component\\_of\\_wind\\_10m\\_above\\_ground & v\\_component\\_of\\_wind\\_10m\\_above\\_ground & L3\\_NO2\\_NO2\\_column\\_number\\_density & L3\\_NO2\\_NO2\\_slant\\_column\\_number\\_density & ⋯ & L3\\_SO2\\_sensor\\_zenith\\_angle & L3\\_SO2\\_solar\\_azimuth\\_angle & L3\\_SO2\\_solar\\_zenith\\_angle & L3\\_CH4\\_CH4\\_column\\_volume\\_mixing\\_ratio\\_dry\\_air & L3\\_CH4\\_aerosol\\_height & L3\\_CH4\\_aerosol\\_optical\\_depth & L3\\_CH4\\_sensor\\_azimuth\\_angle & L3\\_CH4\\_sensor\\_zenith\\_angle & L3\\_CH4\\_solar\\_azimuth\\_angle & L3\\_CH4\\_solar\\_zenith\\_angle\\\\\n",
       "  & <dbl> & <dbl> & <dbl> & <dbl> & <dbl> & <dbl> & <dbl> & <dbl> & <dbl> & <dbl> & ⋯ & <dbl> & <dbl> & <dbl> & <dbl> & <dbl> & <dbl> & <dbl> & <dbl> & <dbl> & <dbl>\\\\\n",
       "\\hline\n",
       "\t1 & 1 & 1 & 11.000000 & 60.2 & 0.00804000 & 18.51684 & 1.996377 & -1.2273949 & 7.383038e-05 & 0.0001558203 & ⋯ & 38.5930174 & -61.75259 & 22.36366 & 1793.794 & 3227.855 & 0.01057904 & 74.48105 & 37.50150 & -62.14264 & 22.54512\\\\\n",
       "\t2 & 2 & 1 & 14.600000 & 48.8 & 0.00839000 & 22.54653 & 3.330430 & -1.1881078 & 7.603261e-05 & 0.0001968663 & ⋯ & 59.6249116 & -67.69351 & 28.61480 & 1789.960 & 3384.227 & 0.01510438 & 75.63004 & 55.65749 & -53.86813 & 19.29365\\\\\n",
       "\t3 & 3 & 1 & 16.400000 & 33.4 & 0.00750000 & 27.03103 & 5.065727 &  3.5005591 & 6.660776e-05 & 0.0001704180 & ⋯ & 49.8397137 & -78.34270 & 34.29698 &       NA &       NA &         NA &       NA &       NA &        NA &       NA\\\\\n",
       "\t4 & 4 & 1 &  6.911948 & 21.3 & 0.00391000 & 23.97186 & 3.004001 &  1.0994678 & 8.258178e-05 & 0.0001748593 & ⋯ & 29.1812580 & -73.89659 & 30.54545 &       NA &       NA &         NA &       NA &       NA &        NA &       NA\\\\\n",
       "\t5 & 5 & 1 & 13.900001 & 44.7 & 0.00535000 & 16.81631 & 2.621787 &  2.6705589 & 7.038484e-05 & 0.0001415511 & ⋯ &  0.7972941 & -68.61248 & 26.89969 &       NA &       NA &         NA &       NA &       NA &        NA &       NA\\\\\n",
       "\t6 & 6 & 1 & 14.600000 & 42.2 & 0.00586156 & 19.17489 & 2.955603 &  0.9690747 & 6.866629e-05 & 0.0001455166 & ⋯ & 30.6051757 & -62.13426 & 23.41999 &       NA &       NA &         NA &       NA &       NA &        NA &       NA\\\\\n",
       "\\end{tabular}\n"
      ],
      "text/markdown": [
       "\n",
       "A data.frame: 6 × 76\n",
       "\n",
       "| <!--/--> | Date &lt;dbl&gt; | Place_ID &lt;dbl&gt; | precipitable_water_entire_atmosphere &lt;dbl&gt; | relative_humidity_2m_above_ground &lt;dbl&gt; | specific_humidity_2m_above_ground &lt;dbl&gt; | temperature_2m_above_ground &lt;dbl&gt; | u_component_of_wind_10m_above_ground &lt;dbl&gt; | v_component_of_wind_10m_above_ground &lt;dbl&gt; | L3_NO2_NO2_column_number_density &lt;dbl&gt; | L3_NO2_NO2_slant_column_number_density &lt;dbl&gt; | ⋯ ⋯ | L3_SO2_sensor_zenith_angle &lt;dbl&gt; | L3_SO2_solar_azimuth_angle &lt;dbl&gt; | L3_SO2_solar_zenith_angle &lt;dbl&gt; | L3_CH4_CH4_column_volume_mixing_ratio_dry_air &lt;dbl&gt; | L3_CH4_aerosol_height &lt;dbl&gt; | L3_CH4_aerosol_optical_depth &lt;dbl&gt; | L3_CH4_sensor_azimuth_angle &lt;dbl&gt; | L3_CH4_sensor_zenith_angle &lt;dbl&gt; | L3_CH4_solar_azimuth_angle &lt;dbl&gt; | L3_CH4_solar_zenith_angle &lt;dbl&gt; |\n",
       "|---|---|---|---|---|---|---|---|---|---|---|---|---|---|---|---|---|---|---|---|---|---|\n",
       "| 1 | 1 | 1 | 11.000000 | 60.2 | 0.00804000 | 18.51684 | 1.996377 | -1.2273949 | 7.383038e-05 | 0.0001558203 | ⋯ | 38.5930174 | -61.75259 | 22.36366 | 1793.794 | 3227.855 | 0.01057904 | 74.48105 | 37.50150 | -62.14264 | 22.54512 |\n",
       "| 2 | 2 | 1 | 14.600000 | 48.8 | 0.00839000 | 22.54653 | 3.330430 | -1.1881078 | 7.603261e-05 | 0.0001968663 | ⋯ | 59.6249116 | -67.69351 | 28.61480 | 1789.960 | 3384.227 | 0.01510438 | 75.63004 | 55.65749 | -53.86813 | 19.29365 |\n",
       "| 3 | 3 | 1 | 16.400000 | 33.4 | 0.00750000 | 27.03103 | 5.065727 |  3.5005591 | 6.660776e-05 | 0.0001704180 | ⋯ | 49.8397137 | -78.34270 | 34.29698 |       NA |       NA |         NA |       NA |       NA |        NA |       NA |\n",
       "| 4 | 4 | 1 |  6.911948 | 21.3 | 0.00391000 | 23.97186 | 3.004001 |  1.0994678 | 8.258178e-05 | 0.0001748593 | ⋯ | 29.1812580 | -73.89659 | 30.54545 |       NA |       NA |         NA |       NA |       NA |        NA |       NA |\n",
       "| 5 | 5 | 1 | 13.900001 | 44.7 | 0.00535000 | 16.81631 | 2.621787 |  2.6705589 | 7.038484e-05 | 0.0001415511 | ⋯ |  0.7972941 | -68.61248 | 26.89969 |       NA |       NA |         NA |       NA |       NA |        NA |       NA |\n",
       "| 6 | 6 | 1 | 14.600000 | 42.2 | 0.00586156 | 19.17489 | 2.955603 |  0.9690747 | 6.866629e-05 | 0.0001455166 | ⋯ | 30.6051757 | -62.13426 | 23.41999 |       NA |       NA |         NA |       NA |       NA |        NA |       NA |\n",
       "\n"
      ],
      "text/plain": [
       "  Date Place_ID precipitable_water_entire_atmosphere\n",
       "1 1    1        11.000000                           \n",
       "2 2    1        14.600000                           \n",
       "3 3    1        16.400000                           \n",
       "4 4    1         6.911948                           \n",
       "5 5    1        13.900001                           \n",
       "6 6    1        14.600000                           \n",
       "  relative_humidity_2m_above_ground specific_humidity_2m_above_ground\n",
       "1 60.2                              0.00804000                       \n",
       "2 48.8                              0.00839000                       \n",
       "3 33.4                              0.00750000                       \n",
       "4 21.3                              0.00391000                       \n",
       "5 44.7                              0.00535000                       \n",
       "6 42.2                              0.00586156                       \n",
       "  temperature_2m_above_ground u_component_of_wind_10m_above_ground\n",
       "1 18.51684                    1.996377                            \n",
       "2 22.54653                    3.330430                            \n",
       "3 27.03103                    5.065727                            \n",
       "4 23.97186                    3.004001                            \n",
       "5 16.81631                    2.621787                            \n",
       "6 19.17489                    2.955603                            \n",
       "  v_component_of_wind_10m_above_ground L3_NO2_NO2_column_number_density\n",
       "1 -1.2273949                           7.383038e-05                    \n",
       "2 -1.1881078                           7.603261e-05                    \n",
       "3  3.5005591                           6.660776e-05                    \n",
       "4  1.0994678                           8.258178e-05                    \n",
       "5  2.6705589                           7.038484e-05                    \n",
       "6  0.9690747                           6.866629e-05                    \n",
       "  L3_NO2_NO2_slant_column_number_density ⋯ L3_SO2_sensor_zenith_angle\n",
       "1 0.0001558203                           ⋯ 38.5930174                \n",
       "2 0.0001968663                           ⋯ 59.6249116                \n",
       "3 0.0001704180                           ⋯ 49.8397137                \n",
       "4 0.0001748593                           ⋯ 29.1812580                \n",
       "5 0.0001415511                           ⋯  0.7972941                \n",
       "6 0.0001455166                           ⋯ 30.6051757                \n",
       "  L3_SO2_solar_azimuth_angle L3_SO2_solar_zenith_angle\n",
       "1 -61.75259                  22.36366                 \n",
       "2 -67.69351                  28.61480                 \n",
       "3 -78.34270                  34.29698                 \n",
       "4 -73.89659                  30.54545                 \n",
       "5 -68.61248                  26.89969                 \n",
       "6 -62.13426                  23.41999                 \n",
       "  L3_CH4_CH4_column_volume_mixing_ratio_dry_air L3_CH4_aerosol_height\n",
       "1 1793.794                                      3227.855             \n",
       "2 1789.960                                      3384.227             \n",
       "3       NA                                            NA             \n",
       "4       NA                                            NA             \n",
       "5       NA                                            NA             \n",
       "6       NA                                            NA             \n",
       "  L3_CH4_aerosol_optical_depth L3_CH4_sensor_azimuth_angle\n",
       "1 0.01057904                   74.48105                   \n",
       "2 0.01510438                   75.63004                   \n",
       "3         NA                         NA                   \n",
       "4         NA                         NA                   \n",
       "5         NA                         NA                   \n",
       "6         NA                         NA                   \n",
       "  L3_CH4_sensor_zenith_angle L3_CH4_solar_azimuth_angle\n",
       "1 37.50150                   -62.14264                 \n",
       "2 55.65749                   -53.86813                 \n",
       "3       NA                          NA                 \n",
       "4       NA                          NA                 \n",
       "5       NA                          NA                 \n",
       "6       NA                          NA                 \n",
       "  L3_CH4_solar_zenith_angle\n",
       "1 22.54512                 \n",
       "2 19.29365                 \n",
       "3       NA                 \n",
       "4       NA                 \n",
       "5       NA                 \n",
       "6       NA                 "
      ]
     },
     "metadata": {},
     "output_type": "display_data"
    }
   ],
   "source": [
    "y_train = as.matrix(train$target)\n",
    "\n",
    "train$target = NULL\n",
    "train$target_min = NULL\n",
    "train$target_max = NULL\n",
    "train$target_variance = NULL\n",
    "train$target_count = NULL\n",
    "\n",
    "head(train[, 2:ncol(train)])"
   ]
  },
  {
   "cell_type": "markdown",
   "id": "c013ea44",
   "metadata": {},
   "source": [
    "### Imputing and Scaling"
   ]
  },
  {
   "cell_type": "code",
   "execution_count": 8,
   "id": "e19cef76",
   "metadata": {},
   "outputs": [
    {
     "data": {
      "text/html": [
       "<table class=\"dataframe\">\n",
       "<caption>A matrix: 6 × 76 of type dbl</caption>\n",
       "<thead>\n",
       "\t<tr><th scope=col>Date</th><th scope=col>Place_ID</th><th scope=col>precipitable_water_entire_atmosphere</th><th scope=col>relative_humidity_2m_above_ground</th><th scope=col>specific_humidity_2m_above_ground</th><th scope=col>temperature_2m_above_ground</th><th scope=col>u_component_of_wind_10m_above_ground</th><th scope=col>v_component_of_wind_10m_above_ground</th><th scope=col>L3_NO2_NO2_column_number_density</th><th scope=col>L3_NO2_NO2_slant_column_number_density</th><th scope=col>⋯</th><th scope=col>L3_SO2_sensor_zenith_angle</th><th scope=col>L3_SO2_solar_azimuth_angle</th><th scope=col>L3_SO2_solar_zenith_angle</th><th scope=col>L3_CH4_CH4_column_volume_mixing_ratio_dry_air</th><th scope=col>L3_CH4_aerosol_height</th><th scope=col>L3_CH4_aerosol_optical_depth</th><th scope=col>L3_CH4_sensor_azimuth_angle</th><th scope=col>L3_CH4_sensor_zenith_angle</th><th scope=col>L3_CH4_solar_azimuth_angle</th><th scope=col>L3_CH4_solar_zenith_angle</th></tr>\n",
       "</thead>\n",
       "<tbody>\n",
       "\t<tr><td>-1.713559</td><td>-1.729979</td><td>-0.40251639</td><td>-0.5504471</td><td> 0.53750262</td><td>0.9841888</td><td>0.5832705</td><td>-0.4980767</td><td>-0.2172832</td><td>-0.06960629</td><td>⋯</td><td> 0.1583786</td><td>0.8613544</td><td>-1.6561493</td><td> 0.9364563</td><td> 0.8706498</td><td>-0.20904427</td><td> 1.32894163</td><td> 1.3137063</td><td>0.08212234</td><td>-0.02241199</td></tr>\n",
       "\t<tr><td>-1.676693</td><td>-1.729979</td><td>-0.06570805</td><td>-1.1565760</td><td> 0.62991865</td><td>1.4154846</td><td>1.0759062</td><td>-0.4832061</td><td>-0.1938101</td><td> 0.30861530</td><td>⋯</td><td> 1.2679349</td><td>0.7787452</td><td>-1.2278209</td><td> 0.9323331</td><td> 0.9604512</td><td>-0.04154065</td><td> 1.34979405</td><td> 2.3221271</td><td>0.17981154</td><td>-0.15359172</td></tr>\n",
       "\t<tr><td>-1.639828</td><td>-1.729979</td><td> 0.10269603</td><td>-1.9753814</td><td> 0.39491805</td><td>1.8954577</td><td>1.7167127</td><td> 1.2915109</td><td>-0.2942676</td><td> 0.06490518</td><td>⋯</td><td> 0.7517081</td><td>0.6306671</td><td>-0.8384781</td><td>-0.6067773</td><td>-0.5882592</td><td>-0.47448752</td><td>-0.39611073</td><td>-0.2913118</td><td>0.67917093</td><td>-0.61862280</td></tr>\n",
       "\t<tr><td>-1.602962</td><td>-1.729979</td><td>-0.78498582</td><td>-2.6187286</td><td>-0.55300540</td><td>1.5680361</td><td>0.9553636</td><td> 0.3826688</td><td>-0.1240037</td><td> 0.10583007</td><td>⋯</td><td>-0.3381472</td><td>0.6924907</td><td>-1.0955332</td><td> 0.5585970</td><td> 0.5366922</td><td>-0.14130237</td><td>-1.49649141</td><td> 0.3701075</td><td>0.20274542</td><td> 0.06627521</td></tr>\n",
       "\t<tr><td>-1.566096</td><td>-1.729979</td><td>-0.13119854</td><td>-1.3745696</td><td>-0.17277988</td><td>0.8021820</td><td>0.8142205</td><td> 0.9773458</td><td>-0.2540085</td><td>-0.20109093</td><td>⋯</td><td>-1.8355686</td><td>0.7659668</td><td>-1.3453403</td><td>-0.9931134</td><td>-0.9830554</td><td>-0.60062287</td><td>-0.02277087</td><td>-0.7692042</td><td>0.81578127</td><td>-0.93198999</td></tr>\n",
       "\t<tr><td>-1.529230</td><td>-1.729979</td><td>-0.06570805</td><td>-1.5074926</td><td>-0.03770471</td><td>1.0546196</td><td>0.9374911</td><td> 0.3333135</td><td>-0.2723262</td><td>-0.16455073</td><td>⋯</td><td>-0.2630272</td><td>0.8560471</td><td>-1.5837698</td><td>-0.6066535</td><td>-0.6146576</td><td>-0.46100294</td><td> 0.24457736</td><td>-0.4833405</td><td>0.65534320</td><td>-0.74861539</td></tr>\n",
       "</tbody>\n",
       "</table>\n"
      ],
      "text/latex": [
       "A matrix: 6 × 76 of type dbl\n",
       "\\begin{tabular}{lllllllllllllllllllll}\n",
       " Date & Place\\_ID & precipitable\\_water\\_entire\\_atmosphere & relative\\_humidity\\_2m\\_above\\_ground & specific\\_humidity\\_2m\\_above\\_ground & temperature\\_2m\\_above\\_ground & u\\_component\\_of\\_wind\\_10m\\_above\\_ground & v\\_component\\_of\\_wind\\_10m\\_above\\_ground & L3\\_NO2\\_NO2\\_column\\_number\\_density & L3\\_NO2\\_NO2\\_slant\\_column\\_number\\_density & ⋯ & L3\\_SO2\\_sensor\\_zenith\\_angle & L3\\_SO2\\_solar\\_azimuth\\_angle & L3\\_SO2\\_solar\\_zenith\\_angle & L3\\_CH4\\_CH4\\_column\\_volume\\_mixing\\_ratio\\_dry\\_air & L3\\_CH4\\_aerosol\\_height & L3\\_CH4\\_aerosol\\_optical\\_depth & L3\\_CH4\\_sensor\\_azimuth\\_angle & L3\\_CH4\\_sensor\\_zenith\\_angle & L3\\_CH4\\_solar\\_azimuth\\_angle & L3\\_CH4\\_solar\\_zenith\\_angle\\\\\n",
       "\\hline\n",
       "\t -1.713559 & -1.729979 & -0.40251639 & -0.5504471 &  0.53750262 & 0.9841888 & 0.5832705 & -0.4980767 & -0.2172832 & -0.06960629 & ⋯ &  0.1583786 & 0.8613544 & -1.6561493 &  0.9364563 &  0.8706498 & -0.20904427 &  1.32894163 &  1.3137063 & 0.08212234 & -0.02241199\\\\\n",
       "\t -1.676693 & -1.729979 & -0.06570805 & -1.1565760 &  0.62991865 & 1.4154846 & 1.0759062 & -0.4832061 & -0.1938101 &  0.30861530 & ⋯ &  1.2679349 & 0.7787452 & -1.2278209 &  0.9323331 &  0.9604512 & -0.04154065 &  1.34979405 &  2.3221271 & 0.17981154 & -0.15359172\\\\\n",
       "\t -1.639828 & -1.729979 &  0.10269603 & -1.9753814 &  0.39491805 & 1.8954577 & 1.7167127 &  1.2915109 & -0.2942676 &  0.06490518 & ⋯ &  0.7517081 & 0.6306671 & -0.8384781 & -0.6067773 & -0.5882592 & -0.47448752 & -0.39611073 & -0.2913118 & 0.67917093 & -0.61862280\\\\\n",
       "\t -1.602962 & -1.729979 & -0.78498582 & -2.6187286 & -0.55300540 & 1.5680361 & 0.9553636 &  0.3826688 & -0.1240037 &  0.10583007 & ⋯ & -0.3381472 & 0.6924907 & -1.0955332 &  0.5585970 &  0.5366922 & -0.14130237 & -1.49649141 &  0.3701075 & 0.20274542 &  0.06627521\\\\\n",
       "\t -1.566096 & -1.729979 & -0.13119854 & -1.3745696 & -0.17277988 & 0.8021820 & 0.8142205 &  0.9773458 & -0.2540085 & -0.20109093 & ⋯ & -1.8355686 & 0.7659668 & -1.3453403 & -0.9931134 & -0.9830554 & -0.60062287 & -0.02277087 & -0.7692042 & 0.81578127 & -0.93198999\\\\\n",
       "\t -1.529230 & -1.729979 & -0.06570805 & -1.5074926 & -0.03770471 & 1.0546196 & 0.9374911 &  0.3333135 & -0.2723262 & -0.16455073 & ⋯ & -0.2630272 & 0.8560471 & -1.5837698 & -0.6066535 & -0.6146576 & -0.46100294 &  0.24457736 & -0.4833405 & 0.65534320 & -0.74861539\\\\\n",
       "\\end{tabular}\n"
      ],
      "text/markdown": [
       "\n",
       "A matrix: 6 × 76 of type dbl\n",
       "\n",
       "| Date | Place_ID | precipitable_water_entire_atmosphere | relative_humidity_2m_above_ground | specific_humidity_2m_above_ground | temperature_2m_above_ground | u_component_of_wind_10m_above_ground | v_component_of_wind_10m_above_ground | L3_NO2_NO2_column_number_density | L3_NO2_NO2_slant_column_number_density | ⋯ | L3_SO2_sensor_zenith_angle | L3_SO2_solar_azimuth_angle | L3_SO2_solar_zenith_angle | L3_CH4_CH4_column_volume_mixing_ratio_dry_air | L3_CH4_aerosol_height | L3_CH4_aerosol_optical_depth | L3_CH4_sensor_azimuth_angle | L3_CH4_sensor_zenith_angle | L3_CH4_solar_azimuth_angle | L3_CH4_solar_zenith_angle |\n",
       "|---|---|---|---|---|---|---|---|---|---|---|---|---|---|---|---|---|---|---|---|---|\n",
       "| -1.713559 | -1.729979 | -0.40251639 | -0.5504471 |  0.53750262 | 0.9841888 | 0.5832705 | -0.4980767 | -0.2172832 | -0.06960629 | ⋯ |  0.1583786 | 0.8613544 | -1.6561493 |  0.9364563 |  0.8706498 | -0.20904427 |  1.32894163 |  1.3137063 | 0.08212234 | -0.02241199 |\n",
       "| -1.676693 | -1.729979 | -0.06570805 | -1.1565760 |  0.62991865 | 1.4154846 | 1.0759062 | -0.4832061 | -0.1938101 |  0.30861530 | ⋯ |  1.2679349 | 0.7787452 | -1.2278209 |  0.9323331 |  0.9604512 | -0.04154065 |  1.34979405 |  2.3221271 | 0.17981154 | -0.15359172 |\n",
       "| -1.639828 | -1.729979 |  0.10269603 | -1.9753814 |  0.39491805 | 1.8954577 | 1.7167127 |  1.2915109 | -0.2942676 |  0.06490518 | ⋯ |  0.7517081 | 0.6306671 | -0.8384781 | -0.6067773 | -0.5882592 | -0.47448752 | -0.39611073 | -0.2913118 | 0.67917093 | -0.61862280 |\n",
       "| -1.602962 | -1.729979 | -0.78498582 | -2.6187286 | -0.55300540 | 1.5680361 | 0.9553636 |  0.3826688 | -0.1240037 |  0.10583007 | ⋯ | -0.3381472 | 0.6924907 | -1.0955332 |  0.5585970 |  0.5366922 | -0.14130237 | -1.49649141 |  0.3701075 | 0.20274542 |  0.06627521 |\n",
       "| -1.566096 | -1.729979 | -0.13119854 | -1.3745696 | -0.17277988 | 0.8021820 | 0.8142205 |  0.9773458 | -0.2540085 | -0.20109093 | ⋯ | -1.8355686 | 0.7659668 | -1.3453403 | -0.9931134 | -0.9830554 | -0.60062287 | -0.02277087 | -0.7692042 | 0.81578127 | -0.93198999 |\n",
       "| -1.529230 | -1.729979 | -0.06570805 | -1.5074926 | -0.03770471 | 1.0546196 | 0.9374911 |  0.3333135 | -0.2723262 | -0.16455073 | ⋯ | -0.2630272 | 0.8560471 | -1.5837698 | -0.6066535 | -0.6146576 | -0.46100294 |  0.24457736 | -0.4833405 | 0.65534320 | -0.74861539 |\n",
       "\n"
      ],
      "text/plain": [
       "     Date      Place_ID  precipitable_water_entire_atmosphere\n",
       "[1,] -1.713559 -1.729979 -0.40251639                         \n",
       "[2,] -1.676693 -1.729979 -0.06570805                         \n",
       "[3,] -1.639828 -1.729979  0.10269603                         \n",
       "[4,] -1.602962 -1.729979 -0.78498582                         \n",
       "[5,] -1.566096 -1.729979 -0.13119854                         \n",
       "[6,] -1.529230 -1.729979 -0.06570805                         \n",
       "     relative_humidity_2m_above_ground specific_humidity_2m_above_ground\n",
       "[1,] -0.5504471                         0.53750262                      \n",
       "[2,] -1.1565760                         0.62991865                      \n",
       "[3,] -1.9753814                         0.39491805                      \n",
       "[4,] -2.6187286                        -0.55300540                      \n",
       "[5,] -1.3745696                        -0.17277988                      \n",
       "[6,] -1.5074926                        -0.03770471                      \n",
       "     temperature_2m_above_ground u_component_of_wind_10m_above_ground\n",
       "[1,] 0.9841888                   0.5832705                           \n",
       "[2,] 1.4154846                   1.0759062                           \n",
       "[3,] 1.8954577                   1.7167127                           \n",
       "[4,] 1.5680361                   0.9553636                           \n",
       "[5,] 0.8021820                   0.8142205                           \n",
       "[6,] 1.0546196                   0.9374911                           \n",
       "     v_component_of_wind_10m_above_ground L3_NO2_NO2_column_number_density\n",
       "[1,] -0.4980767                           -0.2172832                      \n",
       "[2,] -0.4832061                           -0.1938101                      \n",
       "[3,]  1.2915109                           -0.2942676                      \n",
       "[4,]  0.3826688                           -0.1240037                      \n",
       "[5,]  0.9773458                           -0.2540085                      \n",
       "[6,]  0.3333135                           -0.2723262                      \n",
       "     L3_NO2_NO2_slant_column_number_density ⋯ L3_SO2_sensor_zenith_angle\n",
       "[1,] -0.06960629                            ⋯  0.1583786                \n",
       "[2,]  0.30861530                            ⋯  1.2679349                \n",
       "[3,]  0.06490518                            ⋯  0.7517081                \n",
       "[4,]  0.10583007                            ⋯ -0.3381472                \n",
       "[5,] -0.20109093                            ⋯ -1.8355686                \n",
       "[6,] -0.16455073                            ⋯ -0.2630272                \n",
       "     L3_SO2_solar_azimuth_angle L3_SO2_solar_zenith_angle\n",
       "[1,] 0.8613544                  -1.6561493               \n",
       "[2,] 0.7787452                  -1.2278209               \n",
       "[3,] 0.6306671                  -0.8384781               \n",
       "[4,] 0.6924907                  -1.0955332               \n",
       "[5,] 0.7659668                  -1.3453403               \n",
       "[6,] 0.8560471                  -1.5837698               \n",
       "     L3_CH4_CH4_column_volume_mixing_ratio_dry_air L3_CH4_aerosol_height\n",
       "[1,]  0.9364563                                     0.8706498           \n",
       "[2,]  0.9323331                                     0.9604512           \n",
       "[3,] -0.6067773                                    -0.5882592           \n",
       "[4,]  0.5585970                                     0.5366922           \n",
       "[5,] -0.9931134                                    -0.9830554           \n",
       "[6,] -0.6066535                                    -0.6146576           \n",
       "     L3_CH4_aerosol_optical_depth L3_CH4_sensor_azimuth_angle\n",
       "[1,] -0.20904427                   1.32894163                \n",
       "[2,] -0.04154065                   1.34979405                \n",
       "[3,] -0.47448752                  -0.39611073                \n",
       "[4,] -0.14130237                  -1.49649141                \n",
       "[5,] -0.60062287                  -0.02277087                \n",
       "[6,] -0.46100294                   0.24457736                \n",
       "     L3_CH4_sensor_zenith_angle L3_CH4_solar_azimuth_angle\n",
       "[1,]  1.3137063                 0.08212234                \n",
       "[2,]  2.3221271                 0.17981154                \n",
       "[3,] -0.2913118                 0.67917093                \n",
       "[4,]  0.3701075                 0.20274542                \n",
       "[5,] -0.7692042                 0.81578127                \n",
       "[6,] -0.4833405                 0.65534320                \n",
       "     L3_CH4_solar_zenith_angle\n",
       "[1,] -0.02241199              \n",
       "[2,] -0.15359172              \n",
       "[3,] -0.61862280              \n",
       "[4,]  0.06627521              \n",
       "[5,] -0.93198999              \n",
       "[6,] -0.74861539              "
      ]
     },
     "metadata": {},
     "output_type": "display_data"
    }
   ],
   "source": [
    "values = preProcess(train[, 2:ncol(train)], method = c('knnImpute', 'scale', 'center'))\n",
    "train_scaled = predict(values, train[, 2:ncol(train)])\n",
    "X_train = as.matrix(train_scaled)\n",
    "head(X_train)"
   ]
  },
  {
   "cell_type": "code",
   "execution_count": 9,
   "id": "a47b9af7",
   "metadata": {},
   "outputs": [
    {
     "data": {
      "text/html": [
       "<table class=\"dataframe\">\n",
       "<caption>A matrix: 6 × 76 of type dbl</caption>\n",
       "<thead>\n",
       "\t<tr><th scope=col>Date</th><th scope=col>Place_ID</th><th scope=col>precipitable_water_entire_atmosphere</th><th scope=col>relative_humidity_2m_above_ground</th><th scope=col>specific_humidity_2m_above_ground</th><th scope=col>temperature_2m_above_ground</th><th scope=col>u_component_of_wind_10m_above_ground</th><th scope=col>v_component_of_wind_10m_above_ground</th><th scope=col>L3_NO2_NO2_column_number_density</th><th scope=col>L3_NO2_NO2_slant_column_number_density</th><th scope=col>⋯</th><th scope=col>L3_SO2_sensor_zenith_angle</th><th scope=col>L3_SO2_solar_azimuth_angle</th><th scope=col>L3_SO2_solar_zenith_angle</th><th scope=col>L3_CH4_CH4_column_volume_mixing_ratio_dry_air</th><th scope=col>L3_CH4_aerosol_height</th><th scope=col>L3_CH4_aerosol_optical_depth</th><th scope=col>L3_CH4_sensor_azimuth_angle</th><th scope=col>L3_CH4_sensor_zenith_angle</th><th scope=col>L3_CH4_solar_azimuth_angle</th><th scope=col>L3_CH4_solar_zenith_angle</th></tr>\n",
       "</thead>\n",
       "<tbody>\n",
       "\t<tr><td>-1.723312</td><td>-1.720798</td><td>-0.27749381</td><td>-2.22994512</td><td>-0.4364016</td><td>0.7475267</td><td>1.1545861</td><td> 0.2054204</td><td>-0.5349458</td><td>-0.5768441</td><td>⋯</td><td>-1.77836245</td><td>0.3541579</td><td>-1.890464</td><td>0.1651398</td><td>0.01191633</td><td>0.2839866</td><td> 0.4051754</td><td>-0.5717609</td><td> 0.38202007</td><td>-0.356867161</td></tr>\n",
       "\t<tr><td>-1.686432</td><td>-1.720798</td><td> 0.43701595</td><td>-1.53813133</td><td> 0.1340325</td><td>0.7935511</td><td>1.2505976</td><td> 0.1880225</td><td>-0.5699308</td><td>-0.5678219</td><td>⋯</td><td>-0.01342089</td><td>0.3668788</td><td>-2.209288</td><td>0.1740907</td><td>0.15687901</td><td>1.2401634</td><td> 0.7832587</td><td> 0.6056657</td><td> 0.26606957</td><td>-0.566078436</td></tr>\n",
       "\t<tr><td>-1.649551</td><td>-1.720798</td><td> 0.36236560</td><td>-1.62528910</td><td> 0.1186983</td><td>0.8538634</td><td>1.6062964</td><td> 0.5237695</td><td>-0.5710489</td><td>-0.3160859</td><td>⋯</td><td> 1.11534495</td><td>0.3799855</td><td>-2.527778</td><td>0.5659608</td><td>0.54377955</td><td>1.8810922</td><td> 1.0480317</td><td> 1.2690047</td><td> 0.17721344</td><td>-0.408785339</td></tr>\n",
       "\t<tr><td>-1.612671</td><td>-1.720798</td><td> 0.08636728</td><td>-0.98250136</td><td> 0.4836536</td><td>0.7207669</td><td>1.6792629</td><td>-0.1044149</td><td>-0.5157541</td><td>-0.1159092</td><td>⋯</td><td> 1.29089816</td><td>0.3376007</td><td>-1.181654</td><td>0.9695848</td><td>0.72838236</td><td>2.1392245</td><td>-1.8126613</td><td> 2.2879662</td><td>-0.05205319</td><td> 0.360041781</td></tr>\n",
       "\t<tr><td>-1.575790</td><td>-1.720798</td><td>-0.48011603</td><td> 0.02525861</td><td> 0.7872719</td><td>0.4038844</td><td>0.9988288</td><td>-0.1349164</td><td>-0.5146960</td><td>-0.3518712</td><td>⋯</td><td> 0.32068750</td><td>0.3532100</td><td>-1.500994</td><td>0.9524651</td><td>0.83323465</td><td>0.4341072</td><td>-1.8075611</td><td> 1.5367812</td><td>-0.28174970</td><td> 0.174699546</td></tr>\n",
       "\t<tr><td>-1.538910</td><td>-1.720798</td><td>-0.08553597</td><td>-0.10003024</td><td> 0.8490872</td><td>0.5095182</td><td>1.1508116</td><td>-0.1217030</td><td>-0.4787264</td><td>-0.5174597</td><td>⋯</td><td>-1.27905310</td><td>0.3697017</td><td>-1.820525</td><td>0.9594666</td><td>0.69971269</td><td>0.1142440</td><td>-1.7565099</td><td>-0.1258437</td><td>-0.26541203</td><td>-0.003093347</td></tr>\n",
       "</tbody>\n",
       "</table>\n"
      ],
      "text/latex": [
       "A matrix: 6 × 76 of type dbl\n",
       "\\begin{tabular}{lllllllllllllllllllll}\n",
       " Date & Place\\_ID & precipitable\\_water\\_entire\\_atmosphere & relative\\_humidity\\_2m\\_above\\_ground & specific\\_humidity\\_2m\\_above\\_ground & temperature\\_2m\\_above\\_ground & u\\_component\\_of\\_wind\\_10m\\_above\\_ground & v\\_component\\_of\\_wind\\_10m\\_above\\_ground & L3\\_NO2\\_NO2\\_column\\_number\\_density & L3\\_NO2\\_NO2\\_slant\\_column\\_number\\_density & ⋯ & L3\\_SO2\\_sensor\\_zenith\\_angle & L3\\_SO2\\_solar\\_azimuth\\_angle & L3\\_SO2\\_solar\\_zenith\\_angle & L3\\_CH4\\_CH4\\_column\\_volume\\_mixing\\_ratio\\_dry\\_air & L3\\_CH4\\_aerosol\\_height & L3\\_CH4\\_aerosol\\_optical\\_depth & L3\\_CH4\\_sensor\\_azimuth\\_angle & L3\\_CH4\\_sensor\\_zenith\\_angle & L3\\_CH4\\_solar\\_azimuth\\_angle & L3\\_CH4\\_solar\\_zenith\\_angle\\\\\n",
       "\\hline\n",
       "\t -1.723312 & -1.720798 & -0.27749381 & -2.22994512 & -0.4364016 & 0.7475267 & 1.1545861 &  0.2054204 & -0.5349458 & -0.5768441 & ⋯ & -1.77836245 & 0.3541579 & -1.890464 & 0.1651398 & 0.01191633 & 0.2839866 &  0.4051754 & -0.5717609 &  0.38202007 & -0.356867161\\\\\n",
       "\t -1.686432 & -1.720798 &  0.43701595 & -1.53813133 &  0.1340325 & 0.7935511 & 1.2505976 &  0.1880225 & -0.5699308 & -0.5678219 & ⋯ & -0.01342089 & 0.3668788 & -2.209288 & 0.1740907 & 0.15687901 & 1.2401634 &  0.7832587 &  0.6056657 &  0.26606957 & -0.566078436\\\\\n",
       "\t -1.649551 & -1.720798 &  0.36236560 & -1.62528910 &  0.1186983 & 0.8538634 & 1.6062964 &  0.5237695 & -0.5710489 & -0.3160859 & ⋯ &  1.11534495 & 0.3799855 & -2.527778 & 0.5659608 & 0.54377955 & 1.8810922 &  1.0480317 &  1.2690047 &  0.17721344 & -0.408785339\\\\\n",
       "\t -1.612671 & -1.720798 &  0.08636728 & -0.98250136 &  0.4836536 & 0.7207669 & 1.6792629 & -0.1044149 & -0.5157541 & -0.1159092 & ⋯ &  1.29089816 & 0.3376007 & -1.181654 & 0.9695848 & 0.72838236 & 2.1392245 & -1.8126613 &  2.2879662 & -0.05205319 &  0.360041781\\\\\n",
       "\t -1.575790 & -1.720798 & -0.48011603 &  0.02525861 &  0.7872719 & 0.4038844 & 0.9988288 & -0.1349164 & -0.5146960 & -0.3518712 & ⋯ &  0.32068750 & 0.3532100 & -1.500994 & 0.9524651 & 0.83323465 & 0.4341072 & -1.8075611 &  1.5367812 & -0.28174970 &  0.174699546\\\\\n",
       "\t -1.538910 & -1.720798 & -0.08553597 & -0.10003024 &  0.8490872 & 0.5095182 & 1.1508116 & -0.1217030 & -0.4787264 & -0.5174597 & ⋯ & -1.27905310 & 0.3697017 & -1.820525 & 0.9594666 & 0.69971269 & 0.1142440 & -1.7565099 & -0.1258437 & -0.26541203 & -0.003093347\\\\\n",
       "\\end{tabular}\n"
      ],
      "text/markdown": [
       "\n",
       "A matrix: 6 × 76 of type dbl\n",
       "\n",
       "| Date | Place_ID | precipitable_water_entire_atmosphere | relative_humidity_2m_above_ground | specific_humidity_2m_above_ground | temperature_2m_above_ground | u_component_of_wind_10m_above_ground | v_component_of_wind_10m_above_ground | L3_NO2_NO2_column_number_density | L3_NO2_NO2_slant_column_number_density | ⋯ | L3_SO2_sensor_zenith_angle | L3_SO2_solar_azimuth_angle | L3_SO2_solar_zenith_angle | L3_CH4_CH4_column_volume_mixing_ratio_dry_air | L3_CH4_aerosol_height | L3_CH4_aerosol_optical_depth | L3_CH4_sensor_azimuth_angle | L3_CH4_sensor_zenith_angle | L3_CH4_solar_azimuth_angle | L3_CH4_solar_zenith_angle |\n",
       "|---|---|---|---|---|---|---|---|---|---|---|---|---|---|---|---|---|---|---|---|---|\n",
       "| -1.723312 | -1.720798 | -0.27749381 | -2.22994512 | -0.4364016 | 0.7475267 | 1.1545861 |  0.2054204 | -0.5349458 | -0.5768441 | ⋯ | -1.77836245 | 0.3541579 | -1.890464 | 0.1651398 | 0.01191633 | 0.2839866 |  0.4051754 | -0.5717609 |  0.38202007 | -0.356867161 |\n",
       "| -1.686432 | -1.720798 |  0.43701595 | -1.53813133 |  0.1340325 | 0.7935511 | 1.2505976 |  0.1880225 | -0.5699308 | -0.5678219 | ⋯ | -0.01342089 | 0.3668788 | -2.209288 | 0.1740907 | 0.15687901 | 1.2401634 |  0.7832587 |  0.6056657 |  0.26606957 | -0.566078436 |\n",
       "| -1.649551 | -1.720798 |  0.36236560 | -1.62528910 |  0.1186983 | 0.8538634 | 1.6062964 |  0.5237695 | -0.5710489 | -0.3160859 | ⋯ |  1.11534495 | 0.3799855 | -2.527778 | 0.5659608 | 0.54377955 | 1.8810922 |  1.0480317 |  1.2690047 |  0.17721344 | -0.408785339 |\n",
       "| -1.612671 | -1.720798 |  0.08636728 | -0.98250136 |  0.4836536 | 0.7207669 | 1.6792629 | -0.1044149 | -0.5157541 | -0.1159092 | ⋯ |  1.29089816 | 0.3376007 | -1.181654 | 0.9695848 | 0.72838236 | 2.1392245 | -1.8126613 |  2.2879662 | -0.05205319 |  0.360041781 |\n",
       "| -1.575790 | -1.720798 | -0.48011603 |  0.02525861 |  0.7872719 | 0.4038844 | 0.9988288 | -0.1349164 | -0.5146960 | -0.3518712 | ⋯ |  0.32068750 | 0.3532100 | -1.500994 | 0.9524651 | 0.83323465 | 0.4341072 | -1.8075611 |  1.5367812 | -0.28174970 |  0.174699546 |\n",
       "| -1.538910 | -1.720798 | -0.08553597 | -0.10003024 |  0.8490872 | 0.5095182 | 1.1508116 | -0.1217030 | -0.4787264 | -0.5174597 | ⋯ | -1.27905310 | 0.3697017 | -1.820525 | 0.9594666 | 0.69971269 | 0.1142440 | -1.7565099 | -0.1258437 | -0.26541203 | -0.003093347 |\n",
       "\n"
      ],
      "text/plain": [
       "     Date      Place_ID  precipitable_water_entire_atmosphere\n",
       "[1,] -1.723312 -1.720798 -0.27749381                         \n",
       "[2,] -1.686432 -1.720798  0.43701595                         \n",
       "[3,] -1.649551 -1.720798  0.36236560                         \n",
       "[4,] -1.612671 -1.720798  0.08636728                         \n",
       "[5,] -1.575790 -1.720798 -0.48011603                         \n",
       "[6,] -1.538910 -1.720798 -0.08553597                         \n",
       "     relative_humidity_2m_above_ground specific_humidity_2m_above_ground\n",
       "[1,] -2.22994512                       -0.4364016                       \n",
       "[2,] -1.53813133                        0.1340325                       \n",
       "[3,] -1.62528910                        0.1186983                       \n",
       "[4,] -0.98250136                        0.4836536                       \n",
       "[5,]  0.02525861                        0.7872719                       \n",
       "[6,] -0.10003024                        0.8490872                       \n",
       "     temperature_2m_above_ground u_component_of_wind_10m_above_ground\n",
       "[1,] 0.7475267                   1.1545861                           \n",
       "[2,] 0.7935511                   1.2505976                           \n",
       "[3,] 0.8538634                   1.6062964                           \n",
       "[4,] 0.7207669                   1.6792629                           \n",
       "[5,] 0.4038844                   0.9988288                           \n",
       "[6,] 0.5095182                   1.1508116                           \n",
       "     v_component_of_wind_10m_above_ground L3_NO2_NO2_column_number_density\n",
       "[1,]  0.2054204                           -0.5349458                      \n",
       "[2,]  0.1880225                           -0.5699308                      \n",
       "[3,]  0.5237695                           -0.5710489                      \n",
       "[4,] -0.1044149                           -0.5157541                      \n",
       "[5,] -0.1349164                           -0.5146960                      \n",
       "[6,] -0.1217030                           -0.4787264                      \n",
       "     L3_NO2_NO2_slant_column_number_density ⋯ L3_SO2_sensor_zenith_angle\n",
       "[1,] -0.5768441                             ⋯ -1.77836245               \n",
       "[2,] -0.5678219                             ⋯ -0.01342089               \n",
       "[3,] -0.3160859                             ⋯  1.11534495               \n",
       "[4,] -0.1159092                             ⋯  1.29089816               \n",
       "[5,] -0.3518712                             ⋯  0.32068750               \n",
       "[6,] -0.5174597                             ⋯ -1.27905310               \n",
       "     L3_SO2_solar_azimuth_angle L3_SO2_solar_zenith_angle\n",
       "[1,] 0.3541579                  -1.890464                \n",
       "[2,] 0.3668788                  -2.209288                \n",
       "[3,] 0.3799855                  -2.527778                \n",
       "[4,] 0.3376007                  -1.181654                \n",
       "[5,] 0.3532100                  -1.500994                \n",
       "[6,] 0.3697017                  -1.820525                \n",
       "     L3_CH4_CH4_column_volume_mixing_ratio_dry_air L3_CH4_aerosol_height\n",
       "[1,] 0.1651398                                     0.01191633           \n",
       "[2,] 0.1740907                                     0.15687901           \n",
       "[3,] 0.5659608                                     0.54377955           \n",
       "[4,] 0.9695848                                     0.72838236           \n",
       "[5,] 0.9524651                                     0.83323465           \n",
       "[6,] 0.9594666                                     0.69971269           \n",
       "     L3_CH4_aerosol_optical_depth L3_CH4_sensor_azimuth_angle\n",
       "[1,] 0.2839866                     0.4051754                 \n",
       "[2,] 1.2401634                     0.7832587                 \n",
       "[3,] 1.8810922                     1.0480317                 \n",
       "[4,] 2.1392245                    -1.8126613                 \n",
       "[5,] 0.4341072                    -1.8075611                 \n",
       "[6,] 0.1142440                    -1.7565099                 \n",
       "     L3_CH4_sensor_zenith_angle L3_CH4_solar_azimuth_angle\n",
       "[1,] -0.5717609                  0.38202007               \n",
       "[2,]  0.6056657                  0.26606957               \n",
       "[3,]  1.2690047                  0.17721344               \n",
       "[4,]  2.2879662                 -0.05205319               \n",
       "[5,]  1.5367812                 -0.28174970               \n",
       "[6,] -0.1258437                 -0.26541203               \n",
       "     L3_CH4_solar_zenith_angle\n",
       "[1,] -0.356867161             \n",
       "[2,] -0.566078436             \n",
       "[3,] -0.408785339             \n",
       "[4,]  0.360041781             \n",
       "[5,]  0.174699546             \n",
       "[6,] -0.003093347             "
      ]
     },
     "metadata": {},
     "output_type": "display_data"
    }
   ],
   "source": [
    "values = preProcess(test[, 2:ncol(test)], method = c('knnImpute', 'scale', 'center'))\n",
    "test_scaled = predict(values, test[, 2:ncol(test)])\n",
    "X_test = as.matrix(test_scaled)\n",
    "head(X_test)"
   ]
  },
  {
   "cell_type": "markdown",
   "id": "97a9e6cc",
   "metadata": {},
   "source": [
    "## 3 Training"
   ]
  },
  {
   "cell_type": "code",
   "execution_count": 10,
   "id": "2ba9d396",
   "metadata": {},
   "outputs": [],
   "source": [
    "return_model <- function(HIDDEN, DROPOUT) {\n",
    "    model <- keras_model_sequential()\n",
    "\n",
    "    model %>% \n",
    "      layer_dense(units = HIDDEN, activation = 'relu', input_shape = c(76)) %>% \n",
    "      layer_dropout(rate = DROPOUT) %>% \n",
    "      layer_dense(units = HIDDEN, activation = 'relu') %>%\n",
    "      layer_dropout(rate = DROPOUT) %>%\n",
    "      layer_dense(units = 1, activation = 'relu')\n",
    "\n",
    "    return(model)\n",
    "}\n",
    "\n",
    "\n",
    "training <- function(features, labels, VERSION, CV, HIDDEN, DROPOUT, BATCH, EPOCHS, LEARNING_RATE) {\n",
    "    # This function is a cross-validated training.\n",
    "    #writeLines(\"Cross-Validated Training is starting...\")\n",
    "\n",
    "    TRAIN_LOSSES = matrix(0, EPOCHS, CV)\n",
    "    VAL_LOSSES = matrix(0, EPOCHS, CV)\n",
    "\n",
    "    folds = createFolds(labels, k=CV, list=FALSE)\n",
    "\n",
    "    for (i in 1:CV) {\n",
    "        #writeLines(sprintf(\"Fold: %s\", i))\n",
    "\n",
    "        # Data\n",
    "        X_train_now = features[which(folds != i), ]\n",
    "        X_val_now = features[which(folds == i), ]\n",
    "        y_train_now = labels[which(folds != i), ]\n",
    "        y_val_now = labels[which(folds == i), ]\n",
    "\n",
    "        # Model\n",
    "        model = return_model(HIDDEN, DROPOUT)\n",
    "        #summary(model)\n",
    "        model %>% compile(loss ='mean_squared_error', optimizer = optimizer_adam(learning_rate = LEARNING_RATE))\n",
    "\n",
    "        history = model %>% fit(X_train_now, y_train_now,\n",
    "                                batch_size = BATCH,\n",
    "                                epochs = EPOCHS,\n",
    "                                validation_data = list(X_val_now, y_val_now))\n",
    "\n",
    "        save_model_hdf5(model, paste0(\"model_\", i, \".h5\"))\n",
    "        rm(model)\n",
    "\n",
    "        TRAIN_LOSSES[, i] = sqrt(history$metrics$loss)\n",
    "        VAL_LOSSES[, i] = sqrt(history$metrics$val_loss)\n",
    "    }\n",
    "\n",
    "    writeLines(\"\\n\")\n",
    "    writeLines(\"Epoch \\t TRAINING \\t \\t VALIDATION\")\n",
    "    writeLines(\"===================================================\")\n",
    "    for (i in 1:nrow(TRAIN_LOSSES)) {\n",
    "        writeLines(sprintf(\"%s: \\t %s (SD: %s) \\t %s (SD: %s)\", i, round(mean(TRAIN_LOSSES[i, ]), 3), round(sd(TRAIN_LOSSES[i, ]), 3), round(mean(VAL_LOSSES[i, ]), 3), round(sd(VAL_LOSSES[i, ]), 3)))\n",
    "    }\n",
    "\n",
    "    plot(TRAIN_LOSSES[, 1], type = \"b\", main = \"TRAINING\", xlab = \"EPOCHS\", ylab = \"LOSS\", ylim = c(25, 50))\n",
    "\n",
    "    for (i in 2:CV-1) {\n",
    "      lines(TRAIN_LOSSES[, i], type = \"b\")\n",
    "    }\n",
    "\n",
    "    plot(VAL_LOSSES[, 1], type = \"b\", main = \"VALIDATION\", xlab = \"EPOCHS\", ylab = \"LOSS\", ylim = c(25, 50))\n",
    "\n",
    "    for (i in 2:CV-1) {\n",
    "        lines(VAL_LOSSES[, i], type = \"b\")\n",
    "    }\n",
    "}"
   ]
  },
  {
   "cell_type": "code",
   "execution_count": 11,
   "id": "8dcac89d",
   "metadata": {},
   "outputs": [
    {
     "name": "stdout",
     "output_type": "stream",
     "text": [
      "\n",
      "\n",
      "Epoch \t TRAINING \t \t VALIDATION\n",
      "===================================================\n",
      "1: \t 41.239 (SD: 0.671) \t 36.709 (SD: 1.265)\n",
      "2: \t 36.258 (SD: 0.356) \t 36.021 (SD: 1.242)\n",
      "3: \t 35.776 (SD: 0.381) \t 35.672 (SD: 1.279)\n",
      "4: \t 35.369 (SD: 0.376) \t 35.324 (SD: 1.221)\n",
      "5: \t 34.747 (SD: 0.425) \t 34.877 (SD: 1.461)\n",
      "6: \t 34.137 (SD: 0.397) \t 34.333 (SD: 1.293)\n",
      "7: \t 33.641 (SD: 0.427) \t 33.886 (SD: 1.302)\n",
      "8: \t 33.204 (SD: 0.424) \t 33.584 (SD: 1.434)\n",
      "9: \t 32.828 (SD: 0.41) \t 33.434 (SD: 1.4)\n",
      "10: \t 32.498 (SD: 0.404) \t 33.344 (SD: 1.406)\n",
      "11: \t 32.189 (SD: 0.393) \t 33.187 (SD: 1.434)\n",
      "12: \t 31.882 (SD: 0.383) \t 32.888 (SD: 1.537)\n",
      "13: \t 31.579 (SD: 0.346) \t 32.926 (SD: 1.543)\n",
      "14: \t 31.325 (SD: 0.346) \t 32.483 (SD: 1.418)\n",
      "15: \t 31.055 (SD: 0.332) \t 32.53 (SD: 1.539)\n"
     ]
    },
    {
     "data": {
      "image/png": "[encoded data removed]",
      "text/plain": [
       "Plot with title “TRAINING”"
      ]
     },
     "metadata": {
      "image/png": {
       "height": 420,
       "width": 420
      }
     },
     "output_type": "display_data"
    },
    {
     "data": {
      "image/png": "[encoded data removed]",
      "text/plain": [
       "Plot with title “VALIDATION”"
      ]
     },
     "metadata": {
      "image/png": {
       "height": 420,
       "width": 420
      }
     },
     "output_type": "display_data"
    }
   ],
   "source": [
    "training(X_train, y_train, VERSION, CV, HIDDEN, DROPOUT, BATCH, EPOCHS, LEARNING_RATE)"
   ]
  },
  {
   "cell_type": "markdown",
   "id": "469a1404",
   "metadata": {},
   "source": [
    "## 4 Prediction and Submission"
   ]
  },
  {
   "cell_type": "code",
   "execution_count": 12,
   "id": "66c9322a",
   "metadata": {},
   "outputs": [],
   "source": [
    "dir.create(file.path(\"Submission/\", VERSION), showWarnings = FALSE)"
   ]
  },
  {
   "cell_type": "code",
   "execution_count": 13,
   "id": "bfd764a2",
   "metadata": {},
   "outputs": [],
   "source": [
    "predicting <- function(CV) {\n",
    "    predictions = matrix(0, nrow(X_test))\n",
    "\n",
    "    for (i in 1:CV) {\n",
    "        model = load_model_hdf5(paste0(\"model_\", i, \".h5\"))\n",
    "        file.remove(paste0(\"model_\", i, \".h5\"))\n",
    "        pred = predict(model, X_test)\n",
    "        predictions = predictions + pred\n",
    "    }\n",
    "    predictions = predictions / CV\n",
    "    \n",
    "    return(predictions)\n",
    "}\n",
    "\n",
    "samplesubmission$target = predicting(CV)\n",
    "\n",
    "write.csv(samplesubmission, paste0(\"Submission/\", VERSION, \"/submission.csv\"), row.names = FALSE, quote = FALSE)"
   ]
  },
  {
   "cell_type": "code",
   "execution_count": 14,
   "id": "7de431d7",
   "metadata": {},
   "outputs": [
    {
     "data": {
      "text/plain": [
       "Time difference of 6.4 mins"
      ]
     },
     "metadata": {},
     "output_type": "display_data"
    }
   ],
   "source": [
    "end_time <- Sys.time()\n",
    "round(end_time - start_time, 1)"
   ]
  }
 ],
 "metadata": {
  "kernelspec": {
   "display_name": "R",
   "language": "R",
   "name": "ir"
  },
  "language_info": {
   "codemirror_mode": "r",
   "file_extension": ".r",
   "mimetype": "text/x-r-source",
   "name": "R",
   "pygments_lexer": "r",
   "version": "4.2.2"
  }
 },
 "nbformat": 4,
 "nbformat_minor": 5
}
