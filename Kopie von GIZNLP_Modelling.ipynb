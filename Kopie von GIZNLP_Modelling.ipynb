{
 "cells": [
  {
   "cell_type": "markdown",
   "metadata": {
    "id": "zEgmrqv0_wgD"
   },
   "source": [
    "# GIZ NLP Agricultural Keyword Spotter\n",
    "\n",
    "File name: GIZNLP_Modelling.ipynb\n",
    "\n",
    "Author: kogni7\n",
    "\n",
    "Date: October/November 2020\n",
    "\n",
    "## Contents\n",
    "* 1 Preparation\n",
    "  * 1.1 Libraries and Seed\n",
    "  * 1.2 Variables\n",
    "* 2 Data\n",
    "* 3 Model\n",
    "* 4 Train Algorithm\n",
    "* 5 Submission\n",
    "  * 5.1 Training\n",
    "  * 5.2 Prediction\n",
    "  * 5.3 Saving\n",
    "\n",
    "At first, run the preprocessing notebook!\n",
    "\n",
    "This notebook uses only the data sets provided by ZINDI. These data sets contain wav-files which are vocal utterances in English and Luganda. The (processed) utterances are the only used features in this notebook.\n",
    "\n",
    "The file system for this project is:\n",
    "\n",
    "- GIZNLP (root)\n",
    "  - GIZNLP_Preprocessing.ipynb\n",
    "  - GIZNLP_Modelling.ipynb (this notebook)\n",
    "  - Data\n",
    "      - audio_files\n",
    "      - latest_keywords\n",
    "      - nlp_keywords\n",
    "      - Train.csv\n",
    "      - SampleSubmission.csv\n",
    "  - Preprocessed_Data (will be created during the run of the preprocessing notebook)\n",
    "  - Submission\n",
    "      - 1 - x: Submission directories, named by the version number\n",
    "          - checkpoint_model.h5 (saved keras model)\n",
    "          - model.h5 (saved keras model)\n",
    "          - submission.csv\n",
    "\n",
    "This jupyter notebook runs in Google Colab without special configuration (and with the automatically loaded packages).\n",
    "\n",
    "The GPU is enabled for hardware acceleration. The results are probably not exactly reproducible, but the differences should be small.\n",
    "\n",
    "This notebook uses some basic ideas from the starter notebook.\n",
    "\n",
    "The idea of the notebook is a deep learning based approach."
   ]
  },
  {
   "cell_type": "markdown",
   "metadata": {
    "id": "2HinBZk5_wgE"
   },
   "source": [
    "## 1. Preparation\n",
    "### 1.1 Libraries and Seed"
   ]
  },
  {
   "cell_type": "code",
   "execution_count": 1,
   "metadata": {
    "executionInfo": {
     "elapsed": 2218,
     "status": "ok",
     "timestamp": 1606585019648,
     "user": {
      "displayName": "Andreas Schmitt",
      "photoUrl": "",
      "userId": "08919543814682882005"
     },
     "user_tz": -60
    },
    "id": "0Uaf_Ltn_wgE"
   },
   "outputs": [],
   "source": [
    "SEED = 42\n",
    "\n",
    "# Math\n",
    "import numpy as np\n",
    "\n",
    "# Tensorflow\n",
    "import tensorflow as tf\n",
    "\n",
    "# Seeds\n",
    "import random\n",
    "import os\n",
    "os.environ['PYTHONHASHSEED'] = str(SEED)\n",
    "\n",
    "np.random.seed(SEED + 1)\n",
    "random.seed(SEED + 2)\n",
    "\n",
    "tf.random.set_seed(SEED + 3)\n",
    "\n",
    "# Working with CSV\n",
    "import pandas as pd\n",
    "\n",
    "# Further imports\n",
    "import time\n",
    "import pickle\n",
    "\n",
    "# Plotting\n",
    "import matplotlib.pyplot as plt\n",
    "\n",
    "# Deep learning\n",
    "from keras.models import Model\n",
    "from keras.layers import AveragePooling2D, BatchNormalization, Conv2D, Dense, Dropout, GlobalAveragePooling2D, Input, MaxPooling2D, ReLU, SpatialDropout2D\n",
    "from keras.optimizers import Adam\n",
    "from keras.callbacks import EarlyStopping, ModelCheckpoint\n",
    "from keras.constraints import max_norm"
   ]
  },
  {
   "cell_type": "markdown",
   "metadata": {
    "id": "P7Trr_F-_wgF"
   },
   "source": [
    "### 1.2 Variables"
   ]
  },
  {
   "cell_type": "code",
   "execution_count": 2,
   "metadata": {
    "colab": {
     "base_uri": "https://localhost:8080/"
    },
    "executionInfo": {
     "elapsed": 21063,
     "status": "ok",
     "timestamp": 1606585038505,
     "user": {
      "displayName": "Andreas Schmitt",
      "photoUrl": "",
      "userId": "08919543814682882005"
     },
     "user_tz": -60
    },
    "id": "M9duUVPr_wgF",
    "outputId": "c72c690b-4214-450c-bc56-968d9fed43c7"
   },
   "outputs": [
    {
     "name": "stdout",
     "output_type": "stream",
     "text": [
      "Mounted at /content/drive\n",
      "/content/drive/My Drive/Colab Notebooks/GIZNLP\n"
     ]
    }
   ],
   "source": [
    "# Time \n",
    "start_time = time.time()\n",
    "\n",
    "# The Version\n",
    "VERSION = 'test_c'\n",
    "\n",
    "# for use in Google Colab\n",
    "from google.colab import drive\n",
    "drive.mount('/content/drive')\n",
    "\n",
    "# Working Directory\n",
    "WD = os.getcwd() + \"/drive/My Drive/Colab Notebooks/GIZNLP\"\n",
    "print(WD)\n",
    "\n",
    "# Classes\n",
    "CLASSES = 193"
   ]
  },
  {
   "cell_type": "markdown",
   "metadata": {
    "id": "a52GiTF0_wgG"
   },
   "source": [
    "## 2 Data"
   ]
  },
  {
   "cell_type": "code",
   "execution_count": 3,
   "metadata": {
    "executionInfo": {
     "elapsed": 27960,
     "status": "ok",
     "timestamp": 1606585045407,
     "user": {
      "displayName": "Andreas Schmitt",
      "photoUrl": "",
      "userId": "08919543814682882005"
     },
     "user_tz": -60
    },
    "id": "uA-x-GMg_wgG"
   },
   "outputs": [],
   "source": [
    "# The preprocessed data\n",
    "with open(WD + '/Preprocessed_Data/X.dat', 'rb') as file:\n",
    "    X = pickle.load(file)\n",
    "\n",
    "with open(WD + '/Preprocessed_Data/y.dat', 'rb') as file:\n",
    "    y = pickle.load(file)\n",
    "\n",
    "with open(WD + '/Preprocessed_Data/X_val.dat', 'rb') as file:\n",
    "    X_val = pickle.load(file)\n",
    "\n",
    "with open(WD + '/Preprocessed_Data/y_val.dat', 'rb') as file:\n",
    "    y_val = pickle.load(file)\n",
    "\n",
    "with open(WD + '/Preprocessed_Data/X_test.dat', 'rb') as file:\n",
    "    X_test = pickle.load(file)\n",
    "\n",
    "# The original sample submission\n",
    "sample_submission = pd.read_csv(WD + '/Data/SampleSubmission.csv')\n",
    "sample_submission_fn = sample_submission.fn\n",
    "sample_submission_index = sample_submission.index\n",
    "sample_submission_columns = sample_submission.columns\n",
    "del sample_submission"
   ]
  },
  {
   "cell_type": "markdown",
   "metadata": {
    "id": "CmnacwuA_wgN"
   },
   "source": [
    "## 3 Model"
   ]
  },
  {
   "cell_type": "code",
   "execution_count": 4,
   "metadata": {
    "executionInfo": {
     "elapsed": 27962,
     "status": "ok",
     "timestamp": 1606585045413,
     "user": {
      "displayName": "Andreas Schmitt",
      "photoUrl": "",
      "userId": "08919543814682882005"
     },
     "user_tz": -60
    },
    "id": "fn15Fs_1_wgN",
    "scrolled": false
   },
   "outputs": [],
   "source": [
    "def get_model(parameters):\n",
    "    \"\"\"\n",
    "    The model using deep learning.\n",
    "    \"\"\"\n",
    "\n",
    "    input = Input(shape=(None, None, 1))\n",
    "\n",
    "    layer = input\n",
    "\n",
    "    for letter in parameters[\"Structure\"]:\n",
    "\n",
    "        # Conv\n",
    "        if letter == \"C\":\n",
    "            layer = Conv2D(parameters[\"filters\"][0], parameters[\"kernel_size\"][0],\n",
    "                           kernel_constraint=parameters[\"Conv_constraint\"],\n",
    "                           bias_constraint=parameters[\"Conv_constraint\"],\n",
    "                           data_format='channels_last')(layer)\n",
    "            parameters[\"filters\"].pop(0)\n",
    "            parameters[\"kernel_size\"].pop(0)\n",
    "\n",
    "        # Dense\n",
    "        if letter == \"D\":\n",
    "            layer = Dense(parameters[\"Dense_units\"][0],\n",
    "                          kernel_constraint=parameters[\"Dense_constraint\"],\n",
    "                          bias_constraint=parameters[\"Dense_constraint\"])(layer)\n",
    "            parameters[\"Dense_units\"].pop(0)\n",
    "\n",
    "        # MaxPooling\n",
    "        if letter == \"M\":\n",
    "            layer = MaxPooling2D(pool_size=parameters[\"pool_size\"][0])(layer)\n",
    "            parameters[\"pool_size\"].pop(0)\n",
    "\n",
    "        # AveragePooling\n",
    "        if letter == \"A\":\n",
    "            layer = AveragePooling2D(pool_size=parameters[\"pool_size\"][0])(layer)\n",
    "            parameters[\"pool_size\"].pop(0)\n",
    "\n",
    "        # GlobalAveragePooling\n",
    "        if letter == \"G\": layer = GlobalAveragePooling2D()(layer)\n",
    "\n",
    "        # ReLU\n",
    "        if letter == \"R\": layer = ReLU()(layer)\n",
    "\n",
    "        # Dropout\n",
    "        if letter == \"O\":\n",
    "            layer = Dropout(parameters[\"rate\"][0], seed=SEED)(layer)  \n",
    "            parameters[\"rate\"].pop(0)\n",
    "\n",
    "        # SpatialDropout\n",
    "        if letter == \"S\":\n",
    "            layer = SpatialDropout2D(parameters[\"spatial_rate\"][0])(layer)\n",
    "            parameters[\"spatial_rate\"].pop(0)\n",
    "\n",
    "        # BatchNormalization\n",
    "        if letter == \"N\": layer = BatchNormalization()(layer)\n",
    "\n",
    "    # OUPUT\n",
    "    output = Dense(CLASSES, activation='sigmoid')(layer)\n",
    "\n",
    "    model = Model(inputs=input, outputs=output)\n",
    "\n",
    "    # Model run\n",
    "    model.compile(loss='categorical_crossentropy', optimizer=Adam(lr=parameters['lr']))\n",
    "\n",
    "    return model"
   ]
  },
  {
   "cell_type": "markdown",
   "metadata": {
    "id": "CtTfqlVK_wgN"
   },
   "source": [
    "## 4 Train Algorithm"
   ]
  },
  {
   "cell_type": "code",
   "execution_count": 5,
   "metadata": {
    "executionInfo": {
     "elapsed": 27959,
     "status": "ok",
     "timestamp": 1606585045414,
     "user": {
      "displayName": "Andreas Schmitt",
      "photoUrl": "",
      "userId": "08919543814682882005"
     },
     "user_tz": -60
    },
    "id": "laa9nfGz_wgN"
   },
   "outputs": [],
   "source": [
    "def training(X, y, X_val, y_val, parameters):\n",
    "    \"\"\"\n",
    "    This function is the procedure of a training, i.e. 80% of data for training and 20% for validation.\n",
    "    \"\"\"\n",
    "\n",
    "    print(\"Training is starting...\")\n",
    "\n",
    "    # Model\n",
    "    print(\"\\nModel building...\")\n",
    "    model = get_model(parameters)\n",
    "    model.summary()\n",
    "\n",
    "    # Modelcheckpoint\n",
    "    modelcheckpoint = ModelCheckpoint(filepath=WD + '/Submission/' + str(VERSION) + '/checkpoint_model.h5',\n",
    "                                      save_weights_only=True, monitor='val_loss', mode='min', save_best_only=True)\n",
    "\n",
    "    # Early Stopping\n",
    "    earlystopping = EarlyStopping(monitor='val_loss', patience=10, mode='min', restore_best_weights=True)\n",
    "\n",
    "    # Fit\n",
    "    print(\"\\nFitting...\")\n",
    "    model_fit=model.fit(X, y,\n",
    "                        batch_size=parameters[\"batch_size\"],\n",
    "                        epochs=parameters[\"epochs\"],\n",
    "                        verbose=1,\n",
    "                        validation_data=(X_val, y_val),\n",
    "                        callbacks=[modelcheckpoint, earlystopping])\n",
    "\n",
    "    model.load_weights(WD + '/Submission/' + str(VERSION) + '/checkpoint_model.h5')\n",
    "\n",
    "    # Minima\n",
    "    val_loss = np.min(model_fit.history['val_loss'])\n",
    "    epoch = model_fit.history['val_loss'].index(val_loss)\n",
    "    train_loss = model_fit.history['loss'][epoch]\n",
    "\n",
    "    print(\"Best epoch: {}; TRAIN loss: {:.4f}, VAL loss: {:.4f}\".format(epoch, train_loss, val_loss))\n",
    "\n",
    "    # Plot\n",
    "    plot_df = pd.DataFrame(model_fit.history)\n",
    "    plot_df.loc[:, ['loss', 'val_loss']].plot()\n",
    "\n",
    "    return model"
   ]
  },
  {
   "cell_type": "markdown",
   "metadata": {
    "id": "W_eo4WbN_wgO"
   },
   "source": [
    "## 5 Submission\n",
    "### 5.1 Training"
   ]
  },
  {
   "cell_type": "code",
   "execution_count": 6,
   "metadata": {
    "colab": {
     "base_uri": "https://localhost:8080/",
     "height": 1000
    },
    "executionInfo": {
     "elapsed": 962078,
     "status": "ok",
     "timestamp": 1606585979536,
     "user": {
      "displayName": "Andreas Schmitt",
      "photoUrl": "",
      "userId": "08919543814682882005"
     },
     "user_tz": -60
    },
    "id": "p7pS2Vk2_wgO",
    "outputId": "45b4f879-0806-4684-95ee-8790a4963cc7",
    "scrolled": false
   },
   "outputs": [
    {
     "name": "stdout",
     "output_type": "stream",
     "text": [
      "Training is starting...\n",
      "\n",
      "Model building...\n",
      "Model: \"functional_1\"\n",
      "_________________________________________________________________\n",
      "Layer (type)                 Output Shape              Param #   \n",
      "=================================================================\n",
      "input_1 (InputLayer)         [(None, None, None, 1)]   0         \n",
      "_________________________________________________________________\n",
      "conv2d (Conv2D)              (None, None, None, 64)    1664      \n",
      "_________________________________________________________________\n",
      "spatial_dropout2d (SpatialDr (None, None, None, 64)    0         \n",
      "_________________________________________________________________\n",
      "batch_normalization (BatchNo (None, None, None, 64)    256       \n",
      "_________________________________________________________________\n",
      "re_lu (ReLU)                 (None, None, None, 64)    0         \n",
      "_________________________________________________________________\n",
      "average_pooling2d (AveragePo (None, None, None, 64)    0         \n",
      "_________________________________________________________________\n",
      "conv2d_1 (Conv2D)            (None, None, None, 128)   204928    \n",
      "_________________________________________________________________\n",
      "spatial_dropout2d_1 (Spatial (None, None, None, 128)   0         \n",
      "_________________________________________________________________\n",
      "batch_normalization_1 (Batch (None, None, None, 128)   512       \n",
      "_________________________________________________________________\n",
      "re_lu_1 (ReLU)               (None, None, None, 128)   0         \n",
      "_________________________________________________________________\n",
      "average_pooling2d_1 (Average (None, None, None, 128)   0         \n",
      "_________________________________________________________________\n",
      "conv2d_2 (Conv2D)            (None, None, None, 256)   819456    \n",
      "_________________________________________________________________\n",
      "spatial_dropout2d_2 (Spatial (None, None, None, 256)   0         \n",
      "_________________________________________________________________\n",
      "batch_normalization_2 (Batch (None, None, None, 256)   1024      \n",
      "_________________________________________________________________\n",
      "re_lu_2 (ReLU)               (None, None, None, 256)   0         \n",
      "_________________________________________________________________\n",
      "global_average_pooling2d (Gl (None, 256)               0         \n",
      "_________________________________________________________________\n",
      "dense (Dense)                (None, 2000)              514000    \n",
      "_________________________________________________________________\n",
      "dropout (Dropout)            (None, 2000)              0         \n",
      "_________________________________________________________________\n",
      "batch_normalization_3 (Batch (None, 2000)              8000      \n",
      "_________________________________________________________________\n",
      "re_lu_3 (ReLU)               (None, 2000)              0         \n",
      "_________________________________________________________________\n",
      "dense_1 (Dense)              (None, 1000)              2001000   \n",
      "_________________________________________________________________\n",
      "dropout_1 (Dropout)          (None, 1000)              0         \n",
      "_________________________________________________________________\n",
      "batch_normalization_4 (Batch (None, 1000)              4000      \n",
      "_________________________________________________________________\n",
      "re_lu_4 (ReLU)               (None, 1000)              0         \n",
      "_________________________________________________________________\n",
      "dense_2 (Dense)              (None, 500)               500500    \n",
      "_________________________________________________________________\n",
      "dropout_2 (Dropout)          (None, 500)               0         \n",
      "_________________________________________________________________\n",
      "batch_normalization_5 (Batch (None, 500)               2000      \n",
      "_________________________________________________________________\n",
      "re_lu_5 (ReLU)               (None, 500)               0         \n",
      "_________________________________________________________________\n",
      "dense_3 (Dense)              (None, 193)               96693     \n",
      "=================================================================\n",
      "Total params: 4,154,033\n",
      "Trainable params: 4,146,137\n",
      "Non-trainable params: 7,896\n",
      "_________________________________________________________________\n",
      "\n",
      "Fitting...\n",
      "Epoch 1/100\n",
      "76/76 [==============================] - 11s 141ms/step - loss: 5.9192 - val_loss: 9.1810\n",
      "Epoch 2/100\n",
      "76/76 [==============================] - 10s 133ms/step - loss: 5.2928 - val_loss: 5.7174\n",
      "Epoch 3/100\n",
      "76/76 [==============================] - 10s 133ms/step - loss: 5.0944 - val_loss: 5.0412\n",
      "Epoch 4/100\n",
      "76/76 [==============================] - 10s 129ms/step - loss: 5.0006 - val_loss: 5.1113\n",
      "Epoch 5/100\n",
      "76/76 [==============================] - 10s 130ms/step - loss: 4.9003 - val_loss: 5.1589\n",
      "Epoch 6/100\n",
      "76/76 [==============================] - 10s 134ms/step - loss: 4.7810 - val_loss: 4.9688\n",
      "Epoch 7/100\n",
      "76/76 [==============================] - 10s 135ms/step - loss: 4.6694 - val_loss: 4.8505\n",
      "Epoch 8/100\n",
      "76/76 [==============================] - 10s 135ms/step - loss: 4.5610 - val_loss: 4.7136\n",
      "Epoch 9/100\n",
      "76/76 [==============================] - 10s 134ms/step - loss: 4.5054 - val_loss: 4.6766\n",
      "Epoch 10/100\n",
      "76/76 [==============================] - 10s 129ms/step - loss: 4.3918 - val_loss: 4.9468\n",
      "Epoch 11/100\n",
      "76/76 [==============================] - 10s 134ms/step - loss: 4.3121 - val_loss: 4.6059\n",
      "Epoch 12/100\n",
      "76/76 [==============================] - 10s 133ms/step - loss: 4.2104 - val_loss: 4.4035\n",
      "Epoch 13/100\n",
      "76/76 [==============================] - 10s 130ms/step - loss: 4.1153 - val_loss: 4.4511\n",
      "Epoch 14/100\n",
      "76/76 [==============================] - 10s 130ms/step - loss: 4.0253 - val_loss: 4.4839\n",
      "Epoch 15/100\n",
      "76/76 [==============================] - 10s 134ms/step - loss: 3.9052 - val_loss: 4.1260\n",
      "Epoch 16/100\n",
      "76/76 [==============================] - 10s 134ms/step - loss: 3.8806 - val_loss: 4.0922\n",
      "Epoch 17/100\n",
      "76/76 [==============================] - 10s 134ms/step - loss: 3.7370 - val_loss: 3.9774\n",
      "Epoch 18/100\n",
      "76/76 [==============================] - 10s 134ms/step - loss: 3.6839 - val_loss: 3.8405\n",
      "Epoch 19/100\n",
      "76/76 [==============================] - 10s 129ms/step - loss: 3.5924 - val_loss: 3.8423\n",
      "Epoch 20/100\n",
      "76/76 [==============================] - 10s 134ms/step - loss: 3.5270 - val_loss: 3.7950\n",
      "Epoch 21/100\n",
      "76/76 [==============================] - 10s 131ms/step - loss: 3.4368 - val_loss: 3.6266\n",
      "Epoch 22/100\n",
      "76/76 [==============================] - 10s 131ms/step - loss: 3.3529 - val_loss: 3.5542\n",
      "Epoch 23/100\n",
      "76/76 [==============================] - 10s 133ms/step - loss: 3.2952 - val_loss: 3.5097\n",
      "Epoch 24/100\n",
      "76/76 [==============================] - 10s 130ms/step - loss: 3.2211 - val_loss: 3.5587\n",
      "Epoch 25/100\n",
      "76/76 [==============================] - 10s 134ms/step - loss: 3.1343 - val_loss: 3.3492\n",
      "Epoch 26/100\n",
      "76/76 [==============================] - 10s 134ms/step - loss: 3.0250 - val_loss: 3.1494\n",
      "Epoch 27/100\n",
      "76/76 [==============================] - 10s 134ms/step - loss: 2.9562 - val_loss: 3.1218\n",
      "Epoch 28/100\n",
      "76/76 [==============================] - 10s 130ms/step - loss: 2.8719 - val_loss: 3.2304\n",
      "Epoch 29/100\n",
      "76/76 [==============================] - 10s 130ms/step - loss: 2.8080 - val_loss: 3.7406\n",
      "Epoch 30/100\n",
      "76/76 [==============================] - 10s 134ms/step - loss: 2.7859 - val_loss: 3.0084\n",
      "Epoch 31/100\n",
      "76/76 [==============================] - 10s 129ms/step - loss: 2.6380 - val_loss: 3.1249\n",
      "Epoch 32/100\n",
      "76/76 [==============================] - 10s 129ms/step - loss: 2.5912 - val_loss: 3.0251\n",
      "Epoch 33/100\n",
      "76/76 [==============================] - 10s 130ms/step - loss: 2.4922 - val_loss: 3.0385\n",
      "Epoch 34/100\n",
      "76/76 [==============================] - 10s 135ms/step - loss: 2.3854 - val_loss: 2.7488\n",
      "Epoch 35/100\n",
      "76/76 [==============================] - 10s 134ms/step - loss: 2.3326 - val_loss: 2.6698\n",
      "Epoch 36/100\n",
      "76/76 [==============================] - 10s 133ms/step - loss: 2.2697 - val_loss: 2.6352\n",
      "Epoch 37/100\n",
      "76/76 [==============================] - 10s 134ms/step - loss: 2.2128 - val_loss: 2.4696\n",
      "Epoch 38/100\n",
      "76/76 [==============================] - 10s 129ms/step - loss: 2.1428 - val_loss: 2.5248\n",
      "Epoch 39/100\n",
      "76/76 [==============================] - 10s 134ms/step - loss: 2.0454 - val_loss: 2.3949\n",
      "Epoch 40/100\n",
      "76/76 [==============================] - 10s 133ms/step - loss: 2.0060 - val_loss: 2.2608\n",
      "Epoch 41/100\n",
      "76/76 [==============================] - 10s 129ms/step - loss: 1.9402 - val_loss: 2.5617\n",
      "Epoch 42/100\n",
      "76/76 [==============================] - 10s 129ms/step - loss: 1.8547 - val_loss: 2.4431\n",
      "Epoch 43/100\n",
      "76/76 [==============================] - 10s 129ms/step - loss: 1.8191 - val_loss: 2.5145\n",
      "Epoch 44/100\n",
      "76/76 [==============================] - 10s 129ms/step - loss: 1.7585 - val_loss: 2.2859\n",
      "Epoch 45/100\n",
      "76/76 [==============================] - 10s 134ms/step - loss: 1.7216 - val_loss: 1.8499\n",
      "Epoch 46/100\n",
      "76/76 [==============================] - 10s 129ms/step - loss: 1.6728 - val_loss: 1.9049\n",
      "Epoch 47/100\n",
      "76/76 [==============================] - 10s 128ms/step - loss: 1.6294 - val_loss: 2.0244\n",
      "Epoch 48/100\n",
      "76/76 [==============================] - 10s 128ms/step - loss: 1.5196 - val_loss: 1.9967\n",
      "Epoch 49/100\n",
      "76/76 [==============================] - 10s 129ms/step - loss: 1.5367 - val_loss: 1.9630\n",
      "Epoch 50/100\n",
      "76/76 [==============================] - 10s 129ms/step - loss: 1.4890 - val_loss: 1.8967\n",
      "Epoch 51/100\n",
      "76/76 [==============================] - 10s 129ms/step - loss: 1.4573 - val_loss: 1.9315\n",
      "Epoch 52/100\n",
      "76/76 [==============================] - 10s 129ms/step - loss: 1.3801 - val_loss: 1.8761\n",
      "Epoch 53/100\n",
      "76/76 [==============================] - 10s 134ms/step - loss: 1.3696 - val_loss: 1.8335\n",
      "Epoch 54/100\n",
      "76/76 [==============================] - 10s 129ms/step - loss: 1.3348 - val_loss: 1.9597\n",
      "Epoch 55/100\n",
      "76/76 [==============================] - 10s 128ms/step - loss: 1.2558 - val_loss: 1.8387\n",
      "Epoch 56/100\n",
      "76/76 [==============================] - 10s 133ms/step - loss: 1.2297 - val_loss: 1.7183\n",
      "Epoch 57/100\n",
      "76/76 [==============================] - 10s 129ms/step - loss: 1.2340 - val_loss: 1.8091\n",
      "Epoch 58/100\n",
      "76/76 [==============================] - 10s 133ms/step - loss: 1.2339 - val_loss: 1.7056\n",
      "Epoch 59/100\n",
      "76/76 [==============================] - 10s 130ms/step - loss: 1.1840 - val_loss: 1.6527\n",
      "Epoch 60/100\n",
      "76/76 [==============================] - 10s 129ms/step - loss: 1.1026 - val_loss: 1.6748\n",
      "Epoch 61/100\n",
      "76/76 [==============================] - 10s 129ms/step - loss: 1.0859 - val_loss: 1.7176\n",
      "Epoch 62/100\n",
      "76/76 [==============================] - 10s 133ms/step - loss: 1.1164 - val_loss: 1.6377\n",
      "Epoch 63/100\n",
      "76/76 [==============================] - 10s 133ms/step - loss: 1.0687 - val_loss: 1.6056\n",
      "Epoch 64/100\n",
      "76/76 [==============================] - 10s 129ms/step - loss: 1.0326 - val_loss: 1.6210\n",
      "Epoch 65/100\n",
      "76/76 [==============================] - 10s 129ms/step - loss: 1.0143 - val_loss: 1.6152\n",
      "Epoch 66/100\n",
      "76/76 [==============================] - 10s 133ms/step - loss: 1.0073 - val_loss: 1.5918\n",
      "Epoch 67/100\n",
      "76/76 [==============================] - 10s 129ms/step - loss: 0.9969 - val_loss: 1.7403\n",
      "Epoch 68/100\n",
      "76/76 [==============================] - 10s 128ms/step - loss: 0.9627 - val_loss: 1.6962\n",
      "Epoch 69/100\n",
      "76/76 [==============================] - 10s 133ms/step - loss: 0.9211 - val_loss: 1.5886\n",
      "Epoch 70/100\n",
      "76/76 [==============================] - 10s 130ms/step - loss: 0.9211 - val_loss: 1.5797\n",
      "Epoch 71/100\n",
      "76/76 [==============================] - 10s 129ms/step - loss: 0.8749 - val_loss: 1.5903\n",
      "Epoch 72/100\n",
      "76/76 [==============================] - 10s 129ms/step - loss: 0.8793 - val_loss: 1.6089\n",
      "Epoch 73/100\n",
      "76/76 [==============================] - 10s 134ms/step - loss: 0.8302 - val_loss: 1.5498\n",
      "Epoch 74/100\n",
      "76/76 [==============================] - 10s 129ms/step - loss: 0.8426 - val_loss: 1.5856\n",
      "Epoch 75/100\n",
      "76/76 [==============================] - 10s 129ms/step - loss: 0.8383 - val_loss: 1.7827\n",
      "Epoch 76/100\n",
      "76/76 [==============================] - 10s 133ms/step - loss: 0.8255 - val_loss: 1.5202\n",
      "Epoch 77/100\n",
      "76/76 [==============================] - 10s 133ms/step - loss: 0.8292 - val_loss: 1.4915\n",
      "Epoch 78/100\n",
      "76/76 [==============================] - 10s 133ms/step - loss: 0.7450 - val_loss: 1.3940\n",
      "Epoch 79/100\n",
      "76/76 [==============================] - 10s 128ms/step - loss: 0.8033 - val_loss: 1.5116\n",
      "Epoch 80/100\n",
      "76/76 [==============================] - 10s 133ms/step - loss: 0.7700 - val_loss: 1.3875\n",
      "Epoch 81/100\n",
      "76/76 [==============================] - 10s 134ms/step - loss: 0.7598 - val_loss: 1.3755\n",
      "Epoch 82/100\n",
      "76/76 [==============================] - 10s 129ms/step - loss: 0.7041 - val_loss: 1.5426\n",
      "Epoch 83/100\n",
      "76/76 [==============================] - 10s 128ms/step - loss: 0.7404 - val_loss: 1.5115\n",
      "Epoch 84/100\n",
      "76/76 [==============================] - 10s 129ms/step - loss: 0.7264 - val_loss: 1.3907\n",
      "Epoch 85/100\n",
      "76/76 [==============================] - 10s 129ms/step - loss: 0.6751 - val_loss: 1.4397\n",
      "Epoch 86/100\n",
      "76/76 [==============================] - 10s 128ms/step - loss: 0.7034 - val_loss: 1.4199\n",
      "Epoch 87/100\n",
      "76/76 [==============================] - 10s 129ms/step - loss: 0.6506 - val_loss: 1.4357\n",
      "Epoch 88/100\n",
      "76/76 [==============================] - 10s 128ms/step - loss: 0.6947 - val_loss: 1.4386\n",
      "Epoch 89/100\n",
      "76/76 [==============================] - 10s 129ms/step - loss: 0.6435 - val_loss: 1.4103\n",
      "Epoch 90/100\n",
      "76/76 [==============================] - 10s 129ms/step - loss: 0.6509 - val_loss: 1.4642\n",
      "Epoch 91/100\n",
      "76/76 [==============================] - 10s 130ms/step - loss: 0.6370 - val_loss: 1.3807\n",
      "Best epoch: 80; TRAIN loss: 0.7598, VAL loss: 1.3755\n"
     ]
    },
    {
     "data": {
      "image/png": "[encoded data removed]",
      "text/plain": [
       "<Figure size 432x288 with 1 Axes>"
      ]
     },
     "metadata": {
      "needs_background": "light",
      "tags": []
     },
     "output_type": "display_data"
    }
   ],
   "source": [
    "parameters = {}\n",
    "\n",
    "\"\"\"\n",
    "Define the net structure with the following notation:\n",
    "1   Conv2D                  C\n",
    "2   Dense                   D\n",
    "3   MaxPooling              M\n",
    "4   AveragePooling          A\n",
    "5   GlobalAveragePooling    G\n",
    "6   ReLU                    R\n",
    "7   Dropout                 O\n",
    "8   SpatialDropout          S\n",
    "9   BatchNormalization      N\n",
    "\"\"\"\n",
    "\n",
    "parameters[\"Structure\"] = 'C' + 'S' + 'N' + 'R' + 'A' + \\\n",
    "                          'C' + 'S' + 'N' + 'R' + 'A' + \\\n",
    "                          'C' + 'S' + 'N' + 'R' + 'G' + \\\n",
    "                          'D' + 'O' + 'N' + 'R' + \\\n",
    "                          'D' + 'O' + 'N' + 'R' + \\\n",
    "                          'D' + 'O' + 'N' + 'R'\n",
    "\n",
    "# Conv2D\n",
    "parameters[\"filters\"] = [64, 128, 256]\n",
    "parameters[\"kernel_size\"] = [(5, 5), (5, 5), (5, 5)]\n",
    "parameters[\"Conv_constraint\"] = None\n",
    "\n",
    "# Pooling\n",
    "parameters[\"pool_size\"] = [(3, 3), (3, 3)]\n",
    "\n",
    "# Dense\n",
    "parameters[\"Dense_units\"] = [2000, 1000, 500]\n",
    "parameters[\"Dense_constraint\"] = None\n",
    "\n",
    "# Dropout\n",
    "parameters[\"rate\"] = [0.25, 0.25, 0.25]\n",
    "\n",
    "# SpatialDropout\n",
    "parameters[\"spatial_rate\"] = [0.15, 0.15, 0.15]\n",
    "\n",
    "# General\n",
    "parameters[\"lr\"] = 0.01\n",
    "parameters[\"epochs\"] = 100\n",
    "parameters[\"batch_size\"] = 50\n",
    "\n",
    "model = training(X, y, X_val, y_val, parameters)"
   ]
  },
  {
   "cell_type": "markdown",
   "metadata": {
    "id": "qrZpuwjt_wgO"
   },
   "source": [
    "### 5.2 Prediction"
   ]
  },
  {
   "cell_type": "code",
   "execution_count": 7,
   "metadata": {
    "executionInfo": {
     "elapsed": 963123,
     "status": "ok",
     "timestamp": 1606585980585,
     "user": {
      "displayName": "Andreas Schmitt",
      "photoUrl": "",
      "userId": "08919543814682882005"
     },
     "user_tz": -60
    },
    "id": "m52fBNNE_wgO"
   },
   "outputs": [],
   "source": [
    "prediction = model.predict(X_test)"
   ]
  },
  {
   "cell_type": "markdown",
   "metadata": {
    "id": "HLe0DlR8_wgO"
   },
   "source": [
    "### 5.3 Saving"
   ]
  },
  {
   "cell_type": "code",
   "execution_count": 8,
   "metadata": {
    "colab": {
     "base_uri": "https://localhost:8080/"
    },
    "executionInfo": {
     "elapsed": 963679,
     "status": "ok",
     "timestamp": 1606585981144,
     "user": {
      "displayName": "Andreas Schmitt",
      "photoUrl": "",
      "userId": "08919543814682882005"
     },
     "user_tz": -60
    },
    "id": "5lNB5v6G_wgP",
    "outputId": "9297fcba-537b-4e78-9736-5301f9ab6160"
   },
   "outputs": [
    {
     "name": "stdout",
     "output_type": "stream",
     "text": [
      "Saved.\n"
     ]
    }
   ],
   "source": [
    "model.save(WD + '/Submission/' + str(VERSION) + '/model.h5')\n",
    "\n",
    "output = pd.DataFrame(prediction, index=sample_submission_index, columns=sample_submission_columns[1:])\n",
    "output['fn'] = sample_submission_fn\n",
    "output = output[sample_submission_columns]\n",
    "\n",
    "output.to_csv(WD + '/Submission/' + str(VERSION) + '/submission.csv', index=False)\n",
    "\n",
    "print(\"Saved.\")"
   ]
  },
  {
   "cell_type": "code",
   "execution_count": 9,
   "metadata": {
    "colab": {
     "base_uri": "https://localhost:8080/"
    },
    "executionInfo": {
     "elapsed": 975144,
     "status": "ok",
     "timestamp": 1606585992612,
     "user": {
      "displayName": "Andreas Schmitt",
      "photoUrl": "",
      "userId": "08919543814682882005"
     },
     "user_tz": -60
    },
    "id": "wdfE4K5C_wgP",
    "outputId": "bfa26c5a-e754-446c-a3b9-82b7f6b7fa65"
   },
   "outputs": [
    {
     "name": "stdout",
     "output_type": "stream",
     "text": [
      "Everything done.\n",
      "Duration of the notebook was 972.79 seconds.\n"
     ]
    }
   ],
   "source": [
    "drive.flush_and_unmount()\n",
    "end_time = time.time()\n",
    "print(\"Everything done.\\nDuration of the notebook was {:.2f} seconds.\".format(end_time - start_time))"
   ]
  }
 ],
 "metadata": {
  "accelerator": "GPU",
  "colab": {
   "collapsed_sections": [],
   "name": "GIZNLP_Modelling.ipynb",
   "provenance": []
  },
  "kernelspec": {
   "display_name": "Python 3",
   "language": "python",
   "name": "python3"
  },
  "language_info": {
   "codemirror_mode": {
    "name": "ipython",
    "version": 3
   },
   "file_extension": ".py",
   "mimetype": "text/x-python",
   "name": "python",
   "nbconvert_exporter": "python",
   "pygments_lexer": "ipython3",
   "version": "3.9.2"
  }
 },
 "nbformat": 4,
 "nbformat_minor": 1
}
