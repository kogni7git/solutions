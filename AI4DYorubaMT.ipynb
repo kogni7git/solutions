{
 "cells": [
  {
   "cell_type": "markdown",
   "metadata": {
    "id": "jQBMnE0YYjnn"
   },
   "source": [
    "# AI4D Yorùbá Machine Translation Challenge\n",
    "\n",
    "File name: AI4DYorubaMT.ipynb\n",
    "\n",
    "Author: kogni7\n",
    "\n",
    "Date: April/Mai 2021\n",
    "\n",
    "## Contents\n",
    "* 1 Preparation\n",
    "    * 1.1 GPU\n",
    "    * 1.2 Time\n",
    "    * 1.3 Installation\n",
    "    * 1.4 Libraries and Seed\n",
    "    * 1.5 Working directory\n",
    "* 2 Data\n",
    "    * 2.1 Validation set\n",
    "    * 2.2 Tokenization\n",
    "    * 2.3 Datasets\n",
    "* 3 Training\n",
    "    * 3.1 Model and Parameters\n",
    "    * 3.2 Train!\n",
    "* 4 Prediction and Submission\n",
    "\n",
    "This notebook uses only the data sets provided by ZINDI. These data sets contain sentences in Yoruba and English. These sentences are the only used features in this notebook. The task is to translate Yoruba to English.\n",
    "\n",
    "The file system for this project is:\n",
    "* AI4DYorubaMT (root)\n",
    "    * AI4DYorubaMT.ipynb (this notebook)\n",
    "    * Data\n",
    "        * Train.csv\n",
    "        * Test.csv\n",
    "        * SampleSubmission.csv\n",
    "    * Submission\n",
    "        * 1 - x: Submission directions, named by the version number\n",
    "            * submission.csv\n",
    "\n",
    "This jupyter notebook runs in Google Colab without special configuration. GPU is enabled.\n",
    "\n",
    "The notebook uses a pretrained MarianMT transformer from HuggingFace (huggingface.co) which is trained on the JW300 dataset (https://huggingface.co/Helsinki-NLP/opus-mt-yo-en)."
   ]
  },
  {
   "cell_type": "markdown",
   "metadata": {
    "id": "XaiDld4ZZ7q6"
   },
   "source": [
    "## 1 Preparation\n",
    "### 1.1 GPU\n",
    "Make sure the GPU is the one which is stated below, otherwise restart the environment."
   ]
  },
  {
   "cell_type": "code",
   "execution_count": 1,
   "metadata": {
    "colab": {
     "base_uri": "https://localhost:8080/"
    },
    "executionInfo": {
     "elapsed": 59,
     "status": "ok",
     "timestamp": 1622403391178,
     "user": {
      "displayName": "Andreas Schmitt",
      "photoUrl": "",
      "userId": "08919543814682882005"
     },
     "user_tz": -120
    },
    "id": "6UyuGgtSq6i0",
    "outputId": "f7e3806a-e594-4861-e7a8-ea3fb2d15048"
   },
   "outputs": [
    {
     "name": "stdout",
     "output_type": "stream",
     "text": [
      "Sun May 30 19:36:30 2021       \n",
      "+-----------------------------------------------------------------------------+\n",
      "| NVIDIA-SMI 465.19.01    Driver Version: 460.32.03    CUDA Version: 11.2     |\n",
      "|-------------------------------+----------------------+----------------------+\n",
      "| GPU  Name        Persistence-M| Bus-Id        Disp.A | Volatile Uncorr. ECC |\n",
      "| Fan  Temp  Perf  Pwr:Usage/Cap|         Memory-Usage | GPU-Util  Compute M. |\n",
      "|                               |                      |               MIG M. |\n",
      "|===============================+======================+======================|\n",
      "|   0  Tesla T4            Off  | 00000000:00:04.0 Off |                    0 |\n",
      "| N/A   58C    P8    11W /  70W |      0MiB / 15109MiB |      0%      Default |\n",
      "|                               |                      |                  N/A |\n",
      "+-------------------------------+----------------------+----------------------+\n",
      "                                                                               \n",
      "+-----------------------------------------------------------------------------+\n",
      "| Processes:                                                                  |\n",
      "|  GPU   GI   CI        PID   Type   Process name                  GPU Memory |\n",
      "|        ID   ID                                                   Usage      |\n",
      "|=============================================================================|\n",
      "|  No running processes found                                                 |\n",
      "+-----------------------------------------------------------------------------+\n"
     ]
    }
   ],
   "source": [
    "!nvidia-smi"
   ]
  },
  {
   "cell_type": "markdown",
   "metadata": {
    "id": "SFhnGPHcq8z3"
   },
   "source": [
    "### 1.2 Time"
   ]
  },
  {
   "cell_type": "code",
   "execution_count": 2,
   "metadata": {
    "executionInfo": {
     "elapsed": 18,
     "status": "ok",
     "timestamp": 1622403391180,
     "user": {
      "displayName": "Andreas Schmitt",
      "photoUrl": "",
      "userId": "08919543814682882005"
     },
     "user_tz": -120
    },
    "id": "M0bg5gQfq8ei"
   },
   "outputs": [],
   "source": [
    "import time\n",
    "start_time = time.time()"
   ]
  },
  {
   "cell_type": "markdown",
   "metadata": {
    "id": "ncOt9QYyrAvh"
   },
   "source": [
    "### 1.3 Installation"
   ]
  },
  {
   "cell_type": "code",
   "execution_count": 3,
   "metadata": {
    "colab": {
     "base_uri": "https://localhost:8080/"
    },
    "executionInfo": {
     "elapsed": 26470,
     "status": "ok",
     "timestamp": 1622403417637,
     "user": {
      "displayName": "Andreas Schmitt",
      "photoUrl": "",
      "userId": "08919543814682882005"
     },
     "user_tz": -120
    },
    "id": "qJcMHGW3rCU8",
    "outputId": "a37ce497-66a1-4aaf-eadd-6468ce216da1"
   },
   "outputs": [
    {
     "name": "stdout",
     "output_type": "stream",
     "text": [
      "Collecting git+https://github.com/huggingface/transformers\n",
      "  Cloning https://github.com/huggingface/transformers to /tmp/pip-req-build-70drmrqe\n",
      "  Running command git clone -q https://github.com/huggingface/transformers /tmp/pip-req-build-70drmrqe\n",
      "  Installing build dependencies ... \u001b[?25l\u001b[?25hdone\n",
      "  Getting requirements to build wheel ... \u001b[?25l\u001b[?25hdone\n",
      "    Preparing wheel metadata ... \u001b[?25l\u001b[?25hdone\n",
      "Requirement already satisfied: requests in /usr/local/lib/python3.7/dist-packages (from transformers==4.7.0.dev0) (2.23.0)\n",
      "Requirement already satisfied: packaging in /usr/local/lib/python3.7/dist-packages (from transformers==4.7.0.dev0) (20.9)\n",
      "Collecting huggingface-hub==0.0.8\n",
      "  Downloading https://files.pythonhosted.org/packages/a1/88/7b1e45720ecf59c6c6737ff332f41c955963090a18e72acbcbeac6b25e86/huggingface_hub-0.0.8-py3-none-any.whl\n",
      "Collecting sacremoses\n",
      "\u001b[?25l  Downloading https://files.pythonhosted.org/packages/75/ee/67241dc87f266093c533a2d4d3d69438e57d7a90abb216fa076e7d475d4a/sacremoses-0.0.45-py3-none-any.whl (895kB)\n",
      "\u001b[K     |████████████████████████████████| 901kB 13.2MB/s \n",
      "\u001b[?25hRequirement already satisfied: tqdm>=4.27 in /usr/local/lib/python3.7/dist-packages (from transformers==4.7.0.dev0) (4.41.1)\n",
      "Requirement already satisfied: importlib-metadata; python_version < \"3.8\" in /usr/local/lib/python3.7/dist-packages (from transformers==4.7.0.dev0) (4.0.1)\n",
      "Collecting tokenizers<0.11,>=0.10.1\n",
      "\u001b[?25l  Downloading https://files.pythonhosted.org/packages/d4/e2/df3543e8ffdab68f5acc73f613de9c2b155ac47f162e725dcac87c521c11/tokenizers-0.10.3-cp37-cp37m-manylinux_2_5_x86_64.manylinux1_x86_64.manylinux_2_12_x86_64.manylinux2010_x86_64.whl (3.3MB)\n",
      "\u001b[K     |████████████████████████████████| 3.3MB 45.8MB/s \n",
      "\u001b[?25hRequirement already satisfied: filelock in /usr/local/lib/python3.7/dist-packages (from transformers==4.7.0.dev0) (3.0.12)\n",
      "Requirement already satisfied: numpy>=1.17 in /usr/local/lib/python3.7/dist-packages (from transformers==4.7.0.dev0) (1.19.5)\n",
      "Requirement already satisfied: regex!=2019.12.17 in /usr/local/lib/python3.7/dist-packages (from transformers==4.7.0.dev0) (2019.12.20)\n",
      "Requirement already satisfied: urllib3!=1.25.0,!=1.25.1,<1.26,>=1.21.1 in /usr/local/lib/python3.7/dist-packages (from requests->transformers==4.7.0.dev0) (1.24.3)\n",
      "Requirement already satisfied: idna<3,>=2.5 in /usr/local/lib/python3.7/dist-packages (from requests->transformers==4.7.0.dev0) (2.10)\n",
      "Requirement already satisfied: certifi>=2017.4.17 in /usr/local/lib/python3.7/dist-packages (from requests->transformers==4.7.0.dev0) (2020.12.5)\n",
      "Requirement already satisfied: chardet<4,>=3.0.2 in /usr/local/lib/python3.7/dist-packages (from requests->transformers==4.7.0.dev0) (3.0.4)\n",
      "Requirement already satisfied: pyparsing>=2.0.2 in /usr/local/lib/python3.7/dist-packages (from packaging->transformers==4.7.0.dev0) (2.4.7)\n",
      "Requirement already satisfied: joblib in /usr/local/lib/python3.7/dist-packages (from sacremoses->transformers==4.7.0.dev0) (1.0.1)\n",
      "Requirement already satisfied: six in /usr/local/lib/python3.7/dist-packages (from sacremoses->transformers==4.7.0.dev0) (1.15.0)\n",
      "Requirement already satisfied: click in /usr/local/lib/python3.7/dist-packages (from sacremoses->transformers==4.7.0.dev0) (7.1.2)\n",
      "Requirement already satisfied: typing-extensions>=3.6.4; python_version < \"3.8\" in /usr/local/lib/python3.7/dist-packages (from importlib-metadata; python_version < \"3.8\"->transformers==4.7.0.dev0) (3.7.4.3)\n",
      "Requirement already satisfied: zipp>=0.5 in /usr/local/lib/python3.7/dist-packages (from importlib-metadata; python_version < \"3.8\"->transformers==4.7.0.dev0) (3.4.1)\n",
      "Building wheels for collected packages: transformers\n",
      "  Building wheel for transformers (PEP 517) ... \u001b[?25l\u001b[?25hdone\n",
      "  Created wheel for transformers: filename=transformers-4.7.0.dev0-cp37-none-any.whl size=2317529 sha256=37e6e3bc49367a338ff131b58b8fb19e16e01f3fadead8152fd5d4d331bad177\n",
      "  Stored in directory: /tmp/pip-ephem-wheel-cache-wf2qfy9w/wheels/70/d3/52/b3fa4f8b8ef04167ac62e5bb2accb62ae764db2a378247490e\n",
      "Successfully built transformers\n",
      "Installing collected packages: huggingface-hub, sacremoses, tokenizers, transformers\n",
      "Successfully installed huggingface-hub-0.0.8 sacremoses-0.0.45 tokenizers-0.10.3 transformers-4.7.0.dev0\n",
      "Collecting rouge-score\n",
      "  Downloading https://files.pythonhosted.org/packages/1f/56/a81022436c08b9405a5247b71635394d44fe7e1dbedc4b28c740e09c2840/rouge_score-0.0.4-py2.py3-none-any.whl\n",
      "Requirement already satisfied: absl-py in /usr/local/lib/python3.7/dist-packages (from rouge-score) (0.12.0)\n",
      "Requirement already satisfied: numpy in /usr/local/lib/python3.7/dist-packages (from rouge-score) (1.19.5)\n",
      "Requirement already satisfied: nltk in /usr/local/lib/python3.7/dist-packages (from rouge-score) (3.2.5)\n",
      "Requirement already satisfied: six>=1.14.0 in /usr/local/lib/python3.7/dist-packages (from rouge-score) (1.15.0)\n",
      "Installing collected packages: rouge-score\n",
      "Successfully installed rouge-score-0.0.4\n",
      "Collecting sentencepiece\n",
      "\u001b[?25l  Downloading https://files.pythonhosted.org/packages/f5/99/e0808cb947ba10f575839c43e8fafc9cc44e4a7a2c8f79c60db48220a577/sentencepiece-0.1.95-cp37-cp37m-manylinux2014_x86_64.whl (1.2MB)\n",
      "\u001b[K     |████████████████████████████████| 1.2MB 7.5MB/s \n",
      "\u001b[?25hInstalling collected packages: sentencepiece\n",
      "Successfully installed sentencepiece-0.1.95\n"
     ]
    }
   ],
   "source": [
    "!pip install git+https://github.com/huggingface/transformers\n",
    "!pip install rouge-score\n",
    "!pip install sentencepiece"
   ]
  },
  {
   "cell_type": "markdown",
   "metadata": {
    "id": "TgmPuaqsrN8Y"
   },
   "source": [
    "### 1.4 Libraries and Seed"
   ]
  },
  {
   "cell_type": "code",
   "execution_count": 4,
   "metadata": {
    "colab": {
     "base_uri": "https://localhost:8080/"
    },
    "executionInfo": {
     "elapsed": 6522,
     "status": "ok",
     "timestamp": 1622403424145,
     "user": {
      "displayName": "Andreas Schmitt",
      "photoUrl": "",
      "userId": "08919543814682882005"
     },
     "user_tz": -120
    },
    "id": "OsSQwW3eXrAD",
    "outputId": "a4ca2d23-30f9-4f10-c6f0-b9a2ca261b5d"
   },
   "outputs": [
    {
     "name": "stdout",
     "output_type": "stream",
     "text": [
      "Python 3.7.10\n",
      "Numpy Version: 1.19.5\n",
      "PyTorch Version: 1.8.1+cu101\n",
      "Pandas Version: 1.1.5\n",
      "SciKit-Learn Version: 0.22.2.post1\n",
      "Transformers Version: 4.7.0.dev0\n"
     ]
    }
   ],
   "source": [
    "!python --version\n",
    "\n",
    "SEED = 42\n",
    "\n",
    "# Math\n",
    "import numpy as np\n",
    "print(\"Numpy Version: \" + str(np.__version__))\n",
    "\n",
    "import random\n",
    "import os\n",
    "os.environ['PYTHONHASHSEED'] = str(SEED)\n",
    "\n",
    "np.random.seed(SEED + 1)\n",
    "\n",
    "random.seed(SEED + 2)\n",
    "\n",
    "# PyTorch\n",
    "import torch\n",
    "print(\"PyTorch Version: \" + str(torch.__version__))\n",
    "torch.manual_seed(SEED + 3)\n",
    "torch.cuda.manual_seed_all(SEED + 4)\n",
    "\n",
    "# Time\n",
    "import time\n",
    "\n",
    "# CSV\n",
    "import pandas as pd\n",
    "print(\"Pandas Version: \" + str(pd.__version__))\n",
    "\n",
    "# Machine Learning\n",
    "import sklearn\n",
    "from sklearn.model_selection import train_test_split\n",
    "print(\"SciKit-Learn Version: \" + str(sklearn.__version__))\n",
    "\n",
    "# Transformers\n",
    "import transformers\n",
    "from transformers import MarianTokenizer, MarianMTModel, Seq2SeqTrainingArguments, Seq2SeqTrainer\n",
    "\n",
    "print(\"Transformers Version: \" + str(transformers.__version__))\n",
    "\n",
    "# Rouge\n",
    "from rouge_score import rouge_scorer\n",
    "\n",
    "from tqdm import tqdm\n",
    "import gc"
   ]
  },
  {
   "cell_type": "markdown",
   "metadata": {
    "id": "JLMaMc7lr76s"
   },
   "source": [
    "### 1.5 Working directory"
   ]
  },
  {
   "cell_type": "code",
   "execution_count": 5,
   "metadata": {
    "colab": {
     "base_uri": "https://localhost:8080/"
    },
    "executionInfo": {
     "elapsed": 20621,
     "status": "ok",
     "timestamp": 1622403444757,
     "user": {
      "displayName": "Andreas Schmitt",
      "photoUrl": "",
      "userId": "08919543814682882005"
     },
     "user_tz": -120
    },
    "id": "0v6cJNkrr-Kd",
    "outputId": "c5c9ab73-4b79-4acb-b55b-d4645b856377"
   },
   "outputs": [
    {
     "name": "stdout",
     "output_type": "stream",
     "text": [
      "Mounted at /content/drive\n"
     ]
    }
   ],
   "source": [
    "# The Version\n",
    "VERSION = '9'\n",
    "\n",
    "# for use in Google Colab\n",
    "from google.colab import drive\n",
    "drive.mount('/content/drive')\n",
    " \n",
    "# Working Directory\n",
    "WD = os.getcwd() + '/drive/My Drive/Colab Notebooks/AI4DYorubaMT'"
   ]
  },
  {
   "cell_type": "markdown",
   "metadata": {
    "id": "6UMzNL_Uat8m"
   },
   "source": [
    "## 2 Data"
   ]
  },
  {
   "cell_type": "code",
   "execution_count": 6,
   "metadata": {
    "colab": {
     "base_uri": "https://localhost:8080/",
     "height": 206
    },
    "executionInfo": {
     "elapsed": 1564,
     "status": "ok",
     "timestamp": 1622403446312,
     "user": {
      "displayName": "Andreas Schmitt",
      "photoUrl": "",
      "userId": "08919543814682882005"
     },
     "user_tz": -120
    },
    "id": "BwZcUsxPXwCf",
    "outputId": "e33546cb-c250-455e-bdbb-b9a80267974a"
   },
   "outputs": [
    {
     "data": {
      "text/html": [
       "<div>\n",
       "<style scoped>\n",
       "    .dataframe tbody tr th:only-of-type {\n",
       "        vertical-align: middle;\n",
       "    }\n",
       "\n",
       "    .dataframe tbody tr th {\n",
       "        vertical-align: top;\n",
       "    }\n",
       "\n",
       "    .dataframe thead th {\n",
       "        text-align: right;\n",
       "    }\n",
       "</style>\n",
       "<table border=\"1\" class=\"dataframe\">\n",
       "  <thead>\n",
       "    <tr style=\"text-align: right;\">\n",
       "      <th></th>\n",
       "      <th>ID</th>\n",
       "      <th>Yoruba</th>\n",
       "      <th>English</th>\n",
       "    </tr>\n",
       "  </thead>\n",
       "  <tbody>\n",
       "    <tr>\n",
       "      <th>0</th>\n",
       "      <td>ID_AAJEQLCz</td>\n",
       "      <td>A ṣètò Ìgbìmọ̀ Tó Ń Ṣètò Ìrànwọ́ Nígbà Àjálù l...</td>\n",
       "      <td>A Disaster Relief Committee was formed to orga...</td>\n",
       "    </tr>\n",
       "    <tr>\n",
       "      <th>1</th>\n",
       "      <td>ID_AASNedba</td>\n",
       "      <td>Ìrọ̀lẹ́ May 22, 2018 ni wọ́n fàṣẹ ọba mú Arákù...</td>\n",
       "      <td>Brother Solovyev was arrested on the evening o...</td>\n",
       "    </tr>\n",
       "    <tr>\n",
       "      <th>2</th>\n",
       "      <td>ID_AAeQrhMq</td>\n",
       "      <td>Iléeṣẹ́ Creative Commons náà</td>\n",
       "      <td>Creative Commons the Organization</td>\n",
       "    </tr>\n",
       "    <tr>\n",
       "      <th>3</th>\n",
       "      <td>ID_AAxlMgPP</td>\n",
       "      <td>Pè̩lú Egypt, Morocco àti Tunisia tí wó̩n ti lo...</td>\n",
       "      <td>With Egypt, Morocco and Tunisia out of the Wor...</td>\n",
       "    </tr>\n",
       "    <tr>\n",
       "      <th>4</th>\n",
       "      <td>ID_ABKuMKSx</td>\n",
       "      <td>Adájọ́ àgbà lórílẹ̀ èdè Náíjíríà (Attorney Gen...</td>\n",
       "      <td>The Attorney General of the Federation, Justic...</td>\n",
       "    </tr>\n",
       "  </tbody>\n",
       "</table>\n",
       "</div>"
      ],
      "text/plain": [
       "            ID  ...                                            English\n",
       "0  ID_AAJEQLCz  ...  A Disaster Relief Committee was formed to orga...\n",
       "1  ID_AASNedba  ...  Brother Solovyev was arrested on the evening o...\n",
       "2  ID_AAeQrhMq  ...                  Creative Commons the Organization\n",
       "3  ID_AAxlMgPP  ...  With Egypt, Morocco and Tunisia out of the Wor...\n",
       "4  ID_ABKuMKSx  ...  The Attorney General of the Federation, Justic...\n",
       "\n",
       "[5 rows x 3 columns]"
      ]
     },
     "execution_count": 6,
     "metadata": {
      "tags": []
     },
     "output_type": "execute_result"
    }
   ],
   "source": [
    "train_csv = pd.read_csv(WD + '/Data/Train.csv')\n",
    "test_csv = pd.read_csv(WD + '/Data/Test.csv')\n",
    "sample_submission_csv = pd.read_csv(WD + '/Data/SampleSubmission.csv')\n",
    "train_csv.head()"
   ]
  },
  {
   "cell_type": "code",
   "execution_count": 7,
   "metadata": {
    "colab": {
     "base_uri": "https://localhost:8080/"
    },
    "executionInfo": {
     "elapsed": 381,
     "status": "ok",
     "timestamp": 1622403446678,
     "user": {
      "displayName": "Andreas Schmitt",
      "photoUrl": "",
      "userId": "08919543814682882005"
     },
     "user_tz": -120
    },
    "id": "jFkKAVWDk94-",
    "outputId": "2b61efd5-6cad-46ad-a68f-349d384ee7a4"
   },
   "outputs": [
    {
     "name": "stdout",
     "output_type": "stream",
     "text": [
      "225\n",
      "3816\n",
      "5997\n",
      "6157\n",
      "6282\n",
      "9106\n",
      "Rows removed!\n"
     ]
    }
   ],
   "source": [
    "# Check for rows, where Yoruba is equal to English.\n",
    "rows = []\n",
    "for i in range(len(train_csv)):\n",
    "    if train_csv[\"Yoruba\"].iloc[i] == train_csv[\"English\"].iloc[i]:\n",
    "        print(i)\n",
    "        rows.append(i)\n",
    "\n",
    "# Remove these rows.\n",
    "train_csv = train_csv.drop(rows)\n",
    "print(\"Rows removed!\")\n",
    "\n",
    "# Check again.\n",
    "for i in range(len(train_csv)):\n",
    "    if train_csv[\"Yoruba\"].iloc[i] == train_csv[\"English\"].iloc[i]:\n",
    "        print(i)"
   ]
  },
  {
   "cell_type": "code",
   "execution_count": 8,
   "metadata": {
    "colab": {
     "base_uri": "https://localhost:8080/",
     "height": 206
    },
    "executionInfo": {
     "elapsed": 46,
     "status": "ok",
     "timestamp": 1622403446682,
     "user": {
      "displayName": "Andreas Schmitt",
      "photoUrl": "",
      "userId": "08919543814682882005"
     },
     "user_tz": -120
    },
    "id": "DhKc5QPcrFTh",
    "outputId": "c6b986f4-cd20-4e76-bda7-0544708daaed"
   },
   "outputs": [
    {
     "data": {
      "text/html": [
       "<div>\n",
       "<style scoped>\n",
       "    .dataframe tbody tr th:only-of-type {\n",
       "        vertical-align: middle;\n",
       "    }\n",
       "\n",
       "    .dataframe tbody tr th {\n",
       "        vertical-align: top;\n",
       "    }\n",
       "\n",
       "    .dataframe thead th {\n",
       "        text-align: right;\n",
       "    }\n",
       "</style>\n",
       "<table border=\"1\" class=\"dataframe\">\n",
       "  <thead>\n",
       "    <tr style=\"text-align: right;\">\n",
       "      <th></th>\n",
       "      <th>ID</th>\n",
       "      <th>Yoruba</th>\n",
       "    </tr>\n",
       "  </thead>\n",
       "  <tbody>\n",
       "    <tr>\n",
       "      <th>0</th>\n",
       "      <td>ID_AAAitMaH</td>\n",
       "      <td>Nínú ìpè kan lẹ́yìn ìgbà náà, wọ́n sọ fún aṣoj...</td>\n",
       "    </tr>\n",
       "    <tr>\n",
       "      <th>1</th>\n",
       "      <td>ID_AAKKdQwr</td>\n",
       "      <td>Nítorí kò sí nǹkan tí ọkùnrin ò lè ṣe láì náán...</td>\n",
       "    </tr>\n",
       "    <tr>\n",
       "      <th>2</th>\n",
       "      <td>ID_ABgAyEOp</td>\n",
       "      <td>Bí i kó pariwo. Kí ó kígbe mọ́ ẹ?</td>\n",
       "    </tr>\n",
       "    <tr>\n",
       "      <th>3</th>\n",
       "      <td>ID_ACFgfKQs</td>\n",
       "      <td>Tí ó ń lé e lọ sọ́nà etí odò Akókurà, tí ó bẹ̀...</td>\n",
       "    </tr>\n",
       "    <tr>\n",
       "      <th>4</th>\n",
       "      <td>ID_ACNPmlhf</td>\n",
       "      <td>Èṣúńiyì mọ̀ iṣẹ́ rẹ̀ dunjú. Màmá tirí bí ó ṣe ...</td>\n",
       "    </tr>\n",
       "  </tbody>\n",
       "</table>\n",
       "</div>"
      ],
      "text/plain": [
       "            ID                                             Yoruba\n",
       "0  ID_AAAitMaH  Nínú ìpè kan lẹ́yìn ìgbà náà, wọ́n sọ fún aṣoj...\n",
       "1  ID_AAKKdQwr  Nítorí kò sí nǹkan tí ọkùnrin ò lè ṣe láì náán...\n",
       "2  ID_ABgAyEOp                  Bí i kó pariwo. Kí ó kígbe mọ́ ẹ?\n",
       "3  ID_ACFgfKQs  Tí ó ń lé e lọ sọ́nà etí odò Akókurà, tí ó bẹ̀...\n",
       "4  ID_ACNPmlhf  Èṣúńiyì mọ̀ iṣẹ́ rẹ̀ dunjú. Màmá tirí bí ó ṣe ..."
      ]
     },
     "execution_count": 8,
     "metadata": {
      "tags": []
     },
     "output_type": "execute_result"
    }
   ],
   "source": [
    "test_csv.head()"
   ]
  },
  {
   "cell_type": "code",
   "execution_count": 9,
   "metadata": {
    "colab": {
     "base_uri": "https://localhost:8080/",
     "height": 206
    },
    "executionInfo": {
     "elapsed": 42,
     "status": "ok",
     "timestamp": 1622403446687,
     "user": {
      "displayName": "Andreas Schmitt",
      "photoUrl": "",
      "userId": "08919543814682882005"
     },
     "user_tz": -120
    },
    "id": "DST7wwefrHLY",
    "outputId": "34fede7a-a1c7-4ce0-ff3e-c9454b889b27"
   },
   "outputs": [
    {
     "data": {
      "text/html": [
       "<div>\n",
       "<style scoped>\n",
       "    .dataframe tbody tr th:only-of-type {\n",
       "        vertical-align: middle;\n",
       "    }\n",
       "\n",
       "    .dataframe tbody tr th {\n",
       "        vertical-align: top;\n",
       "    }\n",
       "\n",
       "    .dataframe thead th {\n",
       "        text-align: right;\n",
       "    }\n",
       "</style>\n",
       "<table border=\"1\" class=\"dataframe\">\n",
       "  <thead>\n",
       "    <tr style=\"text-align: right;\">\n",
       "      <th></th>\n",
       "      <th>ID</th>\n",
       "      <th>Label</th>\n",
       "    </tr>\n",
       "  </thead>\n",
       "  <tbody>\n",
       "    <tr>\n",
       "      <th>0</th>\n",
       "      <td>ID_ABgAyEOp</td>\n",
       "      <td>0</td>\n",
       "    </tr>\n",
       "    <tr>\n",
       "      <th>1</th>\n",
       "      <td>ID_ACFgfKQs</td>\n",
       "      <td>0</td>\n",
       "    </tr>\n",
       "    <tr>\n",
       "      <th>2</th>\n",
       "      <td>ID_ACNPmlhf</td>\n",
       "      <td>0</td>\n",
       "    </tr>\n",
       "    <tr>\n",
       "      <th>3</th>\n",
       "      <td>ID_ACqxiSuP</td>\n",
       "      <td>0</td>\n",
       "    </tr>\n",
       "    <tr>\n",
       "      <th>4</th>\n",
       "      <td>ID_ADPgGOCq</td>\n",
       "      <td>0</td>\n",
       "    </tr>\n",
       "  </tbody>\n",
       "</table>\n",
       "</div>"
      ],
      "text/plain": [
       "            ID  Label\n",
       "0  ID_ABgAyEOp      0\n",
       "1  ID_ACFgfKQs      0\n",
       "2  ID_ACNPmlhf      0\n",
       "3  ID_ACqxiSuP      0\n",
       "4  ID_ADPgGOCq      0"
      ]
     },
     "execution_count": 9,
     "metadata": {
      "tags": []
     },
     "output_type": "execute_result"
    }
   ],
   "source": [
    "sample_submission_csv.head()"
   ]
  },
  {
   "cell_type": "markdown",
   "metadata": {
    "id": "PTZ_07UVsWpG"
   },
   "source": [
    "### 2.1 Validation set"
   ]
  },
  {
   "cell_type": "code",
   "execution_count": 10,
   "metadata": {
    "executionInfo": {
     "elapsed": 38,
     "status": "ok",
     "timestamp": 1622403446690,
     "user": {
      "displayName": "Andreas Schmitt",
      "photoUrl": "",
      "userId": "08919543814682882005"
     },
     "user_tz": -120
    },
    "id": "Bs3mzbDWtaCe"
   },
   "outputs": [],
   "source": [
    "X_train, X_val, y_train, y_val = train_test_split(list(train_csv[\"Yoruba\"]),\n",
    "                                                  list(train_csv[\"English\"]),\n",
    "                                                  test_size=0.2, random_state=SEED)\n",
    "\n",
    "X_test = list(test_csv[\"Yoruba\"])"
   ]
  },
  {
   "cell_type": "markdown",
   "metadata": {
    "id": "sPgDJJgGshYm"
   },
   "source": [
    "### 2.2 Tokenization"
   ]
  },
  {
   "cell_type": "code",
   "execution_count": 11,
   "metadata": {
    "colab": {
     "base_uri": "https://localhost:8080/",
     "height": 214,
     "referenced_widgets": [
      "00244b9c03794ca9a1d2d4f893e9c9c0",
      "02e24ed568b948488c03955e3dd8a8cd",
      "8bd42ba4abca4c88b8036dc45ed63bc0",
      "4a10a68f081a446bbac8f6dcc83db963",
      "66743fb9bff04c69897af023fcd7057c",
      "686a7d0f08cd4b64a4bdf7cdef32078c",
      "eb4d2ebdf49b42aab6b4e905a60206d6",
      "e97d29b229134318b5a188903eb3c411",
      "d41f7f9725224109a5d1cb792e72a73e",
      "d3d0d6e026104fe8afc7226166aa2310",
      "a1a0797e407b4bb5835c1db0cd04e05b",
      "7b9b57aaaac043de9e2660346792cc0f",
      "ea456384ae894634a6540bd3d1b2a952",
      "90c4179a9bd2495da2c5ad353aef8b0f",
      "d232f7db790549c6a2bd51b64adc4fe3",
      "1f9a77b6d54e4032b5e6e0323e45a8fb",
      "75df92deed1e4e638e441b57240642fb",
      "ef7a27c836484a5b8c8af88f441dda7b",
      "712b739f1af041dbbaf3e49bd5623f8b",
      "384ca0625a744365b99ceba616fa301c",
      "c902b849655c4be0b6c9e0f65ac24955",
      "9fdc4fc832bf4f3ab137b1e1ad4a8c8f",
      "a3b56d28af474f89ad6d30875dd7639c",
      "229b6394153f463fb72e6d46d65907b8",
      "34516d0a927a4608935e1380008d7227",
      "a78c20f6af18429eb7ab7055379a8e1e",
      "305cb0fb259c4c1c93198fa65dfbd2e3",
      "54f630caa150441f89969119ceba2cfb",
      "0a8a498086314744bce43900a0fe53a9",
      "e5c3192050cb48e090212b1171191011",
      "3e2c78a62c054abab63e29f398f521e9",
      "bc1c391cf57741fb9be8f0052606237d"
     ]
    },
    "executionInfo": {
     "elapsed": 6932,
     "status": "ok",
     "timestamp": 1622403453591,
     "user": {
      "displayName": "Andreas Schmitt",
      "photoUrl": "",
      "userId": "08919543814682882005"
     },
     "user_tz": -120
    },
    "id": "hDQaipJPxumx",
    "outputId": "7a73d395-b5b3-47b2-9fee-3a1761576485"
   },
   "outputs": [
    {
     "data": {
      "application/vnd.jupyter.widget-view+json": {
       "model_id": "00244b9c03794ca9a1d2d4f893e9c9c0",
       "version_major": 2,
       "version_minor": 0
      },
      "text/plain": [
       "HBox(children=(FloatProgress(value=0.0, description='Downloading', max=790674.0, style=ProgressStyle(descripti…"
      ]
     },
     "metadata": {
      "tags": []
     },
     "output_type": "display_data"
    },
    {
     "name": "stdout",
     "output_type": "stream",
     "text": [
      "\n"
     ]
    },
    {
     "data": {
      "application/vnd.jupyter.widget-view+json": {
       "model_id": "d41f7f9725224109a5d1cb792e72a73e",
       "version_major": 2,
       "version_minor": 0
      },
      "text/plain": [
       "HBox(children=(FloatProgress(value=0.0, description='Downloading', max=820528.0, style=ProgressStyle(descripti…"
      ]
     },
     "metadata": {
      "tags": []
     },
     "output_type": "display_data"
    },
    {
     "name": "stdout",
     "output_type": "stream",
     "text": [
      "\n"
     ]
    },
    {
     "data": {
      "application/vnd.jupyter.widget-view+json": {
       "model_id": "75df92deed1e4e638e441b57240642fb",
       "version_major": 2,
       "version_minor": 0
      },
      "text/plain": [
       "HBox(children=(FloatProgress(value=0.0, description='Downloading', max=1392950.0, style=ProgressStyle(descript…"
      ]
     },
     "metadata": {
      "tags": []
     },
     "output_type": "display_data"
    },
    {
     "name": "stdout",
     "output_type": "stream",
     "text": [
      "\n"
     ]
    },
    {
     "data": {
      "application/vnd.jupyter.widget-view+json": {
       "model_id": "34516d0a927a4608935e1380008d7227",
       "version_major": 2,
       "version_minor": 0
      },
      "text/plain": [
       "HBox(children=(FloatProgress(value=0.0, description='Downloading', max=42.0, style=ProgressStyle(description_w…"
      ]
     },
     "metadata": {
      "tags": []
     },
     "output_type": "display_data"
    },
    {
     "name": "stdout",
     "output_type": "stream",
     "text": [
      "\n"
     ]
    }
   ],
   "source": [
    "tokenizer = MarianTokenizer.from_pretrained('Helsinki-NLP/opus-mt-yo-en')\n",
    "\n",
    "train_data = tokenizer(X_train, return_tensors=\"pt\", padding=True, truncation=True)\n",
    "with tokenizer.as_target_tokenizer():\n",
    "    labels = tokenizer(y_train, return_tensors=\"pt\", padding=True, truncation=True)\n",
    "train_data[\"labels\"] = labels[\"input_ids\"]\n",
    "\n",
    "val_data = tokenizer(X_val, return_tensors=\"pt\", padding=True, truncation=True)\n",
    "with tokenizer.as_target_tokenizer():\n",
    "    labels = tokenizer(y_val, return_tensors=\"pt\", padding=True, truncation=True)\n",
    "val_data[\"labels\"] = labels[\"input_ids\"]"
   ]
  },
  {
   "cell_type": "markdown",
   "metadata": {
    "id": "_XASYtgts0Pj"
   },
   "source": [
    "### 2.3 Datasets"
   ]
  },
  {
   "cell_type": "code",
   "execution_count": 12,
   "metadata": {
    "executionInfo": {
     "elapsed": 13,
     "status": "ok",
     "timestamp": 1622403453593,
     "user": {
      "displayName": "Andreas Schmitt",
      "photoUrl": "",
      "userId": "08919543814682882005"
     },
     "user_tz": -120
    },
    "id": "WguMfBh71Hu3"
   },
   "outputs": [],
   "source": [
    "class MakeDataSet(torch.utils.data.Dataset):\n",
    "    def __init__(self, data):\n",
    "        self.data = data\n",
    "\n",
    "    def __getitem__(self, idx):\n",
    "        return {key: val[idx] for key, val in self.data.items()}\n",
    "\n",
    "    def __len__(self):\n",
    "        return len(self.data[\"input_ids\"])\n",
    "\n",
    "train_dataset = MakeDataSet(train_data)\n",
    "val_dataset = MakeDataSet(val_data)"
   ]
  },
  {
   "cell_type": "markdown",
   "metadata": {
    "id": "tjZZnXHXtDre"
   },
   "source": [
    "## 3 Training\n",
    "### 3.1 Model and Parameters"
   ]
  },
  {
   "cell_type": "code",
   "execution_count": 13,
   "metadata": {
    "colab": {
     "base_uri": "https://localhost:8080/",
     "height": 116,
     "referenced_widgets": [
      "878063960a9a4f448ec57e0683e496c2",
      "97cc673ee8b049438997480ed1920272",
      "e9023e61874449cfb6da69c4930ac5fa",
      "76f21448d3424e8ea04c3f2476a240c4",
      "d1573da34fd146b48d4951081f5e30b4",
      "581441c66a9d4c84992e443f6784a167",
      "141c21155c72455f800517b231ef0221",
      "33e942f624224f1c907eb83231b83c10",
      "f78a65411cb04ff4bf0e63bba56f3d3c",
      "d0a7e96c5bea43ad8b655ba1cffd2e86",
      "1d4455901f2c4c8db4df437d5ea44b65",
      "ddc0a743aff84c76b57ab1c9ff17acf5",
      "723d6354e51c4af3b736e962fbc36e21",
      "ad2bfd50ea064e4988c27666c73cf033",
      "2adb7dc3efb74fcd80fafe3e3ed4a2c1",
      "647d0d2648f84c1bb7f0e32da6996464"
     ]
    },
    "executionInfo": {
     "elapsed": 10298,
     "status": "ok",
     "timestamp": 1622403463880,
     "user": {
      "displayName": "Andreas Schmitt",
      "photoUrl": "",
      "userId": "08919543814682882005"
     },
     "user_tz": -120
    },
    "id": "pXDO4Trdxw-X",
    "outputId": "0488aa4f-8c3c-4cfa-be7e-be63eecce3a2"
   },
   "outputs": [
    {
     "data": {
      "application/vnd.jupyter.widget-view+json": {
       "model_id": "878063960a9a4f448ec57e0683e496c2",
       "version_major": 2,
       "version_minor": 0
      },
      "text/plain": [
       "HBox(children=(FloatProgress(value=0.0, description='Downloading', max=1133.0, style=ProgressStyle(description…"
      ]
     },
     "metadata": {
      "tags": []
     },
     "output_type": "display_data"
    },
    {
     "name": "stdout",
     "output_type": "stream",
     "text": [
      "\n"
     ]
    },
    {
     "data": {
      "application/vnd.jupyter.widget-view+json": {
       "model_id": "f78a65411cb04ff4bf0e63bba56f3d3c",
       "version_major": 2,
       "version_minor": 0
      },
      "text/plain": [
       "HBox(children=(FloatProgress(value=0.0, description='Downloading', max=295332429.0, style=ProgressStyle(descri…"
      ]
     },
     "metadata": {
      "tags": []
     },
     "output_type": "display_data"
    },
    {
     "name": "stdout",
     "output_type": "stream",
     "text": [
      "\n"
     ]
    }
   ],
   "source": [
    "model = MarianMTModel.from_pretrained('Helsinki-NLP/opus-mt-yo-en')\n",
    "\n",
    "batch_size = 8\n",
    "args = Seq2SeqTrainingArguments(\n",
    "        output_dir=\"output\",\n",
    "        evaluation_strategy = \"steps\",\n",
    "        learning_rate=15e-5,\n",
    "        per_device_train_batch_size=batch_size,\n",
    "        per_device_eval_batch_size=batch_size,\n",
    "        save_total_limit=3,\n",
    "        num_train_epochs=3,\n",
    "        load_best_model_at_end=True,\n",
    "        save_strategy=\"steps\",\n",
    "        logging_steps=1000,\n",
    "        save_steps=1000,\n",
    "        predict_with_generate=True,\n",
    "        seed=SEED)"
   ]
  },
  {
   "cell_type": "code",
   "execution_count": 14,
   "metadata": {
    "executionInfo": {
     "elapsed": 40,
     "status": "ok",
     "timestamp": 1622403463884,
     "user": {
      "displayName": "Andreas Schmitt",
      "photoUrl": "",
      "userId": "08919543814682882005"
     },
     "user_tz": -120
    },
    "id": "qLHS-d6O8FQw"
   },
   "outputs": [],
   "source": [
    "scorer = rouge_scorer.RougeScorer(['rouge1'], use_stemmer=True)\n",
    "\n",
    "def compute_metrics(eval_preds):\n",
    "\n",
    "    preds, labels = eval_preds\n",
    "\n",
    "    decoded_preds = tokenizer.batch_decode(preds, skip_special_tokens=True)\n",
    "\n",
    "    labels = np.where(labels != -100, labels, tokenizer.pad_token_id)\n",
    "    decoded_labels = tokenizer.batch_decode(labels, skip_special_tokens=True)\n",
    "\n",
    "    decoded_preds = [pred.strip() for pred in decoded_preds]\n",
    "    decoded_labels = [label.strip() for label in decoded_labels]\n",
    "\n",
    "    scores = []\n",
    "    for i in range(len(decoded_labels)):\n",
    "        scores.append(scorer.score(decoded_labels[i], decoded_preds[i]))\n",
    "\n",
    "    scores = [s['rouge1'].fmeasure for s in scores]\n",
    " \n",
    "    result = {}\n",
    "    result[\"Rouge\"] = np.mean(scores)\n",
    "\n",
    "    return result"
   ]
  },
  {
   "cell_type": "markdown",
   "metadata": {
    "id": "E0MlA1vot7K8"
   },
   "source": [
    "### 3.2 Train!"
   ]
  },
  {
   "cell_type": "code",
   "execution_count": 15,
   "metadata": {
    "colab": {
     "base_uri": "https://localhost:8080/",
     "height": 207
    },
    "executionInfo": {
     "elapsed": 2815599,
     "status": "ok",
     "timestamp": 1622406279457,
     "user": {
      "displayName": "Andreas Schmitt",
      "photoUrl": "",
      "userId": "08919543814682882005"
     },
     "user_tz": -120
    },
    "id": "x7Pn4o2z4q0B",
    "outputId": "35fb655c-48c6-4f5c-844d-8bbbece4a8f0"
   },
   "outputs": [
    {
     "data": {
      "text/html": [
       "\n",
       "    <div>\n",
       "      \n",
       "      <progress value='3015' max='3015' style='width:300px; height:20px; vertical-align: middle;'></progress>\n",
       "      [3015/3015 46:43, Epoch 3/3]\n",
       "    </div>\n",
       "    <table border=\"1\" class=\"dataframe\">\n",
       "  <thead>\n",
       "    <tr style=\"text-align: left;\">\n",
       "      <th>Step</th>\n",
       "      <th>Training Loss</th>\n",
       "      <th>Validation Loss</th>\n",
       "      <th>Rouge</th>\n",
       "    </tr>\n",
       "  </thead>\n",
       "  <tbody>\n",
       "    <tr>\n",
       "      <td>1000</td>\n",
       "      <td>0.341300</td>\n",
       "      <td>0.632457</td>\n",
       "      <td>0.401037</td>\n",
       "    </tr>\n",
       "    <tr>\n",
       "      <td>2000</td>\n",
       "      <td>0.238200</td>\n",
       "      <td>0.596538</td>\n",
       "      <td>0.420478</td>\n",
       "    </tr>\n",
       "    <tr>\n",
       "      <td>3000</td>\n",
       "      <td>0.188300</td>\n",
       "      <td>0.588299</td>\n",
       "      <td>0.430537</td>\n",
       "    </tr>\n",
       "  </tbody>\n",
       "</table><p>"
      ],
      "text/plain": [
       "<IPython.core.display.HTML object>"
      ]
     },
     "metadata": {
      "tags": []
     },
     "output_type": "display_data"
    },
    {
     "data": {
      "text/plain": [
       "TrainOutput(global_step=3015, training_loss=0.25555948475700113, metrics={'train_runtime': 2804.562, 'train_samples_per_second': 8.598, 'train_steps_per_second': 1.075, 'total_flos': 4354298102218752.0, 'epoch': 3.0})"
      ]
     },
     "execution_count": 15,
     "metadata": {
      "tags": []
     },
     "output_type": "execute_result"
    }
   ],
   "source": [
    "trainer = Seq2SeqTrainer(\n",
    "    model=model,\n",
    "    args=args,\n",
    "    train_dataset=train_dataset,\n",
    "    eval_dataset=val_dataset,\n",
    "    tokenizer=tokenizer,\n",
    "    compute_metrics=compute_metrics\n",
    ")\n",
    "\n",
    "trainer.train()"
   ]
  },
  {
   "cell_type": "code",
   "execution_count": 16,
   "metadata": {
    "executionInfo": {
     "elapsed": 23,
     "status": "ok",
     "timestamp": 1622406279459,
     "user": {
      "displayName": "Andreas Schmitt",
      "photoUrl": "",
      "userId": "08919543814682882005"
     },
     "user_tz": -120
    },
    "id": "CBtoMHB1KWEr"
   },
   "outputs": [],
   "source": [
    "del trainer"
   ]
  },
  {
   "cell_type": "markdown",
   "metadata": {
    "id": "QYpSO3a7uAmR"
   },
   "source": [
    "## 4 Prediction and Submission"
   ]
  },
  {
   "cell_type": "code",
   "execution_count": 17,
   "metadata": {
    "colab": {
     "base_uri": "https://localhost:8080/"
    },
    "executionInfo": {
     "elapsed": 1168908,
     "status": "ok",
     "timestamp": 1622407448351,
     "user": {
      "displayName": "Andreas Schmitt",
      "photoUrl": "",
      "userId": "08919543814682882005"
     },
     "user_tz": -120
    },
    "id": "_PdiM50HKaSr",
    "outputId": "997ccec1-1750-4a18-ce13-f828d466995a"
   },
   "outputs": [
    {
     "name": "stderr",
     "output_type": "stream",
     "text": [
      "100%|██████████| 284/284 [19:29<00:00,  4.12s/it]\n"
     ]
    }
   ],
   "source": [
    "b = 24\n",
    "\n",
    "with torch.no_grad():\n",
    "    predictions = []\n",
    "\n",
    "    constant = 0\n",
    "\n",
    "    for i in tqdm(range(int(len(X_test) / b))):\n",
    "        if i == int(len(X_test) / b) - 1:\n",
    "            end = len(X_test)\n",
    "        else:\n",
    "            end = constant + b\n",
    "\n",
    "        test_data = tokenizer(X_test[constant:end], return_tensors=\"pt\", padding=True, truncation=True)\n",
    "        test_data.to('cuda')\n",
    "        generation = model.generate(**test_data)\n",
    "        prediction = tokenizer.batch_decode(generation, skip_special_tokens=True)\n",
    "        predictions += prediction\n",
    "\n",
    "        del test_data, generation, prediction\n",
    "\n",
    "        constant += b\n",
    "        gc.collect()\n",
    "        torch.cuda.empty_cache()\n",
    "        torch.cuda.synchronize()"
   ]
  },
  {
   "cell_type": "code",
   "execution_count": 18,
   "metadata": {
    "colab": {
     "base_uri": "https://localhost:8080/",
     "height": 206
    },
    "executionInfo": {
     "elapsed": 48,
     "status": "ok",
     "timestamp": 1622407448354,
     "user": {
      "displayName": "Andreas Schmitt",
      "photoUrl": "",
      "userId": "08919543814682882005"
     },
     "user_tz": -120
    },
    "id": "QeD7ox62uJOy",
    "outputId": "64851fd4-7997-4866-cfe7-833a0f316dd5"
   },
   "outputs": [
    {
     "data": {
      "text/html": [
       "<div>\n",
       "<style scoped>\n",
       "    .dataframe tbody tr th:only-of-type {\n",
       "        vertical-align: middle;\n",
       "    }\n",
       "\n",
       "    .dataframe tbody tr th {\n",
       "        vertical-align: top;\n",
       "    }\n",
       "\n",
       "    .dataframe thead th {\n",
       "        text-align: right;\n",
       "    }\n",
       "</style>\n",
       "<table border=\"1\" class=\"dataframe\">\n",
       "  <thead>\n",
       "    <tr style=\"text-align: right;\">\n",
       "      <th></th>\n",
       "      <th>ID</th>\n",
       "      <th>Label</th>\n",
       "    </tr>\n",
       "  </thead>\n",
       "  <tbody>\n",
       "    <tr>\n",
       "      <th>0</th>\n",
       "      <td>ID_AAAitMaH</td>\n",
       "      <td>During a call that followed, representatives o...</td>\n",
       "    </tr>\n",
       "    <tr>\n",
       "      <th>1</th>\n",
       "      <td>ID_AAKKdQwr</td>\n",
       "      <td>For there is nothing that a man cannot do with...</td>\n",
       "    </tr>\n",
       "    <tr>\n",
       "      <th>2</th>\n",
       "      <td>ID_ABgAyEOp</td>\n",
       "      <td>If he throws a noise. What would he cry to you?</td>\n",
       "    </tr>\n",
       "    <tr>\n",
       "      <th>3</th>\n",
       "      <td>ID_ACFgfKQs</td>\n",
       "      <td>The person who is on the way to the river Abuj...</td>\n",
       "    </tr>\n",
       "    <tr>\n",
       "      <th>4</th>\n",
       "      <td>ID_ACNPmlhf</td>\n",
       "      <td>She was familiar with her job. Mother has conf...</td>\n",
       "    </tr>\n",
       "  </tbody>\n",
       "</table>\n",
       "</div>"
      ],
      "text/plain": [
       "            ID                                              Label\n",
       "0  ID_AAAitMaH  During a call that followed, representatives o...\n",
       "1  ID_AAKKdQwr  For there is nothing that a man cannot do with...\n",
       "2  ID_ABgAyEOp    If he throws a noise. What would he cry to you?\n",
       "3  ID_ACFgfKQs  The person who is on the way to the river Abuj...\n",
       "4  ID_ACNPmlhf  She was familiar with her job. Mother has conf..."
      ]
     },
     "execution_count": 18,
     "metadata": {
      "tags": []
     },
     "output_type": "execute_result"
    }
   ],
   "source": [
    "sample_submission_csv.ID = test_csv.ID\n",
    "sample_submission_csv.Label = list(predictions)\n",
    "sample_submission_csv.head()"
   ]
  },
  {
   "cell_type": "code",
   "execution_count": 19,
   "metadata": {
    "executionInfo": {
     "elapsed": 24,
     "status": "ok",
     "timestamp": 1622407448355,
     "user": {
      "displayName": "Andreas Schmitt",
      "photoUrl": "",
      "userId": "08919543814682882005"
     },
     "user_tz": -120
    },
    "id": "3pqY0R-cfrkr"
   },
   "outputs": [],
   "source": [
    "# Avoid empty cells.\n",
    "for i in range(len(sample_submission_csv.Label)):\n",
    "    if sample_submission_csv.Label[i] == \"\":\n",
    "        sample_submission_csv.Label[i] = \"untranslated\""
   ]
  },
  {
   "cell_type": "code",
   "execution_count": 20,
   "metadata": {
    "executionInfo": {
     "elapsed": 23,
     "status": "ok",
     "timestamp": 1622407448357,
     "user": {
      "displayName": "Andreas Schmitt",
      "photoUrl": "",
      "userId": "08919543814682882005"
     },
     "user_tz": -120
    },
    "id": "5cwJ-Jx4uT89"
   },
   "outputs": [],
   "source": [
    "os.mkdir(WD + '/Submission/' + str(VERSION))"
   ]
  },
  {
   "cell_type": "code",
   "execution_count": 21,
   "metadata": {
    "executionInfo": {
     "elapsed": 21,
     "status": "ok",
     "timestamp": 1622407448358,
     "user": {
      "displayName": "Andreas Schmitt",
      "photoUrl": "",
      "userId": "08919543814682882005"
     },
     "user_tz": -120
    },
    "id": "WNHKJ6Y3uYdc"
   },
   "outputs": [],
   "source": [
    "sample_submission_csv.to_csv(WD + '/Submission/' + str(VERSION) + '/submission.csv', index=False)"
   ]
  },
  {
   "cell_type": "code",
   "execution_count": 22,
   "metadata": {
    "executionInfo": {
     "elapsed": 9087,
     "status": "ok",
     "timestamp": 1622407457426,
     "user": {
      "displayName": "Andreas Schmitt",
      "photoUrl": "",
      "userId": "08919543814682882005"
     },
     "user_tz": -120
    },
    "id": "avn1oQvluizf"
   },
   "outputs": [],
   "source": [
    "drive.flush_and_unmount()"
   ]
  },
  {
   "cell_type": "code",
   "execution_count": 23,
   "metadata": {
    "colab": {
     "base_uri": "https://localhost:8080/"
    },
    "executionInfo": {
     "elapsed": 54,
     "status": "ok",
     "timestamp": 1622407457432,
     "user": {
      "displayName": "Andreas Schmitt",
      "photoUrl": "",
      "userId": "08919543814682882005"
     },
     "user_tz": -120
    },
    "id": "mZe3Dhzluk8a",
    "outputId": "79d2885a-72ad-40ea-f4d9-751070e44d33"
   },
   "outputs": [
    {
     "name": "stdout",
     "output_type": "stream",
     "text": [
      "Runtime of the Notebook: 67.77 min\n"
     ]
    }
   ],
   "source": [
    "end_time = time.time()\n",
    "print(\"Runtime of the Notebook: {} min\".format(np.round((end_time - start_time) / 60, 2)))"
   ]
  }
 ],
 "metadata": {
  "accelerator": "GPU",
  "colab": {
   "authorship_tag": "ABX9TyOhMruuGfuXvkEtzT+f1VCw",
   "collapsed_sections": [],
   "name": "AI4DYorubaMT.ipynb",
   "provenance": []
  },
  "kernelspec": {
   "display_name": "Python 3",
   "language": "python",
   "name": "python3"
  },
  "language_info": {
   "codemirror_mode": {
    "name": "ipython",
    "version": 3
   },
   "file_extension": ".py",
   "mimetype": "text/x-python",
   "name": "python",
   "nbconvert_exporter": "python",
   "pygments_lexer": "ipython3",
   "version": "3.9.2"
  },
  "widgets": {
   "application/vnd.jupyter.widget-state+json": {
    "00244b9c03794ca9a1d2d4f893e9c9c0": {
     "model_module": "@jupyter-widgets/controls",
     "model_name": "HBoxModel",
     "state": {
      "_dom_classes": [],
      "_model_module": "@jupyter-widgets/controls",
      "_model_module_version": "1.5.0",
      "_model_name": "HBoxModel",
      "_view_count": null,
      "_view_module": "@jupyter-widgets/controls",
      "_view_module_version": "1.5.0",
      "_view_name": "HBoxView",
      "box_style": "",
      "children": [
       "IPY_MODEL_8bd42ba4abca4c88b8036dc45ed63bc0",
       "IPY_MODEL_4a10a68f081a446bbac8f6dcc83db963"
      ],
      "layout": "IPY_MODEL_02e24ed568b948488c03955e3dd8a8cd"
     }
    },
    "02e24ed568b948488c03955e3dd8a8cd": {
     "model_module": "@jupyter-widgets/base",
     "model_name": "LayoutModel",
     "state": {
      "_model_module": "@jupyter-widgets/base",
      "_model_module_version": "1.2.0",
      "_model_name": "LayoutModel",
      "_view_count": null,
      "_view_module": "@jupyter-widgets/base",
      "_view_module_version": "1.2.0",
      "_view_name": "LayoutView",
      "align_content": null,
      "align_items": null,
      "align_self": null,
      "border": null,
      "bottom": null,
      "display": null,
      "flex": null,
      "flex_flow": null,
      "grid_area": null,
      "grid_auto_columns": null,
      "grid_auto_flow": null,
      "grid_auto_rows": null,
      "grid_column": null,
      "grid_gap": null,
      "grid_row": null,
      "grid_template_areas": null,
      "grid_template_columns": null,
      "grid_template_rows": null,
      "height": null,
      "justify_content": null,
      "justify_items": null,
      "left": null,
      "margin": null,
      "max_height": null,
      "max_width": null,
      "min_height": null,
      "min_width": null,
      "object_fit": null,
      "object_position": null,
      "order": null,
      "overflow": null,
      "overflow_x": null,
      "overflow_y": null,
      "padding": null,
      "right": null,
      "top": null,
      "visibility": null,
      "width": null
     }
    },
    "0a8a498086314744bce43900a0fe53a9": {
     "model_module": "@jupyter-widgets/controls",
     "model_name": "ProgressStyleModel",
     "state": {
      "_model_module": "@jupyter-widgets/controls",
      "_model_module_version": "1.5.0",
      "_model_name": "ProgressStyleModel",
      "_view_count": null,
      "_view_module": "@jupyter-widgets/base",
      "_view_module_version": "1.2.0",
      "_view_name": "StyleView",
      "bar_color": null,
      "description_width": "initial"
     }
    },
    "141c21155c72455f800517b231ef0221": {
     "model_module": "@jupyter-widgets/controls",
     "model_name": "DescriptionStyleModel",
     "state": {
      "_model_module": "@jupyter-widgets/controls",
      "_model_module_version": "1.5.0",
      "_model_name": "DescriptionStyleModel",
      "_view_count": null,
      "_view_module": "@jupyter-widgets/base",
      "_view_module_version": "1.2.0",
      "_view_name": "StyleView",
      "description_width": ""
     }
    },
    "1d4455901f2c4c8db4df437d5ea44b65": {
     "model_module": "@jupyter-widgets/controls",
     "model_name": "FloatProgressModel",
     "state": {
      "_dom_classes": [],
      "_model_module": "@jupyter-widgets/controls",
      "_model_module_version": "1.5.0",
      "_model_name": "FloatProgressModel",
      "_view_count": null,
      "_view_module": "@jupyter-widgets/controls",
      "_view_module_version": "1.5.0",
      "_view_name": "ProgressView",
      "bar_style": "success",
      "description": "Downloading: 100%",
      "description_tooltip": null,
      "layout": "IPY_MODEL_ad2bfd50ea064e4988c27666c73cf033",
      "max": 295332429,
      "min": 0,
      "orientation": "horizontal",
      "style": "IPY_MODEL_723d6354e51c4af3b736e962fbc36e21",
      "value": 295332429
     }
    },
    "1f9a77b6d54e4032b5e6e0323e45a8fb": {
     "model_module": "@jupyter-widgets/base",
     "model_name": "LayoutModel",
     "state": {
      "_model_module": "@jupyter-widgets/base",
      "_model_module_version": "1.2.0",
      "_model_name": "LayoutModel",
      "_view_count": null,
      "_view_module": "@jupyter-widgets/base",
      "_view_module_version": "1.2.0",
      "_view_name": "LayoutView",
      "align_content": null,
      "align_items": null,
      "align_self": null,
      "border": null,
      "bottom": null,
      "display": null,
      "flex": null,
      "flex_flow": null,
      "grid_area": null,
      "grid_auto_columns": null,
      "grid_auto_flow": null,
      "grid_auto_rows": null,
      "grid_column": null,
      "grid_gap": null,
      "grid_row": null,
      "grid_template_areas": null,
      "grid_template_columns": null,
      "grid_template_rows": null,
      "height": null,
      "justify_content": null,
      "justify_items": null,
      "left": null,
      "margin": null,
      "max_height": null,
      "max_width": null,
      "min_height": null,
      "min_width": null,
      "object_fit": null,
      "object_position": null,
      "order": null,
      "overflow": null,
      "overflow_x": null,
      "overflow_y": null,
      "padding": null,
      "right": null,
      "top": null,
      "visibility": null,
      "width": null
     }
    },
    "229b6394153f463fb72e6d46d65907b8": {
     "model_module": "@jupyter-widgets/base",
     "model_name": "LayoutModel",
     "state": {
      "_model_module": "@jupyter-widgets/base",
      "_model_module_version": "1.2.0",
      "_model_name": "LayoutModel",
      "_view_count": null,
      "_view_module": "@jupyter-widgets/base",
      "_view_module_version": "1.2.0",
      "_view_name": "LayoutView",
      "align_content": null,
      "align_items": null,
      "align_self": null,
      "border": null,
      "bottom": null,
      "display": null,
      "flex": null,
      "flex_flow": null,
      "grid_area": null,
      "grid_auto_columns": null,
      "grid_auto_flow": null,
      "grid_auto_rows": null,
      "grid_column": null,
      "grid_gap": null,
      "grid_row": null,
      "grid_template_areas": null,
      "grid_template_columns": null,
      "grid_template_rows": null,
      "height": null,
      "justify_content": null,
      "justify_items": null,
      "left": null,
      "margin": null,
      "max_height": null,
      "max_width": null,
      "min_height": null,
      "min_width": null,
      "object_fit": null,
      "object_position": null,
      "order": null,
      "overflow": null,
      "overflow_x": null,
      "overflow_y": null,
      "padding": null,
      "right": null,
      "top": null,
      "visibility": null,
      "width": null
     }
    },
    "2adb7dc3efb74fcd80fafe3e3ed4a2c1": {
     "model_module": "@jupyter-widgets/controls",
     "model_name": "DescriptionStyleModel",
     "state": {
      "_model_module": "@jupyter-widgets/controls",
      "_model_module_version": "1.5.0",
      "_model_name": "DescriptionStyleModel",
      "_view_count": null,
      "_view_module": "@jupyter-widgets/base",
      "_view_module_version": "1.2.0",
      "_view_name": "StyleView",
      "description_width": ""
     }
    },
    "305cb0fb259c4c1c93198fa65dfbd2e3": {
     "model_module": "@jupyter-widgets/controls",
     "model_name": "FloatProgressModel",
     "state": {
      "_dom_classes": [],
      "_model_module": "@jupyter-widgets/controls",
      "_model_module_version": "1.5.0",
      "_model_name": "FloatProgressModel",
      "_view_count": null,
      "_view_module": "@jupyter-widgets/controls",
      "_view_module_version": "1.5.0",
      "_view_name": "ProgressView",
      "bar_style": "success",
      "description": "Downloading: 100%",
      "description_tooltip": null,
      "layout": "IPY_MODEL_e5c3192050cb48e090212b1171191011",
      "max": 42,
      "min": 0,
      "orientation": "horizontal",
      "style": "IPY_MODEL_0a8a498086314744bce43900a0fe53a9",
      "value": 42
     }
    },
    "33e942f624224f1c907eb83231b83c10": {
     "model_module": "@jupyter-widgets/base",
     "model_name": "LayoutModel",
     "state": {
      "_model_module": "@jupyter-widgets/base",
      "_model_module_version": "1.2.0",
      "_model_name": "LayoutModel",
      "_view_count": null,
      "_view_module": "@jupyter-widgets/base",
      "_view_module_version": "1.2.0",
      "_view_name": "LayoutView",
      "align_content": null,
      "align_items": null,
      "align_self": null,
      "border": null,
      "bottom": null,
      "display": null,
      "flex": null,
      "flex_flow": null,
      "grid_area": null,
      "grid_auto_columns": null,
      "grid_auto_flow": null,
      "grid_auto_rows": null,
      "grid_column": null,
      "grid_gap": null,
      "grid_row": null,
      "grid_template_areas": null,
      "grid_template_columns": null,
      "grid_template_rows": null,
      "height": null,
      "justify_content": null,
      "justify_items": null,
      "left": null,
      "margin": null,
      "max_height": null,
      "max_width": null,
      "min_height": null,
      "min_width": null,
      "object_fit": null,
      "object_position": null,
      "order": null,
      "overflow": null,
      "overflow_x": null,
      "overflow_y": null,
      "padding": null,
      "right": null,
      "top": null,
      "visibility": null,
      "width": null
     }
    },
    "34516d0a927a4608935e1380008d7227": {
     "model_module": "@jupyter-widgets/controls",
     "model_name": "HBoxModel",
     "state": {
      "_dom_classes": [],
      "_model_module": "@jupyter-widgets/controls",
      "_model_module_version": "1.5.0",
      "_model_name": "HBoxModel",
      "_view_count": null,
      "_view_module": "@jupyter-widgets/controls",
      "_view_module_version": "1.5.0",
      "_view_name": "HBoxView",
      "box_style": "",
      "children": [
       "IPY_MODEL_305cb0fb259c4c1c93198fa65dfbd2e3",
       "IPY_MODEL_54f630caa150441f89969119ceba2cfb"
      ],
      "layout": "IPY_MODEL_a78c20f6af18429eb7ab7055379a8e1e"
     }
    },
    "384ca0625a744365b99ceba616fa301c": {
     "model_module": "@jupyter-widgets/controls",
     "model_name": "HTMLModel",
     "state": {
      "_dom_classes": [],
      "_model_module": "@jupyter-widgets/controls",
      "_model_module_version": "1.5.0",
      "_model_name": "HTMLModel",
      "_view_count": null,
      "_view_module": "@jupyter-widgets/controls",
      "_view_module_version": "1.5.0",
      "_view_name": "HTMLView",
      "description": "",
      "description_tooltip": null,
      "layout": "IPY_MODEL_229b6394153f463fb72e6d46d65907b8",
      "placeholder": "​",
      "style": "IPY_MODEL_a3b56d28af474f89ad6d30875dd7639c",
      "value": " 1.39M/1.39M [00:00&lt;00:00, 1.61MB/s]"
     }
    },
    "3e2c78a62c054abab63e29f398f521e9": {
     "model_module": "@jupyter-widgets/controls",
     "model_name": "DescriptionStyleModel",
     "state": {
      "_model_module": "@jupyter-widgets/controls",
      "_model_module_version": "1.5.0",
      "_model_name": "DescriptionStyleModel",
      "_view_count": null,
      "_view_module": "@jupyter-widgets/base",
      "_view_module_version": "1.2.0",
      "_view_name": "StyleView",
      "description_width": ""
     }
    },
    "4a10a68f081a446bbac8f6dcc83db963": {
     "model_module": "@jupyter-widgets/controls",
     "model_name": "HTMLModel",
     "state": {
      "_dom_classes": [],
      "_model_module": "@jupyter-widgets/controls",
      "_model_module_version": "1.5.0",
      "_model_name": "HTMLModel",
      "_view_count": null,
      "_view_module": "@jupyter-widgets/controls",
      "_view_module_version": "1.5.0",
      "_view_name": "HTMLView",
      "description": "",
      "description_tooltip": null,
      "layout": "IPY_MODEL_e97d29b229134318b5a188903eb3c411",
      "placeholder": "​",
      "style": "IPY_MODEL_eb4d2ebdf49b42aab6b4e905a60206d6",
      "value": " 791k/791k [00:00&lt;00:00, 990kB/s]"
     }
    },
    "54f630caa150441f89969119ceba2cfb": {
     "model_module": "@jupyter-widgets/controls",
     "model_name": "HTMLModel",
     "state": {
      "_dom_classes": [],
      "_model_module": "@jupyter-widgets/controls",
      "_model_module_version": "1.5.0",
      "_model_name": "HTMLModel",
      "_view_count": null,
      "_view_module": "@jupyter-widgets/controls",
      "_view_module_version": "1.5.0",
      "_view_name": "HTMLView",
      "description": "",
      "description_tooltip": null,
      "layout": "IPY_MODEL_bc1c391cf57741fb9be8f0052606237d",
      "placeholder": "​",
      "style": "IPY_MODEL_3e2c78a62c054abab63e29f398f521e9",
      "value": " 42.0/42.0 [00:01&lt;00:00, 35.8B/s]"
     }
    },
    "581441c66a9d4c84992e443f6784a167": {
     "model_module": "@jupyter-widgets/base",
     "model_name": "LayoutModel",
     "state": {
      "_model_module": "@jupyter-widgets/base",
      "_model_module_version": "1.2.0",
      "_model_name": "LayoutModel",
      "_view_count": null,
      "_view_module": "@jupyter-widgets/base",
      "_view_module_version": "1.2.0",
      "_view_name": "LayoutView",
      "align_content": null,
      "align_items": null,
      "align_self": null,
      "border": null,
      "bottom": null,
      "display": null,
      "flex": null,
      "flex_flow": null,
      "grid_area": null,
      "grid_auto_columns": null,
      "grid_auto_flow": null,
      "grid_auto_rows": null,
      "grid_column": null,
      "grid_gap": null,
      "grid_row": null,
      "grid_template_areas": null,
      "grid_template_columns": null,
      "grid_template_rows": null,
      "height": null,
      "justify_content": null,
      "justify_items": null,
      "left": null,
      "margin": null,
      "max_height": null,
      "max_width": null,
      "min_height": null,
      "min_width": null,
      "object_fit": null,
      "object_position": null,
      "order": null,
      "overflow": null,
      "overflow_x": null,
      "overflow_y": null,
      "padding": null,
      "right": null,
      "top": null,
      "visibility": null,
      "width": null
     }
    },
    "647d0d2648f84c1bb7f0e32da6996464": {
     "model_module": "@jupyter-widgets/base",
     "model_name": "LayoutModel",
     "state": {
      "_model_module": "@jupyter-widgets/base",
      "_model_module_version": "1.2.0",
      "_model_name": "LayoutModel",
      "_view_count": null,
      "_view_module": "@jupyter-widgets/base",
      "_view_module_version": "1.2.0",
      "_view_name": "LayoutView",
      "align_content": null,
      "align_items": null,
      "align_self": null,
      "border": null,
      "bottom": null,
      "display": null,
      "flex": null,
      "flex_flow": null,
      "grid_area": null,
      "grid_auto_columns": null,
      "grid_auto_flow": null,
      "grid_auto_rows": null,
      "grid_column": null,
      "grid_gap": null,
      "grid_row": null,
      "grid_template_areas": null,
      "grid_template_columns": null,
      "grid_template_rows": null,
      "height": null,
      "justify_content": null,
      "justify_items": null,
      "left": null,
      "margin": null,
      "max_height": null,
      "max_width": null,
      "min_height": null,
      "min_width": null,
      "object_fit": null,
      "object_position": null,
      "order": null,
      "overflow": null,
      "overflow_x": null,
      "overflow_y": null,
      "padding": null,
      "right": null,
      "top": null,
      "visibility": null,
      "width": null
     }
    },
    "66743fb9bff04c69897af023fcd7057c": {
     "model_module": "@jupyter-widgets/controls",
     "model_name": "ProgressStyleModel",
     "state": {
      "_model_module": "@jupyter-widgets/controls",
      "_model_module_version": "1.5.0",
      "_model_name": "ProgressStyleModel",
      "_view_count": null,
      "_view_module": "@jupyter-widgets/base",
      "_view_module_version": "1.2.0",
      "_view_name": "StyleView",
      "bar_color": null,
      "description_width": "initial"
     }
    },
    "686a7d0f08cd4b64a4bdf7cdef32078c": {
     "model_module": "@jupyter-widgets/base",
     "model_name": "LayoutModel",
     "state": {
      "_model_module": "@jupyter-widgets/base",
      "_model_module_version": "1.2.0",
      "_model_name": "LayoutModel",
      "_view_count": null,
      "_view_module": "@jupyter-widgets/base",
      "_view_module_version": "1.2.0",
      "_view_name": "LayoutView",
      "align_content": null,
      "align_items": null,
      "align_self": null,
      "border": null,
      "bottom": null,
      "display": null,
      "flex": null,
      "flex_flow": null,
      "grid_area": null,
      "grid_auto_columns": null,
      "grid_auto_flow": null,
      "grid_auto_rows": null,
      "grid_column": null,
      "grid_gap": null,
      "grid_row": null,
      "grid_template_areas": null,
      "grid_template_columns": null,
      "grid_template_rows": null,
      "height": null,
      "justify_content": null,
      "justify_items": null,
      "left": null,
      "margin": null,
      "max_height": null,
      "max_width": null,
      "min_height": null,
      "min_width": null,
      "object_fit": null,
      "object_position": null,
      "order": null,
      "overflow": null,
      "overflow_x": null,
      "overflow_y": null,
      "padding": null,
      "right": null,
      "top": null,
      "visibility": null,
      "width": null
     }
    },
    "712b739f1af041dbbaf3e49bd5623f8b": {
     "model_module": "@jupyter-widgets/controls",
     "model_name": "FloatProgressModel",
     "state": {
      "_dom_classes": [],
      "_model_module": "@jupyter-widgets/controls",
      "_model_module_version": "1.5.0",
      "_model_name": "FloatProgressModel",
      "_view_count": null,
      "_view_module": "@jupyter-widgets/controls",
      "_view_module_version": "1.5.0",
      "_view_name": "ProgressView",
      "bar_style": "success",
      "description": "Downloading: 100%",
      "description_tooltip": null,
      "layout": "IPY_MODEL_9fdc4fc832bf4f3ab137b1e1ad4a8c8f",
      "max": 1392950,
      "min": 0,
      "orientation": "horizontal",
      "style": "IPY_MODEL_c902b849655c4be0b6c9e0f65ac24955",
      "value": 1392950
     }
    },
    "723d6354e51c4af3b736e962fbc36e21": {
     "model_module": "@jupyter-widgets/controls",
     "model_name": "ProgressStyleModel",
     "state": {
      "_model_module": "@jupyter-widgets/controls",
      "_model_module_version": "1.5.0",
      "_model_name": "ProgressStyleModel",
      "_view_count": null,
      "_view_module": "@jupyter-widgets/base",
      "_view_module_version": "1.2.0",
      "_view_name": "StyleView",
      "bar_color": null,
      "description_width": "initial"
     }
    },
    "75df92deed1e4e638e441b57240642fb": {
     "model_module": "@jupyter-widgets/controls",
     "model_name": "HBoxModel",
     "state": {
      "_dom_classes": [],
      "_model_module": "@jupyter-widgets/controls",
      "_model_module_version": "1.5.0",
      "_model_name": "HBoxModel",
      "_view_count": null,
      "_view_module": "@jupyter-widgets/controls",
      "_view_module_version": "1.5.0",
      "_view_name": "HBoxView",
      "box_style": "",
      "children": [
       "IPY_MODEL_712b739f1af041dbbaf3e49bd5623f8b",
       "IPY_MODEL_384ca0625a744365b99ceba616fa301c"
      ],
      "layout": "IPY_MODEL_ef7a27c836484a5b8c8af88f441dda7b"
     }
    },
    "76f21448d3424e8ea04c3f2476a240c4": {
     "model_module": "@jupyter-widgets/controls",
     "model_name": "HTMLModel",
     "state": {
      "_dom_classes": [],
      "_model_module": "@jupyter-widgets/controls",
      "_model_module_version": "1.5.0",
      "_model_name": "HTMLModel",
      "_view_count": null,
      "_view_module": "@jupyter-widgets/controls",
      "_view_module_version": "1.5.0",
      "_view_name": "HTMLView",
      "description": "",
      "description_tooltip": null,
      "layout": "IPY_MODEL_33e942f624224f1c907eb83231b83c10",
      "placeholder": "​",
      "style": "IPY_MODEL_141c21155c72455f800517b231ef0221",
      "value": " 1.13k/1.13k [47:06&lt;00:00, 2.49s/B]"
     }
    },
    "7b9b57aaaac043de9e2660346792cc0f": {
     "model_module": "@jupyter-widgets/controls",
     "model_name": "HTMLModel",
     "state": {
      "_dom_classes": [],
      "_model_module": "@jupyter-widgets/controls",
      "_model_module_version": "1.5.0",
      "_model_name": "HTMLModel",
      "_view_count": null,
      "_view_module": "@jupyter-widgets/controls",
      "_view_module_version": "1.5.0",
      "_view_name": "HTMLView",
      "description": "",
      "description_tooltip": null,
      "layout": "IPY_MODEL_1f9a77b6d54e4032b5e6e0323e45a8fb",
      "placeholder": "​",
      "style": "IPY_MODEL_d232f7db790549c6a2bd51b64adc4fe3",
      "value": " 821k/821k [00:02&lt;00:00, 290kB/s]"
     }
    },
    "878063960a9a4f448ec57e0683e496c2": {
     "model_module": "@jupyter-widgets/controls",
     "model_name": "HBoxModel",
     "state": {
      "_dom_classes": [],
      "_model_module": "@jupyter-widgets/controls",
      "_model_module_version": "1.5.0",
      "_model_name": "HBoxModel",
      "_view_count": null,
      "_view_module": "@jupyter-widgets/controls",
      "_view_module_version": "1.5.0",
      "_view_name": "HBoxView",
      "box_style": "",
      "children": [
       "IPY_MODEL_e9023e61874449cfb6da69c4930ac5fa",
       "IPY_MODEL_76f21448d3424e8ea04c3f2476a240c4"
      ],
      "layout": "IPY_MODEL_97cc673ee8b049438997480ed1920272"
     }
    },
    "8bd42ba4abca4c88b8036dc45ed63bc0": {
     "model_module": "@jupyter-widgets/controls",
     "model_name": "FloatProgressModel",
     "state": {
      "_dom_classes": [],
      "_model_module": "@jupyter-widgets/controls",
      "_model_module_version": "1.5.0",
      "_model_name": "FloatProgressModel",
      "_view_count": null,
      "_view_module": "@jupyter-widgets/controls",
      "_view_module_version": "1.5.0",
      "_view_name": "ProgressView",
      "bar_style": "success",
      "description": "Downloading: 100%",
      "description_tooltip": null,
      "layout": "IPY_MODEL_686a7d0f08cd4b64a4bdf7cdef32078c",
      "max": 790674,
      "min": 0,
      "orientation": "horizontal",
      "style": "IPY_MODEL_66743fb9bff04c69897af023fcd7057c",
      "value": 790674
     }
    },
    "90c4179a9bd2495da2c5ad353aef8b0f": {
     "model_module": "@jupyter-widgets/base",
     "model_name": "LayoutModel",
     "state": {
      "_model_module": "@jupyter-widgets/base",
      "_model_module_version": "1.2.0",
      "_model_name": "LayoutModel",
      "_view_count": null,
      "_view_module": "@jupyter-widgets/base",
      "_view_module_version": "1.2.0",
      "_view_name": "LayoutView",
      "align_content": null,
      "align_items": null,
      "align_self": null,
      "border": null,
      "bottom": null,
      "display": null,
      "flex": null,
      "flex_flow": null,
      "grid_area": null,
      "grid_auto_columns": null,
      "grid_auto_flow": null,
      "grid_auto_rows": null,
      "grid_column": null,
      "grid_gap": null,
      "grid_row": null,
      "grid_template_areas": null,
      "grid_template_columns": null,
      "grid_template_rows": null,
      "height": null,
      "justify_content": null,
      "justify_items": null,
      "left": null,
      "margin": null,
      "max_height": null,
      "max_width": null,
      "min_height": null,
      "min_width": null,
      "object_fit": null,
      "object_position": null,
      "order": null,
      "overflow": null,
      "overflow_x": null,
      "overflow_y": null,
      "padding": null,
      "right": null,
      "top": null,
      "visibility": null,
      "width": null
     }
    },
    "97cc673ee8b049438997480ed1920272": {
     "model_module": "@jupyter-widgets/base",
     "model_name": "LayoutModel",
     "state": {
      "_model_module": "@jupyter-widgets/base",
      "_model_module_version": "1.2.0",
      "_model_name": "LayoutModel",
      "_view_count": null,
      "_view_module": "@jupyter-widgets/base",
      "_view_module_version": "1.2.0",
      "_view_name": "LayoutView",
      "align_content": null,
      "align_items": null,
      "align_self": null,
      "border": null,
      "bottom": null,
      "display": null,
      "flex": null,
      "flex_flow": null,
      "grid_area": null,
      "grid_auto_columns": null,
      "grid_auto_flow": null,
      "grid_auto_rows": null,
      "grid_column": null,
      "grid_gap": null,
      "grid_row": null,
      "grid_template_areas": null,
      "grid_template_columns": null,
      "grid_template_rows": null,
      "height": null,
      "justify_content": null,
      "justify_items": null,
      "left": null,
      "margin": null,
      "max_height": null,
      "max_width": null,
      "min_height": null,
      "min_width": null,
      "object_fit": null,
      "object_position": null,
      "order": null,
      "overflow": null,
      "overflow_x": null,
      "overflow_y": null,
      "padding": null,
      "right": null,
      "top": null,
      "visibility": null,
      "width": null
     }
    },
    "9fdc4fc832bf4f3ab137b1e1ad4a8c8f": {
     "model_module": "@jupyter-widgets/base",
     "model_name": "LayoutModel",
     "state": {
      "_model_module": "@jupyter-widgets/base",
      "_model_module_version": "1.2.0",
      "_model_name": "LayoutModel",
      "_view_count": null,
      "_view_module": "@jupyter-widgets/base",
      "_view_module_version": "1.2.0",
      "_view_name": "LayoutView",
      "align_content": null,
      "align_items": null,
      "align_self": null,
      "border": null,
      "bottom": null,
      "display": null,
      "flex": null,
      "flex_flow": null,
      "grid_area": null,
      "grid_auto_columns": null,
      "grid_auto_flow": null,
      "grid_auto_rows": null,
      "grid_column": null,
      "grid_gap": null,
      "grid_row": null,
      "grid_template_areas": null,
      "grid_template_columns": null,
      "grid_template_rows": null,
      "height": null,
      "justify_content": null,
      "justify_items": null,
      "left": null,
      "margin": null,
      "max_height": null,
      "max_width": null,
      "min_height": null,
      "min_width": null,
      "object_fit": null,
      "object_position": null,
      "order": null,
      "overflow": null,
      "overflow_x": null,
      "overflow_y": null,
      "padding": null,
      "right": null,
      "top": null,
      "visibility": null,
      "width": null
     }
    },
    "a1a0797e407b4bb5835c1db0cd04e05b": {
     "model_module": "@jupyter-widgets/controls",
     "model_name": "FloatProgressModel",
     "state": {
      "_dom_classes": [],
      "_model_module": "@jupyter-widgets/controls",
      "_model_module_version": "1.5.0",
      "_model_name": "FloatProgressModel",
      "_view_count": null,
      "_view_module": "@jupyter-widgets/controls",
      "_view_module_version": "1.5.0",
      "_view_name": "ProgressView",
      "bar_style": "success",
      "description": "Downloading: 100%",
      "description_tooltip": null,
      "layout": "IPY_MODEL_90c4179a9bd2495da2c5ad353aef8b0f",
      "max": 820528,
      "min": 0,
      "orientation": "horizontal",
      "style": "IPY_MODEL_ea456384ae894634a6540bd3d1b2a952",
      "value": 820528
     }
    },
    "a3b56d28af474f89ad6d30875dd7639c": {
     "model_module": "@jupyter-widgets/controls",
     "model_name": "DescriptionStyleModel",
     "state": {
      "_model_module": "@jupyter-widgets/controls",
      "_model_module_version": "1.5.0",
      "_model_name": "DescriptionStyleModel",
      "_view_count": null,
      "_view_module": "@jupyter-widgets/base",
      "_view_module_version": "1.2.0",
      "_view_name": "StyleView",
      "description_width": ""
     }
    },
    "a78c20f6af18429eb7ab7055379a8e1e": {
     "model_module": "@jupyter-widgets/base",
     "model_name": "LayoutModel",
     "state": {
      "_model_module": "@jupyter-widgets/base",
      "_model_module_version": "1.2.0",
      "_model_name": "LayoutModel",
      "_view_count": null,
      "_view_module": "@jupyter-widgets/base",
      "_view_module_version": "1.2.0",
      "_view_name": "LayoutView",
      "align_content": null,
      "align_items": null,
      "align_self": null,
      "border": null,
      "bottom": null,
      "display": null,
      "flex": null,
      "flex_flow": null,
      "grid_area": null,
      "grid_auto_columns": null,
      "grid_auto_flow": null,
      "grid_auto_rows": null,
      "grid_column": null,
      "grid_gap": null,
      "grid_row": null,
      "grid_template_areas": null,
      "grid_template_columns": null,
      "grid_template_rows": null,
      "height": null,
      "justify_content": null,
      "justify_items": null,
      "left": null,
      "margin": null,
      "max_height": null,
      "max_width": null,
      "min_height": null,
      "min_width": null,
      "object_fit": null,
      "object_position": null,
      "order": null,
      "overflow": null,
      "overflow_x": null,
      "overflow_y": null,
      "padding": null,
      "right": null,
      "top": null,
      "visibility": null,
      "width": null
     }
    },
    "ad2bfd50ea064e4988c27666c73cf033": {
     "model_module": "@jupyter-widgets/base",
     "model_name": "LayoutModel",
     "state": {
      "_model_module": "@jupyter-widgets/base",
      "_model_module_version": "1.2.0",
      "_model_name": "LayoutModel",
      "_view_count": null,
      "_view_module": "@jupyter-widgets/base",
      "_view_module_version": "1.2.0",
      "_view_name": "LayoutView",
      "align_content": null,
      "align_items": null,
      "align_self": null,
      "border": null,
      "bottom": null,
      "display": null,
      "flex": null,
      "flex_flow": null,
      "grid_area": null,
      "grid_auto_columns": null,
      "grid_auto_flow": null,
      "grid_auto_rows": null,
      "grid_column": null,
      "grid_gap": null,
      "grid_row": null,
      "grid_template_areas": null,
      "grid_template_columns": null,
      "grid_template_rows": null,
      "height": null,
      "justify_content": null,
      "justify_items": null,
      "left": null,
      "margin": null,
      "max_height": null,
      "max_width": null,
      "min_height": null,
      "min_width": null,
      "object_fit": null,
      "object_position": null,
      "order": null,
      "overflow": null,
      "overflow_x": null,
      "overflow_y": null,
      "padding": null,
      "right": null,
      "top": null,
      "visibility": null,
      "width": null
     }
    },
    "bc1c391cf57741fb9be8f0052606237d": {
     "model_module": "@jupyter-widgets/base",
     "model_name": "LayoutModel",
     "state": {
      "_model_module": "@jupyter-widgets/base",
      "_model_module_version": "1.2.0",
      "_model_name": "LayoutModel",
      "_view_count": null,
      "_view_module": "@jupyter-widgets/base",
      "_view_module_version": "1.2.0",
      "_view_name": "LayoutView",
      "align_content": null,
      "align_items": null,
      "align_self": null,
      "border": null,
      "bottom": null,
      "display": null,
      "flex": null,
      "flex_flow": null,
      "grid_area": null,
      "grid_auto_columns": null,
      "grid_auto_flow": null,
      "grid_auto_rows": null,
      "grid_column": null,
      "grid_gap": null,
      "grid_row": null,
      "grid_template_areas": null,
      "grid_template_columns": null,
      "grid_template_rows": null,
      "height": null,
      "justify_content": null,
      "justify_items": null,
      "left": null,
      "margin": null,
      "max_height": null,
      "max_width": null,
      "min_height": null,
      "min_width": null,
      "object_fit": null,
      "object_position": null,
      "order": null,
      "overflow": null,
      "overflow_x": null,
      "overflow_y": null,
      "padding": null,
      "right": null,
      "top": null,
      "visibility": null,
      "width": null
     }
    },
    "c902b849655c4be0b6c9e0f65ac24955": {
     "model_module": "@jupyter-widgets/controls",
     "model_name": "ProgressStyleModel",
     "state": {
      "_model_module": "@jupyter-widgets/controls",
      "_model_module_version": "1.5.0",
      "_model_name": "ProgressStyleModel",
      "_view_count": null,
      "_view_module": "@jupyter-widgets/base",
      "_view_module_version": "1.2.0",
      "_view_name": "StyleView",
      "bar_color": null,
      "description_width": "initial"
     }
    },
    "d0a7e96c5bea43ad8b655ba1cffd2e86": {
     "model_module": "@jupyter-widgets/base",
     "model_name": "LayoutModel",
     "state": {
      "_model_module": "@jupyter-widgets/base",
      "_model_module_version": "1.2.0",
      "_model_name": "LayoutModel",
      "_view_count": null,
      "_view_module": "@jupyter-widgets/base",
      "_view_module_version": "1.2.0",
      "_view_name": "LayoutView",
      "align_content": null,
      "align_items": null,
      "align_self": null,
      "border": null,
      "bottom": null,
      "display": null,
      "flex": null,
      "flex_flow": null,
      "grid_area": null,
      "grid_auto_columns": null,
      "grid_auto_flow": null,
      "grid_auto_rows": null,
      "grid_column": null,
      "grid_gap": null,
      "grid_row": null,
      "grid_template_areas": null,
      "grid_template_columns": null,
      "grid_template_rows": null,
      "height": null,
      "justify_content": null,
      "justify_items": null,
      "left": null,
      "margin": null,
      "max_height": null,
      "max_width": null,
      "min_height": null,
      "min_width": null,
      "object_fit": null,
      "object_position": null,
      "order": null,
      "overflow": null,
      "overflow_x": null,
      "overflow_y": null,
      "padding": null,
      "right": null,
      "top": null,
      "visibility": null,
      "width": null
     }
    },
    "d1573da34fd146b48d4951081f5e30b4": {
     "model_module": "@jupyter-widgets/controls",
     "model_name": "ProgressStyleModel",
     "state": {
      "_model_module": "@jupyter-widgets/controls",
      "_model_module_version": "1.5.0",
      "_model_name": "ProgressStyleModel",
      "_view_count": null,
      "_view_module": "@jupyter-widgets/base",
      "_view_module_version": "1.2.0",
      "_view_name": "StyleView",
      "bar_color": null,
      "description_width": "initial"
     }
    },
    "d232f7db790549c6a2bd51b64adc4fe3": {
     "model_module": "@jupyter-widgets/controls",
     "model_name": "DescriptionStyleModel",
     "state": {
      "_model_module": "@jupyter-widgets/controls",
      "_model_module_version": "1.5.0",
      "_model_name": "DescriptionStyleModel",
      "_view_count": null,
      "_view_module": "@jupyter-widgets/base",
      "_view_module_version": "1.2.0",
      "_view_name": "StyleView",
      "description_width": ""
     }
    },
    "d3d0d6e026104fe8afc7226166aa2310": {
     "model_module": "@jupyter-widgets/base",
     "model_name": "LayoutModel",
     "state": {
      "_model_module": "@jupyter-widgets/base",
      "_model_module_version": "1.2.0",
      "_model_name": "LayoutModel",
      "_view_count": null,
      "_view_module": "@jupyter-widgets/base",
      "_view_module_version": "1.2.0",
      "_view_name": "LayoutView",
      "align_content": null,
      "align_items": null,
      "align_self": null,
      "border": null,
      "bottom": null,
      "display": null,
      "flex": null,
      "flex_flow": null,
      "grid_area": null,
      "grid_auto_columns": null,
      "grid_auto_flow": null,
      "grid_auto_rows": null,
      "grid_column": null,
      "grid_gap": null,
      "grid_row": null,
      "grid_template_areas": null,
      "grid_template_columns": null,
      "grid_template_rows": null,
      "height": null,
      "justify_content": null,
      "justify_items": null,
      "left": null,
      "margin": null,
      "max_height": null,
      "max_width": null,
      "min_height": null,
      "min_width": null,
      "object_fit": null,
      "object_position": null,
      "order": null,
      "overflow": null,
      "overflow_x": null,
      "overflow_y": null,
      "padding": null,
      "right": null,
      "top": null,
      "visibility": null,
      "width": null
     }
    },
    "d41f7f9725224109a5d1cb792e72a73e": {
     "model_module": "@jupyter-widgets/controls",
     "model_name": "HBoxModel",
     "state": {
      "_dom_classes": [],
      "_model_module": "@jupyter-widgets/controls",
      "_model_module_version": "1.5.0",
      "_model_name": "HBoxModel",
      "_view_count": null,
      "_view_module": "@jupyter-widgets/controls",
      "_view_module_version": "1.5.0",
      "_view_name": "HBoxView",
      "box_style": "",
      "children": [
       "IPY_MODEL_a1a0797e407b4bb5835c1db0cd04e05b",
       "IPY_MODEL_7b9b57aaaac043de9e2660346792cc0f"
      ],
      "layout": "IPY_MODEL_d3d0d6e026104fe8afc7226166aa2310"
     }
    },
    "ddc0a743aff84c76b57ab1c9ff17acf5": {
     "model_module": "@jupyter-widgets/controls",
     "model_name": "HTMLModel",
     "state": {
      "_dom_classes": [],
      "_model_module": "@jupyter-widgets/controls",
      "_model_module_version": "1.5.0",
      "_model_name": "HTMLModel",
      "_view_count": null,
      "_view_module": "@jupyter-widgets/controls",
      "_view_module_version": "1.5.0",
      "_view_name": "HTMLView",
      "description": "",
      "description_tooltip": null,
      "layout": "IPY_MODEL_647d0d2648f84c1bb7f0e32da6996464",
      "placeholder": "​",
      "style": "IPY_MODEL_2adb7dc3efb74fcd80fafe3e3ed4a2c1",
      "value": " 295M/295M [00:06&lt;00:00, 42.9MB/s]"
     }
    },
    "e5c3192050cb48e090212b1171191011": {
     "model_module": "@jupyter-widgets/base",
     "model_name": "LayoutModel",
     "state": {
      "_model_module": "@jupyter-widgets/base",
      "_model_module_version": "1.2.0",
      "_model_name": "LayoutModel",
      "_view_count": null,
      "_view_module": "@jupyter-widgets/base",
      "_view_module_version": "1.2.0",
      "_view_name": "LayoutView",
      "align_content": null,
      "align_items": null,
      "align_self": null,
      "border": null,
      "bottom": null,
      "display": null,
      "flex": null,
      "flex_flow": null,
      "grid_area": null,
      "grid_auto_columns": null,
      "grid_auto_flow": null,
      "grid_auto_rows": null,
      "grid_column": null,
      "grid_gap": null,
      "grid_row": null,
      "grid_template_areas": null,
      "grid_template_columns": null,
      "grid_template_rows": null,
      "height": null,
      "justify_content": null,
      "justify_items": null,
      "left": null,
      "margin": null,
      "max_height": null,
      "max_width": null,
      "min_height": null,
      "min_width": null,
      "object_fit": null,
      "object_position": null,
      "order": null,
      "overflow": null,
      "overflow_x": null,
      "overflow_y": null,
      "padding": null,
      "right": null,
      "top": null,
      "visibility": null,
      "width": null
     }
    },
    "e9023e61874449cfb6da69c4930ac5fa": {
     "model_module": "@jupyter-widgets/controls",
     "model_name": "FloatProgressModel",
     "state": {
      "_dom_classes": [],
      "_model_module": "@jupyter-widgets/controls",
      "_model_module_version": "1.5.0",
      "_model_name": "FloatProgressModel",
      "_view_count": null,
      "_view_module": "@jupyter-widgets/controls",
      "_view_module_version": "1.5.0",
      "_view_name": "ProgressView",
      "bar_style": "success",
      "description": "Downloading: 100%",
      "description_tooltip": null,
      "layout": "IPY_MODEL_581441c66a9d4c84992e443f6784a167",
      "max": 1133,
      "min": 0,
      "orientation": "horizontal",
      "style": "IPY_MODEL_d1573da34fd146b48d4951081f5e30b4",
      "value": 1133
     }
    },
    "e97d29b229134318b5a188903eb3c411": {
     "model_module": "@jupyter-widgets/base",
     "model_name": "LayoutModel",
     "state": {
      "_model_module": "@jupyter-widgets/base",
      "_model_module_version": "1.2.0",
      "_model_name": "LayoutModel",
      "_view_count": null,
      "_view_module": "@jupyter-widgets/base",
      "_view_module_version": "1.2.0",
      "_view_name": "LayoutView",
      "align_content": null,
      "align_items": null,
      "align_self": null,
      "border": null,
      "bottom": null,
      "display": null,
      "flex": null,
      "flex_flow": null,
      "grid_area": null,
      "grid_auto_columns": null,
      "grid_auto_flow": null,
      "grid_auto_rows": null,
      "grid_column": null,
      "grid_gap": null,
      "grid_row": null,
      "grid_template_areas": null,
      "grid_template_columns": null,
      "grid_template_rows": null,
      "height": null,
      "justify_content": null,
      "justify_items": null,
      "left": null,
      "margin": null,
      "max_height": null,
      "max_width": null,
      "min_height": null,
      "min_width": null,
      "object_fit": null,
      "object_position": null,
      "order": null,
      "overflow": null,
      "overflow_x": null,
      "overflow_y": null,
      "padding": null,
      "right": null,
      "top": null,
      "visibility": null,
      "width": null
     }
    },
    "ea456384ae894634a6540bd3d1b2a952": {
     "model_module": "@jupyter-widgets/controls",
     "model_name": "ProgressStyleModel",
     "state": {
      "_model_module": "@jupyter-widgets/controls",
      "_model_module_version": "1.5.0",
      "_model_name": "ProgressStyleModel",
      "_view_count": null,
      "_view_module": "@jupyter-widgets/base",
      "_view_module_version": "1.2.0",
      "_view_name": "StyleView",
      "bar_color": null,
      "description_width": "initial"
     }
    },
    "eb4d2ebdf49b42aab6b4e905a60206d6": {
     "model_module": "@jupyter-widgets/controls",
     "model_name": "DescriptionStyleModel",
     "state": {
      "_model_module": "@jupyter-widgets/controls",
      "_model_module_version": "1.5.0",
      "_model_name": "DescriptionStyleModel",
      "_view_count": null,
      "_view_module": "@jupyter-widgets/base",
      "_view_module_version": "1.2.0",
      "_view_name": "StyleView",
      "description_width": ""
     }
    },
    "ef7a27c836484a5b8c8af88f441dda7b": {
     "model_module": "@jupyter-widgets/base",
     "model_name": "LayoutModel",
     "state": {
      "_model_module": "@jupyter-widgets/base",
      "_model_module_version": "1.2.0",
      "_model_name": "LayoutModel",
      "_view_count": null,
      "_view_module": "@jupyter-widgets/base",
      "_view_module_version": "1.2.0",
      "_view_name": "LayoutView",
      "align_content": null,
      "align_items": null,
      "align_self": null,
      "border": null,
      "bottom": null,
      "display": null,
      "flex": null,
      "flex_flow": null,
      "grid_area": null,
      "grid_auto_columns": null,
      "grid_auto_flow": null,
      "grid_auto_rows": null,
      "grid_column": null,
      "grid_gap": null,
      "grid_row": null,
      "grid_template_areas": null,
      "grid_template_columns": null,
      "grid_template_rows": null,
      "height": null,
      "justify_content": null,
      "justify_items": null,
      "left": null,
      "margin": null,
      "max_height": null,
      "max_width": null,
      "min_height": null,
      "min_width": null,
      "object_fit": null,
      "object_position": null,
      "order": null,
      "overflow": null,
      "overflow_x": null,
      "overflow_y": null,
      "padding": null,
      "right": null,
      "top": null,
      "visibility": null,
      "width": null
     }
    },
    "f78a65411cb04ff4bf0e63bba56f3d3c": {
     "model_module": "@jupyter-widgets/controls",
     "model_name": "HBoxModel",
     "state": {
      "_dom_classes": [],
      "_model_module": "@jupyter-widgets/controls",
      "_model_module_version": "1.5.0",
      "_model_name": "HBoxModel",
      "_view_count": null,
      "_view_module": "@jupyter-widgets/controls",
      "_view_module_version": "1.5.0",
      "_view_name": "HBoxView",
      "box_style": "",
      "children": [
       "IPY_MODEL_1d4455901f2c4c8db4df437d5ea44b65",
       "IPY_MODEL_ddc0a743aff84c76b57ab1c9ff17acf5"
      ],
      "layout": "IPY_MODEL_d0a7e96c5bea43ad8b655ba1cffd2e86"
     }
    }
   }
  }
 },
 "nbformat": 4,
 "nbformat_minor": 1
}
